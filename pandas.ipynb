{
 "cells": [
  {
   "cell_type": "markdown",
   "metadata": {},
   "source": [
    "# Pandas"
   ]
  },
  {
   "cell_type": "code",
   "execution_count": null,
   "metadata": {},
   "outputs": [],
   "source": []
  },
  {
   "cell_type": "code",
   "execution_count": 2,
   "metadata": {},
   "outputs": [
    {
     "data": {
      "text/plain": [
       "'1.21.2'"
      ]
     },
     "execution_count": 2,
     "metadata": {},
     "output_type": "execute_result"
    }
   ],
   "source": [
    "import numpy as np\n",
    "import pandas as pd\n",
    "np.__version__\n"
   ]
  },
  {
   "cell_type": "markdown",
   "metadata": {},
   "source": [
    "# Object creation"
   ]
  },
  {
   "cell_type": "code",
   "execution_count": 3,
   "metadata": {},
   "outputs": [
    {
     "data": {
      "text/plain": [
       "0    1.0\n",
       "1    3.0\n",
       "2    5.0\n",
       "3    NaN\n",
       "4    6.0\n",
       "5    8.0\n",
       "dtype: float64"
      ]
     },
     "execution_count": 3,
     "metadata": {},
     "output_type": "execute_result"
    }
   ],
   "source": [
    "s = pd.Series([1, 3, 5, np.nan, 6, 8])\n",
    "s"
   ]
  },
  {
   "cell_type": "code",
   "execution_count": 4,
   "metadata": {},
   "outputs": [
    {
     "data": {
      "text/plain": [
       "DatetimeIndex(['2013-01-01', '2013-01-02', '2013-01-03', '2013-01-04',\n",
       "               '2013-01-05', '2013-01-06'],\n",
       "              dtype='datetime64[ns]', freq='D')"
      ]
     },
     "execution_count": 4,
     "metadata": {},
     "output_type": "execute_result"
    }
   ],
   "source": [
    "dates = pd.date_range(\"20130101\", periods=6)\n",
    "dates"
   ]
  },
  {
   "cell_type": "code",
   "execution_count": 5,
   "metadata": {},
   "outputs": [
    {
     "data": {
      "text/html": [
       "<div>\n",
       "<style scoped>\n",
       "    .dataframe tbody tr th:only-of-type {\n",
       "        vertical-align: middle;\n",
       "    }\n",
       "\n",
       "    .dataframe tbody tr th {\n",
       "        vertical-align: top;\n",
       "    }\n",
       "\n",
       "    .dataframe thead th {\n",
       "        text-align: right;\n",
       "    }\n",
       "</style>\n",
       "<table border=\"1\" class=\"dataframe\">\n",
       "  <thead>\n",
       "    <tr style=\"text-align: right;\">\n",
       "      <th></th>\n",
       "      <th>A</th>\n",
       "      <th>B</th>\n",
       "      <th>D</th>\n",
       "      <th>C</th>\n",
       "      <th>X</th>\n",
       "    </tr>\n",
       "  </thead>\n",
       "  <tbody>\n",
       "    <tr>\n",
       "      <th>2013-01-01</th>\n",
       "      <td>-0.021136</td>\n",
       "      <td>0.474194</td>\n",
       "      <td>-1.734119</td>\n",
       "      <td>-0.435538</td>\n",
       "      <td>0.690530</td>\n",
       "    </tr>\n",
       "    <tr>\n",
       "      <th>2013-01-02</th>\n",
       "      <td>0.734362</td>\n",
       "      <td>0.647168</td>\n",
       "      <td>-0.593344</td>\n",
       "      <td>-0.597154</td>\n",
       "      <td>1.038125</td>\n",
       "    </tr>\n",
       "    <tr>\n",
       "      <th>2013-01-03</th>\n",
       "      <td>-1.171436</td>\n",
       "      <td>1.515366</td>\n",
       "      <td>-0.609979</td>\n",
       "      <td>0.118545</td>\n",
       "      <td>-0.536140</td>\n",
       "    </tr>\n",
       "    <tr>\n",
       "      <th>2013-01-04</th>\n",
       "      <td>0.008304</td>\n",
       "      <td>-0.416033</td>\n",
       "      <td>-1.171841</td>\n",
       "      <td>2.604029</td>\n",
       "      <td>0.990748</td>\n",
       "    </tr>\n",
       "    <tr>\n",
       "      <th>2013-01-05</th>\n",
       "      <td>-1.452080</td>\n",
       "      <td>0.108043</td>\n",
       "      <td>0.142033</td>\n",
       "      <td>-0.773973</td>\n",
       "      <td>-0.148254</td>\n",
       "    </tr>\n",
       "    <tr>\n",
       "      <th>2013-01-06</th>\n",
       "      <td>0.294327</td>\n",
       "      <td>1.852148</td>\n",
       "      <td>0.313757</td>\n",
       "      <td>-0.571151</td>\n",
       "      <td>0.643473</td>\n",
       "    </tr>\n",
       "  </tbody>\n",
       "</table>\n",
       "</div>"
      ],
      "text/plain": [
       "                   A         B         D         C         X\n",
       "2013-01-01 -0.021136  0.474194 -1.734119 -0.435538  0.690530\n",
       "2013-01-02  0.734362  0.647168 -0.593344 -0.597154  1.038125\n",
       "2013-01-03 -1.171436  1.515366 -0.609979  0.118545 -0.536140\n",
       "2013-01-04  0.008304 -0.416033 -1.171841  2.604029  0.990748\n",
       "2013-01-05 -1.452080  0.108043  0.142033 -0.773973 -0.148254\n",
       "2013-01-06  0.294327  1.852148  0.313757 -0.571151  0.643473"
      ]
     },
     "execution_count": 5,
     "metadata": {},
     "output_type": "execute_result"
    }
   ],
   "source": [
    "df = pd.DataFrame(np.random.randn(6,5), index=dates, columns=list(\"ABDCX\"))\n",
    "df"
   ]
  },
  {
   "cell_type": "code",
   "execution_count": 6,
   "metadata": {},
   "outputs": [
    {
     "data": {
      "text/plain": [
       "array([[-1.4831061 , -0.05917427,  0.05660528, -1.91197168],\n",
       "       [ 0.29200507, -0.38247488,  1.28647817, -0.53702362],\n",
       "       [ 1.48020399,  0.68177857, -0.40842209,  0.94795461],\n",
       "       [-0.67886302,  0.79578697,  1.31842134, -1.024001  ],\n",
       "       [ 0.25407842, -0.69201965, -0.72099346,  2.11405404],\n",
       "       [ 1.14080231, -0.13236516, -0.87011317,  0.11529735]])"
      ]
     },
     "execution_count": 6,
     "metadata": {},
     "output_type": "execute_result"
    }
   ],
   "source": [
    "np.random.randn(6,4)"
   ]
  },
  {
   "cell_type": "code",
   "execution_count": 7,
   "metadata": {},
   "outputs": [
    {
     "data": {
      "text/html": [
       "<div>\n",
       "<style scoped>\n",
       "    .dataframe tbody tr th:only-of-type {\n",
       "        vertical-align: middle;\n",
       "    }\n",
       "\n",
       "    .dataframe tbody tr th {\n",
       "        vertical-align: top;\n",
       "    }\n",
       "\n",
       "    .dataframe thead th {\n",
       "        text-align: right;\n",
       "    }\n",
       "</style>\n",
       "<table border=\"1\" class=\"dataframe\">\n",
       "  <thead>\n",
       "    <tr style=\"text-align: right;\">\n",
       "      <th></th>\n",
       "      <th>A</th>\n",
       "      <th>B</th>\n",
       "      <th>C</th>\n",
       "      <th>D</th>\n",
       "      <th>E</th>\n",
       "      <th>F</th>\n",
       "    </tr>\n",
       "  </thead>\n",
       "  <tbody>\n",
       "    <tr>\n",
       "      <th>0</th>\n",
       "      <td>1.0</td>\n",
       "      <td>2013-01-02</td>\n",
       "      <td>1.0</td>\n",
       "      <td>3</td>\n",
       "      <td>test</td>\n",
       "      <td>foo</td>\n",
       "    </tr>\n",
       "    <tr>\n",
       "      <th>1</th>\n",
       "      <td>1.0</td>\n",
       "      <td>2013-01-02</td>\n",
       "      <td>1.0</td>\n",
       "      <td>3</td>\n",
       "      <td>train</td>\n",
       "      <td>foo</td>\n",
       "    </tr>\n",
       "    <tr>\n",
       "      <th>2</th>\n",
       "      <td>1.0</td>\n",
       "      <td>2013-01-02</td>\n",
       "      <td>1.0</td>\n",
       "      <td>3</td>\n",
       "      <td>test</td>\n",
       "      <td>foo</td>\n",
       "    </tr>\n",
       "    <tr>\n",
       "      <th>3</th>\n",
       "      <td>1.0</td>\n",
       "      <td>2013-01-02</td>\n",
       "      <td>1.0</td>\n",
       "      <td>3</td>\n",
       "      <td>train</td>\n",
       "      <td>foo</td>\n",
       "    </tr>\n",
       "  </tbody>\n",
       "</table>\n",
       "</div>"
      ],
      "text/plain": [
       "     A          B    C  D      E    F\n",
       "0  1.0 2013-01-02  1.0  3   test  foo\n",
       "1  1.0 2013-01-02  1.0  3  train  foo\n",
       "2  1.0 2013-01-02  1.0  3   test  foo\n",
       "3  1.0 2013-01-02  1.0  3  train  foo"
      ]
     },
     "execution_count": 7,
     "metadata": {},
     "output_type": "execute_result"
    }
   ],
   "source": [
    "df2 = pd.DataFrame(\n",
    "    {\n",
    "        \"A\": 1.0,\n",
    "        \"B\": pd.Timestamp(\"20130102\"),\n",
    "        \"C\": pd.Series(1, index=list(range(4)),dtype=\"float32\"),\n",
    "        \"D\": np.array([3]*4,dtype=\"int32\"),\n",
    "        \"E\": pd.Categorical([\"test\", \"train\", \"test\", \"train\"]),\n",
    "        \"F\": \"foo\"\n",
    "    }\n",
    ")\n",
    "df2"
   ]
  },
  {
   "cell_type": "code",
   "execution_count": 8,
   "metadata": {},
   "outputs": [
    {
     "data": {
      "text/plain": [
       "A           float64\n",
       "B    datetime64[ns]\n",
       "C           float32\n",
       "D             int32\n",
       "E          category\n",
       "F            object\n",
       "dtype: object"
      ]
     },
     "execution_count": 8,
     "metadata": {},
     "output_type": "execute_result"
    }
   ],
   "source": [
    "df2.dtypes"
   ]
  },
  {
   "cell_type": "markdown",
   "metadata": {},
   "source": [
    "# Viewing data"
   ]
  },
  {
   "cell_type": "code",
   "execution_count": 9,
   "metadata": {},
   "outputs": [
    {
     "data": {
      "text/html": [
       "<div>\n",
       "<style scoped>\n",
       "    .dataframe tbody tr th:only-of-type {\n",
       "        vertical-align: middle;\n",
       "    }\n",
       "\n",
       "    .dataframe tbody tr th {\n",
       "        vertical-align: top;\n",
       "    }\n",
       "\n",
       "    .dataframe thead th {\n",
       "        text-align: right;\n",
       "    }\n",
       "</style>\n",
       "<table border=\"1\" class=\"dataframe\">\n",
       "  <thead>\n",
       "    <tr style=\"text-align: right;\">\n",
       "      <th></th>\n",
       "      <th>A</th>\n",
       "      <th>B</th>\n",
       "      <th>D</th>\n",
       "      <th>C</th>\n",
       "      <th>X</th>\n",
       "    </tr>\n",
       "  </thead>\n",
       "  <tbody>\n",
       "    <tr>\n",
       "      <th>2013-01-01</th>\n",
       "      <td>-0.021136</td>\n",
       "      <td>0.474194</td>\n",
       "      <td>-1.734119</td>\n",
       "      <td>-0.435538</td>\n",
       "      <td>0.690530</td>\n",
       "    </tr>\n",
       "    <tr>\n",
       "      <th>2013-01-02</th>\n",
       "      <td>0.734362</td>\n",
       "      <td>0.647168</td>\n",
       "      <td>-0.593344</td>\n",
       "      <td>-0.597154</td>\n",
       "      <td>1.038125</td>\n",
       "    </tr>\n",
       "    <tr>\n",
       "      <th>2013-01-03</th>\n",
       "      <td>-1.171436</td>\n",
       "      <td>1.515366</td>\n",
       "      <td>-0.609979</td>\n",
       "      <td>0.118545</td>\n",
       "      <td>-0.536140</td>\n",
       "    </tr>\n",
       "    <tr>\n",
       "      <th>2013-01-04</th>\n",
       "      <td>0.008304</td>\n",
       "      <td>-0.416033</td>\n",
       "      <td>-1.171841</td>\n",
       "      <td>2.604029</td>\n",
       "      <td>0.990748</td>\n",
       "    </tr>\n",
       "    <tr>\n",
       "      <th>2013-01-05</th>\n",
       "      <td>-1.452080</td>\n",
       "      <td>0.108043</td>\n",
       "      <td>0.142033</td>\n",
       "      <td>-0.773973</td>\n",
       "      <td>-0.148254</td>\n",
       "    </tr>\n",
       "  </tbody>\n",
       "</table>\n",
       "</div>"
      ],
      "text/plain": [
       "                   A         B         D         C         X\n",
       "2013-01-01 -0.021136  0.474194 -1.734119 -0.435538  0.690530\n",
       "2013-01-02  0.734362  0.647168 -0.593344 -0.597154  1.038125\n",
       "2013-01-03 -1.171436  1.515366 -0.609979  0.118545 -0.536140\n",
       "2013-01-04  0.008304 -0.416033 -1.171841  2.604029  0.990748\n",
       "2013-01-05 -1.452080  0.108043  0.142033 -0.773973 -0.148254"
      ]
     },
     "execution_count": 9,
     "metadata": {},
     "output_type": "execute_result"
    }
   ],
   "source": [
    "df.head()"
   ]
  },
  {
   "cell_type": "code",
   "execution_count": 10,
   "metadata": {},
   "outputs": [
    {
     "data": {
      "text/html": [
       "<div>\n",
       "<style scoped>\n",
       "    .dataframe tbody tr th:only-of-type {\n",
       "        vertical-align: middle;\n",
       "    }\n",
       "\n",
       "    .dataframe tbody tr th {\n",
       "        vertical-align: top;\n",
       "    }\n",
       "\n",
       "    .dataframe thead th {\n",
       "        text-align: right;\n",
       "    }\n",
       "</style>\n",
       "<table border=\"1\" class=\"dataframe\">\n",
       "  <thead>\n",
       "    <tr style=\"text-align: right;\">\n",
       "      <th></th>\n",
       "      <th>A</th>\n",
       "      <th>B</th>\n",
       "      <th>D</th>\n",
       "      <th>C</th>\n",
       "      <th>X</th>\n",
       "    </tr>\n",
       "  </thead>\n",
       "  <tbody>\n",
       "    <tr>\n",
       "      <th>2013-01-03</th>\n",
       "      <td>-1.171436</td>\n",
       "      <td>1.515366</td>\n",
       "      <td>-0.609979</td>\n",
       "      <td>0.118545</td>\n",
       "      <td>-0.536140</td>\n",
       "    </tr>\n",
       "    <tr>\n",
       "      <th>2013-01-04</th>\n",
       "      <td>0.008304</td>\n",
       "      <td>-0.416033</td>\n",
       "      <td>-1.171841</td>\n",
       "      <td>2.604029</td>\n",
       "      <td>0.990748</td>\n",
       "    </tr>\n",
       "    <tr>\n",
       "      <th>2013-01-05</th>\n",
       "      <td>-1.452080</td>\n",
       "      <td>0.108043</td>\n",
       "      <td>0.142033</td>\n",
       "      <td>-0.773973</td>\n",
       "      <td>-0.148254</td>\n",
       "    </tr>\n",
       "    <tr>\n",
       "      <th>2013-01-06</th>\n",
       "      <td>0.294327</td>\n",
       "      <td>1.852148</td>\n",
       "      <td>0.313757</td>\n",
       "      <td>-0.571151</td>\n",
       "      <td>0.643473</td>\n",
       "    </tr>\n",
       "  </tbody>\n",
       "</table>\n",
       "</div>"
      ],
      "text/plain": [
       "                   A         B         D         C         X\n",
       "2013-01-03 -1.171436  1.515366 -0.609979  0.118545 -0.536140\n",
       "2013-01-04  0.008304 -0.416033 -1.171841  2.604029  0.990748\n",
       "2013-01-05 -1.452080  0.108043  0.142033 -0.773973 -0.148254\n",
       "2013-01-06  0.294327  1.852148  0.313757 -0.571151  0.643473"
      ]
     },
     "execution_count": 10,
     "metadata": {},
     "output_type": "execute_result"
    }
   ],
   "source": [
    "df.tail(4)"
   ]
  },
  {
   "cell_type": "code",
   "execution_count": 11,
   "metadata": {},
   "outputs": [
    {
     "data": {
      "text/plain": [
       "DatetimeIndex(['2013-01-01', '2013-01-02', '2013-01-03', '2013-01-04',\n",
       "               '2013-01-05', '2013-01-06'],\n",
       "              dtype='datetime64[ns]', freq='D')"
      ]
     },
     "execution_count": 11,
     "metadata": {},
     "output_type": "execute_result"
    }
   ],
   "source": [
    "df.index"
   ]
  },
  {
   "cell_type": "code",
   "execution_count": 12,
   "metadata": {},
   "outputs": [
    {
     "data": {
      "text/plain": [
       "Index(['A', 'B', 'D', 'C', 'X'], dtype='object')"
      ]
     },
     "execution_count": 12,
     "metadata": {},
     "output_type": "execute_result"
    }
   ],
   "source": [
    "df.columns"
   ]
  },
  {
   "cell_type": "code",
   "execution_count": 13,
   "metadata": {},
   "outputs": [
    {
     "data": {
      "text/plain": [
       "array([[-0.02113627,  0.47419397, -1.73411872, -0.43553761,  0.69052973],\n",
       "       [ 0.73436247,  0.64716839, -0.59334352, -0.59715386,  1.0381247 ],\n",
       "       [-1.17143602,  1.51536588, -0.60997875,  0.118545  , -0.5361404 ],\n",
       "       [ 0.00830445, -0.41603319, -1.17184114,  2.60402927,  0.99074828],\n",
       "       [-1.45208035,  0.10804344,  0.1420329 , -0.77397265, -0.14825438],\n",
       "       [ 0.29432745,  1.85214782,  0.31375664, -0.57115065,  0.64347273]])"
      ]
     },
     "execution_count": 13,
     "metadata": {},
     "output_type": "execute_result"
    }
   ],
   "source": [
    "df.to_numpy()"
   ]
  },
  {
   "cell_type": "code",
   "execution_count": 14,
   "metadata": {},
   "outputs": [
    {
     "data": {
      "text/plain": [
       "array([[1.0, Timestamp('2013-01-02 00:00:00'), 1.0, 3, 'test', 'foo'],\n",
       "       [1.0, Timestamp('2013-01-02 00:00:00'), 1.0, 3, 'train', 'foo'],\n",
       "       [1.0, Timestamp('2013-01-02 00:00:00'), 1.0, 3, 'test', 'foo'],\n",
       "       [1.0, Timestamp('2013-01-02 00:00:00'), 1.0, 3, 'train', 'foo']],\n",
       "      dtype=object)"
      ]
     },
     "execution_count": 14,
     "metadata": {},
     "output_type": "execute_result"
    }
   ],
   "source": [
    "df2.to_numpy()"
   ]
  },
  {
   "cell_type": "code",
   "execution_count": 15,
   "metadata": {},
   "outputs": [
    {
     "data": {
      "text/html": [
       "<div>\n",
       "<style scoped>\n",
       "    .dataframe tbody tr th:only-of-type {\n",
       "        vertical-align: middle;\n",
       "    }\n",
       "\n",
       "    .dataframe tbody tr th {\n",
       "        vertical-align: top;\n",
       "    }\n",
       "\n",
       "    .dataframe thead th {\n",
       "        text-align: right;\n",
       "    }\n",
       "</style>\n",
       "<table border=\"1\" class=\"dataframe\">\n",
       "  <thead>\n",
       "    <tr style=\"text-align: right;\">\n",
       "      <th></th>\n",
       "      <th>A</th>\n",
       "      <th>B</th>\n",
       "      <th>D</th>\n",
       "      <th>C</th>\n",
       "      <th>X</th>\n",
       "    </tr>\n",
       "  </thead>\n",
       "  <tbody>\n",
       "    <tr>\n",
       "      <th>count</th>\n",
       "      <td>6.000000</td>\n",
       "      <td>6.000000</td>\n",
       "      <td>6.000000</td>\n",
       "      <td>6.000000</td>\n",
       "      <td>6.000000</td>\n",
       "    </tr>\n",
       "    <tr>\n",
       "      <th>mean</th>\n",
       "      <td>-0.267943</td>\n",
       "      <td>0.696814</td>\n",
       "      <td>-0.608915</td>\n",
       "      <td>0.057460</td>\n",
       "      <td>0.446413</td>\n",
       "    </tr>\n",
       "    <tr>\n",
       "      <th>std</th>\n",
       "      <td>0.857493</td>\n",
       "      <td>0.853455</td>\n",
       "      <td>0.774398</td>\n",
       "      <td>1.284270</td>\n",
       "      <td>0.642478</td>\n",
       "    </tr>\n",
       "    <tr>\n",
       "      <th>min</th>\n",
       "      <td>-1.452080</td>\n",
       "      <td>-0.416033</td>\n",
       "      <td>-1.734119</td>\n",
       "      <td>-0.773973</td>\n",
       "      <td>-0.536140</td>\n",
       "    </tr>\n",
       "    <tr>\n",
       "      <th>25%</th>\n",
       "      <td>-0.883861</td>\n",
       "      <td>0.199581</td>\n",
       "      <td>-1.031376</td>\n",
       "      <td>-0.590653</td>\n",
       "      <td>0.049677</td>\n",
       "    </tr>\n",
       "    <tr>\n",
       "      <th>50%</th>\n",
       "      <td>-0.006416</td>\n",
       "      <td>0.560681</td>\n",
       "      <td>-0.601661</td>\n",
       "      <td>-0.503344</td>\n",
       "      <td>0.667001</td>\n",
       "    </tr>\n",
       "    <tr>\n",
       "      <th>75%</th>\n",
       "      <td>0.222822</td>\n",
       "      <td>1.298317</td>\n",
       "      <td>-0.041811</td>\n",
       "      <td>-0.019976</td>\n",
       "      <td>0.915694</td>\n",
       "    </tr>\n",
       "    <tr>\n",
       "      <th>max</th>\n",
       "      <td>0.734362</td>\n",
       "      <td>1.852148</td>\n",
       "      <td>0.313757</td>\n",
       "      <td>2.604029</td>\n",
       "      <td>1.038125</td>\n",
       "    </tr>\n",
       "  </tbody>\n",
       "</table>\n",
       "</div>"
      ],
      "text/plain": [
       "              A         B         D         C         X\n",
       "count  6.000000  6.000000  6.000000  6.000000  6.000000\n",
       "mean  -0.267943  0.696814 -0.608915  0.057460  0.446413\n",
       "std    0.857493  0.853455  0.774398  1.284270  0.642478\n",
       "min   -1.452080 -0.416033 -1.734119 -0.773973 -0.536140\n",
       "25%   -0.883861  0.199581 -1.031376 -0.590653  0.049677\n",
       "50%   -0.006416  0.560681 -0.601661 -0.503344  0.667001\n",
       "75%    0.222822  1.298317 -0.041811 -0.019976  0.915694\n",
       "max    0.734362  1.852148  0.313757  2.604029  1.038125"
      ]
     },
     "execution_count": 15,
     "metadata": {},
     "output_type": "execute_result"
    }
   ],
   "source": [
    "df.describe()"
   ]
  },
  {
   "cell_type": "code",
   "execution_count": 18,
   "metadata": {},
   "outputs": [
    {
     "data": {
      "text/html": [
       "<div>\n",
       "<style scoped>\n",
       "    .dataframe tbody tr th:only-of-type {\n",
       "        vertical-align: middle;\n",
       "    }\n",
       "\n",
       "    .dataframe tbody tr th {\n",
       "        vertical-align: top;\n",
       "    }\n",
       "\n",
       "    .dataframe thead th {\n",
       "        text-align: right;\n",
       "    }\n",
       "</style>\n",
       "<table border=\"1\" class=\"dataframe\">\n",
       "  <thead>\n",
       "    <tr style=\"text-align: right;\">\n",
       "      <th></th>\n",
       "      <th>A</th>\n",
       "      <th>B</th>\n",
       "      <th>D</th>\n",
       "      <th>C</th>\n",
       "      <th>X</th>\n",
       "    </tr>\n",
       "  </thead>\n",
       "  <tbody>\n",
       "    <tr>\n",
       "      <th>2013-01-01</th>\n",
       "      <td>-0.021136</td>\n",
       "      <td>0.474194</td>\n",
       "      <td>-1.734119</td>\n",
       "      <td>-0.435538</td>\n",
       "      <td>0.690530</td>\n",
       "    </tr>\n",
       "    <tr>\n",
       "      <th>2013-01-02</th>\n",
       "      <td>0.734362</td>\n",
       "      <td>0.647168</td>\n",
       "      <td>-0.593344</td>\n",
       "      <td>-0.597154</td>\n",
       "      <td>1.038125</td>\n",
       "    </tr>\n",
       "    <tr>\n",
       "      <th>2013-01-03</th>\n",
       "      <td>-1.171436</td>\n",
       "      <td>1.515366</td>\n",
       "      <td>-0.609979</td>\n",
       "      <td>0.118545</td>\n",
       "      <td>-0.536140</td>\n",
       "    </tr>\n",
       "    <tr>\n",
       "      <th>2013-01-04</th>\n",
       "      <td>0.008304</td>\n",
       "      <td>-0.416033</td>\n",
       "      <td>-1.171841</td>\n",
       "      <td>2.604029</td>\n",
       "      <td>0.990748</td>\n",
       "    </tr>\n",
       "    <tr>\n",
       "      <th>2013-01-05</th>\n",
       "      <td>-1.452080</td>\n",
       "      <td>0.108043</td>\n",
       "      <td>0.142033</td>\n",
       "      <td>-0.773973</td>\n",
       "      <td>-0.148254</td>\n",
       "    </tr>\n",
       "    <tr>\n",
       "      <th>2013-01-06</th>\n",
       "      <td>0.294327</td>\n",
       "      <td>1.852148</td>\n",
       "      <td>0.313757</td>\n",
       "      <td>-0.571151</td>\n",
       "      <td>0.643473</td>\n",
       "    </tr>\n",
       "  </tbody>\n",
       "</table>\n",
       "</div>"
      ],
      "text/plain": [
       "                   A         B         D         C         X\n",
       "2013-01-01 -0.021136  0.474194 -1.734119 -0.435538  0.690530\n",
       "2013-01-02  0.734362  0.647168 -0.593344 -0.597154  1.038125\n",
       "2013-01-03 -1.171436  1.515366 -0.609979  0.118545 -0.536140\n",
       "2013-01-04  0.008304 -0.416033 -1.171841  2.604029  0.990748\n",
       "2013-01-05 -1.452080  0.108043  0.142033 -0.773973 -0.148254\n",
       "2013-01-06  0.294327  1.852148  0.313757 -0.571151  0.643473"
      ]
     },
     "execution_count": 18,
     "metadata": {},
     "output_type": "execute_result"
    }
   ],
   "source": [
    "df"
   ]
  },
  {
   "cell_type": "code",
   "execution_count": 30,
   "metadata": {},
   "outputs": [
    {
     "data": {
      "text/html": [
       "<div>\n",
       "<style scoped>\n",
       "    .dataframe tbody tr th:only-of-type {\n",
       "        vertical-align: middle;\n",
       "    }\n",
       "\n",
       "    .dataframe tbody tr th {\n",
       "        vertical-align: top;\n",
       "    }\n",
       "\n",
       "    .dataframe thead th {\n",
       "        text-align: right;\n",
       "    }\n",
       "</style>\n",
       "<table border=\"1\" class=\"dataframe\">\n",
       "  <thead>\n",
       "    <tr style=\"text-align: right;\">\n",
       "      <th></th>\n",
       "      <th>X</th>\n",
       "      <th>D</th>\n",
       "      <th>C</th>\n",
       "      <th>B</th>\n",
       "      <th>A</th>\n",
       "    </tr>\n",
       "  </thead>\n",
       "  <tbody>\n",
       "    <tr>\n",
       "      <th>2013-01-01</th>\n",
       "      <td>0.690530</td>\n",
       "      <td>-1.734119</td>\n",
       "      <td>-0.435538</td>\n",
       "      <td>0.474194</td>\n",
       "      <td>-0.021136</td>\n",
       "    </tr>\n",
       "    <tr>\n",
       "      <th>2013-01-02</th>\n",
       "      <td>1.038125</td>\n",
       "      <td>-0.593344</td>\n",
       "      <td>-0.597154</td>\n",
       "      <td>0.647168</td>\n",
       "      <td>0.734362</td>\n",
       "    </tr>\n",
       "    <tr>\n",
       "      <th>2013-01-03</th>\n",
       "      <td>-0.536140</td>\n",
       "      <td>-0.609979</td>\n",
       "      <td>0.118545</td>\n",
       "      <td>1.515366</td>\n",
       "      <td>-1.171436</td>\n",
       "    </tr>\n",
       "    <tr>\n",
       "      <th>2013-01-04</th>\n",
       "      <td>0.990748</td>\n",
       "      <td>-1.171841</td>\n",
       "      <td>2.604029</td>\n",
       "      <td>-0.416033</td>\n",
       "      <td>0.008304</td>\n",
       "    </tr>\n",
       "    <tr>\n",
       "      <th>2013-01-05</th>\n",
       "      <td>-0.148254</td>\n",
       "      <td>0.142033</td>\n",
       "      <td>-0.773973</td>\n",
       "      <td>0.108043</td>\n",
       "      <td>-1.452080</td>\n",
       "    </tr>\n",
       "    <tr>\n",
       "      <th>2013-01-06</th>\n",
       "      <td>0.643473</td>\n",
       "      <td>0.313757</td>\n",
       "      <td>-0.571151</td>\n",
       "      <td>1.852148</td>\n",
       "      <td>0.294327</td>\n",
       "    </tr>\n",
       "  </tbody>\n",
       "</table>\n",
       "</div>"
      ],
      "text/plain": [
       "                   X         D         C         B         A\n",
       "2013-01-01  0.690530 -1.734119 -0.435538  0.474194 -0.021136\n",
       "2013-01-02  1.038125 -0.593344 -0.597154  0.647168  0.734362\n",
       "2013-01-03 -0.536140 -0.609979  0.118545  1.515366 -1.171436\n",
       "2013-01-04  0.990748 -1.171841  2.604029 -0.416033  0.008304\n",
       "2013-01-05 -0.148254  0.142033 -0.773973  0.108043 -1.452080\n",
       "2013-01-06  0.643473  0.313757 -0.571151  1.852148  0.294327"
      ]
     },
     "execution_count": 30,
     "metadata": {},
     "output_type": "execute_result"
    }
   ],
   "source": [
    "df.sort_index(axis=1, ascending=False)"
   ]
  },
  {
   "cell_type": "code",
   "execution_count": 32,
   "metadata": {},
   "outputs": [
    {
     "data": {
      "text/html": [
       "<div>\n",
       "<style scoped>\n",
       "    .dataframe tbody tr th:only-of-type {\n",
       "        vertical-align: middle;\n",
       "    }\n",
       "\n",
       "    .dataframe tbody tr th {\n",
       "        vertical-align: top;\n",
       "    }\n",
       "\n",
       "    .dataframe thead th {\n",
       "        text-align: right;\n",
       "    }\n",
       "</style>\n",
       "<table border=\"1\" class=\"dataframe\">\n",
       "  <thead>\n",
       "    <tr style=\"text-align: right;\">\n",
       "      <th></th>\n",
       "      <th>A</th>\n",
       "      <th>B</th>\n",
       "      <th>D</th>\n",
       "      <th>C</th>\n",
       "      <th>X</th>\n",
       "    </tr>\n",
       "  </thead>\n",
       "  <tbody>\n",
       "    <tr>\n",
       "      <th>2013-01-02</th>\n",
       "      <td>0.734362</td>\n",
       "      <td>0.647168</td>\n",
       "      <td>-0.593344</td>\n",
       "      <td>-0.597154</td>\n",
       "      <td>1.038125</td>\n",
       "    </tr>\n",
       "    <tr>\n",
       "      <th>2013-01-04</th>\n",
       "      <td>0.008304</td>\n",
       "      <td>-0.416033</td>\n",
       "      <td>-1.171841</td>\n",
       "      <td>2.604029</td>\n",
       "      <td>0.990748</td>\n",
       "    </tr>\n",
       "    <tr>\n",
       "      <th>2013-01-01</th>\n",
       "      <td>-0.021136</td>\n",
       "      <td>0.474194</td>\n",
       "      <td>-1.734119</td>\n",
       "      <td>-0.435538</td>\n",
       "      <td>0.690530</td>\n",
       "    </tr>\n",
       "    <tr>\n",
       "      <th>2013-01-06</th>\n",
       "      <td>0.294327</td>\n",
       "      <td>1.852148</td>\n",
       "      <td>0.313757</td>\n",
       "      <td>-0.571151</td>\n",
       "      <td>0.643473</td>\n",
       "    </tr>\n",
       "    <tr>\n",
       "      <th>2013-01-05</th>\n",
       "      <td>-1.452080</td>\n",
       "      <td>0.108043</td>\n",
       "      <td>0.142033</td>\n",
       "      <td>-0.773973</td>\n",
       "      <td>-0.148254</td>\n",
       "    </tr>\n",
       "    <tr>\n",
       "      <th>2013-01-03</th>\n",
       "      <td>-1.171436</td>\n",
       "      <td>1.515366</td>\n",
       "      <td>-0.609979</td>\n",
       "      <td>0.118545</td>\n",
       "      <td>-0.536140</td>\n",
       "    </tr>\n",
       "  </tbody>\n",
       "</table>\n",
       "</div>"
      ],
      "text/plain": [
       "                   A         B         D         C         X\n",
       "2013-01-02  0.734362  0.647168 -0.593344 -0.597154  1.038125\n",
       "2013-01-04  0.008304 -0.416033 -1.171841  2.604029  0.990748\n",
       "2013-01-01 -0.021136  0.474194 -1.734119 -0.435538  0.690530\n",
       "2013-01-06  0.294327  1.852148  0.313757 -0.571151  0.643473\n",
       "2013-01-05 -1.452080  0.108043  0.142033 -0.773973 -0.148254\n",
       "2013-01-03 -1.171436  1.515366 -0.609979  0.118545 -0.536140"
      ]
     },
     "execution_count": 32,
     "metadata": {},
     "output_type": "execute_result"
    }
   ],
   "source": [
    "df.sort_values(by=\"X\", ascending=False)"
   ]
  },
  {
   "cell_type": "markdown",
   "metadata": {},
   "source": [
    "# Getting"
   ]
  },
  {
   "cell_type": "code",
   "execution_count": 34,
   "metadata": {},
   "outputs": [
    {
     "data": {
      "text/plain": [
       "2013-01-01   -1.734119\n",
       "2013-01-02   -0.593344\n",
       "2013-01-03   -0.609979\n",
       "2013-01-04   -1.171841\n",
       "2013-01-05    0.142033\n",
       "2013-01-06    0.313757\n",
       "Freq: D, Name: D, dtype: float64"
      ]
     },
     "execution_count": 34,
     "metadata": {},
     "output_type": "execute_result"
    }
   ],
   "source": [
    "df.D"
   ]
  },
  {
   "cell_type": "code",
   "execution_count": 35,
   "metadata": {},
   "outputs": [
    {
     "data": {
      "text/html": [
       "<div>\n",
       "<style scoped>\n",
       "    .dataframe tbody tr th:only-of-type {\n",
       "        vertical-align: middle;\n",
       "    }\n",
       "\n",
       "    .dataframe tbody tr th {\n",
       "        vertical-align: top;\n",
       "    }\n",
       "\n",
       "    .dataframe thead th {\n",
       "        text-align: right;\n",
       "    }\n",
       "</style>\n",
       "<table border=\"1\" class=\"dataframe\">\n",
       "  <thead>\n",
       "    <tr style=\"text-align: right;\">\n",
       "      <th></th>\n",
       "      <th>A</th>\n",
       "      <th>B</th>\n",
       "      <th>D</th>\n",
       "      <th>C</th>\n",
       "      <th>X</th>\n",
       "    </tr>\n",
       "  </thead>\n",
       "  <tbody>\n",
       "    <tr>\n",
       "      <th>2013-01-01</th>\n",
       "      <td>-0.021136</td>\n",
       "      <td>0.474194</td>\n",
       "      <td>-1.734119</td>\n",
       "      <td>-0.435538</td>\n",
       "      <td>0.690530</td>\n",
       "    </tr>\n",
       "    <tr>\n",
       "      <th>2013-01-02</th>\n",
       "      <td>0.734362</td>\n",
       "      <td>0.647168</td>\n",
       "      <td>-0.593344</td>\n",
       "      <td>-0.597154</td>\n",
       "      <td>1.038125</td>\n",
       "    </tr>\n",
       "  </tbody>\n",
       "</table>\n",
       "</div>"
      ],
      "text/plain": [
       "                   A         B         D         C         X\n",
       "2013-01-01 -0.021136  0.474194 -1.734119 -0.435538  0.690530\n",
       "2013-01-02  0.734362  0.647168 -0.593344 -0.597154  1.038125"
      ]
     },
     "execution_count": 35,
     "metadata": {},
     "output_type": "execute_result"
    }
   ],
   "source": [
    "df[0:2]"
   ]
  },
  {
   "cell_type": "code",
   "execution_count": 37,
   "metadata": {},
   "outputs": [
    {
     "data": {
      "text/html": [
       "<div>\n",
       "<style scoped>\n",
       "    .dataframe tbody tr th:only-of-type {\n",
       "        vertical-align: middle;\n",
       "    }\n",
       "\n",
       "    .dataframe tbody tr th {\n",
       "        vertical-align: top;\n",
       "    }\n",
       "\n",
       "    .dataframe thead th {\n",
       "        text-align: right;\n",
       "    }\n",
       "</style>\n",
       "<table border=\"1\" class=\"dataframe\">\n",
       "  <thead>\n",
       "    <tr style=\"text-align: right;\">\n",
       "      <th></th>\n",
       "      <th>A</th>\n",
       "      <th>B</th>\n",
       "      <th>D</th>\n",
       "      <th>C</th>\n",
       "      <th>X</th>\n",
       "    </tr>\n",
       "  </thead>\n",
       "  <tbody>\n",
       "    <tr>\n",
       "      <th>2013-01-05</th>\n",
       "      <td>-1.452080</td>\n",
       "      <td>0.108043</td>\n",
       "      <td>0.142033</td>\n",
       "      <td>-0.773973</td>\n",
       "      <td>-0.148254</td>\n",
       "    </tr>\n",
       "    <tr>\n",
       "      <th>2013-01-06</th>\n",
       "      <td>0.294327</td>\n",
       "      <td>1.852148</td>\n",
       "      <td>0.313757</td>\n",
       "      <td>-0.571151</td>\n",
       "      <td>0.643473</td>\n",
       "    </tr>\n",
       "  </tbody>\n",
       "</table>\n",
       "</div>"
      ],
      "text/plain": [
       "                   A         B         D         C         X\n",
       "2013-01-05 -1.452080  0.108043  0.142033 -0.773973 -0.148254\n",
       "2013-01-06  0.294327  1.852148  0.313757 -0.571151  0.643473"
      ]
     },
     "execution_count": 37,
     "metadata": {},
     "output_type": "execute_result"
    }
   ],
   "source": [
    "df[\"2013-01-05\":\"2013-01-06\"]"
   ]
  },
  {
   "cell_type": "markdown",
   "metadata": {},
   "source": [
    "# Selection by label"
   ]
  },
  {
   "cell_type": "code",
   "execution_count": 40,
   "metadata": {},
   "outputs": [
    {
     "data": {
      "text/plain": [
       "A   -0.021136\n",
       "B    0.474194\n",
       "D   -1.734119\n",
       "C   -0.435538\n",
       "X    0.690530\n",
       "Name: 2013-01-01 00:00:00, dtype: float64"
      ]
     },
     "execution_count": 40,
     "metadata": {},
     "output_type": "execute_result"
    }
   ],
   "source": [
    "df.loc[dates[0]]"
   ]
  },
  {
   "cell_type": "code",
   "execution_count": 41,
   "metadata": {},
   "outputs": [
    {
     "data": {
      "text/html": [
       "<div>\n",
       "<style scoped>\n",
       "    .dataframe tbody tr th:only-of-type {\n",
       "        vertical-align: middle;\n",
       "    }\n",
       "\n",
       "    .dataframe tbody tr th {\n",
       "        vertical-align: top;\n",
       "    }\n",
       "\n",
       "    .dataframe thead th {\n",
       "        text-align: right;\n",
       "    }\n",
       "</style>\n",
       "<table border=\"1\" class=\"dataframe\">\n",
       "  <thead>\n",
       "    <tr style=\"text-align: right;\">\n",
       "      <th></th>\n",
       "      <th>A</th>\n",
       "      <th>B</th>\n",
       "      <th>D</th>\n",
       "      <th>C</th>\n",
       "      <th>X</th>\n",
       "    </tr>\n",
       "  </thead>\n",
       "  <tbody>\n",
       "    <tr>\n",
       "      <th>2013-01-01</th>\n",
       "      <td>-0.021136</td>\n",
       "      <td>0.474194</td>\n",
       "      <td>-1.734119</td>\n",
       "      <td>-0.435538</td>\n",
       "      <td>0.690530</td>\n",
       "    </tr>\n",
       "    <tr>\n",
       "      <th>2013-01-02</th>\n",
       "      <td>0.734362</td>\n",
       "      <td>0.647168</td>\n",
       "      <td>-0.593344</td>\n",
       "      <td>-0.597154</td>\n",
       "      <td>1.038125</td>\n",
       "    </tr>\n",
       "    <tr>\n",
       "      <th>2013-01-03</th>\n",
       "      <td>-1.171436</td>\n",
       "      <td>1.515366</td>\n",
       "      <td>-0.609979</td>\n",
       "      <td>0.118545</td>\n",
       "      <td>-0.536140</td>\n",
       "    </tr>\n",
       "    <tr>\n",
       "      <th>2013-01-04</th>\n",
       "      <td>0.008304</td>\n",
       "      <td>-0.416033</td>\n",
       "      <td>-1.171841</td>\n",
       "      <td>2.604029</td>\n",
       "      <td>0.990748</td>\n",
       "    </tr>\n",
       "    <tr>\n",
       "      <th>2013-01-05</th>\n",
       "      <td>-1.452080</td>\n",
       "      <td>0.108043</td>\n",
       "      <td>0.142033</td>\n",
       "      <td>-0.773973</td>\n",
       "      <td>-0.148254</td>\n",
       "    </tr>\n",
       "    <tr>\n",
       "      <th>2013-01-06</th>\n",
       "      <td>0.294327</td>\n",
       "      <td>1.852148</td>\n",
       "      <td>0.313757</td>\n",
       "      <td>-0.571151</td>\n",
       "      <td>0.643473</td>\n",
       "    </tr>\n",
       "  </tbody>\n",
       "</table>\n",
       "</div>"
      ],
      "text/plain": [
       "                   A         B         D         C         X\n",
       "2013-01-01 -0.021136  0.474194 -1.734119 -0.435538  0.690530\n",
       "2013-01-02  0.734362  0.647168 -0.593344 -0.597154  1.038125\n",
       "2013-01-03 -1.171436  1.515366 -0.609979  0.118545 -0.536140\n",
       "2013-01-04  0.008304 -0.416033 -1.171841  2.604029  0.990748\n",
       "2013-01-05 -1.452080  0.108043  0.142033 -0.773973 -0.148254\n",
       "2013-01-06  0.294327  1.852148  0.313757 -0.571151  0.643473"
      ]
     },
     "execution_count": 41,
     "metadata": {},
     "output_type": "execute_result"
    }
   ],
   "source": [
    "df"
   ]
  },
  {
   "cell_type": "code",
   "execution_count": 43,
   "metadata": {},
   "outputs": [
    {
     "data": {
      "text/html": [
       "<div>\n",
       "<style scoped>\n",
       "    .dataframe tbody tr th:only-of-type {\n",
       "        vertical-align: middle;\n",
       "    }\n",
       "\n",
       "    .dataframe tbody tr th {\n",
       "        vertical-align: top;\n",
       "    }\n",
       "\n",
       "    .dataframe thead th {\n",
       "        text-align: right;\n",
       "    }\n",
       "</style>\n",
       "<table border=\"1\" class=\"dataframe\">\n",
       "  <thead>\n",
       "    <tr style=\"text-align: right;\">\n",
       "      <th></th>\n",
       "      <th>D</th>\n",
       "      <th>X</th>\n",
       "    </tr>\n",
       "  </thead>\n",
       "  <tbody>\n",
       "    <tr>\n",
       "      <th>2013-01-01</th>\n",
       "      <td>-1.734119</td>\n",
       "      <td>0.690530</td>\n",
       "    </tr>\n",
       "    <tr>\n",
       "      <th>2013-01-02</th>\n",
       "      <td>-0.593344</td>\n",
       "      <td>1.038125</td>\n",
       "    </tr>\n",
       "    <tr>\n",
       "      <th>2013-01-03</th>\n",
       "      <td>-0.609979</td>\n",
       "      <td>-0.536140</td>\n",
       "    </tr>\n",
       "    <tr>\n",
       "      <th>2013-01-04</th>\n",
       "      <td>-1.171841</td>\n",
       "      <td>0.990748</td>\n",
       "    </tr>\n",
       "    <tr>\n",
       "      <th>2013-01-05</th>\n",
       "      <td>0.142033</td>\n",
       "      <td>-0.148254</td>\n",
       "    </tr>\n",
       "    <tr>\n",
       "      <th>2013-01-06</th>\n",
       "      <td>0.313757</td>\n",
       "      <td>0.643473</td>\n",
       "    </tr>\n",
       "  </tbody>\n",
       "</table>\n",
       "</div>"
      ],
      "text/plain": [
       "                   D         X\n",
       "2013-01-01 -1.734119  0.690530\n",
       "2013-01-02 -0.593344  1.038125\n",
       "2013-01-03 -0.609979 -0.536140\n",
       "2013-01-04 -1.171841  0.990748\n",
       "2013-01-05  0.142033 -0.148254\n",
       "2013-01-06  0.313757  0.643473"
      ]
     },
     "execution_count": 43,
     "metadata": {},
     "output_type": "execute_result"
    }
   ],
   "source": [
    "df.loc[:,[\"D\",\"X\"]]"
   ]
  },
  {
   "cell_type": "code",
   "execution_count": 46,
   "metadata": {},
   "outputs": [
    {
     "data": {
      "text/html": [
       "<div>\n",
       "<style scoped>\n",
       "    .dataframe tbody tr th:only-of-type {\n",
       "        vertical-align: middle;\n",
       "    }\n",
       "\n",
       "    .dataframe tbody tr th {\n",
       "        vertical-align: top;\n",
       "    }\n",
       "\n",
       "    .dataframe thead th {\n",
       "        text-align: right;\n",
       "    }\n",
       "</style>\n",
       "<table border=\"1\" class=\"dataframe\">\n",
       "  <thead>\n",
       "    <tr style=\"text-align: right;\">\n",
       "      <th></th>\n",
       "      <th>X</th>\n",
       "      <th>C</th>\n",
       "      <th>D</th>\n",
       "    </tr>\n",
       "  </thead>\n",
       "  <tbody>\n",
       "    <tr>\n",
       "      <th>2013-01-02</th>\n",
       "      <td>1.038125</td>\n",
       "      <td>-0.597154</td>\n",
       "      <td>-0.593344</td>\n",
       "    </tr>\n",
       "    <tr>\n",
       "      <th>2013-01-03</th>\n",
       "      <td>-0.536140</td>\n",
       "      <td>0.118545</td>\n",
       "      <td>-0.609979</td>\n",
       "    </tr>\n",
       "  </tbody>\n",
       "</table>\n",
       "</div>"
      ],
      "text/plain": [
       "                   X         C         D\n",
       "2013-01-02  1.038125 -0.597154 -0.593344\n",
       "2013-01-03 -0.536140  0.118545 -0.609979"
      ]
     },
     "execution_count": 46,
     "metadata": {},
     "output_type": "execute_result"
    }
   ],
   "source": [
    "df.loc[\"2013-01-02\":\"2013-01-03\", [\"X\", \"C\",\"D\"]]"
   ]
  },
  {
   "cell_type": "code",
   "execution_count": 47,
   "metadata": {},
   "outputs": [
    {
     "data": {
      "text/plain": [
       "0.11854499761227834"
      ]
     },
     "execution_count": 47,
     "metadata": {},
     "output_type": "execute_result"
    }
   ],
   "source": [
    "df.loc[\"20130103\", \"C\"]"
   ]
  },
  {
   "cell_type": "code",
   "execution_count": 48,
   "metadata": {},
   "outputs": [
    {
     "data": {
      "text/plain": [
       "-0.5361404020125728"
      ]
     },
     "execution_count": 48,
     "metadata": {},
     "output_type": "execute_result"
    }
   ],
   "source": [
    "df.at[dates[2],\"X\"]"
   ]
  },
  {
   "cell_type": "code",
   "execution_count": 49,
   "metadata": {},
   "outputs": [
    {
     "data": {
      "text/plain": [
       "A    0.734362\n",
       "B    0.647168\n",
       "D   -0.593344\n",
       "C   -0.597154\n",
       "X    1.038125\n",
       "Name: 2013-01-02 00:00:00, dtype: float64"
      ]
     },
     "execution_count": 49,
     "metadata": {},
     "output_type": "execute_result"
    }
   ],
   "source": [
    "df.iloc[1]"
   ]
  },
  {
   "cell_type": "code",
   "execution_count": 52,
   "metadata": {},
   "outputs": [
    {
     "data": {
      "text/html": [
       "<div>\n",
       "<style scoped>\n",
       "    .dataframe tbody tr th:only-of-type {\n",
       "        vertical-align: middle;\n",
       "    }\n",
       "\n",
       "    .dataframe tbody tr th {\n",
       "        vertical-align: top;\n",
       "    }\n",
       "\n",
       "    .dataframe thead th {\n",
       "        text-align: right;\n",
       "    }\n",
       "</style>\n",
       "<table border=\"1\" class=\"dataframe\">\n",
       "  <thead>\n",
       "    <tr style=\"text-align: right;\">\n",
       "      <th></th>\n",
       "      <th>D</th>\n",
       "      <th>C</th>\n",
       "      <th>X</th>\n",
       "    </tr>\n",
       "  </thead>\n",
       "  <tbody>\n",
       "    <tr>\n",
       "      <th>2013-01-04</th>\n",
       "      <td>-1.171841</td>\n",
       "      <td>2.604029</td>\n",
       "      <td>0.990748</td>\n",
       "    </tr>\n",
       "    <tr>\n",
       "      <th>2013-01-05</th>\n",
       "      <td>0.142033</td>\n",
       "      <td>-0.773973</td>\n",
       "      <td>-0.148254</td>\n",
       "    </tr>\n",
       "  </tbody>\n",
       "</table>\n",
       "</div>"
      ],
      "text/plain": [
       "                   D         C         X\n",
       "2013-01-04 -1.171841  2.604029  0.990748\n",
       "2013-01-05  0.142033 -0.773973 -0.148254"
      ]
     },
     "execution_count": 52,
     "metadata": {},
     "output_type": "execute_result"
    }
   ],
   "source": [
    "df.iloc[3:5, 2:]"
   ]
  },
  {
   "cell_type": "code",
   "execution_count": 53,
   "metadata": {},
   "outputs": [
    {
     "data": {
      "text/html": [
       "<div>\n",
       "<style scoped>\n",
       "    .dataframe tbody tr th:only-of-type {\n",
       "        vertical-align: middle;\n",
       "    }\n",
       "\n",
       "    .dataframe tbody tr th {\n",
       "        vertical-align: top;\n",
       "    }\n",
       "\n",
       "    .dataframe thead th {\n",
       "        text-align: right;\n",
       "    }\n",
       "</style>\n",
       "<table border=\"1\" class=\"dataframe\">\n",
       "  <thead>\n",
       "    <tr style=\"text-align: right;\">\n",
       "      <th></th>\n",
       "      <th>D</th>\n",
       "      <th>A</th>\n",
       "    </tr>\n",
       "  </thead>\n",
       "  <tbody>\n",
       "    <tr>\n",
       "      <th>2013-01-02</th>\n",
       "      <td>-0.593344</td>\n",
       "      <td>0.734362</td>\n",
       "    </tr>\n",
       "    <tr>\n",
       "      <th>2013-01-04</th>\n",
       "      <td>-1.171841</td>\n",
       "      <td>0.008304</td>\n",
       "    </tr>\n",
       "    <tr>\n",
       "      <th>2013-01-05</th>\n",
       "      <td>0.142033</td>\n",
       "      <td>-1.452080</td>\n",
       "    </tr>\n",
       "  </tbody>\n",
       "</table>\n",
       "</div>"
      ],
      "text/plain": [
       "                   D         A\n",
       "2013-01-02 -0.593344  0.734362\n",
       "2013-01-04 -1.171841  0.008304\n",
       "2013-01-05  0.142033 -1.452080"
      ]
     },
     "execution_count": 53,
     "metadata": {},
     "output_type": "execute_result"
    }
   ],
   "source": [
    "df.iloc[[1,3,4],[2,0]]"
   ]
  },
  {
   "cell_type": "code",
   "execution_count": 56,
   "metadata": {},
   "outputs": [
    {
     "data": {
      "text/html": [
       "<div>\n",
       "<style scoped>\n",
       "    .dataframe tbody tr th:only-of-type {\n",
       "        vertical-align: middle;\n",
       "    }\n",
       "\n",
       "    .dataframe tbody tr th {\n",
       "        vertical-align: top;\n",
       "    }\n",
       "\n",
       "    .dataframe thead th {\n",
       "        text-align: right;\n",
       "    }\n",
       "</style>\n",
       "<table border=\"1\" class=\"dataframe\">\n",
       "  <thead>\n",
       "    <tr style=\"text-align: right;\">\n",
       "      <th></th>\n",
       "      <th>A</th>\n",
       "      <th>B</th>\n",
       "      <th>D</th>\n",
       "      <th>C</th>\n",
       "      <th>X</th>\n",
       "    </tr>\n",
       "  </thead>\n",
       "  <tbody>\n",
       "    <tr>\n",
       "      <th>2013-01-01</th>\n",
       "      <td>-0.021136</td>\n",
       "      <td>0.474194</td>\n",
       "      <td>-1.734119</td>\n",
       "      <td>-0.435538</td>\n",
       "      <td>0.690530</td>\n",
       "    </tr>\n",
       "    <tr>\n",
       "      <th>2013-01-02</th>\n",
       "      <td>0.734362</td>\n",
       "      <td>0.647168</td>\n",
       "      <td>-0.593344</td>\n",
       "      <td>-0.597154</td>\n",
       "      <td>1.038125</td>\n",
       "    </tr>\n",
       "    <tr>\n",
       "      <th>2013-01-03</th>\n",
       "      <td>-1.171436</td>\n",
       "      <td>1.515366</td>\n",
       "      <td>-0.609979</td>\n",
       "      <td>0.118545</td>\n",
       "      <td>-0.536140</td>\n",
       "    </tr>\n",
       "  </tbody>\n",
       "</table>\n",
       "</div>"
      ],
      "text/plain": [
       "                   A         B         D         C         X\n",
       "2013-01-01 -0.021136  0.474194 -1.734119 -0.435538  0.690530\n",
       "2013-01-02  0.734362  0.647168 -0.593344 -0.597154  1.038125\n",
       "2013-01-03 -1.171436  1.515366 -0.609979  0.118545 -0.536140"
      ]
     },
     "execution_count": 56,
     "metadata": {},
     "output_type": "execute_result"
    }
   ],
   "source": [
    "df.iloc[0:3,:]"
   ]
  },
  {
   "cell_type": "code",
   "execution_count": 57,
   "metadata": {},
   "outputs": [
    {
     "data": {
      "text/html": [
       "<div>\n",
       "<style scoped>\n",
       "    .dataframe tbody tr th:only-of-type {\n",
       "        vertical-align: middle;\n",
       "    }\n",
       "\n",
       "    .dataframe tbody tr th {\n",
       "        vertical-align: top;\n",
       "    }\n",
       "\n",
       "    .dataframe thead th {\n",
       "        text-align: right;\n",
       "    }\n",
       "</style>\n",
       "<table border=\"1\" class=\"dataframe\">\n",
       "  <thead>\n",
       "    <tr style=\"text-align: right;\">\n",
       "      <th></th>\n",
       "      <th>A</th>\n",
       "      <th>B</th>\n",
       "      <th>D</th>\n",
       "    </tr>\n",
       "  </thead>\n",
       "  <tbody>\n",
       "    <tr>\n",
       "      <th>2013-01-01</th>\n",
       "      <td>-0.021136</td>\n",
       "      <td>0.474194</td>\n",
       "      <td>-1.734119</td>\n",
       "    </tr>\n",
       "    <tr>\n",
       "      <th>2013-01-02</th>\n",
       "      <td>0.734362</td>\n",
       "      <td>0.647168</td>\n",
       "      <td>-0.593344</td>\n",
       "    </tr>\n",
       "    <tr>\n",
       "      <th>2013-01-03</th>\n",
       "      <td>-1.171436</td>\n",
       "      <td>1.515366</td>\n",
       "      <td>-0.609979</td>\n",
       "    </tr>\n",
       "    <tr>\n",
       "      <th>2013-01-04</th>\n",
       "      <td>0.008304</td>\n",
       "      <td>-0.416033</td>\n",
       "      <td>-1.171841</td>\n",
       "    </tr>\n",
       "    <tr>\n",
       "      <th>2013-01-05</th>\n",
       "      <td>-1.452080</td>\n",
       "      <td>0.108043</td>\n",
       "      <td>0.142033</td>\n",
       "    </tr>\n",
       "    <tr>\n",
       "      <th>2013-01-06</th>\n",
       "      <td>0.294327</td>\n",
       "      <td>1.852148</td>\n",
       "      <td>0.313757</td>\n",
       "    </tr>\n",
       "  </tbody>\n",
       "</table>\n",
       "</div>"
      ],
      "text/plain": [
       "                   A         B         D\n",
       "2013-01-01 -0.021136  0.474194 -1.734119\n",
       "2013-01-02  0.734362  0.647168 -0.593344\n",
       "2013-01-03 -1.171436  1.515366 -0.609979\n",
       "2013-01-04  0.008304 -0.416033 -1.171841\n",
       "2013-01-05 -1.452080  0.108043  0.142033\n",
       "2013-01-06  0.294327  1.852148  0.313757"
      ]
     },
     "execution_count": 57,
     "metadata": {},
     "output_type": "execute_result"
    }
   ],
   "source": [
    "df.iloc[:,0:3]"
   ]
  },
  {
   "cell_type": "code",
   "execution_count": 58,
   "metadata": {},
   "outputs": [
    {
     "data": {
      "text/plain": [
       "0.6471683862843268"
      ]
     },
     "execution_count": 58,
     "metadata": {},
     "output_type": "execute_result"
    }
   ],
   "source": [
    "df.iloc[1,1]"
   ]
  },
  {
   "cell_type": "code",
   "execution_count": 59,
   "metadata": {},
   "outputs": [
    {
     "data": {
      "text/plain": [
       "-0.021136266488595828"
      ]
     },
     "execution_count": 59,
     "metadata": {},
     "output_type": "execute_result"
    }
   ],
   "source": [
    "df.iat[0,0]"
   ]
  },
  {
   "cell_type": "markdown",
   "metadata": {},
   "source": [
    "# Boolean indexing"
   ]
  },
  {
   "cell_type": "code",
   "execution_count": 65,
   "metadata": {},
   "outputs": [
    {
     "data": {
      "text/html": [
       "<div>\n",
       "<style scoped>\n",
       "    .dataframe tbody tr th:only-of-type {\n",
       "        vertical-align: middle;\n",
       "    }\n",
       "\n",
       "    .dataframe tbody tr th {\n",
       "        vertical-align: top;\n",
       "    }\n",
       "\n",
       "    .dataframe thead th {\n",
       "        text-align: right;\n",
       "    }\n",
       "</style>\n",
       "<table border=\"1\" class=\"dataframe\">\n",
       "  <thead>\n",
       "    <tr style=\"text-align: right;\">\n",
       "      <th></th>\n",
       "      <th>A</th>\n",
       "      <th>B</th>\n",
       "      <th>D</th>\n",
       "      <th>C</th>\n",
       "      <th>X</th>\n",
       "    </tr>\n",
       "  </thead>\n",
       "  <tbody>\n",
       "    <tr>\n",
       "      <th>2013-01-02</th>\n",
       "      <td>0.734362</td>\n",
       "      <td>0.647168</td>\n",
       "      <td>-0.593344</td>\n",
       "      <td>-0.597154</td>\n",
       "      <td>1.038125</td>\n",
       "    </tr>\n",
       "    <tr>\n",
       "      <th>2013-01-04</th>\n",
       "      <td>0.008304</td>\n",
       "      <td>-0.416033</td>\n",
       "      <td>-1.171841</td>\n",
       "      <td>2.604029</td>\n",
       "      <td>0.990748</td>\n",
       "    </tr>\n",
       "    <tr>\n",
       "      <th>2013-01-06</th>\n",
       "      <td>0.294327</td>\n",
       "      <td>1.852148</td>\n",
       "      <td>0.313757</td>\n",
       "      <td>-0.571151</td>\n",
       "      <td>0.643473</td>\n",
       "    </tr>\n",
       "  </tbody>\n",
       "</table>\n",
       "</div>"
      ],
      "text/plain": [
       "                   A         B         D         C         X\n",
       "2013-01-02  0.734362  0.647168 -0.593344 -0.597154  1.038125\n",
       "2013-01-04  0.008304 -0.416033 -1.171841  2.604029  0.990748\n",
       "2013-01-06  0.294327  1.852148  0.313757 -0.571151  0.643473"
      ]
     },
     "execution_count": 65,
     "metadata": {},
     "output_type": "execute_result"
    }
   ],
   "source": [
    "df[df[\"A\"]>0]"
   ]
  },
  {
   "cell_type": "code",
   "execution_count": 66,
   "metadata": {},
   "outputs": [
    {
     "data": {
      "text/html": [
       "<div>\n",
       "<style scoped>\n",
       "    .dataframe tbody tr th:only-of-type {\n",
       "        vertical-align: middle;\n",
       "    }\n",
       "\n",
       "    .dataframe tbody tr th {\n",
       "        vertical-align: top;\n",
       "    }\n",
       "\n",
       "    .dataframe thead th {\n",
       "        text-align: right;\n",
       "    }\n",
       "</style>\n",
       "<table border=\"1\" class=\"dataframe\">\n",
       "  <thead>\n",
       "    <tr style=\"text-align: right;\">\n",
       "      <th></th>\n",
       "      <th>A</th>\n",
       "      <th>B</th>\n",
       "      <th>D</th>\n",
       "      <th>C</th>\n",
       "      <th>X</th>\n",
       "    </tr>\n",
       "  </thead>\n",
       "  <tbody>\n",
       "    <tr>\n",
       "      <th>2013-01-01</th>\n",
       "      <td>-0.021136</td>\n",
       "      <td>NaN</td>\n",
       "      <td>-1.734119</td>\n",
       "      <td>-0.435538</td>\n",
       "      <td>NaN</td>\n",
       "    </tr>\n",
       "    <tr>\n",
       "      <th>2013-01-02</th>\n",
       "      <td>NaN</td>\n",
       "      <td>NaN</td>\n",
       "      <td>-0.593344</td>\n",
       "      <td>-0.597154</td>\n",
       "      <td>NaN</td>\n",
       "    </tr>\n",
       "    <tr>\n",
       "      <th>2013-01-03</th>\n",
       "      <td>-1.171436</td>\n",
       "      <td>NaN</td>\n",
       "      <td>-0.609979</td>\n",
       "      <td>NaN</td>\n",
       "      <td>-0.536140</td>\n",
       "    </tr>\n",
       "    <tr>\n",
       "      <th>2013-01-04</th>\n",
       "      <td>NaN</td>\n",
       "      <td>-0.416033</td>\n",
       "      <td>-1.171841</td>\n",
       "      <td>NaN</td>\n",
       "      <td>NaN</td>\n",
       "    </tr>\n",
       "    <tr>\n",
       "      <th>2013-01-05</th>\n",
       "      <td>-1.452080</td>\n",
       "      <td>NaN</td>\n",
       "      <td>NaN</td>\n",
       "      <td>-0.773973</td>\n",
       "      <td>-0.148254</td>\n",
       "    </tr>\n",
       "    <tr>\n",
       "      <th>2013-01-06</th>\n",
       "      <td>NaN</td>\n",
       "      <td>NaN</td>\n",
       "      <td>NaN</td>\n",
       "      <td>-0.571151</td>\n",
       "      <td>NaN</td>\n",
       "    </tr>\n",
       "  </tbody>\n",
       "</table>\n",
       "</div>"
      ],
      "text/plain": [
       "                   A         B         D         C         X\n",
       "2013-01-01 -0.021136       NaN -1.734119 -0.435538       NaN\n",
       "2013-01-02       NaN       NaN -0.593344 -0.597154       NaN\n",
       "2013-01-03 -1.171436       NaN -0.609979       NaN -0.536140\n",
       "2013-01-04       NaN -0.416033 -1.171841       NaN       NaN\n",
       "2013-01-05 -1.452080       NaN       NaN -0.773973 -0.148254\n",
       "2013-01-06       NaN       NaN       NaN -0.571151       NaN"
      ]
     },
     "execution_count": 66,
     "metadata": {},
     "output_type": "execute_result"
    }
   ],
   "source": [
    "df[df<0]"
   ]
  },
  {
   "cell_type": "markdown",
   "metadata": {},
   "source": [
    "## Using two column values to select data"
   ]
  },
  {
   "cell_type": "code",
   "execution_count": 68,
   "metadata": {},
   "outputs": [
    {
     "data": {
      "text/html": [
       "<div>\n",
       "<style scoped>\n",
       "    .dataframe tbody tr th:only-of-type {\n",
       "        vertical-align: middle;\n",
       "    }\n",
       "\n",
       "    .dataframe tbody tr th {\n",
       "        vertical-align: top;\n",
       "    }\n",
       "\n",
       "    .dataframe thead th {\n",
       "        text-align: right;\n",
       "    }\n",
       "</style>\n",
       "<table border=\"1\" class=\"dataframe\">\n",
       "  <thead>\n",
       "    <tr style=\"text-align: right;\">\n",
       "      <th></th>\n",
       "      <th>A</th>\n",
       "      <th>B</th>\n",
       "      <th>D</th>\n",
       "      <th>C</th>\n",
       "      <th>X</th>\n",
       "    </tr>\n",
       "  </thead>\n",
       "  <tbody>\n",
       "    <tr>\n",
       "      <th>2013-01-02</th>\n",
       "      <td>0.734362</td>\n",
       "      <td>0.647168</td>\n",
       "      <td>-0.593344</td>\n",
       "      <td>-0.597154</td>\n",
       "      <td>1.038125</td>\n",
       "    </tr>\n",
       "    <tr>\n",
       "      <th>2013-01-04</th>\n",
       "      <td>0.008304</td>\n",
       "      <td>-0.416033</td>\n",
       "      <td>-1.171841</td>\n",
       "      <td>2.604029</td>\n",
       "      <td>0.990748</td>\n",
       "    </tr>\n",
       "  </tbody>\n",
       "</table>\n",
       "</div>"
      ],
      "text/plain": [
       "                   A         B         D         C         X\n",
       "2013-01-02  0.734362  0.647168 -0.593344 -0.597154  1.038125\n",
       "2013-01-04  0.008304 -0.416033 -1.171841  2.604029  0.990748"
      ]
     },
     "execution_count": 68,
     "metadata": {},
     "output_type": "execute_result"
    }
   ],
   "source": [
    "df[(df[\"A\"]>0) & (df[\"D\"]<0)]"
   ]
  },
  {
   "cell_type": "code",
   "execution_count": 69,
   "metadata": {},
   "outputs": [
    {
     "data": {
      "text/html": [
       "<div>\n",
       "<style scoped>\n",
       "    .dataframe tbody tr th:only-of-type {\n",
       "        vertical-align: middle;\n",
       "    }\n",
       "\n",
       "    .dataframe tbody tr th {\n",
       "        vertical-align: top;\n",
       "    }\n",
       "\n",
       "    .dataframe thead th {\n",
       "        text-align: right;\n",
       "    }\n",
       "</style>\n",
       "<table border=\"1\" class=\"dataframe\">\n",
       "  <thead>\n",
       "    <tr style=\"text-align: right;\">\n",
       "      <th></th>\n",
       "      <th>A</th>\n",
       "      <th>B</th>\n",
       "      <th>D</th>\n",
       "      <th>C</th>\n",
       "      <th>X</th>\n",
       "      <th>E</th>\n",
       "    </tr>\n",
       "  </thead>\n",
       "  <tbody>\n",
       "    <tr>\n",
       "      <th>2013-01-01</th>\n",
       "      <td>-0.021136</td>\n",
       "      <td>0.474194</td>\n",
       "      <td>-1.734119</td>\n",
       "      <td>-0.435538</td>\n",
       "      <td>0.690530</td>\n",
       "      <td>one</td>\n",
       "    </tr>\n",
       "    <tr>\n",
       "      <th>2013-01-02</th>\n",
       "      <td>0.734362</td>\n",
       "      <td>0.647168</td>\n",
       "      <td>-0.593344</td>\n",
       "      <td>-0.597154</td>\n",
       "      <td>1.038125</td>\n",
       "      <td>one</td>\n",
       "    </tr>\n",
       "    <tr>\n",
       "      <th>2013-01-03</th>\n",
       "      <td>-1.171436</td>\n",
       "      <td>1.515366</td>\n",
       "      <td>-0.609979</td>\n",
       "      <td>0.118545</td>\n",
       "      <td>-0.536140</td>\n",
       "      <td>two</td>\n",
       "    </tr>\n",
       "    <tr>\n",
       "      <th>2013-01-04</th>\n",
       "      <td>0.008304</td>\n",
       "      <td>-0.416033</td>\n",
       "      <td>-1.171841</td>\n",
       "      <td>2.604029</td>\n",
       "      <td>0.990748</td>\n",
       "      <td>three</td>\n",
       "    </tr>\n",
       "    <tr>\n",
       "      <th>2013-01-05</th>\n",
       "      <td>-1.452080</td>\n",
       "      <td>0.108043</td>\n",
       "      <td>0.142033</td>\n",
       "      <td>-0.773973</td>\n",
       "      <td>-0.148254</td>\n",
       "      <td>four</td>\n",
       "    </tr>\n",
       "    <tr>\n",
       "      <th>2013-01-06</th>\n",
       "      <td>0.294327</td>\n",
       "      <td>1.852148</td>\n",
       "      <td>0.313757</td>\n",
       "      <td>-0.571151</td>\n",
       "      <td>0.643473</td>\n",
       "      <td>three</td>\n",
       "    </tr>\n",
       "  </tbody>\n",
       "</table>\n",
       "</div>"
      ],
      "text/plain": [
       "                   A         B         D         C         X      E\n",
       "2013-01-01 -0.021136  0.474194 -1.734119 -0.435538  0.690530    one\n",
       "2013-01-02  0.734362  0.647168 -0.593344 -0.597154  1.038125    one\n",
       "2013-01-03 -1.171436  1.515366 -0.609979  0.118545 -0.536140    two\n",
       "2013-01-04  0.008304 -0.416033 -1.171841  2.604029  0.990748  three\n",
       "2013-01-05 -1.452080  0.108043  0.142033 -0.773973 -0.148254   four\n",
       "2013-01-06  0.294327  1.852148  0.313757 -0.571151  0.643473  three"
      ]
     },
     "execution_count": 69,
     "metadata": {},
     "output_type": "execute_result"
    }
   ],
   "source": [
    "df2 = df.copy()\n",
    "df2[\"E\"] = [\"one\", \"one\", \"two\", \"three\", \"four\", \"three\"]\n",
    "df2"
   ]
  },
  {
   "cell_type": "code",
   "execution_count": 70,
   "metadata": {},
   "outputs": [
    {
     "data": {
      "text/html": [
       "<div>\n",
       "<style scoped>\n",
       "    .dataframe tbody tr th:only-of-type {\n",
       "        vertical-align: middle;\n",
       "    }\n",
       "\n",
       "    .dataframe tbody tr th {\n",
       "        vertical-align: top;\n",
       "    }\n",
       "\n",
       "    .dataframe thead th {\n",
       "        text-align: right;\n",
       "    }\n",
       "</style>\n",
       "<table border=\"1\" class=\"dataframe\">\n",
       "  <thead>\n",
       "    <tr style=\"text-align: right;\">\n",
       "      <th></th>\n",
       "      <th>A</th>\n",
       "      <th>B</th>\n",
       "      <th>D</th>\n",
       "      <th>C</th>\n",
       "      <th>X</th>\n",
       "      <th>E</th>\n",
       "    </tr>\n",
       "  </thead>\n",
       "  <tbody>\n",
       "    <tr>\n",
       "      <th>2013-01-01</th>\n",
       "      <td>-0.021136</td>\n",
       "      <td>0.474194</td>\n",
       "      <td>-1.734119</td>\n",
       "      <td>-0.435538</td>\n",
       "      <td>0.690530</td>\n",
       "      <td>one</td>\n",
       "    </tr>\n",
       "    <tr>\n",
       "      <th>2013-01-02</th>\n",
       "      <td>0.734362</td>\n",
       "      <td>0.647168</td>\n",
       "      <td>-0.593344</td>\n",
       "      <td>-0.597154</td>\n",
       "      <td>1.038125</td>\n",
       "      <td>one</td>\n",
       "    </tr>\n",
       "    <tr>\n",
       "      <th>2013-01-04</th>\n",
       "      <td>0.008304</td>\n",
       "      <td>-0.416033</td>\n",
       "      <td>-1.171841</td>\n",
       "      <td>2.604029</td>\n",
       "      <td>0.990748</td>\n",
       "      <td>three</td>\n",
       "    </tr>\n",
       "    <tr>\n",
       "      <th>2013-01-06</th>\n",
       "      <td>0.294327</td>\n",
       "      <td>1.852148</td>\n",
       "      <td>0.313757</td>\n",
       "      <td>-0.571151</td>\n",
       "      <td>0.643473</td>\n",
       "      <td>three</td>\n",
       "    </tr>\n",
       "  </tbody>\n",
       "</table>\n",
       "</div>"
      ],
      "text/plain": [
       "                   A         B         D         C         X      E\n",
       "2013-01-01 -0.021136  0.474194 -1.734119 -0.435538  0.690530    one\n",
       "2013-01-02  0.734362  0.647168 -0.593344 -0.597154  1.038125    one\n",
       "2013-01-04  0.008304 -0.416033 -1.171841  2.604029  0.990748  three\n",
       "2013-01-06  0.294327  1.852148  0.313757 -0.571151  0.643473  three"
      ]
     },
     "execution_count": 70,
     "metadata": {},
     "output_type": "execute_result"
    }
   ],
   "source": [
    "df2[df2[\"E\"].isin([\"one\", \"three\"])]"
   ]
  },
  {
   "cell_type": "markdown",
   "metadata": {},
   "source": [
    "# Setting"
   ]
  },
  {
   "cell_type": "code",
   "execution_count": 72,
   "metadata": {},
   "outputs": [],
   "source": [
    "s1 = pd.Series([1, 2, 3, 4, 5, 6], index = pd.date_range(\"20130102\", periods=6))\n",
    "s1\n",
    "df[\"F\"] = s1"
   ]
  },
  {
   "cell_type": "code",
   "execution_count": 80,
   "metadata": {},
   "outputs": [],
   "source": [
    "df.at[dates[0], \"B\"] = 0"
   ]
  },
  {
   "cell_type": "code",
   "execution_count": 84,
   "metadata": {},
   "outputs": [
    {
     "data": {
      "text/html": [
       "<div>\n",
       "<style scoped>\n",
       "    .dataframe tbody tr th:only-of-type {\n",
       "        vertical-align: middle;\n",
       "    }\n",
       "\n",
       "    .dataframe tbody tr th {\n",
       "        vertical-align: top;\n",
       "    }\n",
       "\n",
       "    .dataframe thead th {\n",
       "        text-align: right;\n",
       "    }\n",
       "</style>\n",
       "<table border=\"1\" class=\"dataframe\">\n",
       "  <thead>\n",
       "    <tr style=\"text-align: right;\">\n",
       "      <th></th>\n",
       "      <th>A</th>\n",
       "      <th>B</th>\n",
       "      <th>D</th>\n",
       "      <th>C</th>\n",
       "      <th>X</th>\n",
       "      <th>F</th>\n",
       "    </tr>\n",
       "  </thead>\n",
       "  <tbody>\n",
       "    <tr>\n",
       "      <th>2013-01-01</th>\n",
       "      <td>-0.021136</td>\n",
       "      <td>0.000000</td>\n",
       "      <td>-1.734119</td>\n",
       "      <td>-0.435538</td>\n",
       "      <td>0.690530</td>\n",
       "      <td>NaN</td>\n",
       "    </tr>\n",
       "    <tr>\n",
       "      <th>2013-01-02</th>\n",
       "      <td>0.734362</td>\n",
       "      <td>0.647168</td>\n",
       "      <td>-0.593344</td>\n",
       "      <td>-0.597154</td>\n",
       "      <td>1.038125</td>\n",
       "      <td>1.0</td>\n",
       "    </tr>\n",
       "    <tr>\n",
       "      <th>2013-01-03</th>\n",
       "      <td>-1.171436</td>\n",
       "      <td>1.515366</td>\n",
       "      <td>-0.609979</td>\n",
       "      <td>0.118545</td>\n",
       "      <td>-0.536140</td>\n",
       "      <td>2.0</td>\n",
       "    </tr>\n",
       "    <tr>\n",
       "      <th>2013-01-04</th>\n",
       "      <td>0.008304</td>\n",
       "      <td>-0.416033</td>\n",
       "      <td>-1.171841</td>\n",
       "      <td>2.604029</td>\n",
       "      <td>0.990748</td>\n",
       "      <td>3.0</td>\n",
       "    </tr>\n",
       "    <tr>\n",
       "      <th>2013-01-05</th>\n",
       "      <td>-1.452080</td>\n",
       "      <td>0.108043</td>\n",
       "      <td>0.142033</td>\n",
       "      <td>-0.773973</td>\n",
       "      <td>-0.148254</td>\n",
       "      <td>4.0</td>\n",
       "    </tr>\n",
       "    <tr>\n",
       "      <th>2013-01-06</th>\n",
       "      <td>0.294327</td>\n",
       "      <td>1.852148</td>\n",
       "      <td>0.313757</td>\n",
       "      <td>-0.571151</td>\n",
       "      <td>0.643473</td>\n",
       "      <td>5.0</td>\n",
       "    </tr>\n",
       "  </tbody>\n",
       "</table>\n",
       "</div>"
      ],
      "text/plain": [
       "                   A         B         D         C         X    F\n",
       "2013-01-01 -0.021136  0.000000 -1.734119 -0.435538  0.690530  NaN\n",
       "2013-01-02  0.734362  0.647168 -0.593344 -0.597154  1.038125  1.0\n",
       "2013-01-03 -1.171436  1.515366 -0.609979  0.118545 -0.536140  2.0\n",
       "2013-01-04  0.008304 -0.416033 -1.171841  2.604029  0.990748  3.0\n",
       "2013-01-05 -1.452080  0.108043  0.142033 -0.773973 -0.148254  4.0\n",
       "2013-01-06  0.294327  1.852148  0.313757 -0.571151  0.643473  5.0"
      ]
     },
     "execution_count": 84,
     "metadata": {},
     "output_type": "execute_result"
    }
   ],
   "source": [
    "df.iat[0,1] = 0\n",
    "df"
   ]
  },
  {
   "cell_type": "code",
   "execution_count": 85,
   "metadata": {},
   "outputs": [
    {
     "data": {
      "text/plain": [
       "2013-01-01   -1.734119\n",
       "2013-01-02   -0.593344\n",
       "2013-01-03   -0.609979\n",
       "2013-01-04   -1.171841\n",
       "2013-01-05    0.142033\n",
       "2013-01-06    0.313757\n",
       "Freq: D, Name: D, dtype: float64"
      ]
     },
     "execution_count": 85,
     "metadata": {},
     "output_type": "execute_result"
    }
   ],
   "source": [
    "df.loc[:, \"D\"]"
   ]
  },
  {
   "cell_type": "code",
   "execution_count": 92,
   "metadata": {},
   "outputs": [
    {
     "data": {
      "text/html": [
       "<div>\n",
       "<style scoped>\n",
       "    .dataframe tbody tr th:only-of-type {\n",
       "        vertical-align: middle;\n",
       "    }\n",
       "\n",
       "    .dataframe tbody tr th {\n",
       "        vertical-align: top;\n",
       "    }\n",
       "\n",
       "    .dataframe thead th {\n",
       "        text-align: right;\n",
       "    }\n",
       "</style>\n",
       "<table border=\"1\" class=\"dataframe\">\n",
       "  <thead>\n",
       "    <tr style=\"text-align: right;\">\n",
       "      <th></th>\n",
       "      <th>A</th>\n",
       "      <th>B</th>\n",
       "      <th>D</th>\n",
       "      <th>C</th>\n",
       "      <th>X</th>\n",
       "      <th>F</th>\n",
       "    </tr>\n",
       "  </thead>\n",
       "  <tbody>\n",
       "    <tr>\n",
       "      <th>2013-01-01</th>\n",
       "      <td>-0.021136</td>\n",
       "      <td>0.000000</td>\n",
       "      <td>5</td>\n",
       "      <td>-0.435538</td>\n",
       "      <td>0.690530</td>\n",
       "      <td>NaN</td>\n",
       "    </tr>\n",
       "    <tr>\n",
       "      <th>2013-01-02</th>\n",
       "      <td>0.734362</td>\n",
       "      <td>0.647168</td>\n",
       "      <td>5</td>\n",
       "      <td>-0.597154</td>\n",
       "      <td>1.038125</td>\n",
       "      <td>1.0</td>\n",
       "    </tr>\n",
       "    <tr>\n",
       "      <th>2013-01-03</th>\n",
       "      <td>-1.171436</td>\n",
       "      <td>1.515366</td>\n",
       "      <td>5</td>\n",
       "      <td>0.118545</td>\n",
       "      <td>-0.536140</td>\n",
       "      <td>2.0</td>\n",
       "    </tr>\n",
       "    <tr>\n",
       "      <th>2013-01-04</th>\n",
       "      <td>0.008304</td>\n",
       "      <td>-0.416033</td>\n",
       "      <td>5</td>\n",
       "      <td>2.604029</td>\n",
       "      <td>0.990748</td>\n",
       "      <td>3.0</td>\n",
       "    </tr>\n",
       "    <tr>\n",
       "      <th>2013-01-05</th>\n",
       "      <td>-1.452080</td>\n",
       "      <td>0.108043</td>\n",
       "      <td>5</td>\n",
       "      <td>-0.773973</td>\n",
       "      <td>-0.148254</td>\n",
       "      <td>4.0</td>\n",
       "    </tr>\n",
       "    <tr>\n",
       "      <th>2013-01-06</th>\n",
       "      <td>0.294327</td>\n",
       "      <td>1.852148</td>\n",
       "      <td>5</td>\n",
       "      <td>-0.571151</td>\n",
       "      <td>0.643473</td>\n",
       "      <td>5.0</td>\n",
       "    </tr>\n",
       "  </tbody>\n",
       "</table>\n",
       "</div>"
      ],
      "text/plain": [
       "                   A         B  D         C         X    F\n",
       "2013-01-01 -0.021136  0.000000  5 -0.435538  0.690530  NaN\n",
       "2013-01-02  0.734362  0.647168  5 -0.597154  1.038125  1.0\n",
       "2013-01-03 -1.171436  1.515366  5  0.118545 -0.536140  2.0\n",
       "2013-01-04  0.008304 -0.416033  5  2.604029  0.990748  3.0\n",
       "2013-01-05 -1.452080  0.108043  5 -0.773973 -0.148254  4.0\n",
       "2013-01-06  0.294327  1.852148  5 -0.571151  0.643473  5.0"
      ]
     },
     "execution_count": 92,
     "metadata": {},
     "output_type": "execute_result"
    }
   ],
   "source": [
    "df.loc[:, \"D\"] = np.array([5] * len(df))\n",
    "df"
   ]
  },
  {
   "cell_type": "code",
   "execution_count": 95,
   "metadata": {},
   "outputs": [
    {
     "data": {
      "text/html": [
       "<div>\n",
       "<style scoped>\n",
       "    .dataframe tbody tr th:only-of-type {\n",
       "        vertical-align: middle;\n",
       "    }\n",
       "\n",
       "    .dataframe tbody tr th {\n",
       "        vertical-align: top;\n",
       "    }\n",
       "\n",
       "    .dataframe thead th {\n",
       "        text-align: right;\n",
       "    }\n",
       "</style>\n",
       "<table border=\"1\" class=\"dataframe\">\n",
       "  <thead>\n",
       "    <tr style=\"text-align: right;\">\n",
       "      <th></th>\n",
       "      <th>A</th>\n",
       "      <th>B</th>\n",
       "      <th>D</th>\n",
       "      <th>C</th>\n",
       "      <th>X</th>\n",
       "      <th>F</th>\n",
       "    </tr>\n",
       "  </thead>\n",
       "  <tbody>\n",
       "    <tr>\n",
       "      <th>2013-01-01</th>\n",
       "      <td>-0.021136</td>\n",
       "      <td>0.000000</td>\n",
       "      <td>-5</td>\n",
       "      <td>-0.435538</td>\n",
       "      <td>-0.690530</td>\n",
       "      <td>NaN</td>\n",
       "    </tr>\n",
       "    <tr>\n",
       "      <th>2013-01-02</th>\n",
       "      <td>-0.734362</td>\n",
       "      <td>-0.647168</td>\n",
       "      <td>-5</td>\n",
       "      <td>-0.597154</td>\n",
       "      <td>-1.038125</td>\n",
       "      <td>-1.0</td>\n",
       "    </tr>\n",
       "    <tr>\n",
       "      <th>2013-01-03</th>\n",
       "      <td>-1.171436</td>\n",
       "      <td>-1.515366</td>\n",
       "      <td>-5</td>\n",
       "      <td>-0.118545</td>\n",
       "      <td>-0.536140</td>\n",
       "      <td>-2.0</td>\n",
       "    </tr>\n",
       "    <tr>\n",
       "      <th>2013-01-04</th>\n",
       "      <td>-0.008304</td>\n",
       "      <td>-0.416033</td>\n",
       "      <td>-5</td>\n",
       "      <td>-2.604029</td>\n",
       "      <td>-0.990748</td>\n",
       "      <td>-3.0</td>\n",
       "    </tr>\n",
       "    <tr>\n",
       "      <th>2013-01-05</th>\n",
       "      <td>-1.452080</td>\n",
       "      <td>-0.108043</td>\n",
       "      <td>-5</td>\n",
       "      <td>-0.773973</td>\n",
       "      <td>-0.148254</td>\n",
       "      <td>-4.0</td>\n",
       "    </tr>\n",
       "    <tr>\n",
       "      <th>2013-01-06</th>\n",
       "      <td>-0.294327</td>\n",
       "      <td>-1.852148</td>\n",
       "      <td>-5</td>\n",
       "      <td>-0.571151</td>\n",
       "      <td>-0.643473</td>\n",
       "      <td>-5.0</td>\n",
       "    </tr>\n",
       "  </tbody>\n",
       "</table>\n",
       "</div>"
      ],
      "text/plain": [
       "                   A         B  D         C         X    F\n",
       "2013-01-01 -0.021136  0.000000 -5 -0.435538 -0.690530  NaN\n",
       "2013-01-02 -0.734362 -0.647168 -5 -0.597154 -1.038125 -1.0\n",
       "2013-01-03 -1.171436 -1.515366 -5 -0.118545 -0.536140 -2.0\n",
       "2013-01-04 -0.008304 -0.416033 -5 -2.604029 -0.990748 -3.0\n",
       "2013-01-05 -1.452080 -0.108043 -5 -0.773973 -0.148254 -4.0\n",
       "2013-01-06 -0.294327 -1.852148 -5 -0.571151 -0.643473 -5.0"
      ]
     },
     "execution_count": 95,
     "metadata": {},
     "output_type": "execute_result"
    }
   ],
   "source": [
    "df2 = df.copy()\n",
    "df2[df2>0] = -df2\n",
    "df2"
   ]
  },
  {
   "cell_type": "markdown",
   "metadata": {},
   "source": [
    "# Missing data"
   ]
  },
  {
   "cell_type": "code",
   "execution_count": 104,
   "metadata": {},
   "outputs": [
    {
     "data": {
      "text/html": [
       "<div>\n",
       "<style scoped>\n",
       "    .dataframe tbody tr th:only-of-type {\n",
       "        vertical-align: middle;\n",
       "    }\n",
       "\n",
       "    .dataframe tbody tr th {\n",
       "        vertical-align: top;\n",
       "    }\n",
       "\n",
       "    .dataframe thead th {\n",
       "        text-align: right;\n",
       "    }\n",
       "</style>\n",
       "<table border=\"1\" class=\"dataframe\">\n",
       "  <thead>\n",
       "    <tr style=\"text-align: right;\">\n",
       "      <th></th>\n",
       "      <th>A</th>\n",
       "      <th>B</th>\n",
       "      <th>D</th>\n",
       "      <th>C</th>\n",
       "      <th>X</th>\n",
       "      <th>F</th>\n",
       "      <th>E</th>\n",
       "    </tr>\n",
       "  </thead>\n",
       "  <tbody>\n",
       "    <tr>\n",
       "      <th>2013-01-01</th>\n",
       "      <td>-0.021136</td>\n",
       "      <td>0.000000</td>\n",
       "      <td>5</td>\n",
       "      <td>-0.435538</td>\n",
       "      <td>0.690530</td>\n",
       "      <td>NaN</td>\n",
       "      <td>1.0</td>\n",
       "    </tr>\n",
       "    <tr>\n",
       "      <th>2013-01-02</th>\n",
       "      <td>0.734362</td>\n",
       "      <td>0.647168</td>\n",
       "      <td>5</td>\n",
       "      <td>-0.597154</td>\n",
       "      <td>1.038125</td>\n",
       "      <td>1.0</td>\n",
       "      <td>1.0</td>\n",
       "    </tr>\n",
       "    <tr>\n",
       "      <th>2013-01-03</th>\n",
       "      <td>-1.171436</td>\n",
       "      <td>1.515366</td>\n",
       "      <td>5</td>\n",
       "      <td>0.118545</td>\n",
       "      <td>-0.536140</td>\n",
       "      <td>2.0</td>\n",
       "      <td>NaN</td>\n",
       "    </tr>\n",
       "    <tr>\n",
       "      <th>2013-01-04</th>\n",
       "      <td>0.008304</td>\n",
       "      <td>-0.416033</td>\n",
       "      <td>5</td>\n",
       "      <td>2.604029</td>\n",
       "      <td>0.990748</td>\n",
       "      <td>3.0</td>\n",
       "      <td>NaN</td>\n",
       "    </tr>\n",
       "  </tbody>\n",
       "</table>\n",
       "</div>"
      ],
      "text/plain": [
       "                   A         B  D         C         X    F    E\n",
       "2013-01-01 -0.021136  0.000000  5 -0.435538  0.690530  NaN  1.0\n",
       "2013-01-02  0.734362  0.647168  5 -0.597154  1.038125  1.0  1.0\n",
       "2013-01-03 -1.171436  1.515366  5  0.118545 -0.536140  2.0  NaN\n",
       "2013-01-04  0.008304 -0.416033  5  2.604029  0.990748  3.0  NaN"
      ]
     },
     "execution_count": 104,
     "metadata": {},
     "output_type": "execute_result"
    }
   ],
   "source": [
    "df1 = df.reindex(index=dates[0:4], columns=list(df.columns) + [\"E\"])\n",
    "df1.loc[dates[0] : dates[1], \"E\"] = 1\n",
    "df1"
   ]
  },
  {
   "cell_type": "code",
   "execution_count": 106,
   "metadata": {},
   "outputs": [
    {
     "data": {
      "text/html": [
       "<div>\n",
       "<style scoped>\n",
       "    .dataframe tbody tr th:only-of-type {\n",
       "        vertical-align: middle;\n",
       "    }\n",
       "\n",
       "    .dataframe tbody tr th {\n",
       "        vertical-align: top;\n",
       "    }\n",
       "\n",
       "    .dataframe thead th {\n",
       "        text-align: right;\n",
       "    }\n",
       "</style>\n",
       "<table border=\"1\" class=\"dataframe\">\n",
       "  <thead>\n",
       "    <tr style=\"text-align: right;\">\n",
       "      <th></th>\n",
       "      <th>A</th>\n",
       "      <th>B</th>\n",
       "      <th>D</th>\n",
       "      <th>C</th>\n",
       "      <th>X</th>\n",
       "      <th>F</th>\n",
       "      <th>E</th>\n",
       "    </tr>\n",
       "  </thead>\n",
       "  <tbody>\n",
       "    <tr>\n",
       "      <th>2013-01-02</th>\n",
       "      <td>0.734362</td>\n",
       "      <td>0.647168</td>\n",
       "      <td>5</td>\n",
       "      <td>-0.597154</td>\n",
       "      <td>1.038125</td>\n",
       "      <td>1.0</td>\n",
       "      <td>1.0</td>\n",
       "    </tr>\n",
       "  </tbody>\n",
       "</table>\n",
       "</div>"
      ],
      "text/plain": [
       "                   A         B  D         C         X    F    E\n",
       "2013-01-02  0.734362  0.647168  5 -0.597154  1.038125  1.0  1.0"
      ]
     },
     "execution_count": 106,
     "metadata": {},
     "output_type": "execute_result"
    }
   ],
   "source": [
    "df1.dropna(how=\"any\")"
   ]
  },
  {
   "cell_type": "code",
   "execution_count": 107,
   "metadata": {},
   "outputs": [
    {
     "data": {
      "text/html": [
       "<div>\n",
       "<style scoped>\n",
       "    .dataframe tbody tr th:only-of-type {\n",
       "        vertical-align: middle;\n",
       "    }\n",
       "\n",
       "    .dataframe tbody tr th {\n",
       "        vertical-align: top;\n",
       "    }\n",
       "\n",
       "    .dataframe thead th {\n",
       "        text-align: right;\n",
       "    }\n",
       "</style>\n",
       "<table border=\"1\" class=\"dataframe\">\n",
       "  <thead>\n",
       "    <tr style=\"text-align: right;\">\n",
       "      <th></th>\n",
       "      <th>A</th>\n",
       "      <th>B</th>\n",
       "      <th>D</th>\n",
       "      <th>C</th>\n",
       "      <th>X</th>\n",
       "      <th>F</th>\n",
       "      <th>E</th>\n",
       "    </tr>\n",
       "  </thead>\n",
       "  <tbody>\n",
       "    <tr>\n",
       "      <th>2013-01-01</th>\n",
       "      <td>-0.021136</td>\n",
       "      <td>0.000000</td>\n",
       "      <td>5</td>\n",
       "      <td>-0.435538</td>\n",
       "      <td>0.690530</td>\n",
       "      <td>5.0</td>\n",
       "      <td>1.0</td>\n",
       "    </tr>\n",
       "    <tr>\n",
       "      <th>2013-01-02</th>\n",
       "      <td>0.734362</td>\n",
       "      <td>0.647168</td>\n",
       "      <td>5</td>\n",
       "      <td>-0.597154</td>\n",
       "      <td>1.038125</td>\n",
       "      <td>1.0</td>\n",
       "      <td>1.0</td>\n",
       "    </tr>\n",
       "    <tr>\n",
       "      <th>2013-01-03</th>\n",
       "      <td>-1.171436</td>\n",
       "      <td>1.515366</td>\n",
       "      <td>5</td>\n",
       "      <td>0.118545</td>\n",
       "      <td>-0.536140</td>\n",
       "      <td>2.0</td>\n",
       "      <td>5.0</td>\n",
       "    </tr>\n",
       "    <tr>\n",
       "      <th>2013-01-04</th>\n",
       "      <td>0.008304</td>\n",
       "      <td>-0.416033</td>\n",
       "      <td>5</td>\n",
       "      <td>2.604029</td>\n",
       "      <td>0.990748</td>\n",
       "      <td>3.0</td>\n",
       "      <td>5.0</td>\n",
       "    </tr>\n",
       "  </tbody>\n",
       "</table>\n",
       "</div>"
      ],
      "text/plain": [
       "                   A         B  D         C         X    F    E\n",
       "2013-01-01 -0.021136  0.000000  5 -0.435538  0.690530  5.0  1.0\n",
       "2013-01-02  0.734362  0.647168  5 -0.597154  1.038125  1.0  1.0\n",
       "2013-01-03 -1.171436  1.515366  5  0.118545 -0.536140  2.0  5.0\n",
       "2013-01-04  0.008304 -0.416033  5  2.604029  0.990748  3.0  5.0"
      ]
     },
     "execution_count": 107,
     "metadata": {},
     "output_type": "execute_result"
    }
   ],
   "source": [
    "df1.fillna(value=5)"
   ]
  },
  {
   "cell_type": "code",
   "execution_count": 108,
   "metadata": {},
   "outputs": [
    {
     "data": {
      "text/html": [
       "<div>\n",
       "<style scoped>\n",
       "    .dataframe tbody tr th:only-of-type {\n",
       "        vertical-align: middle;\n",
       "    }\n",
       "\n",
       "    .dataframe tbody tr th {\n",
       "        vertical-align: top;\n",
       "    }\n",
       "\n",
       "    .dataframe thead th {\n",
       "        text-align: right;\n",
       "    }\n",
       "</style>\n",
       "<table border=\"1\" class=\"dataframe\">\n",
       "  <thead>\n",
       "    <tr style=\"text-align: right;\">\n",
       "      <th></th>\n",
       "      <th>A</th>\n",
       "      <th>B</th>\n",
       "      <th>D</th>\n",
       "      <th>C</th>\n",
       "      <th>X</th>\n",
       "      <th>F</th>\n",
       "      <th>E</th>\n",
       "    </tr>\n",
       "  </thead>\n",
       "  <tbody>\n",
       "    <tr>\n",
       "      <th>2013-01-01</th>\n",
       "      <td>False</td>\n",
       "      <td>False</td>\n",
       "      <td>False</td>\n",
       "      <td>False</td>\n",
       "      <td>False</td>\n",
       "      <td>True</td>\n",
       "      <td>False</td>\n",
       "    </tr>\n",
       "    <tr>\n",
       "      <th>2013-01-02</th>\n",
       "      <td>False</td>\n",
       "      <td>False</td>\n",
       "      <td>False</td>\n",
       "      <td>False</td>\n",
       "      <td>False</td>\n",
       "      <td>False</td>\n",
       "      <td>False</td>\n",
       "    </tr>\n",
       "    <tr>\n",
       "      <th>2013-01-03</th>\n",
       "      <td>False</td>\n",
       "      <td>False</td>\n",
       "      <td>False</td>\n",
       "      <td>False</td>\n",
       "      <td>False</td>\n",
       "      <td>False</td>\n",
       "      <td>True</td>\n",
       "    </tr>\n",
       "    <tr>\n",
       "      <th>2013-01-04</th>\n",
       "      <td>False</td>\n",
       "      <td>False</td>\n",
       "      <td>False</td>\n",
       "      <td>False</td>\n",
       "      <td>False</td>\n",
       "      <td>False</td>\n",
       "      <td>True</td>\n",
       "    </tr>\n",
       "  </tbody>\n",
       "</table>\n",
       "</div>"
      ],
      "text/plain": [
       "                A      B      D      C      X      F      E\n",
       "2013-01-01  False  False  False  False  False   True  False\n",
       "2013-01-02  False  False  False  False  False  False  False\n",
       "2013-01-03  False  False  False  False  False  False   True\n",
       "2013-01-04  False  False  False  False  False  False   True"
      ]
     },
     "execution_count": 108,
     "metadata": {},
     "output_type": "execute_result"
    }
   ],
   "source": [
    "pd.isna(df1)"
   ]
  },
  {
   "cell_type": "markdown",
   "metadata": {},
   "source": [
    "# Operations"
   ]
  },
  {
   "cell_type": "code",
   "execution_count": 109,
   "metadata": {},
   "outputs": [
    {
     "data": {
      "text/plain": [
       "A   -0.267943\n",
       "B    0.617782\n",
       "D    5.000000\n",
       "C    0.057460\n",
       "X    0.446413\n",
       "F    3.000000\n",
       "dtype: float64"
      ]
     },
     "execution_count": 109,
     "metadata": {},
     "output_type": "execute_result"
    }
   ],
   "source": [
    "df.mean()"
   ]
  },
  {
   "cell_type": "code",
   "execution_count": 110,
   "metadata": {},
   "outputs": [
    {
     "data": {
      "text/plain": [
       "2013-01-01    1.046771\n",
       "2013-01-02    1.303750\n",
       "2013-01-03    1.154389\n",
       "2013-01-04    1.864508\n",
       "2013-01-05    1.122289\n",
       "2013-01-06    2.036466\n",
       "Freq: D, dtype: float64"
      ]
     },
     "execution_count": 110,
     "metadata": {},
     "output_type": "execute_result"
    }
   ],
   "source": [
    "df.mean(1)"
   ]
  },
  {
   "cell_type": "code",
   "execution_count": 116,
   "metadata": {},
   "outputs": [
    {
     "data": {
      "text/plain": [
       "2013-01-01    NaN\n",
       "2013-01-02    NaN\n",
       "2013-01-03    1.0\n",
       "2013-01-04    3.0\n",
       "2013-01-05    5.0\n",
       "2013-01-06    NaN\n",
       "Freq: D, dtype: float64"
      ]
     },
     "execution_count": 116,
     "metadata": {},
     "output_type": "execute_result"
    }
   ],
   "source": [
    "s = pd.Series([1, 3, 5, np.nan, 6, 8], index=dates).shift(2)\n",
    "s"
   ]
  },
  {
   "cell_type": "code",
   "execution_count": 118,
   "metadata": {},
   "outputs": [
    {
     "data": {
      "text/html": [
       "<div>\n",
       "<style scoped>\n",
       "    .dataframe tbody tr th:only-of-type {\n",
       "        vertical-align: middle;\n",
       "    }\n",
       "\n",
       "    .dataframe tbody tr th {\n",
       "        vertical-align: top;\n",
       "    }\n",
       "\n",
       "    .dataframe thead th {\n",
       "        text-align: right;\n",
       "    }\n",
       "</style>\n",
       "<table border=\"1\" class=\"dataframe\">\n",
       "  <thead>\n",
       "    <tr style=\"text-align: right;\">\n",
       "      <th></th>\n",
       "      <th>A</th>\n",
       "      <th>B</th>\n",
       "      <th>D</th>\n",
       "      <th>C</th>\n",
       "      <th>X</th>\n",
       "      <th>F</th>\n",
       "    </tr>\n",
       "  </thead>\n",
       "  <tbody>\n",
       "    <tr>\n",
       "      <th>2013-01-01</th>\n",
       "      <td>NaN</td>\n",
       "      <td>NaN</td>\n",
       "      <td>NaN</td>\n",
       "      <td>NaN</td>\n",
       "      <td>NaN</td>\n",
       "      <td>NaN</td>\n",
       "    </tr>\n",
       "    <tr>\n",
       "      <th>2013-01-02</th>\n",
       "      <td>NaN</td>\n",
       "      <td>NaN</td>\n",
       "      <td>NaN</td>\n",
       "      <td>NaN</td>\n",
       "      <td>NaN</td>\n",
       "      <td>NaN</td>\n",
       "    </tr>\n",
       "    <tr>\n",
       "      <th>2013-01-03</th>\n",
       "      <td>-2.171436</td>\n",
       "      <td>0.515366</td>\n",
       "      <td>4.0</td>\n",
       "      <td>-0.881455</td>\n",
       "      <td>-1.536140</td>\n",
       "      <td>1.0</td>\n",
       "    </tr>\n",
       "    <tr>\n",
       "      <th>2013-01-04</th>\n",
       "      <td>-2.991696</td>\n",
       "      <td>-3.416033</td>\n",
       "      <td>2.0</td>\n",
       "      <td>-0.395971</td>\n",
       "      <td>-2.009252</td>\n",
       "      <td>0.0</td>\n",
       "    </tr>\n",
       "    <tr>\n",
       "      <th>2013-01-05</th>\n",
       "      <td>-6.452080</td>\n",
       "      <td>-4.891957</td>\n",
       "      <td>0.0</td>\n",
       "      <td>-5.773973</td>\n",
       "      <td>-5.148254</td>\n",
       "      <td>-1.0</td>\n",
       "    </tr>\n",
       "    <tr>\n",
       "      <th>2013-01-06</th>\n",
       "      <td>NaN</td>\n",
       "      <td>NaN</td>\n",
       "      <td>NaN</td>\n",
       "      <td>NaN</td>\n",
       "      <td>NaN</td>\n",
       "      <td>NaN</td>\n",
       "    </tr>\n",
       "  </tbody>\n",
       "</table>\n",
       "</div>"
      ],
      "text/plain": [
       "                   A         B    D         C         X    F\n",
       "2013-01-01       NaN       NaN  NaN       NaN       NaN  NaN\n",
       "2013-01-02       NaN       NaN  NaN       NaN       NaN  NaN\n",
       "2013-01-03 -2.171436  0.515366  4.0 -0.881455 -1.536140  1.0\n",
       "2013-01-04 -2.991696 -3.416033  2.0 -0.395971 -2.009252  0.0\n",
       "2013-01-05 -6.452080 -4.891957  0.0 -5.773973 -5.148254 -1.0\n",
       "2013-01-06       NaN       NaN  NaN       NaN       NaN  NaN"
      ]
     },
     "execution_count": 118,
     "metadata": {},
     "output_type": "execute_result"
    }
   ],
   "source": [
    "df.sub(s, axis=\"index\")"
   ]
  },
  {
   "cell_type": "markdown",
   "metadata": {},
   "source": [
    "# Apply"
   ]
  },
  {
   "cell_type": "code",
   "execution_count": 121,
   "metadata": {},
   "outputs": [
    {
     "data": {
      "text/html": [
       "<div>\n",
       "<style scoped>\n",
       "    .dataframe tbody tr th:only-of-type {\n",
       "        vertical-align: middle;\n",
       "    }\n",
       "\n",
       "    .dataframe tbody tr th {\n",
       "        vertical-align: top;\n",
       "    }\n",
       "\n",
       "    .dataframe thead th {\n",
       "        text-align: right;\n",
       "    }\n",
       "</style>\n",
       "<table border=\"1\" class=\"dataframe\">\n",
       "  <thead>\n",
       "    <tr style=\"text-align: right;\">\n",
       "      <th></th>\n",
       "      <th>A</th>\n",
       "      <th>B</th>\n",
       "      <th>D</th>\n",
       "      <th>C</th>\n",
       "      <th>X</th>\n",
       "      <th>F</th>\n",
       "    </tr>\n",
       "  </thead>\n",
       "  <tbody>\n",
       "    <tr>\n",
       "      <th>2013-01-01</th>\n",
       "      <td>-0.021136</td>\n",
       "      <td>0.000000</td>\n",
       "      <td>5</td>\n",
       "      <td>-0.435538</td>\n",
       "      <td>0.690530</td>\n",
       "      <td>NaN</td>\n",
       "    </tr>\n",
       "    <tr>\n",
       "      <th>2013-01-02</th>\n",
       "      <td>0.713226</td>\n",
       "      <td>0.647168</td>\n",
       "      <td>10</td>\n",
       "      <td>-1.032691</td>\n",
       "      <td>1.728654</td>\n",
       "      <td>1.0</td>\n",
       "    </tr>\n",
       "    <tr>\n",
       "      <th>2013-01-03</th>\n",
       "      <td>-0.458210</td>\n",
       "      <td>2.162534</td>\n",
       "      <td>15</td>\n",
       "      <td>-0.914146</td>\n",
       "      <td>1.192514</td>\n",
       "      <td>3.0</td>\n",
       "    </tr>\n",
       "    <tr>\n",
       "      <th>2013-01-04</th>\n",
       "      <td>-0.449905</td>\n",
       "      <td>1.746501</td>\n",
       "      <td>20</td>\n",
       "      <td>1.689883</td>\n",
       "      <td>2.183262</td>\n",
       "      <td>6.0</td>\n",
       "    </tr>\n",
       "    <tr>\n",
       "      <th>2013-01-05</th>\n",
       "      <td>-1.901986</td>\n",
       "      <td>1.854545</td>\n",
       "      <td>25</td>\n",
       "      <td>0.915910</td>\n",
       "      <td>2.035008</td>\n",
       "      <td>10.0</td>\n",
       "    </tr>\n",
       "    <tr>\n",
       "      <th>2013-01-06</th>\n",
       "      <td>-1.607658</td>\n",
       "      <td>3.706692</td>\n",
       "      <td>30</td>\n",
       "      <td>0.344759</td>\n",
       "      <td>2.678481</td>\n",
       "      <td>15.0</td>\n",
       "    </tr>\n",
       "  </tbody>\n",
       "</table>\n",
       "</div>"
      ],
      "text/plain": [
       "                   A         B   D         C         X     F\n",
       "2013-01-01 -0.021136  0.000000   5 -0.435538  0.690530   NaN\n",
       "2013-01-02  0.713226  0.647168  10 -1.032691  1.728654   1.0\n",
       "2013-01-03 -0.458210  2.162534  15 -0.914146  1.192514   3.0\n",
       "2013-01-04 -0.449905  1.746501  20  1.689883  2.183262   6.0\n",
       "2013-01-05 -1.901986  1.854545  25  0.915910  2.035008  10.0\n",
       "2013-01-06 -1.607658  3.706692  30  0.344759  2.678481  15.0"
      ]
     },
     "execution_count": 121,
     "metadata": {},
     "output_type": "execute_result"
    }
   ],
   "source": [
    "df.apply(np.cumsum)"
   ]
  },
  {
   "cell_type": "code",
   "execution_count": 122,
   "metadata": {},
   "outputs": [
    {
     "data": {
      "text/html": [
       "<div>\n",
       "<style scoped>\n",
       "    .dataframe tbody tr th:only-of-type {\n",
       "        vertical-align: middle;\n",
       "    }\n",
       "\n",
       "    .dataframe tbody tr th {\n",
       "        vertical-align: top;\n",
       "    }\n",
       "\n",
       "    .dataframe thead th {\n",
       "        text-align: right;\n",
       "    }\n",
       "</style>\n",
       "<table border=\"1\" class=\"dataframe\">\n",
       "  <thead>\n",
       "    <tr style=\"text-align: right;\">\n",
       "      <th></th>\n",
       "      <th>A</th>\n",
       "      <th>B</th>\n",
       "      <th>D</th>\n",
       "      <th>C</th>\n",
       "      <th>X</th>\n",
       "      <th>F</th>\n",
       "    </tr>\n",
       "  </thead>\n",
       "  <tbody>\n",
       "    <tr>\n",
       "      <th>2013-01-01</th>\n",
       "      <td>-0.021136</td>\n",
       "      <td>0.000000</td>\n",
       "      <td>5</td>\n",
       "      <td>-0.435538</td>\n",
       "      <td>0.690530</td>\n",
       "      <td>NaN</td>\n",
       "    </tr>\n",
       "    <tr>\n",
       "      <th>2013-01-02</th>\n",
       "      <td>0.734362</td>\n",
       "      <td>0.647168</td>\n",
       "      <td>5</td>\n",
       "      <td>-0.597154</td>\n",
       "      <td>1.038125</td>\n",
       "      <td>1.0</td>\n",
       "    </tr>\n",
       "    <tr>\n",
       "      <th>2013-01-03</th>\n",
       "      <td>-1.171436</td>\n",
       "      <td>1.515366</td>\n",
       "      <td>5</td>\n",
       "      <td>0.118545</td>\n",
       "      <td>-0.536140</td>\n",
       "      <td>2.0</td>\n",
       "    </tr>\n",
       "    <tr>\n",
       "      <th>2013-01-04</th>\n",
       "      <td>0.008304</td>\n",
       "      <td>-0.416033</td>\n",
       "      <td>5</td>\n",
       "      <td>2.604029</td>\n",
       "      <td>0.990748</td>\n",
       "      <td>3.0</td>\n",
       "    </tr>\n",
       "    <tr>\n",
       "      <th>2013-01-05</th>\n",
       "      <td>-1.452080</td>\n",
       "      <td>0.108043</td>\n",
       "      <td>5</td>\n",
       "      <td>-0.773973</td>\n",
       "      <td>-0.148254</td>\n",
       "      <td>4.0</td>\n",
       "    </tr>\n",
       "    <tr>\n",
       "      <th>2013-01-06</th>\n",
       "      <td>0.294327</td>\n",
       "      <td>1.852148</td>\n",
       "      <td>5</td>\n",
       "      <td>-0.571151</td>\n",
       "      <td>0.643473</td>\n",
       "      <td>5.0</td>\n",
       "    </tr>\n",
       "  </tbody>\n",
       "</table>\n",
       "</div>"
      ],
      "text/plain": [
       "                   A         B  D         C         X    F\n",
       "2013-01-01 -0.021136  0.000000  5 -0.435538  0.690530  NaN\n",
       "2013-01-02  0.734362  0.647168  5 -0.597154  1.038125  1.0\n",
       "2013-01-03 -1.171436  1.515366  5  0.118545 -0.536140  2.0\n",
       "2013-01-04  0.008304 -0.416033  5  2.604029  0.990748  3.0\n",
       "2013-01-05 -1.452080  0.108043  5 -0.773973 -0.148254  4.0\n",
       "2013-01-06  0.294327  1.852148  5 -0.571151  0.643473  5.0"
      ]
     },
     "execution_count": 122,
     "metadata": {},
     "output_type": "execute_result"
    }
   ],
   "source": [
    "df"
   ]
  },
  {
   "cell_type": "code",
   "execution_count": null,
   "metadata": {},
   "outputs": [],
   "source": [
    "s = pd.Series(np.random.randint(0,7, size=10))\n",
    "s.value_counts()"
   ]
  },
  {
   "cell_type": "markdown",
   "metadata": {},
   "source": [
    "# String methods"
   ]
  },
  {
   "cell_type": "code",
   "execution_count": null,
   "metadata": {},
   "outputs": [],
   "source": [
    "s = pd.Series([\"A\", \"B\", \"C\", \"Aaba\", \"Baca\", np.nan, \"CABA\", \"dog\", \"cat\"])\n",
    "s.str.lower()"
   ]
  },
  {
   "cell_type": "markdown",
   "metadata": {},
   "source": [
    "# Merge"
   ]
  },
  {
   "cell_type": "markdown",
   "metadata": {},
   "source": [
    "## Concat"
   ]
  },
  {
   "cell_type": "code",
   "execution_count": null,
   "metadata": {},
   "outputs": [],
   "source": [
    "df = pd.DataFrame(np.random.randn(10,4))\n",
    "df"
   ]
  },
  {
   "cell_type": "code",
   "execution_count": null,
   "metadata": {},
   "outputs": [],
   "source": [
    "pieces = [df[:3], df[3:7], df[7:]]\n",
    "pieces"
   ]
  },
  {
   "cell_type": "code",
   "execution_count": null,
   "metadata": {},
   "outputs": [],
   "source": [
    "pd.concat(pieces)"
   ]
  },
  {
   "cell_type": "code",
   "execution_count": null,
   "metadata": {},
   "outputs": [],
   "source": []
  }
 ],
 "metadata": {
  "kernelspec": {
   "display_name": "Python 3 (ipykernel)",
   "language": "python",
   "name": "python3"
  },
  "language_info": {
   "codemirror_mode": {
    "name": "ipython",
    "version": 3
   },
   "file_extension": ".py",
   "mimetype": "text/x-python",
   "name": "python",
   "nbconvert_exporter": "python",
   "pygments_lexer": "ipython3",
   "version": "3.8.12"
  },
  "orig_nbformat": 4
 },
 "nbformat": 4,
 "nbformat_minor": 2
}

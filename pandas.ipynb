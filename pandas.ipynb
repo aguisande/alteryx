{
 "cells": [
  {
   "cell_type": "markdown",
   "metadata": {},
   "source": [
    "# Pandas"
   ]
  },
  {
   "cell_type": "code",
   "execution_count": null,
   "metadata": {},
   "outputs": [],
   "source": []
  },
  {
   "cell_type": "code",
   "execution_count": 19,
   "metadata": {},
   "outputs": [
    {
     "data": {
      "text/plain": [
       "'1.3.3'"
      ]
     },
     "execution_count": 19,
     "metadata": {},
     "output_type": "execute_result"
    }
   ],
   "source": [
    "import numpy as np\n",
    "import pandas as pd\n",
    "pd.__version__\n"
   ]
  },
  {
   "cell_type": "markdown",
   "metadata": {},
   "source": [
    "# Object creation"
   ]
  },
  {
   "cell_type": "code",
   "execution_count": 20,
   "metadata": {},
   "outputs": [
    {
     "data": {
      "text/plain": [
       "0    1.0\n",
       "1    3.0\n",
       "2    5.0\n",
       "3    NaN\n",
       "4    6.0\n",
       "5    8.0\n",
       "dtype: float64"
      ]
     },
     "execution_count": 20,
     "metadata": {},
     "output_type": "execute_result"
    }
   ],
   "source": [
    "s = pd.Series([1, 3, 5, np.nan, 6, 8])\n",
    "s"
   ]
  },
  {
   "cell_type": "code",
   "execution_count": 21,
   "metadata": {},
   "outputs": [
    {
     "data": {
      "text/plain": [
       "DatetimeIndex(['2013-01-01', '2013-01-02', '2013-01-03', '2013-01-04',\n",
       "               '2013-01-05', '2013-01-06'],\n",
       "              dtype='datetime64[ns]', freq='D')"
      ]
     },
     "execution_count": 21,
     "metadata": {},
     "output_type": "execute_result"
    }
   ],
   "source": [
    "dates = pd.date_range(\"20130101\", periods=6)\n",
    "dates"
   ]
  },
  {
   "cell_type": "code",
   "execution_count": 22,
   "metadata": {},
   "outputs": [
    {
     "data": {
      "text/html": [
       "<div>\n",
       "<style scoped>\n",
       "    .dataframe tbody tr th:only-of-type {\n",
       "        vertical-align: middle;\n",
       "    }\n",
       "\n",
       "    .dataframe tbody tr th {\n",
       "        vertical-align: top;\n",
       "    }\n",
       "\n",
       "    .dataframe thead th {\n",
       "        text-align: right;\n",
       "    }\n",
       "</style>\n",
       "<table border=\"1\" class=\"dataframe\">\n",
       "  <thead>\n",
       "    <tr style=\"text-align: right;\">\n",
       "      <th></th>\n",
       "      <th>A</th>\n",
       "      <th>B</th>\n",
       "      <th>D</th>\n",
       "      <th>C</th>\n",
       "      <th>X</th>\n",
       "    </tr>\n",
       "  </thead>\n",
       "  <tbody>\n",
       "    <tr>\n",
       "      <th>2013-01-01</th>\n",
       "      <td>1.101705</td>\n",
       "      <td>-1.643001</td>\n",
       "      <td>-0.666784</td>\n",
       "      <td>0.055356</td>\n",
       "      <td>2.211939</td>\n",
       "    </tr>\n",
       "    <tr>\n",
       "      <th>2013-01-02</th>\n",
       "      <td>1.674656</td>\n",
       "      <td>0.342139</td>\n",
       "      <td>-0.767423</td>\n",
       "      <td>-1.771765</td>\n",
       "      <td>-0.184457</td>\n",
       "    </tr>\n",
       "    <tr>\n",
       "      <th>2013-01-03</th>\n",
       "      <td>0.937461</td>\n",
       "      <td>0.708011</td>\n",
       "      <td>-0.856922</td>\n",
       "      <td>-1.414944</td>\n",
       "      <td>1.045815</td>\n",
       "    </tr>\n",
       "    <tr>\n",
       "      <th>2013-01-04</th>\n",
       "      <td>-0.245622</td>\n",
       "      <td>0.040975</td>\n",
       "      <td>-0.706176</td>\n",
       "      <td>-0.071897</td>\n",
       "      <td>-0.165725</td>\n",
       "    </tr>\n",
       "    <tr>\n",
       "      <th>2013-01-05</th>\n",
       "      <td>0.272130</td>\n",
       "      <td>-0.830056</td>\n",
       "      <td>0.575562</td>\n",
       "      <td>-0.587912</td>\n",
       "      <td>0.879478</td>\n",
       "    </tr>\n",
       "    <tr>\n",
       "      <th>2013-01-06</th>\n",
       "      <td>1.506126</td>\n",
       "      <td>-1.202471</td>\n",
       "      <td>1.437215</td>\n",
       "      <td>0.454408</td>\n",
       "      <td>-0.090974</td>\n",
       "    </tr>\n",
       "  </tbody>\n",
       "</table>\n",
       "</div>"
      ],
      "text/plain": [
       "                   A         B         D         C         X\n",
       "2013-01-01  1.101705 -1.643001 -0.666784  0.055356  2.211939\n",
       "2013-01-02  1.674656  0.342139 -0.767423 -1.771765 -0.184457\n",
       "2013-01-03  0.937461  0.708011 -0.856922 -1.414944  1.045815\n",
       "2013-01-04 -0.245622  0.040975 -0.706176 -0.071897 -0.165725\n",
       "2013-01-05  0.272130 -0.830056  0.575562 -0.587912  0.879478\n",
       "2013-01-06  1.506126 -1.202471  1.437215  0.454408 -0.090974"
      ]
     },
     "execution_count": 22,
     "metadata": {},
     "output_type": "execute_result"
    }
   ],
   "source": [
    "df = pd.DataFrame(np.random.randn(6,5), index=dates, columns=list(\"ABDCX\"))\n",
    "df"
   ]
  },
  {
   "cell_type": "code",
   "execution_count": 23,
   "metadata": {},
   "outputs": [
    {
     "data": {
      "text/plain": [
       "array([[ 1.21540594e+00, -2.91025014e+00,  7.84547260e-02,\n",
       "        -5.41404146e-01],\n",
       "       [ 6.87219661e-04, -8.18364344e-01, -3.73944130e-01,\n",
       "         7.05490942e-01],\n",
       "       [ 2.65032991e-01, -9.67132349e-01,  1.29762146e+00,\n",
       "         5.72821178e-02],\n",
       "       [-1.94349471e+00,  2.08704296e-01, -1.18256826e+00,\n",
       "         1.00305342e+00],\n",
       "       [-1.18550084e+00,  8.57686835e-01, -4.02342062e-01,\n",
       "        -2.88124256e-01],\n",
       "       [-1.43729496e+00, -7.73641896e-01,  5.96009744e-01,\n",
       "         2.36674070e+00]])"
      ]
     },
     "execution_count": 23,
     "metadata": {},
     "output_type": "execute_result"
    }
   ],
   "source": [
    "np.random.randn(6,4)"
   ]
  },
  {
   "cell_type": "code",
   "execution_count": 24,
   "metadata": {},
   "outputs": [
    {
     "data": {
      "text/html": [
       "<div>\n",
       "<style scoped>\n",
       "    .dataframe tbody tr th:only-of-type {\n",
       "        vertical-align: middle;\n",
       "    }\n",
       "\n",
       "    .dataframe tbody tr th {\n",
       "        vertical-align: top;\n",
       "    }\n",
       "\n",
       "    .dataframe thead th {\n",
       "        text-align: right;\n",
       "    }\n",
       "</style>\n",
       "<table border=\"1\" class=\"dataframe\">\n",
       "  <thead>\n",
       "    <tr style=\"text-align: right;\">\n",
       "      <th></th>\n",
       "      <th>A</th>\n",
       "      <th>B</th>\n",
       "      <th>C</th>\n",
       "      <th>D</th>\n",
       "      <th>E</th>\n",
       "      <th>F</th>\n",
       "    </tr>\n",
       "  </thead>\n",
       "  <tbody>\n",
       "    <tr>\n",
       "      <th>0</th>\n",
       "      <td>1.0</td>\n",
       "      <td>2013-01-02</td>\n",
       "      <td>1.0</td>\n",
       "      <td>3</td>\n",
       "      <td>test</td>\n",
       "      <td>foo</td>\n",
       "    </tr>\n",
       "    <tr>\n",
       "      <th>1</th>\n",
       "      <td>1.0</td>\n",
       "      <td>2013-01-02</td>\n",
       "      <td>1.0</td>\n",
       "      <td>3</td>\n",
       "      <td>train</td>\n",
       "      <td>foo</td>\n",
       "    </tr>\n",
       "    <tr>\n",
       "      <th>2</th>\n",
       "      <td>1.0</td>\n",
       "      <td>2013-01-02</td>\n",
       "      <td>1.0</td>\n",
       "      <td>3</td>\n",
       "      <td>test</td>\n",
       "      <td>foo</td>\n",
       "    </tr>\n",
       "    <tr>\n",
       "      <th>3</th>\n",
       "      <td>1.0</td>\n",
       "      <td>2013-01-02</td>\n",
       "      <td>1.0</td>\n",
       "      <td>3</td>\n",
       "      <td>train</td>\n",
       "      <td>foo</td>\n",
       "    </tr>\n",
       "  </tbody>\n",
       "</table>\n",
       "</div>"
      ],
      "text/plain": [
       "     A          B    C  D      E    F\n",
       "0  1.0 2013-01-02  1.0  3   test  foo\n",
       "1  1.0 2013-01-02  1.0  3  train  foo\n",
       "2  1.0 2013-01-02  1.0  3   test  foo\n",
       "3  1.0 2013-01-02  1.0  3  train  foo"
      ]
     },
     "execution_count": 24,
     "metadata": {},
     "output_type": "execute_result"
    }
   ],
   "source": [
    "df2 = pd.DataFrame(\n",
    "    {\n",
    "        \"A\": 1.0,\n",
    "        \"B\": pd.Timestamp(\"20130102\"),\n",
    "        \"C\": pd.Series(1, index=list(range(4)),dtype=\"float32\"),\n",
    "        \"D\": np.array([3]*4,dtype=\"int32\"),\n",
    "        \"E\": pd.Categorical([\"test\", \"train\", \"test\", \"train\"]),\n",
    "        \"F\": \"foo\"\n",
    "    }\n",
    ")\n",
    "df2"
   ]
  },
  {
   "cell_type": "code",
   "execution_count": 25,
   "metadata": {},
   "outputs": [
    {
     "data": {
      "text/plain": [
       "A           float64\n",
       "B    datetime64[ns]\n",
       "C           float32\n",
       "D             int32\n",
       "E          category\n",
       "F            object\n",
       "dtype: object"
      ]
     },
     "execution_count": 25,
     "metadata": {},
     "output_type": "execute_result"
    }
   ],
   "source": [
    "df2.dtypes"
   ]
  },
  {
   "cell_type": "markdown",
   "metadata": {},
   "source": [
    "# Viewing data"
   ]
  },
  {
   "cell_type": "code",
   "execution_count": 26,
   "metadata": {},
   "outputs": [
    {
     "data": {
      "text/html": [
       "<div>\n",
       "<style scoped>\n",
       "    .dataframe tbody tr th:only-of-type {\n",
       "        vertical-align: middle;\n",
       "    }\n",
       "\n",
       "    .dataframe tbody tr th {\n",
       "        vertical-align: top;\n",
       "    }\n",
       "\n",
       "    .dataframe thead th {\n",
       "        text-align: right;\n",
       "    }\n",
       "</style>\n",
       "<table border=\"1\" class=\"dataframe\">\n",
       "  <thead>\n",
       "    <tr style=\"text-align: right;\">\n",
       "      <th></th>\n",
       "      <th>A</th>\n",
       "      <th>B</th>\n",
       "      <th>D</th>\n",
       "      <th>C</th>\n",
       "      <th>X</th>\n",
       "    </tr>\n",
       "  </thead>\n",
       "  <tbody>\n",
       "    <tr>\n",
       "      <th>2013-01-01</th>\n",
       "      <td>1.101705</td>\n",
       "      <td>-1.643001</td>\n",
       "      <td>-0.666784</td>\n",
       "      <td>0.055356</td>\n",
       "      <td>2.211939</td>\n",
       "    </tr>\n",
       "    <tr>\n",
       "      <th>2013-01-02</th>\n",
       "      <td>1.674656</td>\n",
       "      <td>0.342139</td>\n",
       "      <td>-0.767423</td>\n",
       "      <td>-1.771765</td>\n",
       "      <td>-0.184457</td>\n",
       "    </tr>\n",
       "    <tr>\n",
       "      <th>2013-01-03</th>\n",
       "      <td>0.937461</td>\n",
       "      <td>0.708011</td>\n",
       "      <td>-0.856922</td>\n",
       "      <td>-1.414944</td>\n",
       "      <td>1.045815</td>\n",
       "    </tr>\n",
       "    <tr>\n",
       "      <th>2013-01-04</th>\n",
       "      <td>-0.245622</td>\n",
       "      <td>0.040975</td>\n",
       "      <td>-0.706176</td>\n",
       "      <td>-0.071897</td>\n",
       "      <td>-0.165725</td>\n",
       "    </tr>\n",
       "    <tr>\n",
       "      <th>2013-01-05</th>\n",
       "      <td>0.272130</td>\n",
       "      <td>-0.830056</td>\n",
       "      <td>0.575562</td>\n",
       "      <td>-0.587912</td>\n",
       "      <td>0.879478</td>\n",
       "    </tr>\n",
       "  </tbody>\n",
       "</table>\n",
       "</div>"
      ],
      "text/plain": [
       "                   A         B         D         C         X\n",
       "2013-01-01  1.101705 -1.643001 -0.666784  0.055356  2.211939\n",
       "2013-01-02  1.674656  0.342139 -0.767423 -1.771765 -0.184457\n",
       "2013-01-03  0.937461  0.708011 -0.856922 -1.414944  1.045815\n",
       "2013-01-04 -0.245622  0.040975 -0.706176 -0.071897 -0.165725\n",
       "2013-01-05  0.272130 -0.830056  0.575562 -0.587912  0.879478"
      ]
     },
     "execution_count": 26,
     "metadata": {},
     "output_type": "execute_result"
    }
   ],
   "source": [
    "df.head()"
   ]
  },
  {
   "cell_type": "code",
   "execution_count": 27,
   "metadata": {},
   "outputs": [
    {
     "data": {
      "text/html": [
       "<div>\n",
       "<style scoped>\n",
       "    .dataframe tbody tr th:only-of-type {\n",
       "        vertical-align: middle;\n",
       "    }\n",
       "\n",
       "    .dataframe tbody tr th {\n",
       "        vertical-align: top;\n",
       "    }\n",
       "\n",
       "    .dataframe thead th {\n",
       "        text-align: right;\n",
       "    }\n",
       "</style>\n",
       "<table border=\"1\" class=\"dataframe\">\n",
       "  <thead>\n",
       "    <tr style=\"text-align: right;\">\n",
       "      <th></th>\n",
       "      <th>A</th>\n",
       "      <th>B</th>\n",
       "      <th>D</th>\n",
       "      <th>C</th>\n",
       "      <th>X</th>\n",
       "    </tr>\n",
       "  </thead>\n",
       "  <tbody>\n",
       "    <tr>\n",
       "      <th>2013-01-03</th>\n",
       "      <td>0.937461</td>\n",
       "      <td>0.708011</td>\n",
       "      <td>-0.856922</td>\n",
       "      <td>-1.414944</td>\n",
       "      <td>1.045815</td>\n",
       "    </tr>\n",
       "    <tr>\n",
       "      <th>2013-01-04</th>\n",
       "      <td>-0.245622</td>\n",
       "      <td>0.040975</td>\n",
       "      <td>-0.706176</td>\n",
       "      <td>-0.071897</td>\n",
       "      <td>-0.165725</td>\n",
       "    </tr>\n",
       "    <tr>\n",
       "      <th>2013-01-05</th>\n",
       "      <td>0.272130</td>\n",
       "      <td>-0.830056</td>\n",
       "      <td>0.575562</td>\n",
       "      <td>-0.587912</td>\n",
       "      <td>0.879478</td>\n",
       "    </tr>\n",
       "    <tr>\n",
       "      <th>2013-01-06</th>\n",
       "      <td>1.506126</td>\n",
       "      <td>-1.202471</td>\n",
       "      <td>1.437215</td>\n",
       "      <td>0.454408</td>\n",
       "      <td>-0.090974</td>\n",
       "    </tr>\n",
       "  </tbody>\n",
       "</table>\n",
       "</div>"
      ],
      "text/plain": [
       "                   A         B         D         C         X\n",
       "2013-01-03  0.937461  0.708011 -0.856922 -1.414944  1.045815\n",
       "2013-01-04 -0.245622  0.040975 -0.706176 -0.071897 -0.165725\n",
       "2013-01-05  0.272130 -0.830056  0.575562 -0.587912  0.879478\n",
       "2013-01-06  1.506126 -1.202471  1.437215  0.454408 -0.090974"
      ]
     },
     "execution_count": 27,
     "metadata": {},
     "output_type": "execute_result"
    }
   ],
   "source": [
    "df.tail(4)"
   ]
  },
  {
   "cell_type": "code",
   "execution_count": 28,
   "metadata": {},
   "outputs": [
    {
     "data": {
      "text/plain": [
       "DatetimeIndex(['2013-01-01', '2013-01-02', '2013-01-03', '2013-01-04',\n",
       "               '2013-01-05', '2013-01-06'],\n",
       "              dtype='datetime64[ns]', freq='D')"
      ]
     },
     "execution_count": 28,
     "metadata": {},
     "output_type": "execute_result"
    }
   ],
   "source": [
    "df.index"
   ]
  },
  {
   "cell_type": "code",
   "execution_count": 29,
   "metadata": {},
   "outputs": [
    {
     "data": {
      "text/plain": [
       "Index(['A', 'B', 'D', 'C', 'X'], dtype='object')"
      ]
     },
     "execution_count": 29,
     "metadata": {},
     "output_type": "execute_result"
    }
   ],
   "source": [
    "df.columns"
   ]
  },
  {
   "cell_type": "code",
   "execution_count": 30,
   "metadata": {},
   "outputs": [
    {
     "data": {
      "text/plain": [
       "array([[ 1.10170454, -1.64300131, -0.66678446,  0.05535647,  2.21193909],\n",
       "       [ 1.67465613,  0.34213885, -0.76742341, -1.77176507, -0.18445733],\n",
       "       [ 0.93746149,  0.70801106, -0.85692191, -1.41494396,  1.04581458],\n",
       "       [-0.24562155,  0.0409752 , -0.70617569, -0.07189748, -0.16572539],\n",
       "       [ 0.27212985, -0.83005612,  0.57556161, -0.58791153,  0.87947762],\n",
       "       [ 1.50612556, -1.20247118,  1.43721473,  0.45440752, -0.09097436]])"
      ]
     },
     "execution_count": 30,
     "metadata": {},
     "output_type": "execute_result"
    }
   ],
   "source": [
    "df.to_numpy()"
   ]
  },
  {
   "cell_type": "code",
   "execution_count": 31,
   "metadata": {},
   "outputs": [
    {
     "data": {
      "text/plain": [
       "array([[1.0, Timestamp('2013-01-02 00:00:00'), 1.0, 3, 'test', 'foo'],\n",
       "       [1.0, Timestamp('2013-01-02 00:00:00'), 1.0, 3, 'train', 'foo'],\n",
       "       [1.0, Timestamp('2013-01-02 00:00:00'), 1.0, 3, 'test', 'foo'],\n",
       "       [1.0, Timestamp('2013-01-02 00:00:00'), 1.0, 3, 'train', 'foo']],\n",
       "      dtype=object)"
      ]
     },
     "execution_count": 31,
     "metadata": {},
     "output_type": "execute_result"
    }
   ],
   "source": [
    "df2.to_numpy()"
   ]
  },
  {
   "cell_type": "code",
   "execution_count": 32,
   "metadata": {},
   "outputs": [
    {
     "data": {
      "text/html": [
       "<div>\n",
       "<style scoped>\n",
       "    .dataframe tbody tr th:only-of-type {\n",
       "        vertical-align: middle;\n",
       "    }\n",
       "\n",
       "    .dataframe tbody tr th {\n",
       "        vertical-align: top;\n",
       "    }\n",
       "\n",
       "    .dataframe thead th {\n",
       "        text-align: right;\n",
       "    }\n",
       "</style>\n",
       "<table border=\"1\" class=\"dataframe\">\n",
       "  <thead>\n",
       "    <tr style=\"text-align: right;\">\n",
       "      <th></th>\n",
       "      <th>A</th>\n",
       "      <th>B</th>\n",
       "      <th>D</th>\n",
       "      <th>C</th>\n",
       "      <th>X</th>\n",
       "    </tr>\n",
       "  </thead>\n",
       "  <tbody>\n",
       "    <tr>\n",
       "      <th>count</th>\n",
       "      <td>6.000000</td>\n",
       "      <td>6.000000</td>\n",
       "      <td>6.000000</td>\n",
       "      <td>6.000000</td>\n",
       "      <td>6.000000</td>\n",
       "    </tr>\n",
       "    <tr>\n",
       "      <th>mean</th>\n",
       "      <td>0.874409</td>\n",
       "      <td>-0.430734</td>\n",
       "      <td>-0.164088</td>\n",
       "      <td>-0.556126</td>\n",
       "      <td>0.616012</td>\n",
       "    </tr>\n",
       "    <tr>\n",
       "      <th>std</th>\n",
       "      <td>0.736520</td>\n",
       "      <td>0.931795</td>\n",
       "      <td>0.948878</td>\n",
       "      <td>0.877032</td>\n",
       "      <td>0.954235</td>\n",
       "    </tr>\n",
       "    <tr>\n",
       "      <th>min</th>\n",
       "      <td>-0.245622</td>\n",
       "      <td>-1.643001</td>\n",
       "      <td>-0.856922</td>\n",
       "      <td>-1.771765</td>\n",
       "      <td>-0.184457</td>\n",
       "    </tr>\n",
       "    <tr>\n",
       "      <th>25%</th>\n",
       "      <td>0.438463</td>\n",
       "      <td>-1.109367</td>\n",
       "      <td>-0.752111</td>\n",
       "      <td>-1.208186</td>\n",
       "      <td>-0.147038</td>\n",
       "    </tr>\n",
       "    <tr>\n",
       "      <th>50%</th>\n",
       "      <td>1.019583</td>\n",
       "      <td>-0.394540</td>\n",
       "      <td>-0.686480</td>\n",
       "      <td>-0.329905</td>\n",
       "      <td>0.394252</td>\n",
       "    </tr>\n",
       "    <tr>\n",
       "      <th>75%</th>\n",
       "      <td>1.405020</td>\n",
       "      <td>0.266848</td>\n",
       "      <td>0.264975</td>\n",
       "      <td>0.023543</td>\n",
       "      <td>1.004230</td>\n",
       "    </tr>\n",
       "    <tr>\n",
       "      <th>max</th>\n",
       "      <td>1.674656</td>\n",
       "      <td>0.708011</td>\n",
       "      <td>1.437215</td>\n",
       "      <td>0.454408</td>\n",
       "      <td>2.211939</td>\n",
       "    </tr>\n",
       "  </tbody>\n",
       "</table>\n",
       "</div>"
      ],
      "text/plain": [
       "              A         B         D         C         X\n",
       "count  6.000000  6.000000  6.000000  6.000000  6.000000\n",
       "mean   0.874409 -0.430734 -0.164088 -0.556126  0.616012\n",
       "std    0.736520  0.931795  0.948878  0.877032  0.954235\n",
       "min   -0.245622 -1.643001 -0.856922 -1.771765 -0.184457\n",
       "25%    0.438463 -1.109367 -0.752111 -1.208186 -0.147038\n",
       "50%    1.019583 -0.394540 -0.686480 -0.329905  0.394252\n",
       "75%    1.405020  0.266848  0.264975  0.023543  1.004230\n",
       "max    1.674656  0.708011  1.437215  0.454408  2.211939"
      ]
     },
     "execution_count": 32,
     "metadata": {},
     "output_type": "execute_result"
    }
   ],
   "source": [
    "df.describe()"
   ]
  },
  {
   "cell_type": "code",
   "execution_count": 33,
   "metadata": {},
   "outputs": [
    {
     "data": {
      "text/html": [
       "<div>\n",
       "<style scoped>\n",
       "    .dataframe tbody tr th:only-of-type {\n",
       "        vertical-align: middle;\n",
       "    }\n",
       "\n",
       "    .dataframe tbody tr th {\n",
       "        vertical-align: top;\n",
       "    }\n",
       "\n",
       "    .dataframe thead th {\n",
       "        text-align: right;\n",
       "    }\n",
       "</style>\n",
       "<table border=\"1\" class=\"dataframe\">\n",
       "  <thead>\n",
       "    <tr style=\"text-align: right;\">\n",
       "      <th></th>\n",
       "      <th>A</th>\n",
       "      <th>B</th>\n",
       "      <th>D</th>\n",
       "      <th>C</th>\n",
       "      <th>X</th>\n",
       "    </tr>\n",
       "  </thead>\n",
       "  <tbody>\n",
       "    <tr>\n",
       "      <th>2013-01-01</th>\n",
       "      <td>1.101705</td>\n",
       "      <td>-1.643001</td>\n",
       "      <td>-0.666784</td>\n",
       "      <td>0.055356</td>\n",
       "      <td>2.211939</td>\n",
       "    </tr>\n",
       "    <tr>\n",
       "      <th>2013-01-02</th>\n",
       "      <td>1.674656</td>\n",
       "      <td>0.342139</td>\n",
       "      <td>-0.767423</td>\n",
       "      <td>-1.771765</td>\n",
       "      <td>-0.184457</td>\n",
       "    </tr>\n",
       "    <tr>\n",
       "      <th>2013-01-03</th>\n",
       "      <td>0.937461</td>\n",
       "      <td>0.708011</td>\n",
       "      <td>-0.856922</td>\n",
       "      <td>-1.414944</td>\n",
       "      <td>1.045815</td>\n",
       "    </tr>\n",
       "    <tr>\n",
       "      <th>2013-01-04</th>\n",
       "      <td>-0.245622</td>\n",
       "      <td>0.040975</td>\n",
       "      <td>-0.706176</td>\n",
       "      <td>-0.071897</td>\n",
       "      <td>-0.165725</td>\n",
       "    </tr>\n",
       "    <tr>\n",
       "      <th>2013-01-05</th>\n",
       "      <td>0.272130</td>\n",
       "      <td>-0.830056</td>\n",
       "      <td>0.575562</td>\n",
       "      <td>-0.587912</td>\n",
       "      <td>0.879478</td>\n",
       "    </tr>\n",
       "    <tr>\n",
       "      <th>2013-01-06</th>\n",
       "      <td>1.506126</td>\n",
       "      <td>-1.202471</td>\n",
       "      <td>1.437215</td>\n",
       "      <td>0.454408</td>\n",
       "      <td>-0.090974</td>\n",
       "    </tr>\n",
       "  </tbody>\n",
       "</table>\n",
       "</div>"
      ],
      "text/plain": [
       "                   A         B         D         C         X\n",
       "2013-01-01  1.101705 -1.643001 -0.666784  0.055356  2.211939\n",
       "2013-01-02  1.674656  0.342139 -0.767423 -1.771765 -0.184457\n",
       "2013-01-03  0.937461  0.708011 -0.856922 -1.414944  1.045815\n",
       "2013-01-04 -0.245622  0.040975 -0.706176 -0.071897 -0.165725\n",
       "2013-01-05  0.272130 -0.830056  0.575562 -0.587912  0.879478\n",
       "2013-01-06  1.506126 -1.202471  1.437215  0.454408 -0.090974"
      ]
     },
     "execution_count": 33,
     "metadata": {},
     "output_type": "execute_result"
    }
   ],
   "source": [
    "df"
   ]
  },
  {
   "cell_type": "code",
   "execution_count": 34,
   "metadata": {},
   "outputs": [
    {
     "data": {
      "text/html": [
       "<div>\n",
       "<style scoped>\n",
       "    .dataframe tbody tr th:only-of-type {\n",
       "        vertical-align: middle;\n",
       "    }\n",
       "\n",
       "    .dataframe tbody tr th {\n",
       "        vertical-align: top;\n",
       "    }\n",
       "\n",
       "    .dataframe thead th {\n",
       "        text-align: right;\n",
       "    }\n",
       "</style>\n",
       "<table border=\"1\" class=\"dataframe\">\n",
       "  <thead>\n",
       "    <tr style=\"text-align: right;\">\n",
       "      <th></th>\n",
       "      <th>X</th>\n",
       "      <th>D</th>\n",
       "      <th>C</th>\n",
       "      <th>B</th>\n",
       "      <th>A</th>\n",
       "    </tr>\n",
       "  </thead>\n",
       "  <tbody>\n",
       "    <tr>\n",
       "      <th>2013-01-01</th>\n",
       "      <td>2.211939</td>\n",
       "      <td>-0.666784</td>\n",
       "      <td>0.055356</td>\n",
       "      <td>-1.643001</td>\n",
       "      <td>1.101705</td>\n",
       "    </tr>\n",
       "    <tr>\n",
       "      <th>2013-01-02</th>\n",
       "      <td>-0.184457</td>\n",
       "      <td>-0.767423</td>\n",
       "      <td>-1.771765</td>\n",
       "      <td>0.342139</td>\n",
       "      <td>1.674656</td>\n",
       "    </tr>\n",
       "    <tr>\n",
       "      <th>2013-01-03</th>\n",
       "      <td>1.045815</td>\n",
       "      <td>-0.856922</td>\n",
       "      <td>-1.414944</td>\n",
       "      <td>0.708011</td>\n",
       "      <td>0.937461</td>\n",
       "    </tr>\n",
       "    <tr>\n",
       "      <th>2013-01-04</th>\n",
       "      <td>-0.165725</td>\n",
       "      <td>-0.706176</td>\n",
       "      <td>-0.071897</td>\n",
       "      <td>0.040975</td>\n",
       "      <td>-0.245622</td>\n",
       "    </tr>\n",
       "    <tr>\n",
       "      <th>2013-01-05</th>\n",
       "      <td>0.879478</td>\n",
       "      <td>0.575562</td>\n",
       "      <td>-0.587912</td>\n",
       "      <td>-0.830056</td>\n",
       "      <td>0.272130</td>\n",
       "    </tr>\n",
       "    <tr>\n",
       "      <th>2013-01-06</th>\n",
       "      <td>-0.090974</td>\n",
       "      <td>1.437215</td>\n",
       "      <td>0.454408</td>\n",
       "      <td>-1.202471</td>\n",
       "      <td>1.506126</td>\n",
       "    </tr>\n",
       "  </tbody>\n",
       "</table>\n",
       "</div>"
      ],
      "text/plain": [
       "                   X         D         C         B         A\n",
       "2013-01-01  2.211939 -0.666784  0.055356 -1.643001  1.101705\n",
       "2013-01-02 -0.184457 -0.767423 -1.771765  0.342139  1.674656\n",
       "2013-01-03  1.045815 -0.856922 -1.414944  0.708011  0.937461\n",
       "2013-01-04 -0.165725 -0.706176 -0.071897  0.040975 -0.245622\n",
       "2013-01-05  0.879478  0.575562 -0.587912 -0.830056  0.272130\n",
       "2013-01-06 -0.090974  1.437215  0.454408 -1.202471  1.506126"
      ]
     },
     "execution_count": 34,
     "metadata": {},
     "output_type": "execute_result"
    }
   ],
   "source": [
    "df.sort_index(axis=1, ascending=False)"
   ]
  },
  {
   "cell_type": "code",
   "execution_count": 35,
   "metadata": {},
   "outputs": [
    {
     "data": {
      "text/html": [
       "<div>\n",
       "<style scoped>\n",
       "    .dataframe tbody tr th:only-of-type {\n",
       "        vertical-align: middle;\n",
       "    }\n",
       "\n",
       "    .dataframe tbody tr th {\n",
       "        vertical-align: top;\n",
       "    }\n",
       "\n",
       "    .dataframe thead th {\n",
       "        text-align: right;\n",
       "    }\n",
       "</style>\n",
       "<table border=\"1\" class=\"dataframe\">\n",
       "  <thead>\n",
       "    <tr style=\"text-align: right;\">\n",
       "      <th></th>\n",
       "      <th>A</th>\n",
       "      <th>B</th>\n",
       "      <th>D</th>\n",
       "      <th>C</th>\n",
       "      <th>X</th>\n",
       "    </tr>\n",
       "  </thead>\n",
       "  <tbody>\n",
       "    <tr>\n",
       "      <th>2013-01-01</th>\n",
       "      <td>1.101705</td>\n",
       "      <td>-1.643001</td>\n",
       "      <td>-0.666784</td>\n",
       "      <td>0.055356</td>\n",
       "      <td>2.211939</td>\n",
       "    </tr>\n",
       "    <tr>\n",
       "      <th>2013-01-03</th>\n",
       "      <td>0.937461</td>\n",
       "      <td>0.708011</td>\n",
       "      <td>-0.856922</td>\n",
       "      <td>-1.414944</td>\n",
       "      <td>1.045815</td>\n",
       "    </tr>\n",
       "    <tr>\n",
       "      <th>2013-01-05</th>\n",
       "      <td>0.272130</td>\n",
       "      <td>-0.830056</td>\n",
       "      <td>0.575562</td>\n",
       "      <td>-0.587912</td>\n",
       "      <td>0.879478</td>\n",
       "    </tr>\n",
       "    <tr>\n",
       "      <th>2013-01-06</th>\n",
       "      <td>1.506126</td>\n",
       "      <td>-1.202471</td>\n",
       "      <td>1.437215</td>\n",
       "      <td>0.454408</td>\n",
       "      <td>-0.090974</td>\n",
       "    </tr>\n",
       "    <tr>\n",
       "      <th>2013-01-04</th>\n",
       "      <td>-0.245622</td>\n",
       "      <td>0.040975</td>\n",
       "      <td>-0.706176</td>\n",
       "      <td>-0.071897</td>\n",
       "      <td>-0.165725</td>\n",
       "    </tr>\n",
       "    <tr>\n",
       "      <th>2013-01-02</th>\n",
       "      <td>1.674656</td>\n",
       "      <td>0.342139</td>\n",
       "      <td>-0.767423</td>\n",
       "      <td>-1.771765</td>\n",
       "      <td>-0.184457</td>\n",
       "    </tr>\n",
       "  </tbody>\n",
       "</table>\n",
       "</div>"
      ],
      "text/plain": [
       "                   A         B         D         C         X\n",
       "2013-01-01  1.101705 -1.643001 -0.666784  0.055356  2.211939\n",
       "2013-01-03  0.937461  0.708011 -0.856922 -1.414944  1.045815\n",
       "2013-01-05  0.272130 -0.830056  0.575562 -0.587912  0.879478\n",
       "2013-01-06  1.506126 -1.202471  1.437215  0.454408 -0.090974\n",
       "2013-01-04 -0.245622  0.040975 -0.706176 -0.071897 -0.165725\n",
       "2013-01-02  1.674656  0.342139 -0.767423 -1.771765 -0.184457"
      ]
     },
     "execution_count": 35,
     "metadata": {},
     "output_type": "execute_result"
    }
   ],
   "source": [
    "df.sort_values(by=\"X\", ascending=False)"
   ]
  },
  {
   "cell_type": "markdown",
   "metadata": {},
   "source": [
    "# Getting"
   ]
  },
  {
   "cell_type": "code",
   "execution_count": 36,
   "metadata": {},
   "outputs": [
    {
     "data": {
      "text/plain": [
       "2013-01-01   -0.666784\n",
       "2013-01-02   -0.767423\n",
       "2013-01-03   -0.856922\n",
       "2013-01-04   -0.706176\n",
       "2013-01-05    0.575562\n",
       "2013-01-06    1.437215\n",
       "Freq: D, Name: D, dtype: float64"
      ]
     },
     "execution_count": 36,
     "metadata": {},
     "output_type": "execute_result"
    }
   ],
   "source": [
    "df.D"
   ]
  },
  {
   "cell_type": "code",
   "execution_count": 37,
   "metadata": {},
   "outputs": [
    {
     "data": {
      "text/html": [
       "<div>\n",
       "<style scoped>\n",
       "    .dataframe tbody tr th:only-of-type {\n",
       "        vertical-align: middle;\n",
       "    }\n",
       "\n",
       "    .dataframe tbody tr th {\n",
       "        vertical-align: top;\n",
       "    }\n",
       "\n",
       "    .dataframe thead th {\n",
       "        text-align: right;\n",
       "    }\n",
       "</style>\n",
       "<table border=\"1\" class=\"dataframe\">\n",
       "  <thead>\n",
       "    <tr style=\"text-align: right;\">\n",
       "      <th></th>\n",
       "      <th>A</th>\n",
       "      <th>B</th>\n",
       "      <th>D</th>\n",
       "      <th>C</th>\n",
       "      <th>X</th>\n",
       "    </tr>\n",
       "  </thead>\n",
       "  <tbody>\n",
       "    <tr>\n",
       "      <th>2013-01-01</th>\n",
       "      <td>1.101705</td>\n",
       "      <td>-1.643001</td>\n",
       "      <td>-0.666784</td>\n",
       "      <td>0.055356</td>\n",
       "      <td>2.211939</td>\n",
       "    </tr>\n",
       "    <tr>\n",
       "      <th>2013-01-02</th>\n",
       "      <td>1.674656</td>\n",
       "      <td>0.342139</td>\n",
       "      <td>-0.767423</td>\n",
       "      <td>-1.771765</td>\n",
       "      <td>-0.184457</td>\n",
       "    </tr>\n",
       "  </tbody>\n",
       "</table>\n",
       "</div>"
      ],
      "text/plain": [
       "                   A         B         D         C         X\n",
       "2013-01-01  1.101705 -1.643001 -0.666784  0.055356  2.211939\n",
       "2013-01-02  1.674656  0.342139 -0.767423 -1.771765 -0.184457"
      ]
     },
     "execution_count": 37,
     "metadata": {},
     "output_type": "execute_result"
    }
   ],
   "source": [
    "df[0:2]"
   ]
  },
  {
   "cell_type": "code",
   "execution_count": 38,
   "metadata": {},
   "outputs": [
    {
     "data": {
      "text/html": [
       "<div>\n",
       "<style scoped>\n",
       "    .dataframe tbody tr th:only-of-type {\n",
       "        vertical-align: middle;\n",
       "    }\n",
       "\n",
       "    .dataframe tbody tr th {\n",
       "        vertical-align: top;\n",
       "    }\n",
       "\n",
       "    .dataframe thead th {\n",
       "        text-align: right;\n",
       "    }\n",
       "</style>\n",
       "<table border=\"1\" class=\"dataframe\">\n",
       "  <thead>\n",
       "    <tr style=\"text-align: right;\">\n",
       "      <th></th>\n",
       "      <th>A</th>\n",
       "      <th>B</th>\n",
       "      <th>D</th>\n",
       "      <th>C</th>\n",
       "      <th>X</th>\n",
       "    </tr>\n",
       "  </thead>\n",
       "  <tbody>\n",
       "    <tr>\n",
       "      <th>2013-01-05</th>\n",
       "      <td>0.272130</td>\n",
       "      <td>-0.830056</td>\n",
       "      <td>0.575562</td>\n",
       "      <td>-0.587912</td>\n",
       "      <td>0.879478</td>\n",
       "    </tr>\n",
       "    <tr>\n",
       "      <th>2013-01-06</th>\n",
       "      <td>1.506126</td>\n",
       "      <td>-1.202471</td>\n",
       "      <td>1.437215</td>\n",
       "      <td>0.454408</td>\n",
       "      <td>-0.090974</td>\n",
       "    </tr>\n",
       "  </tbody>\n",
       "</table>\n",
       "</div>"
      ],
      "text/plain": [
       "                   A         B         D         C         X\n",
       "2013-01-05  0.272130 -0.830056  0.575562 -0.587912  0.879478\n",
       "2013-01-06  1.506126 -1.202471  1.437215  0.454408 -0.090974"
      ]
     },
     "execution_count": 38,
     "metadata": {},
     "output_type": "execute_result"
    }
   ],
   "source": [
    "df[\"2013-01-05\":\"2013-01-06\"]"
   ]
  },
  {
   "cell_type": "markdown",
   "metadata": {},
   "source": [
    "# Selection by label"
   ]
  },
  {
   "cell_type": "code",
   "execution_count": 39,
   "metadata": {},
   "outputs": [
    {
     "data": {
      "text/plain": [
       "A    1.101705\n",
       "B   -1.643001\n",
       "D   -0.666784\n",
       "C    0.055356\n",
       "X    2.211939\n",
       "Name: 2013-01-01 00:00:00, dtype: float64"
      ]
     },
     "execution_count": 39,
     "metadata": {},
     "output_type": "execute_result"
    }
   ],
   "source": [
    "df.loc[dates[0]]"
   ]
  },
  {
   "cell_type": "code",
   "execution_count": 40,
   "metadata": {},
   "outputs": [
    {
     "data": {
      "text/html": [
       "<div>\n",
       "<style scoped>\n",
       "    .dataframe tbody tr th:only-of-type {\n",
       "        vertical-align: middle;\n",
       "    }\n",
       "\n",
       "    .dataframe tbody tr th {\n",
       "        vertical-align: top;\n",
       "    }\n",
       "\n",
       "    .dataframe thead th {\n",
       "        text-align: right;\n",
       "    }\n",
       "</style>\n",
       "<table border=\"1\" class=\"dataframe\">\n",
       "  <thead>\n",
       "    <tr style=\"text-align: right;\">\n",
       "      <th></th>\n",
       "      <th>A</th>\n",
       "      <th>B</th>\n",
       "      <th>D</th>\n",
       "      <th>C</th>\n",
       "      <th>X</th>\n",
       "    </tr>\n",
       "  </thead>\n",
       "  <tbody>\n",
       "    <tr>\n",
       "      <th>2013-01-01</th>\n",
       "      <td>1.101705</td>\n",
       "      <td>-1.643001</td>\n",
       "      <td>-0.666784</td>\n",
       "      <td>0.055356</td>\n",
       "      <td>2.211939</td>\n",
       "    </tr>\n",
       "    <tr>\n",
       "      <th>2013-01-02</th>\n",
       "      <td>1.674656</td>\n",
       "      <td>0.342139</td>\n",
       "      <td>-0.767423</td>\n",
       "      <td>-1.771765</td>\n",
       "      <td>-0.184457</td>\n",
       "    </tr>\n",
       "    <tr>\n",
       "      <th>2013-01-03</th>\n",
       "      <td>0.937461</td>\n",
       "      <td>0.708011</td>\n",
       "      <td>-0.856922</td>\n",
       "      <td>-1.414944</td>\n",
       "      <td>1.045815</td>\n",
       "    </tr>\n",
       "    <tr>\n",
       "      <th>2013-01-04</th>\n",
       "      <td>-0.245622</td>\n",
       "      <td>0.040975</td>\n",
       "      <td>-0.706176</td>\n",
       "      <td>-0.071897</td>\n",
       "      <td>-0.165725</td>\n",
       "    </tr>\n",
       "    <tr>\n",
       "      <th>2013-01-05</th>\n",
       "      <td>0.272130</td>\n",
       "      <td>-0.830056</td>\n",
       "      <td>0.575562</td>\n",
       "      <td>-0.587912</td>\n",
       "      <td>0.879478</td>\n",
       "    </tr>\n",
       "    <tr>\n",
       "      <th>2013-01-06</th>\n",
       "      <td>1.506126</td>\n",
       "      <td>-1.202471</td>\n",
       "      <td>1.437215</td>\n",
       "      <td>0.454408</td>\n",
       "      <td>-0.090974</td>\n",
       "    </tr>\n",
       "  </tbody>\n",
       "</table>\n",
       "</div>"
      ],
      "text/plain": [
       "                   A         B         D         C         X\n",
       "2013-01-01  1.101705 -1.643001 -0.666784  0.055356  2.211939\n",
       "2013-01-02  1.674656  0.342139 -0.767423 -1.771765 -0.184457\n",
       "2013-01-03  0.937461  0.708011 -0.856922 -1.414944  1.045815\n",
       "2013-01-04 -0.245622  0.040975 -0.706176 -0.071897 -0.165725\n",
       "2013-01-05  0.272130 -0.830056  0.575562 -0.587912  0.879478\n",
       "2013-01-06  1.506126 -1.202471  1.437215  0.454408 -0.090974"
      ]
     },
     "execution_count": 40,
     "metadata": {},
     "output_type": "execute_result"
    }
   ],
   "source": [
    "df"
   ]
  },
  {
   "cell_type": "code",
   "execution_count": 41,
   "metadata": {},
   "outputs": [
    {
     "data": {
      "text/html": [
       "<div>\n",
       "<style scoped>\n",
       "    .dataframe tbody tr th:only-of-type {\n",
       "        vertical-align: middle;\n",
       "    }\n",
       "\n",
       "    .dataframe tbody tr th {\n",
       "        vertical-align: top;\n",
       "    }\n",
       "\n",
       "    .dataframe thead th {\n",
       "        text-align: right;\n",
       "    }\n",
       "</style>\n",
       "<table border=\"1\" class=\"dataframe\">\n",
       "  <thead>\n",
       "    <tr style=\"text-align: right;\">\n",
       "      <th></th>\n",
       "      <th>D</th>\n",
       "      <th>X</th>\n",
       "    </tr>\n",
       "  </thead>\n",
       "  <tbody>\n",
       "    <tr>\n",
       "      <th>2013-01-01</th>\n",
       "      <td>-0.666784</td>\n",
       "      <td>2.211939</td>\n",
       "    </tr>\n",
       "    <tr>\n",
       "      <th>2013-01-02</th>\n",
       "      <td>-0.767423</td>\n",
       "      <td>-0.184457</td>\n",
       "    </tr>\n",
       "    <tr>\n",
       "      <th>2013-01-03</th>\n",
       "      <td>-0.856922</td>\n",
       "      <td>1.045815</td>\n",
       "    </tr>\n",
       "    <tr>\n",
       "      <th>2013-01-04</th>\n",
       "      <td>-0.706176</td>\n",
       "      <td>-0.165725</td>\n",
       "    </tr>\n",
       "    <tr>\n",
       "      <th>2013-01-05</th>\n",
       "      <td>0.575562</td>\n",
       "      <td>0.879478</td>\n",
       "    </tr>\n",
       "    <tr>\n",
       "      <th>2013-01-06</th>\n",
       "      <td>1.437215</td>\n",
       "      <td>-0.090974</td>\n",
       "    </tr>\n",
       "  </tbody>\n",
       "</table>\n",
       "</div>"
      ],
      "text/plain": [
       "                   D         X\n",
       "2013-01-01 -0.666784  2.211939\n",
       "2013-01-02 -0.767423 -0.184457\n",
       "2013-01-03 -0.856922  1.045815\n",
       "2013-01-04 -0.706176 -0.165725\n",
       "2013-01-05  0.575562  0.879478\n",
       "2013-01-06  1.437215 -0.090974"
      ]
     },
     "execution_count": 41,
     "metadata": {},
     "output_type": "execute_result"
    }
   ],
   "source": [
    "df.loc[:,[\"D\",\"X\"]]"
   ]
  },
  {
   "cell_type": "code",
   "execution_count": 42,
   "metadata": {},
   "outputs": [
    {
     "data": {
      "text/html": [
       "<div>\n",
       "<style scoped>\n",
       "    .dataframe tbody tr th:only-of-type {\n",
       "        vertical-align: middle;\n",
       "    }\n",
       "\n",
       "    .dataframe tbody tr th {\n",
       "        vertical-align: top;\n",
       "    }\n",
       "\n",
       "    .dataframe thead th {\n",
       "        text-align: right;\n",
       "    }\n",
       "</style>\n",
       "<table border=\"1\" class=\"dataframe\">\n",
       "  <thead>\n",
       "    <tr style=\"text-align: right;\">\n",
       "      <th></th>\n",
       "      <th>X</th>\n",
       "      <th>C</th>\n",
       "      <th>D</th>\n",
       "    </tr>\n",
       "  </thead>\n",
       "  <tbody>\n",
       "    <tr>\n",
       "      <th>2013-01-02</th>\n",
       "      <td>-0.184457</td>\n",
       "      <td>-1.771765</td>\n",
       "      <td>-0.767423</td>\n",
       "    </tr>\n",
       "    <tr>\n",
       "      <th>2013-01-03</th>\n",
       "      <td>1.045815</td>\n",
       "      <td>-1.414944</td>\n",
       "      <td>-0.856922</td>\n",
       "    </tr>\n",
       "  </tbody>\n",
       "</table>\n",
       "</div>"
      ],
      "text/plain": [
       "                   X         C         D\n",
       "2013-01-02 -0.184457 -1.771765 -0.767423\n",
       "2013-01-03  1.045815 -1.414944 -0.856922"
      ]
     },
     "execution_count": 42,
     "metadata": {},
     "output_type": "execute_result"
    }
   ],
   "source": [
    "df.loc[\"2013-01-02\":\"2013-01-03\", [\"X\", \"C\",\"D\"]]"
   ]
  },
  {
   "cell_type": "code",
   "execution_count": 43,
   "metadata": {},
   "outputs": [
    {
     "data": {
      "text/plain": [
       "-1.4149439615692063"
      ]
     },
     "execution_count": 43,
     "metadata": {},
     "output_type": "execute_result"
    }
   ],
   "source": [
    "df.loc[\"20130103\", \"C\"]"
   ]
  },
  {
   "cell_type": "code",
   "execution_count": 44,
   "metadata": {},
   "outputs": [
    {
     "data": {
      "text/plain": [
       "1.045814583429909"
      ]
     },
     "execution_count": 44,
     "metadata": {},
     "output_type": "execute_result"
    }
   ],
   "source": [
    "df.at[dates[2],\"X\"]"
   ]
  },
  {
   "cell_type": "code",
   "execution_count": 45,
   "metadata": {},
   "outputs": [
    {
     "data": {
      "text/plain": [
       "A    1.674656\n",
       "B    0.342139\n",
       "D   -0.767423\n",
       "C   -1.771765\n",
       "X   -0.184457\n",
       "Name: 2013-01-02 00:00:00, dtype: float64"
      ]
     },
     "execution_count": 45,
     "metadata": {},
     "output_type": "execute_result"
    }
   ],
   "source": [
    "df.iloc[1]"
   ]
  },
  {
   "cell_type": "code",
   "execution_count": 46,
   "metadata": {},
   "outputs": [
    {
     "data": {
      "text/html": [
       "<div>\n",
       "<style scoped>\n",
       "    .dataframe tbody tr th:only-of-type {\n",
       "        vertical-align: middle;\n",
       "    }\n",
       "\n",
       "    .dataframe tbody tr th {\n",
       "        vertical-align: top;\n",
       "    }\n",
       "\n",
       "    .dataframe thead th {\n",
       "        text-align: right;\n",
       "    }\n",
       "</style>\n",
       "<table border=\"1\" class=\"dataframe\">\n",
       "  <thead>\n",
       "    <tr style=\"text-align: right;\">\n",
       "      <th></th>\n",
       "      <th>D</th>\n",
       "      <th>C</th>\n",
       "      <th>X</th>\n",
       "    </tr>\n",
       "  </thead>\n",
       "  <tbody>\n",
       "    <tr>\n",
       "      <th>2013-01-04</th>\n",
       "      <td>-0.706176</td>\n",
       "      <td>-0.071897</td>\n",
       "      <td>-0.165725</td>\n",
       "    </tr>\n",
       "    <tr>\n",
       "      <th>2013-01-05</th>\n",
       "      <td>0.575562</td>\n",
       "      <td>-0.587912</td>\n",
       "      <td>0.879478</td>\n",
       "    </tr>\n",
       "  </tbody>\n",
       "</table>\n",
       "</div>"
      ],
      "text/plain": [
       "                   D         C         X\n",
       "2013-01-04 -0.706176 -0.071897 -0.165725\n",
       "2013-01-05  0.575562 -0.587912  0.879478"
      ]
     },
     "execution_count": 46,
     "metadata": {},
     "output_type": "execute_result"
    }
   ],
   "source": [
    "df.iloc[3:5, 2:]"
   ]
  },
  {
   "cell_type": "code",
   "execution_count": 47,
   "metadata": {},
   "outputs": [
    {
     "data": {
      "text/html": [
       "<div>\n",
       "<style scoped>\n",
       "    .dataframe tbody tr th:only-of-type {\n",
       "        vertical-align: middle;\n",
       "    }\n",
       "\n",
       "    .dataframe tbody tr th {\n",
       "        vertical-align: top;\n",
       "    }\n",
       "\n",
       "    .dataframe thead th {\n",
       "        text-align: right;\n",
       "    }\n",
       "</style>\n",
       "<table border=\"1\" class=\"dataframe\">\n",
       "  <thead>\n",
       "    <tr style=\"text-align: right;\">\n",
       "      <th></th>\n",
       "      <th>D</th>\n",
       "      <th>A</th>\n",
       "    </tr>\n",
       "  </thead>\n",
       "  <tbody>\n",
       "    <tr>\n",
       "      <th>2013-01-02</th>\n",
       "      <td>-0.767423</td>\n",
       "      <td>1.674656</td>\n",
       "    </tr>\n",
       "    <tr>\n",
       "      <th>2013-01-04</th>\n",
       "      <td>-0.706176</td>\n",
       "      <td>-0.245622</td>\n",
       "    </tr>\n",
       "    <tr>\n",
       "      <th>2013-01-05</th>\n",
       "      <td>0.575562</td>\n",
       "      <td>0.272130</td>\n",
       "    </tr>\n",
       "  </tbody>\n",
       "</table>\n",
       "</div>"
      ],
      "text/plain": [
       "                   D         A\n",
       "2013-01-02 -0.767423  1.674656\n",
       "2013-01-04 -0.706176 -0.245622\n",
       "2013-01-05  0.575562  0.272130"
      ]
     },
     "execution_count": 47,
     "metadata": {},
     "output_type": "execute_result"
    }
   ],
   "source": [
    "df.iloc[[1,3,4],[2,0]]"
   ]
  },
  {
   "cell_type": "code",
   "execution_count": 48,
   "metadata": {},
   "outputs": [
    {
     "data": {
      "text/html": [
       "<div>\n",
       "<style scoped>\n",
       "    .dataframe tbody tr th:only-of-type {\n",
       "        vertical-align: middle;\n",
       "    }\n",
       "\n",
       "    .dataframe tbody tr th {\n",
       "        vertical-align: top;\n",
       "    }\n",
       "\n",
       "    .dataframe thead th {\n",
       "        text-align: right;\n",
       "    }\n",
       "</style>\n",
       "<table border=\"1\" class=\"dataframe\">\n",
       "  <thead>\n",
       "    <tr style=\"text-align: right;\">\n",
       "      <th></th>\n",
       "      <th>A</th>\n",
       "      <th>B</th>\n",
       "      <th>D</th>\n",
       "      <th>C</th>\n",
       "      <th>X</th>\n",
       "    </tr>\n",
       "  </thead>\n",
       "  <tbody>\n",
       "    <tr>\n",
       "      <th>2013-01-01</th>\n",
       "      <td>1.101705</td>\n",
       "      <td>-1.643001</td>\n",
       "      <td>-0.666784</td>\n",
       "      <td>0.055356</td>\n",
       "      <td>2.211939</td>\n",
       "    </tr>\n",
       "    <tr>\n",
       "      <th>2013-01-02</th>\n",
       "      <td>1.674656</td>\n",
       "      <td>0.342139</td>\n",
       "      <td>-0.767423</td>\n",
       "      <td>-1.771765</td>\n",
       "      <td>-0.184457</td>\n",
       "    </tr>\n",
       "    <tr>\n",
       "      <th>2013-01-03</th>\n",
       "      <td>0.937461</td>\n",
       "      <td>0.708011</td>\n",
       "      <td>-0.856922</td>\n",
       "      <td>-1.414944</td>\n",
       "      <td>1.045815</td>\n",
       "    </tr>\n",
       "  </tbody>\n",
       "</table>\n",
       "</div>"
      ],
      "text/plain": [
       "                   A         B         D         C         X\n",
       "2013-01-01  1.101705 -1.643001 -0.666784  0.055356  2.211939\n",
       "2013-01-02  1.674656  0.342139 -0.767423 -1.771765 -0.184457\n",
       "2013-01-03  0.937461  0.708011 -0.856922 -1.414944  1.045815"
      ]
     },
     "execution_count": 48,
     "metadata": {},
     "output_type": "execute_result"
    }
   ],
   "source": [
    "df.iloc[0:3,:]"
   ]
  },
  {
   "cell_type": "code",
   "execution_count": 49,
   "metadata": {},
   "outputs": [
    {
     "data": {
      "text/html": [
       "<div>\n",
       "<style scoped>\n",
       "    .dataframe tbody tr th:only-of-type {\n",
       "        vertical-align: middle;\n",
       "    }\n",
       "\n",
       "    .dataframe tbody tr th {\n",
       "        vertical-align: top;\n",
       "    }\n",
       "\n",
       "    .dataframe thead th {\n",
       "        text-align: right;\n",
       "    }\n",
       "</style>\n",
       "<table border=\"1\" class=\"dataframe\">\n",
       "  <thead>\n",
       "    <tr style=\"text-align: right;\">\n",
       "      <th></th>\n",
       "      <th>A</th>\n",
       "      <th>B</th>\n",
       "      <th>D</th>\n",
       "    </tr>\n",
       "  </thead>\n",
       "  <tbody>\n",
       "    <tr>\n",
       "      <th>2013-01-01</th>\n",
       "      <td>1.101705</td>\n",
       "      <td>-1.643001</td>\n",
       "      <td>-0.666784</td>\n",
       "    </tr>\n",
       "    <tr>\n",
       "      <th>2013-01-02</th>\n",
       "      <td>1.674656</td>\n",
       "      <td>0.342139</td>\n",
       "      <td>-0.767423</td>\n",
       "    </tr>\n",
       "    <tr>\n",
       "      <th>2013-01-03</th>\n",
       "      <td>0.937461</td>\n",
       "      <td>0.708011</td>\n",
       "      <td>-0.856922</td>\n",
       "    </tr>\n",
       "    <tr>\n",
       "      <th>2013-01-04</th>\n",
       "      <td>-0.245622</td>\n",
       "      <td>0.040975</td>\n",
       "      <td>-0.706176</td>\n",
       "    </tr>\n",
       "    <tr>\n",
       "      <th>2013-01-05</th>\n",
       "      <td>0.272130</td>\n",
       "      <td>-0.830056</td>\n",
       "      <td>0.575562</td>\n",
       "    </tr>\n",
       "    <tr>\n",
       "      <th>2013-01-06</th>\n",
       "      <td>1.506126</td>\n",
       "      <td>-1.202471</td>\n",
       "      <td>1.437215</td>\n",
       "    </tr>\n",
       "  </tbody>\n",
       "</table>\n",
       "</div>"
      ],
      "text/plain": [
       "                   A         B         D\n",
       "2013-01-01  1.101705 -1.643001 -0.666784\n",
       "2013-01-02  1.674656  0.342139 -0.767423\n",
       "2013-01-03  0.937461  0.708011 -0.856922\n",
       "2013-01-04 -0.245622  0.040975 -0.706176\n",
       "2013-01-05  0.272130 -0.830056  0.575562\n",
       "2013-01-06  1.506126 -1.202471  1.437215"
      ]
     },
     "execution_count": 49,
     "metadata": {},
     "output_type": "execute_result"
    }
   ],
   "source": [
    "df.iloc[:,0:3]"
   ]
  },
  {
   "cell_type": "code",
   "execution_count": 50,
   "metadata": {},
   "outputs": [
    {
     "data": {
      "text/plain": [
       "0.34213884930600647"
      ]
     },
     "execution_count": 50,
     "metadata": {},
     "output_type": "execute_result"
    }
   ],
   "source": [
    "df.iloc[1,1]"
   ]
  },
  {
   "cell_type": "code",
   "execution_count": 51,
   "metadata": {},
   "outputs": [
    {
     "data": {
      "text/plain": [
       "1.1017045417049538"
      ]
     },
     "execution_count": 51,
     "metadata": {},
     "output_type": "execute_result"
    }
   ],
   "source": [
    "df.iat[0,0]"
   ]
  },
  {
   "cell_type": "markdown",
   "metadata": {},
   "source": [
    "# Boolean indexing"
   ]
  },
  {
   "cell_type": "code",
   "execution_count": 52,
   "metadata": {},
   "outputs": [
    {
     "data": {
      "text/html": [
       "<div>\n",
       "<style scoped>\n",
       "    .dataframe tbody tr th:only-of-type {\n",
       "        vertical-align: middle;\n",
       "    }\n",
       "\n",
       "    .dataframe tbody tr th {\n",
       "        vertical-align: top;\n",
       "    }\n",
       "\n",
       "    .dataframe thead th {\n",
       "        text-align: right;\n",
       "    }\n",
       "</style>\n",
       "<table border=\"1\" class=\"dataframe\">\n",
       "  <thead>\n",
       "    <tr style=\"text-align: right;\">\n",
       "      <th></th>\n",
       "      <th>A</th>\n",
       "      <th>B</th>\n",
       "      <th>D</th>\n",
       "      <th>C</th>\n",
       "      <th>X</th>\n",
       "    </tr>\n",
       "  </thead>\n",
       "  <tbody>\n",
       "    <tr>\n",
       "      <th>2013-01-01</th>\n",
       "      <td>1.101705</td>\n",
       "      <td>-1.643001</td>\n",
       "      <td>-0.666784</td>\n",
       "      <td>0.055356</td>\n",
       "      <td>2.211939</td>\n",
       "    </tr>\n",
       "    <tr>\n",
       "      <th>2013-01-02</th>\n",
       "      <td>1.674656</td>\n",
       "      <td>0.342139</td>\n",
       "      <td>-0.767423</td>\n",
       "      <td>-1.771765</td>\n",
       "      <td>-0.184457</td>\n",
       "    </tr>\n",
       "    <tr>\n",
       "      <th>2013-01-03</th>\n",
       "      <td>0.937461</td>\n",
       "      <td>0.708011</td>\n",
       "      <td>-0.856922</td>\n",
       "      <td>-1.414944</td>\n",
       "      <td>1.045815</td>\n",
       "    </tr>\n",
       "    <tr>\n",
       "      <th>2013-01-05</th>\n",
       "      <td>0.272130</td>\n",
       "      <td>-0.830056</td>\n",
       "      <td>0.575562</td>\n",
       "      <td>-0.587912</td>\n",
       "      <td>0.879478</td>\n",
       "    </tr>\n",
       "    <tr>\n",
       "      <th>2013-01-06</th>\n",
       "      <td>1.506126</td>\n",
       "      <td>-1.202471</td>\n",
       "      <td>1.437215</td>\n",
       "      <td>0.454408</td>\n",
       "      <td>-0.090974</td>\n",
       "    </tr>\n",
       "  </tbody>\n",
       "</table>\n",
       "</div>"
      ],
      "text/plain": [
       "                   A         B         D         C         X\n",
       "2013-01-01  1.101705 -1.643001 -0.666784  0.055356  2.211939\n",
       "2013-01-02  1.674656  0.342139 -0.767423 -1.771765 -0.184457\n",
       "2013-01-03  0.937461  0.708011 -0.856922 -1.414944  1.045815\n",
       "2013-01-05  0.272130 -0.830056  0.575562 -0.587912  0.879478\n",
       "2013-01-06  1.506126 -1.202471  1.437215  0.454408 -0.090974"
      ]
     },
     "execution_count": 52,
     "metadata": {},
     "output_type": "execute_result"
    }
   ],
   "source": [
    "df[df[\"A\"]>0]"
   ]
  },
  {
   "cell_type": "code",
   "execution_count": 53,
   "metadata": {},
   "outputs": [
    {
     "data": {
      "text/html": [
       "<div>\n",
       "<style scoped>\n",
       "    .dataframe tbody tr th:only-of-type {\n",
       "        vertical-align: middle;\n",
       "    }\n",
       "\n",
       "    .dataframe tbody tr th {\n",
       "        vertical-align: top;\n",
       "    }\n",
       "\n",
       "    .dataframe thead th {\n",
       "        text-align: right;\n",
       "    }\n",
       "</style>\n",
       "<table border=\"1\" class=\"dataframe\">\n",
       "  <thead>\n",
       "    <tr style=\"text-align: right;\">\n",
       "      <th></th>\n",
       "      <th>A</th>\n",
       "      <th>B</th>\n",
       "      <th>D</th>\n",
       "      <th>C</th>\n",
       "      <th>X</th>\n",
       "    </tr>\n",
       "  </thead>\n",
       "  <tbody>\n",
       "    <tr>\n",
       "      <th>2013-01-01</th>\n",
       "      <td>NaN</td>\n",
       "      <td>-1.643001</td>\n",
       "      <td>-0.666784</td>\n",
       "      <td>NaN</td>\n",
       "      <td>NaN</td>\n",
       "    </tr>\n",
       "    <tr>\n",
       "      <th>2013-01-02</th>\n",
       "      <td>NaN</td>\n",
       "      <td>NaN</td>\n",
       "      <td>-0.767423</td>\n",
       "      <td>-1.771765</td>\n",
       "      <td>-0.184457</td>\n",
       "    </tr>\n",
       "    <tr>\n",
       "      <th>2013-01-03</th>\n",
       "      <td>NaN</td>\n",
       "      <td>NaN</td>\n",
       "      <td>-0.856922</td>\n",
       "      <td>-1.414944</td>\n",
       "      <td>NaN</td>\n",
       "    </tr>\n",
       "    <tr>\n",
       "      <th>2013-01-04</th>\n",
       "      <td>-0.245622</td>\n",
       "      <td>NaN</td>\n",
       "      <td>-0.706176</td>\n",
       "      <td>-0.071897</td>\n",
       "      <td>-0.165725</td>\n",
       "    </tr>\n",
       "    <tr>\n",
       "      <th>2013-01-05</th>\n",
       "      <td>NaN</td>\n",
       "      <td>-0.830056</td>\n",
       "      <td>NaN</td>\n",
       "      <td>-0.587912</td>\n",
       "      <td>NaN</td>\n",
       "    </tr>\n",
       "    <tr>\n",
       "      <th>2013-01-06</th>\n",
       "      <td>NaN</td>\n",
       "      <td>-1.202471</td>\n",
       "      <td>NaN</td>\n",
       "      <td>NaN</td>\n",
       "      <td>-0.090974</td>\n",
       "    </tr>\n",
       "  </tbody>\n",
       "</table>\n",
       "</div>"
      ],
      "text/plain": [
       "                   A         B         D         C         X\n",
       "2013-01-01       NaN -1.643001 -0.666784       NaN       NaN\n",
       "2013-01-02       NaN       NaN -0.767423 -1.771765 -0.184457\n",
       "2013-01-03       NaN       NaN -0.856922 -1.414944       NaN\n",
       "2013-01-04 -0.245622       NaN -0.706176 -0.071897 -0.165725\n",
       "2013-01-05       NaN -0.830056       NaN -0.587912       NaN\n",
       "2013-01-06       NaN -1.202471       NaN       NaN -0.090974"
      ]
     },
     "execution_count": 53,
     "metadata": {},
     "output_type": "execute_result"
    }
   ],
   "source": [
    "df[df<0]"
   ]
  },
  {
   "cell_type": "markdown",
   "metadata": {},
   "source": [
    "## Using two column values to select data"
   ]
  },
  {
   "cell_type": "code",
   "execution_count": 54,
   "metadata": {},
   "outputs": [
    {
     "data": {
      "text/html": [
       "<div>\n",
       "<style scoped>\n",
       "    .dataframe tbody tr th:only-of-type {\n",
       "        vertical-align: middle;\n",
       "    }\n",
       "\n",
       "    .dataframe tbody tr th {\n",
       "        vertical-align: top;\n",
       "    }\n",
       "\n",
       "    .dataframe thead th {\n",
       "        text-align: right;\n",
       "    }\n",
       "</style>\n",
       "<table border=\"1\" class=\"dataframe\">\n",
       "  <thead>\n",
       "    <tr style=\"text-align: right;\">\n",
       "      <th></th>\n",
       "      <th>A</th>\n",
       "      <th>B</th>\n",
       "      <th>D</th>\n",
       "      <th>C</th>\n",
       "      <th>X</th>\n",
       "    </tr>\n",
       "  </thead>\n",
       "  <tbody>\n",
       "    <tr>\n",
       "      <th>2013-01-01</th>\n",
       "      <td>1.101705</td>\n",
       "      <td>-1.643001</td>\n",
       "      <td>-0.666784</td>\n",
       "      <td>0.055356</td>\n",
       "      <td>2.211939</td>\n",
       "    </tr>\n",
       "    <tr>\n",
       "      <th>2013-01-02</th>\n",
       "      <td>1.674656</td>\n",
       "      <td>0.342139</td>\n",
       "      <td>-0.767423</td>\n",
       "      <td>-1.771765</td>\n",
       "      <td>-0.184457</td>\n",
       "    </tr>\n",
       "    <tr>\n",
       "      <th>2013-01-03</th>\n",
       "      <td>0.937461</td>\n",
       "      <td>0.708011</td>\n",
       "      <td>-0.856922</td>\n",
       "      <td>-1.414944</td>\n",
       "      <td>1.045815</td>\n",
       "    </tr>\n",
       "  </tbody>\n",
       "</table>\n",
       "</div>"
      ],
      "text/plain": [
       "                   A         B         D         C         X\n",
       "2013-01-01  1.101705 -1.643001 -0.666784  0.055356  2.211939\n",
       "2013-01-02  1.674656  0.342139 -0.767423 -1.771765 -0.184457\n",
       "2013-01-03  0.937461  0.708011 -0.856922 -1.414944  1.045815"
      ]
     },
     "execution_count": 54,
     "metadata": {},
     "output_type": "execute_result"
    }
   ],
   "source": [
    "df[(df[\"A\"]>0) & (df[\"D\"]<0)]"
   ]
  },
  {
   "cell_type": "code",
   "execution_count": 55,
   "metadata": {},
   "outputs": [
    {
     "data": {
      "text/html": [
       "<div>\n",
       "<style scoped>\n",
       "    .dataframe tbody tr th:only-of-type {\n",
       "        vertical-align: middle;\n",
       "    }\n",
       "\n",
       "    .dataframe tbody tr th {\n",
       "        vertical-align: top;\n",
       "    }\n",
       "\n",
       "    .dataframe thead th {\n",
       "        text-align: right;\n",
       "    }\n",
       "</style>\n",
       "<table border=\"1\" class=\"dataframe\">\n",
       "  <thead>\n",
       "    <tr style=\"text-align: right;\">\n",
       "      <th></th>\n",
       "      <th>A</th>\n",
       "      <th>B</th>\n",
       "      <th>D</th>\n",
       "      <th>C</th>\n",
       "      <th>X</th>\n",
       "      <th>E</th>\n",
       "    </tr>\n",
       "  </thead>\n",
       "  <tbody>\n",
       "    <tr>\n",
       "      <th>2013-01-01</th>\n",
       "      <td>1.101705</td>\n",
       "      <td>-1.643001</td>\n",
       "      <td>-0.666784</td>\n",
       "      <td>0.055356</td>\n",
       "      <td>2.211939</td>\n",
       "      <td>one</td>\n",
       "    </tr>\n",
       "    <tr>\n",
       "      <th>2013-01-02</th>\n",
       "      <td>1.674656</td>\n",
       "      <td>0.342139</td>\n",
       "      <td>-0.767423</td>\n",
       "      <td>-1.771765</td>\n",
       "      <td>-0.184457</td>\n",
       "      <td>one</td>\n",
       "    </tr>\n",
       "    <tr>\n",
       "      <th>2013-01-03</th>\n",
       "      <td>0.937461</td>\n",
       "      <td>0.708011</td>\n",
       "      <td>-0.856922</td>\n",
       "      <td>-1.414944</td>\n",
       "      <td>1.045815</td>\n",
       "      <td>two</td>\n",
       "    </tr>\n",
       "    <tr>\n",
       "      <th>2013-01-04</th>\n",
       "      <td>-0.245622</td>\n",
       "      <td>0.040975</td>\n",
       "      <td>-0.706176</td>\n",
       "      <td>-0.071897</td>\n",
       "      <td>-0.165725</td>\n",
       "      <td>three</td>\n",
       "    </tr>\n",
       "    <tr>\n",
       "      <th>2013-01-05</th>\n",
       "      <td>0.272130</td>\n",
       "      <td>-0.830056</td>\n",
       "      <td>0.575562</td>\n",
       "      <td>-0.587912</td>\n",
       "      <td>0.879478</td>\n",
       "      <td>four</td>\n",
       "    </tr>\n",
       "    <tr>\n",
       "      <th>2013-01-06</th>\n",
       "      <td>1.506126</td>\n",
       "      <td>-1.202471</td>\n",
       "      <td>1.437215</td>\n",
       "      <td>0.454408</td>\n",
       "      <td>-0.090974</td>\n",
       "      <td>three</td>\n",
       "    </tr>\n",
       "  </tbody>\n",
       "</table>\n",
       "</div>"
      ],
      "text/plain": [
       "                   A         B         D         C         X      E\n",
       "2013-01-01  1.101705 -1.643001 -0.666784  0.055356  2.211939    one\n",
       "2013-01-02  1.674656  0.342139 -0.767423 -1.771765 -0.184457    one\n",
       "2013-01-03  0.937461  0.708011 -0.856922 -1.414944  1.045815    two\n",
       "2013-01-04 -0.245622  0.040975 -0.706176 -0.071897 -0.165725  three\n",
       "2013-01-05  0.272130 -0.830056  0.575562 -0.587912  0.879478   four\n",
       "2013-01-06  1.506126 -1.202471  1.437215  0.454408 -0.090974  three"
      ]
     },
     "execution_count": 55,
     "metadata": {},
     "output_type": "execute_result"
    }
   ],
   "source": [
    "df2 = df.copy()\n",
    "df2[\"E\"] = [\"one\", \"one\", \"two\", \"three\", \"four\", \"three\"]\n",
    "df2"
   ]
  },
  {
   "cell_type": "code",
   "execution_count": 56,
   "metadata": {},
   "outputs": [
    {
     "data": {
      "text/html": [
       "<div>\n",
       "<style scoped>\n",
       "    .dataframe tbody tr th:only-of-type {\n",
       "        vertical-align: middle;\n",
       "    }\n",
       "\n",
       "    .dataframe tbody tr th {\n",
       "        vertical-align: top;\n",
       "    }\n",
       "\n",
       "    .dataframe thead th {\n",
       "        text-align: right;\n",
       "    }\n",
       "</style>\n",
       "<table border=\"1\" class=\"dataframe\">\n",
       "  <thead>\n",
       "    <tr style=\"text-align: right;\">\n",
       "      <th></th>\n",
       "      <th>A</th>\n",
       "      <th>B</th>\n",
       "      <th>D</th>\n",
       "      <th>C</th>\n",
       "      <th>X</th>\n",
       "      <th>E</th>\n",
       "    </tr>\n",
       "  </thead>\n",
       "  <tbody>\n",
       "    <tr>\n",
       "      <th>2013-01-01</th>\n",
       "      <td>1.101705</td>\n",
       "      <td>-1.643001</td>\n",
       "      <td>-0.666784</td>\n",
       "      <td>0.055356</td>\n",
       "      <td>2.211939</td>\n",
       "      <td>one</td>\n",
       "    </tr>\n",
       "    <tr>\n",
       "      <th>2013-01-02</th>\n",
       "      <td>1.674656</td>\n",
       "      <td>0.342139</td>\n",
       "      <td>-0.767423</td>\n",
       "      <td>-1.771765</td>\n",
       "      <td>-0.184457</td>\n",
       "      <td>one</td>\n",
       "    </tr>\n",
       "    <tr>\n",
       "      <th>2013-01-04</th>\n",
       "      <td>-0.245622</td>\n",
       "      <td>0.040975</td>\n",
       "      <td>-0.706176</td>\n",
       "      <td>-0.071897</td>\n",
       "      <td>-0.165725</td>\n",
       "      <td>three</td>\n",
       "    </tr>\n",
       "    <tr>\n",
       "      <th>2013-01-06</th>\n",
       "      <td>1.506126</td>\n",
       "      <td>-1.202471</td>\n",
       "      <td>1.437215</td>\n",
       "      <td>0.454408</td>\n",
       "      <td>-0.090974</td>\n",
       "      <td>three</td>\n",
       "    </tr>\n",
       "  </tbody>\n",
       "</table>\n",
       "</div>"
      ],
      "text/plain": [
       "                   A         B         D         C         X      E\n",
       "2013-01-01  1.101705 -1.643001 -0.666784  0.055356  2.211939    one\n",
       "2013-01-02  1.674656  0.342139 -0.767423 -1.771765 -0.184457    one\n",
       "2013-01-04 -0.245622  0.040975 -0.706176 -0.071897 -0.165725  three\n",
       "2013-01-06  1.506126 -1.202471  1.437215  0.454408 -0.090974  three"
      ]
     },
     "execution_count": 56,
     "metadata": {},
     "output_type": "execute_result"
    }
   ],
   "source": [
    "df2[df2[\"E\"].isin([\"one\", \"three\"])]"
   ]
  },
  {
   "cell_type": "markdown",
   "metadata": {},
   "source": [
    "# Setting"
   ]
  },
  {
   "cell_type": "code",
   "execution_count": 57,
   "metadata": {},
   "outputs": [],
   "source": [
    "s1 = pd.Series([1, 2, 3, 4, 5, 6], index = pd.date_range(\"20130102\", periods=6))\n",
    "s1\n",
    "df[\"F\"] = s1"
   ]
  },
  {
   "cell_type": "code",
   "execution_count": 58,
   "metadata": {},
   "outputs": [],
   "source": [
    "df.at[dates[0], \"B\"] = 0"
   ]
  },
  {
   "cell_type": "code",
   "execution_count": 59,
   "metadata": {},
   "outputs": [
    {
     "data": {
      "text/html": [
       "<div>\n",
       "<style scoped>\n",
       "    .dataframe tbody tr th:only-of-type {\n",
       "        vertical-align: middle;\n",
       "    }\n",
       "\n",
       "    .dataframe tbody tr th {\n",
       "        vertical-align: top;\n",
       "    }\n",
       "\n",
       "    .dataframe thead th {\n",
       "        text-align: right;\n",
       "    }\n",
       "</style>\n",
       "<table border=\"1\" class=\"dataframe\">\n",
       "  <thead>\n",
       "    <tr style=\"text-align: right;\">\n",
       "      <th></th>\n",
       "      <th>A</th>\n",
       "      <th>B</th>\n",
       "      <th>D</th>\n",
       "      <th>C</th>\n",
       "      <th>X</th>\n",
       "      <th>F</th>\n",
       "    </tr>\n",
       "  </thead>\n",
       "  <tbody>\n",
       "    <tr>\n",
       "      <th>2013-01-01</th>\n",
       "      <td>1.101705</td>\n",
       "      <td>0.000000</td>\n",
       "      <td>-0.666784</td>\n",
       "      <td>0.055356</td>\n",
       "      <td>2.211939</td>\n",
       "      <td>NaN</td>\n",
       "    </tr>\n",
       "    <tr>\n",
       "      <th>2013-01-02</th>\n",
       "      <td>1.674656</td>\n",
       "      <td>0.342139</td>\n",
       "      <td>-0.767423</td>\n",
       "      <td>-1.771765</td>\n",
       "      <td>-0.184457</td>\n",
       "      <td>1.0</td>\n",
       "    </tr>\n",
       "    <tr>\n",
       "      <th>2013-01-03</th>\n",
       "      <td>0.937461</td>\n",
       "      <td>0.708011</td>\n",
       "      <td>-0.856922</td>\n",
       "      <td>-1.414944</td>\n",
       "      <td>1.045815</td>\n",
       "      <td>2.0</td>\n",
       "    </tr>\n",
       "    <tr>\n",
       "      <th>2013-01-04</th>\n",
       "      <td>-0.245622</td>\n",
       "      <td>0.040975</td>\n",
       "      <td>-0.706176</td>\n",
       "      <td>-0.071897</td>\n",
       "      <td>-0.165725</td>\n",
       "      <td>3.0</td>\n",
       "    </tr>\n",
       "    <tr>\n",
       "      <th>2013-01-05</th>\n",
       "      <td>0.272130</td>\n",
       "      <td>-0.830056</td>\n",
       "      <td>0.575562</td>\n",
       "      <td>-0.587912</td>\n",
       "      <td>0.879478</td>\n",
       "      <td>4.0</td>\n",
       "    </tr>\n",
       "    <tr>\n",
       "      <th>2013-01-06</th>\n",
       "      <td>1.506126</td>\n",
       "      <td>-1.202471</td>\n",
       "      <td>1.437215</td>\n",
       "      <td>0.454408</td>\n",
       "      <td>-0.090974</td>\n",
       "      <td>5.0</td>\n",
       "    </tr>\n",
       "  </tbody>\n",
       "</table>\n",
       "</div>"
      ],
      "text/plain": [
       "                   A         B         D         C         X    F\n",
       "2013-01-01  1.101705  0.000000 -0.666784  0.055356  2.211939  NaN\n",
       "2013-01-02  1.674656  0.342139 -0.767423 -1.771765 -0.184457  1.0\n",
       "2013-01-03  0.937461  0.708011 -0.856922 -1.414944  1.045815  2.0\n",
       "2013-01-04 -0.245622  0.040975 -0.706176 -0.071897 -0.165725  3.0\n",
       "2013-01-05  0.272130 -0.830056  0.575562 -0.587912  0.879478  4.0\n",
       "2013-01-06  1.506126 -1.202471  1.437215  0.454408 -0.090974  5.0"
      ]
     },
     "execution_count": 59,
     "metadata": {},
     "output_type": "execute_result"
    }
   ],
   "source": [
    "df.iat[0,1] = 0\n",
    "df"
   ]
  },
  {
   "cell_type": "code",
   "execution_count": 60,
   "metadata": {},
   "outputs": [
    {
     "data": {
      "text/plain": [
       "2013-01-01   -0.666784\n",
       "2013-01-02   -0.767423\n",
       "2013-01-03   -0.856922\n",
       "2013-01-04   -0.706176\n",
       "2013-01-05    0.575562\n",
       "2013-01-06    1.437215\n",
       "Freq: D, Name: D, dtype: float64"
      ]
     },
     "execution_count": 60,
     "metadata": {},
     "output_type": "execute_result"
    }
   ],
   "source": [
    "df.loc[:, \"D\"]"
   ]
  },
  {
   "cell_type": "code",
   "execution_count": 61,
   "metadata": {},
   "outputs": [
    {
     "data": {
      "text/html": [
       "<div>\n",
       "<style scoped>\n",
       "    .dataframe tbody tr th:only-of-type {\n",
       "        vertical-align: middle;\n",
       "    }\n",
       "\n",
       "    .dataframe tbody tr th {\n",
       "        vertical-align: top;\n",
       "    }\n",
       "\n",
       "    .dataframe thead th {\n",
       "        text-align: right;\n",
       "    }\n",
       "</style>\n",
       "<table border=\"1\" class=\"dataframe\">\n",
       "  <thead>\n",
       "    <tr style=\"text-align: right;\">\n",
       "      <th></th>\n",
       "      <th>A</th>\n",
       "      <th>B</th>\n",
       "      <th>D</th>\n",
       "      <th>C</th>\n",
       "      <th>X</th>\n",
       "      <th>F</th>\n",
       "    </tr>\n",
       "  </thead>\n",
       "  <tbody>\n",
       "    <tr>\n",
       "      <th>2013-01-01</th>\n",
       "      <td>1.101705</td>\n",
       "      <td>0.000000</td>\n",
       "      <td>5</td>\n",
       "      <td>0.055356</td>\n",
       "      <td>2.211939</td>\n",
       "      <td>NaN</td>\n",
       "    </tr>\n",
       "    <tr>\n",
       "      <th>2013-01-02</th>\n",
       "      <td>1.674656</td>\n",
       "      <td>0.342139</td>\n",
       "      <td>5</td>\n",
       "      <td>-1.771765</td>\n",
       "      <td>-0.184457</td>\n",
       "      <td>1.0</td>\n",
       "    </tr>\n",
       "    <tr>\n",
       "      <th>2013-01-03</th>\n",
       "      <td>0.937461</td>\n",
       "      <td>0.708011</td>\n",
       "      <td>5</td>\n",
       "      <td>-1.414944</td>\n",
       "      <td>1.045815</td>\n",
       "      <td>2.0</td>\n",
       "    </tr>\n",
       "    <tr>\n",
       "      <th>2013-01-04</th>\n",
       "      <td>-0.245622</td>\n",
       "      <td>0.040975</td>\n",
       "      <td>5</td>\n",
       "      <td>-0.071897</td>\n",
       "      <td>-0.165725</td>\n",
       "      <td>3.0</td>\n",
       "    </tr>\n",
       "    <tr>\n",
       "      <th>2013-01-05</th>\n",
       "      <td>0.272130</td>\n",
       "      <td>-0.830056</td>\n",
       "      <td>5</td>\n",
       "      <td>-0.587912</td>\n",
       "      <td>0.879478</td>\n",
       "      <td>4.0</td>\n",
       "    </tr>\n",
       "    <tr>\n",
       "      <th>2013-01-06</th>\n",
       "      <td>1.506126</td>\n",
       "      <td>-1.202471</td>\n",
       "      <td>5</td>\n",
       "      <td>0.454408</td>\n",
       "      <td>-0.090974</td>\n",
       "      <td>5.0</td>\n",
       "    </tr>\n",
       "  </tbody>\n",
       "</table>\n",
       "</div>"
      ],
      "text/plain": [
       "                   A         B  D         C         X    F\n",
       "2013-01-01  1.101705  0.000000  5  0.055356  2.211939  NaN\n",
       "2013-01-02  1.674656  0.342139  5 -1.771765 -0.184457  1.0\n",
       "2013-01-03  0.937461  0.708011  5 -1.414944  1.045815  2.0\n",
       "2013-01-04 -0.245622  0.040975  5 -0.071897 -0.165725  3.0\n",
       "2013-01-05  0.272130 -0.830056  5 -0.587912  0.879478  4.0\n",
       "2013-01-06  1.506126 -1.202471  5  0.454408 -0.090974  5.0"
      ]
     },
     "execution_count": 61,
     "metadata": {},
     "output_type": "execute_result"
    }
   ],
   "source": [
    "df.loc[:, \"D\"] = np.array([5] * len(df))\n",
    "df"
   ]
  },
  {
   "cell_type": "code",
   "execution_count": 62,
   "metadata": {},
   "outputs": [
    {
     "data": {
      "text/html": [
       "<div>\n",
       "<style scoped>\n",
       "    .dataframe tbody tr th:only-of-type {\n",
       "        vertical-align: middle;\n",
       "    }\n",
       "\n",
       "    .dataframe tbody tr th {\n",
       "        vertical-align: top;\n",
       "    }\n",
       "\n",
       "    .dataframe thead th {\n",
       "        text-align: right;\n",
       "    }\n",
       "</style>\n",
       "<table border=\"1\" class=\"dataframe\">\n",
       "  <thead>\n",
       "    <tr style=\"text-align: right;\">\n",
       "      <th></th>\n",
       "      <th>A</th>\n",
       "      <th>B</th>\n",
       "      <th>D</th>\n",
       "      <th>C</th>\n",
       "      <th>X</th>\n",
       "      <th>F</th>\n",
       "    </tr>\n",
       "  </thead>\n",
       "  <tbody>\n",
       "    <tr>\n",
       "      <th>2013-01-01</th>\n",
       "      <td>-1.101705</td>\n",
       "      <td>0.000000</td>\n",
       "      <td>-5</td>\n",
       "      <td>-0.055356</td>\n",
       "      <td>-2.211939</td>\n",
       "      <td>NaN</td>\n",
       "    </tr>\n",
       "    <tr>\n",
       "      <th>2013-01-02</th>\n",
       "      <td>-1.674656</td>\n",
       "      <td>-0.342139</td>\n",
       "      <td>-5</td>\n",
       "      <td>-1.771765</td>\n",
       "      <td>-0.184457</td>\n",
       "      <td>-1.0</td>\n",
       "    </tr>\n",
       "    <tr>\n",
       "      <th>2013-01-03</th>\n",
       "      <td>-0.937461</td>\n",
       "      <td>-0.708011</td>\n",
       "      <td>-5</td>\n",
       "      <td>-1.414944</td>\n",
       "      <td>-1.045815</td>\n",
       "      <td>-2.0</td>\n",
       "    </tr>\n",
       "    <tr>\n",
       "      <th>2013-01-04</th>\n",
       "      <td>-0.245622</td>\n",
       "      <td>-0.040975</td>\n",
       "      <td>-5</td>\n",
       "      <td>-0.071897</td>\n",
       "      <td>-0.165725</td>\n",
       "      <td>-3.0</td>\n",
       "    </tr>\n",
       "    <tr>\n",
       "      <th>2013-01-05</th>\n",
       "      <td>-0.272130</td>\n",
       "      <td>-0.830056</td>\n",
       "      <td>-5</td>\n",
       "      <td>-0.587912</td>\n",
       "      <td>-0.879478</td>\n",
       "      <td>-4.0</td>\n",
       "    </tr>\n",
       "    <tr>\n",
       "      <th>2013-01-06</th>\n",
       "      <td>-1.506126</td>\n",
       "      <td>-1.202471</td>\n",
       "      <td>-5</td>\n",
       "      <td>-0.454408</td>\n",
       "      <td>-0.090974</td>\n",
       "      <td>-5.0</td>\n",
       "    </tr>\n",
       "  </tbody>\n",
       "</table>\n",
       "</div>"
      ],
      "text/plain": [
       "                   A         B  D         C         X    F\n",
       "2013-01-01 -1.101705  0.000000 -5 -0.055356 -2.211939  NaN\n",
       "2013-01-02 -1.674656 -0.342139 -5 -1.771765 -0.184457 -1.0\n",
       "2013-01-03 -0.937461 -0.708011 -5 -1.414944 -1.045815 -2.0\n",
       "2013-01-04 -0.245622 -0.040975 -5 -0.071897 -0.165725 -3.0\n",
       "2013-01-05 -0.272130 -0.830056 -5 -0.587912 -0.879478 -4.0\n",
       "2013-01-06 -1.506126 -1.202471 -5 -0.454408 -0.090974 -5.0"
      ]
     },
     "execution_count": 62,
     "metadata": {},
     "output_type": "execute_result"
    }
   ],
   "source": [
    "df2 = df.copy()\n",
    "df2[df2>0] = -df2\n",
    "df2"
   ]
  },
  {
   "cell_type": "markdown",
   "metadata": {},
   "source": [
    "# Missing data"
   ]
  },
  {
   "cell_type": "code",
   "execution_count": 63,
   "metadata": {},
   "outputs": [
    {
     "data": {
      "text/html": [
       "<div>\n",
       "<style scoped>\n",
       "    .dataframe tbody tr th:only-of-type {\n",
       "        vertical-align: middle;\n",
       "    }\n",
       "\n",
       "    .dataframe tbody tr th {\n",
       "        vertical-align: top;\n",
       "    }\n",
       "\n",
       "    .dataframe thead th {\n",
       "        text-align: right;\n",
       "    }\n",
       "</style>\n",
       "<table border=\"1\" class=\"dataframe\">\n",
       "  <thead>\n",
       "    <tr style=\"text-align: right;\">\n",
       "      <th></th>\n",
       "      <th>A</th>\n",
       "      <th>B</th>\n",
       "      <th>D</th>\n",
       "      <th>C</th>\n",
       "      <th>X</th>\n",
       "      <th>F</th>\n",
       "      <th>E</th>\n",
       "    </tr>\n",
       "  </thead>\n",
       "  <tbody>\n",
       "    <tr>\n",
       "      <th>2013-01-01</th>\n",
       "      <td>1.101705</td>\n",
       "      <td>0.000000</td>\n",
       "      <td>5</td>\n",
       "      <td>0.055356</td>\n",
       "      <td>2.211939</td>\n",
       "      <td>NaN</td>\n",
       "      <td>1.0</td>\n",
       "    </tr>\n",
       "    <tr>\n",
       "      <th>2013-01-02</th>\n",
       "      <td>1.674656</td>\n",
       "      <td>0.342139</td>\n",
       "      <td>5</td>\n",
       "      <td>-1.771765</td>\n",
       "      <td>-0.184457</td>\n",
       "      <td>1.0</td>\n",
       "      <td>1.0</td>\n",
       "    </tr>\n",
       "    <tr>\n",
       "      <th>2013-01-03</th>\n",
       "      <td>0.937461</td>\n",
       "      <td>0.708011</td>\n",
       "      <td>5</td>\n",
       "      <td>-1.414944</td>\n",
       "      <td>1.045815</td>\n",
       "      <td>2.0</td>\n",
       "      <td>NaN</td>\n",
       "    </tr>\n",
       "    <tr>\n",
       "      <th>2013-01-04</th>\n",
       "      <td>-0.245622</td>\n",
       "      <td>0.040975</td>\n",
       "      <td>5</td>\n",
       "      <td>-0.071897</td>\n",
       "      <td>-0.165725</td>\n",
       "      <td>3.0</td>\n",
       "      <td>NaN</td>\n",
       "    </tr>\n",
       "  </tbody>\n",
       "</table>\n",
       "</div>"
      ],
      "text/plain": [
       "                   A         B  D         C         X    F    E\n",
       "2013-01-01  1.101705  0.000000  5  0.055356  2.211939  NaN  1.0\n",
       "2013-01-02  1.674656  0.342139  5 -1.771765 -0.184457  1.0  1.0\n",
       "2013-01-03  0.937461  0.708011  5 -1.414944  1.045815  2.0  NaN\n",
       "2013-01-04 -0.245622  0.040975  5 -0.071897 -0.165725  3.0  NaN"
      ]
     },
     "execution_count": 63,
     "metadata": {},
     "output_type": "execute_result"
    }
   ],
   "source": [
    "df1 = df.reindex(index=dates[0:4], columns=list(df.columns) + [\"E\"])\n",
    "df1.loc[dates[0] : dates[1], \"E\"] = 1\n",
    "df1"
   ]
  },
  {
   "cell_type": "code",
   "execution_count": 64,
   "metadata": {},
   "outputs": [
    {
     "data": {
      "text/html": [
       "<div>\n",
       "<style scoped>\n",
       "    .dataframe tbody tr th:only-of-type {\n",
       "        vertical-align: middle;\n",
       "    }\n",
       "\n",
       "    .dataframe tbody tr th {\n",
       "        vertical-align: top;\n",
       "    }\n",
       "\n",
       "    .dataframe thead th {\n",
       "        text-align: right;\n",
       "    }\n",
       "</style>\n",
       "<table border=\"1\" class=\"dataframe\">\n",
       "  <thead>\n",
       "    <tr style=\"text-align: right;\">\n",
       "      <th></th>\n",
       "      <th>A</th>\n",
       "      <th>B</th>\n",
       "      <th>D</th>\n",
       "      <th>C</th>\n",
       "      <th>X</th>\n",
       "      <th>F</th>\n",
       "      <th>E</th>\n",
       "    </tr>\n",
       "  </thead>\n",
       "  <tbody>\n",
       "    <tr>\n",
       "      <th>2013-01-02</th>\n",
       "      <td>1.674656</td>\n",
       "      <td>0.342139</td>\n",
       "      <td>5</td>\n",
       "      <td>-1.771765</td>\n",
       "      <td>-0.184457</td>\n",
       "      <td>1.0</td>\n",
       "      <td>1.0</td>\n",
       "    </tr>\n",
       "  </tbody>\n",
       "</table>\n",
       "</div>"
      ],
      "text/plain": [
       "                   A         B  D         C         X    F    E\n",
       "2013-01-02  1.674656  0.342139  5 -1.771765 -0.184457  1.0  1.0"
      ]
     },
     "execution_count": 64,
     "metadata": {},
     "output_type": "execute_result"
    }
   ],
   "source": [
    "df1.dropna(how=\"any\")"
   ]
  },
  {
   "cell_type": "code",
   "execution_count": 65,
   "metadata": {},
   "outputs": [
    {
     "data": {
      "text/html": [
       "<div>\n",
       "<style scoped>\n",
       "    .dataframe tbody tr th:only-of-type {\n",
       "        vertical-align: middle;\n",
       "    }\n",
       "\n",
       "    .dataframe tbody tr th {\n",
       "        vertical-align: top;\n",
       "    }\n",
       "\n",
       "    .dataframe thead th {\n",
       "        text-align: right;\n",
       "    }\n",
       "</style>\n",
       "<table border=\"1\" class=\"dataframe\">\n",
       "  <thead>\n",
       "    <tr style=\"text-align: right;\">\n",
       "      <th></th>\n",
       "      <th>A</th>\n",
       "      <th>B</th>\n",
       "      <th>D</th>\n",
       "      <th>C</th>\n",
       "      <th>X</th>\n",
       "      <th>F</th>\n",
       "      <th>E</th>\n",
       "    </tr>\n",
       "  </thead>\n",
       "  <tbody>\n",
       "    <tr>\n",
       "      <th>2013-01-01</th>\n",
       "      <td>1.101705</td>\n",
       "      <td>0.000000</td>\n",
       "      <td>5</td>\n",
       "      <td>0.055356</td>\n",
       "      <td>2.211939</td>\n",
       "      <td>5.0</td>\n",
       "      <td>1.0</td>\n",
       "    </tr>\n",
       "    <tr>\n",
       "      <th>2013-01-02</th>\n",
       "      <td>1.674656</td>\n",
       "      <td>0.342139</td>\n",
       "      <td>5</td>\n",
       "      <td>-1.771765</td>\n",
       "      <td>-0.184457</td>\n",
       "      <td>1.0</td>\n",
       "      <td>1.0</td>\n",
       "    </tr>\n",
       "    <tr>\n",
       "      <th>2013-01-03</th>\n",
       "      <td>0.937461</td>\n",
       "      <td>0.708011</td>\n",
       "      <td>5</td>\n",
       "      <td>-1.414944</td>\n",
       "      <td>1.045815</td>\n",
       "      <td>2.0</td>\n",
       "      <td>5.0</td>\n",
       "    </tr>\n",
       "    <tr>\n",
       "      <th>2013-01-04</th>\n",
       "      <td>-0.245622</td>\n",
       "      <td>0.040975</td>\n",
       "      <td>5</td>\n",
       "      <td>-0.071897</td>\n",
       "      <td>-0.165725</td>\n",
       "      <td>3.0</td>\n",
       "      <td>5.0</td>\n",
       "    </tr>\n",
       "  </tbody>\n",
       "</table>\n",
       "</div>"
      ],
      "text/plain": [
       "                   A         B  D         C         X    F    E\n",
       "2013-01-01  1.101705  0.000000  5  0.055356  2.211939  5.0  1.0\n",
       "2013-01-02  1.674656  0.342139  5 -1.771765 -0.184457  1.0  1.0\n",
       "2013-01-03  0.937461  0.708011  5 -1.414944  1.045815  2.0  5.0\n",
       "2013-01-04 -0.245622  0.040975  5 -0.071897 -0.165725  3.0  5.0"
      ]
     },
     "execution_count": 65,
     "metadata": {},
     "output_type": "execute_result"
    }
   ],
   "source": [
    "df1.fillna(value=5)"
   ]
  },
  {
   "cell_type": "code",
   "execution_count": 66,
   "metadata": {},
   "outputs": [
    {
     "data": {
      "text/html": [
       "<div>\n",
       "<style scoped>\n",
       "    .dataframe tbody tr th:only-of-type {\n",
       "        vertical-align: middle;\n",
       "    }\n",
       "\n",
       "    .dataframe tbody tr th {\n",
       "        vertical-align: top;\n",
       "    }\n",
       "\n",
       "    .dataframe thead th {\n",
       "        text-align: right;\n",
       "    }\n",
       "</style>\n",
       "<table border=\"1\" class=\"dataframe\">\n",
       "  <thead>\n",
       "    <tr style=\"text-align: right;\">\n",
       "      <th></th>\n",
       "      <th>A</th>\n",
       "      <th>B</th>\n",
       "      <th>D</th>\n",
       "      <th>C</th>\n",
       "      <th>X</th>\n",
       "      <th>F</th>\n",
       "      <th>E</th>\n",
       "    </tr>\n",
       "  </thead>\n",
       "  <tbody>\n",
       "    <tr>\n",
       "      <th>2013-01-01</th>\n",
       "      <td>False</td>\n",
       "      <td>False</td>\n",
       "      <td>False</td>\n",
       "      <td>False</td>\n",
       "      <td>False</td>\n",
       "      <td>True</td>\n",
       "      <td>False</td>\n",
       "    </tr>\n",
       "    <tr>\n",
       "      <th>2013-01-02</th>\n",
       "      <td>False</td>\n",
       "      <td>False</td>\n",
       "      <td>False</td>\n",
       "      <td>False</td>\n",
       "      <td>False</td>\n",
       "      <td>False</td>\n",
       "      <td>False</td>\n",
       "    </tr>\n",
       "    <tr>\n",
       "      <th>2013-01-03</th>\n",
       "      <td>False</td>\n",
       "      <td>False</td>\n",
       "      <td>False</td>\n",
       "      <td>False</td>\n",
       "      <td>False</td>\n",
       "      <td>False</td>\n",
       "      <td>True</td>\n",
       "    </tr>\n",
       "    <tr>\n",
       "      <th>2013-01-04</th>\n",
       "      <td>False</td>\n",
       "      <td>False</td>\n",
       "      <td>False</td>\n",
       "      <td>False</td>\n",
       "      <td>False</td>\n",
       "      <td>False</td>\n",
       "      <td>True</td>\n",
       "    </tr>\n",
       "  </tbody>\n",
       "</table>\n",
       "</div>"
      ],
      "text/plain": [
       "                A      B      D      C      X      F      E\n",
       "2013-01-01  False  False  False  False  False   True  False\n",
       "2013-01-02  False  False  False  False  False  False  False\n",
       "2013-01-03  False  False  False  False  False  False   True\n",
       "2013-01-04  False  False  False  False  False  False   True"
      ]
     },
     "execution_count": 66,
     "metadata": {},
     "output_type": "execute_result"
    }
   ],
   "source": [
    "pd.isna(df1)"
   ]
  },
  {
   "cell_type": "markdown",
   "metadata": {},
   "source": [
    "# Operations"
   ]
  },
  {
   "cell_type": "code",
   "execution_count": 67,
   "metadata": {},
   "outputs": [
    {
     "data": {
      "text/plain": [
       "A    0.874409\n",
       "B   -0.156900\n",
       "D    5.000000\n",
       "C   -0.556126\n",
       "X    0.616012\n",
       "F    3.000000\n",
       "dtype: float64"
      ]
     },
     "execution_count": 67,
     "metadata": {},
     "output_type": "execute_result"
    }
   ],
   "source": [
    "df.mean()"
   ]
  },
  {
   "cell_type": "code",
   "execution_count": 68,
   "metadata": {},
   "outputs": [
    {
     "data": {
      "text/plain": [
       "2013-01-01    1.673800\n",
       "2013-01-02    1.010095\n",
       "2013-01-03    1.379391\n",
       "2013-01-04    1.259622\n",
       "2013-01-05    1.455607\n",
       "2013-01-06    1.777848\n",
       "Freq: D, dtype: float64"
      ]
     },
     "execution_count": 68,
     "metadata": {},
     "output_type": "execute_result"
    }
   ],
   "source": [
    "df.mean(1)"
   ]
  },
  {
   "cell_type": "code",
   "execution_count": 69,
   "metadata": {},
   "outputs": [
    {
     "data": {
      "text/plain": [
       "2013-01-01    NaN\n",
       "2013-01-02    NaN\n",
       "2013-01-03    1.0\n",
       "2013-01-04    3.0\n",
       "2013-01-05    5.0\n",
       "2013-01-06    NaN\n",
       "Freq: D, dtype: float64"
      ]
     },
     "execution_count": 69,
     "metadata": {},
     "output_type": "execute_result"
    }
   ],
   "source": [
    "s = pd.Series([1, 3, 5, np.nan, 6, 8], index=dates).shift(2)\n",
    "s"
   ]
  },
  {
   "cell_type": "code",
   "execution_count": 70,
   "metadata": {},
   "outputs": [
    {
     "data": {
      "text/html": [
       "<div>\n",
       "<style scoped>\n",
       "    .dataframe tbody tr th:only-of-type {\n",
       "        vertical-align: middle;\n",
       "    }\n",
       "\n",
       "    .dataframe tbody tr th {\n",
       "        vertical-align: top;\n",
       "    }\n",
       "\n",
       "    .dataframe thead th {\n",
       "        text-align: right;\n",
       "    }\n",
       "</style>\n",
       "<table border=\"1\" class=\"dataframe\">\n",
       "  <thead>\n",
       "    <tr style=\"text-align: right;\">\n",
       "      <th></th>\n",
       "      <th>A</th>\n",
       "      <th>B</th>\n",
       "      <th>D</th>\n",
       "      <th>C</th>\n",
       "      <th>X</th>\n",
       "      <th>F</th>\n",
       "    </tr>\n",
       "  </thead>\n",
       "  <tbody>\n",
       "    <tr>\n",
       "      <th>2013-01-01</th>\n",
       "      <td>NaN</td>\n",
       "      <td>NaN</td>\n",
       "      <td>NaN</td>\n",
       "      <td>NaN</td>\n",
       "      <td>NaN</td>\n",
       "      <td>NaN</td>\n",
       "    </tr>\n",
       "    <tr>\n",
       "      <th>2013-01-02</th>\n",
       "      <td>NaN</td>\n",
       "      <td>NaN</td>\n",
       "      <td>NaN</td>\n",
       "      <td>NaN</td>\n",
       "      <td>NaN</td>\n",
       "      <td>NaN</td>\n",
       "    </tr>\n",
       "    <tr>\n",
       "      <th>2013-01-03</th>\n",
       "      <td>-0.062539</td>\n",
       "      <td>-0.291989</td>\n",
       "      <td>4.0</td>\n",
       "      <td>-2.414944</td>\n",
       "      <td>0.045815</td>\n",
       "      <td>1.0</td>\n",
       "    </tr>\n",
       "    <tr>\n",
       "      <th>2013-01-04</th>\n",
       "      <td>-3.245622</td>\n",
       "      <td>-2.959025</td>\n",
       "      <td>2.0</td>\n",
       "      <td>-3.071897</td>\n",
       "      <td>-3.165725</td>\n",
       "      <td>0.0</td>\n",
       "    </tr>\n",
       "    <tr>\n",
       "      <th>2013-01-05</th>\n",
       "      <td>-4.727870</td>\n",
       "      <td>-5.830056</td>\n",
       "      <td>0.0</td>\n",
       "      <td>-5.587912</td>\n",
       "      <td>-4.120522</td>\n",
       "      <td>-1.0</td>\n",
       "    </tr>\n",
       "    <tr>\n",
       "      <th>2013-01-06</th>\n",
       "      <td>NaN</td>\n",
       "      <td>NaN</td>\n",
       "      <td>NaN</td>\n",
       "      <td>NaN</td>\n",
       "      <td>NaN</td>\n",
       "      <td>NaN</td>\n",
       "    </tr>\n",
       "  </tbody>\n",
       "</table>\n",
       "</div>"
      ],
      "text/plain": [
       "                   A         B    D         C         X    F\n",
       "2013-01-01       NaN       NaN  NaN       NaN       NaN  NaN\n",
       "2013-01-02       NaN       NaN  NaN       NaN       NaN  NaN\n",
       "2013-01-03 -0.062539 -0.291989  4.0 -2.414944  0.045815  1.0\n",
       "2013-01-04 -3.245622 -2.959025  2.0 -3.071897 -3.165725  0.0\n",
       "2013-01-05 -4.727870 -5.830056  0.0 -5.587912 -4.120522 -1.0\n",
       "2013-01-06       NaN       NaN  NaN       NaN       NaN  NaN"
      ]
     },
     "execution_count": 70,
     "metadata": {},
     "output_type": "execute_result"
    }
   ],
   "source": [
    "df.sub(s, axis=\"index\")"
   ]
  },
  {
   "cell_type": "markdown",
   "metadata": {},
   "source": [
    "# Apply"
   ]
  },
  {
   "cell_type": "code",
   "execution_count": 71,
   "metadata": {},
   "outputs": [
    {
     "data": {
      "text/html": [
       "<div>\n",
       "<style scoped>\n",
       "    .dataframe tbody tr th:only-of-type {\n",
       "        vertical-align: middle;\n",
       "    }\n",
       "\n",
       "    .dataframe tbody tr th {\n",
       "        vertical-align: top;\n",
       "    }\n",
       "\n",
       "    .dataframe thead th {\n",
       "        text-align: right;\n",
       "    }\n",
       "</style>\n",
       "<table border=\"1\" class=\"dataframe\">\n",
       "  <thead>\n",
       "    <tr style=\"text-align: right;\">\n",
       "      <th></th>\n",
       "      <th>A</th>\n",
       "      <th>B</th>\n",
       "      <th>D</th>\n",
       "      <th>C</th>\n",
       "      <th>X</th>\n",
       "      <th>F</th>\n",
       "    </tr>\n",
       "  </thead>\n",
       "  <tbody>\n",
       "    <tr>\n",
       "      <th>2013-01-01</th>\n",
       "      <td>1.101705</td>\n",
       "      <td>0.000000</td>\n",
       "      <td>5</td>\n",
       "      <td>0.055356</td>\n",
       "      <td>2.211939</td>\n",
       "      <td>NaN</td>\n",
       "    </tr>\n",
       "    <tr>\n",
       "      <th>2013-01-02</th>\n",
       "      <td>2.776361</td>\n",
       "      <td>0.342139</td>\n",
       "      <td>10</td>\n",
       "      <td>-1.716409</td>\n",
       "      <td>2.027482</td>\n",
       "      <td>1.0</td>\n",
       "    </tr>\n",
       "    <tr>\n",
       "      <th>2013-01-03</th>\n",
       "      <td>3.713822</td>\n",
       "      <td>1.050150</td>\n",
       "      <td>15</td>\n",
       "      <td>-3.131353</td>\n",
       "      <td>3.073296</td>\n",
       "      <td>3.0</td>\n",
       "    </tr>\n",
       "    <tr>\n",
       "      <th>2013-01-04</th>\n",
       "      <td>3.468201</td>\n",
       "      <td>1.091125</td>\n",
       "      <td>20</td>\n",
       "      <td>-3.203250</td>\n",
       "      <td>2.907571</td>\n",
       "      <td>6.0</td>\n",
       "    </tr>\n",
       "    <tr>\n",
       "      <th>2013-01-05</th>\n",
       "      <td>3.740330</td>\n",
       "      <td>0.261069</td>\n",
       "      <td>25</td>\n",
       "      <td>-3.791162</td>\n",
       "      <td>3.787049</td>\n",
       "      <td>10.0</td>\n",
       "    </tr>\n",
       "    <tr>\n",
       "      <th>2013-01-06</th>\n",
       "      <td>5.246456</td>\n",
       "      <td>-0.941402</td>\n",
       "      <td>30</td>\n",
       "      <td>-3.336754</td>\n",
       "      <td>3.696074</td>\n",
       "      <td>15.0</td>\n",
       "    </tr>\n",
       "  </tbody>\n",
       "</table>\n",
       "</div>"
      ],
      "text/plain": [
       "                   A         B   D         C         X     F\n",
       "2013-01-01  1.101705  0.000000   5  0.055356  2.211939   NaN\n",
       "2013-01-02  2.776361  0.342139  10 -1.716409  2.027482   1.0\n",
       "2013-01-03  3.713822  1.050150  15 -3.131353  3.073296   3.0\n",
       "2013-01-04  3.468201  1.091125  20 -3.203250  2.907571   6.0\n",
       "2013-01-05  3.740330  0.261069  25 -3.791162  3.787049  10.0\n",
       "2013-01-06  5.246456 -0.941402  30 -3.336754  3.696074  15.0"
      ]
     },
     "execution_count": 71,
     "metadata": {},
     "output_type": "execute_result"
    }
   ],
   "source": [
    "df.apply(np.cumsum)"
   ]
  },
  {
   "cell_type": "code",
   "execution_count": 72,
   "metadata": {},
   "outputs": [
    {
     "data": {
      "text/html": [
       "<div>\n",
       "<style scoped>\n",
       "    .dataframe tbody tr th:only-of-type {\n",
       "        vertical-align: middle;\n",
       "    }\n",
       "\n",
       "    .dataframe tbody tr th {\n",
       "        vertical-align: top;\n",
       "    }\n",
       "\n",
       "    .dataframe thead th {\n",
       "        text-align: right;\n",
       "    }\n",
       "</style>\n",
       "<table border=\"1\" class=\"dataframe\">\n",
       "  <thead>\n",
       "    <tr style=\"text-align: right;\">\n",
       "      <th></th>\n",
       "      <th>A</th>\n",
       "      <th>B</th>\n",
       "      <th>D</th>\n",
       "      <th>C</th>\n",
       "      <th>X</th>\n",
       "      <th>F</th>\n",
       "    </tr>\n",
       "  </thead>\n",
       "  <tbody>\n",
       "    <tr>\n",
       "      <th>2013-01-01</th>\n",
       "      <td>1.101705</td>\n",
       "      <td>0.000000</td>\n",
       "      <td>5</td>\n",
       "      <td>0.055356</td>\n",
       "      <td>2.211939</td>\n",
       "      <td>NaN</td>\n",
       "    </tr>\n",
       "    <tr>\n",
       "      <th>2013-01-02</th>\n",
       "      <td>1.674656</td>\n",
       "      <td>0.342139</td>\n",
       "      <td>5</td>\n",
       "      <td>-1.771765</td>\n",
       "      <td>-0.184457</td>\n",
       "      <td>1.0</td>\n",
       "    </tr>\n",
       "    <tr>\n",
       "      <th>2013-01-03</th>\n",
       "      <td>0.937461</td>\n",
       "      <td>0.708011</td>\n",
       "      <td>5</td>\n",
       "      <td>-1.414944</td>\n",
       "      <td>1.045815</td>\n",
       "      <td>2.0</td>\n",
       "    </tr>\n",
       "    <tr>\n",
       "      <th>2013-01-04</th>\n",
       "      <td>-0.245622</td>\n",
       "      <td>0.040975</td>\n",
       "      <td>5</td>\n",
       "      <td>-0.071897</td>\n",
       "      <td>-0.165725</td>\n",
       "      <td>3.0</td>\n",
       "    </tr>\n",
       "    <tr>\n",
       "      <th>2013-01-05</th>\n",
       "      <td>0.272130</td>\n",
       "      <td>-0.830056</td>\n",
       "      <td>5</td>\n",
       "      <td>-0.587912</td>\n",
       "      <td>0.879478</td>\n",
       "      <td>4.0</td>\n",
       "    </tr>\n",
       "    <tr>\n",
       "      <th>2013-01-06</th>\n",
       "      <td>1.506126</td>\n",
       "      <td>-1.202471</td>\n",
       "      <td>5</td>\n",
       "      <td>0.454408</td>\n",
       "      <td>-0.090974</td>\n",
       "      <td>5.0</td>\n",
       "    </tr>\n",
       "  </tbody>\n",
       "</table>\n",
       "</div>"
      ],
      "text/plain": [
       "                   A         B  D         C         X    F\n",
       "2013-01-01  1.101705  0.000000  5  0.055356  2.211939  NaN\n",
       "2013-01-02  1.674656  0.342139  5 -1.771765 -0.184457  1.0\n",
       "2013-01-03  0.937461  0.708011  5 -1.414944  1.045815  2.0\n",
       "2013-01-04 -0.245622  0.040975  5 -0.071897 -0.165725  3.0\n",
       "2013-01-05  0.272130 -0.830056  5 -0.587912  0.879478  4.0\n",
       "2013-01-06  1.506126 -1.202471  5  0.454408 -0.090974  5.0"
      ]
     },
     "execution_count": 72,
     "metadata": {},
     "output_type": "execute_result"
    }
   ],
   "source": [
    "df"
   ]
  },
  {
   "cell_type": "code",
   "execution_count": 73,
   "metadata": {},
   "outputs": [
    {
     "data": {
      "text/plain": [
       "4    3\n",
       "2    3\n",
       "5    2\n",
       "0    1\n",
       "6    1\n",
       "dtype: int64"
      ]
     },
     "execution_count": 73,
     "metadata": {},
     "output_type": "execute_result"
    }
   ],
   "source": [
    "s = pd.Series(np.random.randint(0,7, size=10))\n",
    "s.value_counts()"
   ]
  },
  {
   "cell_type": "markdown",
   "metadata": {},
   "source": [
    "# String methods"
   ]
  },
  {
   "cell_type": "code",
   "execution_count": 74,
   "metadata": {},
   "outputs": [
    {
     "data": {
      "text/plain": [
       "0       a\n",
       "1       b\n",
       "2       c\n",
       "3    aaba\n",
       "4    baca\n",
       "5     NaN\n",
       "6    caba\n",
       "7     dog\n",
       "8     cat\n",
       "dtype: object"
      ]
     },
     "execution_count": 74,
     "metadata": {},
     "output_type": "execute_result"
    }
   ],
   "source": [
    "s = pd.Series([\"A\", \"B\", \"C\", \"Aaba\", \"Baca\", np.nan, \"CABA\", \"dog\", \"cat\"])\n",
    "s.str.lower()"
   ]
  },
  {
   "cell_type": "markdown",
   "metadata": {},
   "source": [
    "# Merge"
   ]
  },
  {
   "cell_type": "markdown",
   "metadata": {},
   "source": [
    "## Concat"
   ]
  },
  {
   "cell_type": "code",
   "execution_count": 75,
   "metadata": {},
   "outputs": [
    {
     "data": {
      "text/html": [
       "<div>\n",
       "<style scoped>\n",
       "    .dataframe tbody tr th:only-of-type {\n",
       "        vertical-align: middle;\n",
       "    }\n",
       "\n",
       "    .dataframe tbody tr th {\n",
       "        vertical-align: top;\n",
       "    }\n",
       "\n",
       "    .dataframe thead th {\n",
       "        text-align: right;\n",
       "    }\n",
       "</style>\n",
       "<table border=\"1\" class=\"dataframe\">\n",
       "  <thead>\n",
       "    <tr style=\"text-align: right;\">\n",
       "      <th></th>\n",
       "      <th>0</th>\n",
       "      <th>1</th>\n",
       "      <th>2</th>\n",
       "      <th>3</th>\n",
       "    </tr>\n",
       "  </thead>\n",
       "  <tbody>\n",
       "    <tr>\n",
       "      <th>0</th>\n",
       "      <td>0.792875</td>\n",
       "      <td>2.166270</td>\n",
       "      <td>0.562020</td>\n",
       "      <td>-0.414189</td>\n",
       "    </tr>\n",
       "    <tr>\n",
       "      <th>1</th>\n",
       "      <td>0.636669</td>\n",
       "      <td>0.505163</td>\n",
       "      <td>-0.534926</td>\n",
       "      <td>0.017507</td>\n",
       "    </tr>\n",
       "    <tr>\n",
       "      <th>2</th>\n",
       "      <td>0.143420</td>\n",
       "      <td>-0.715386</td>\n",
       "      <td>0.750706</td>\n",
       "      <td>-0.152050</td>\n",
       "    </tr>\n",
       "    <tr>\n",
       "      <th>3</th>\n",
       "      <td>-0.252851</td>\n",
       "      <td>-0.390319</td>\n",
       "      <td>1.183648</td>\n",
       "      <td>-1.169422</td>\n",
       "    </tr>\n",
       "    <tr>\n",
       "      <th>4</th>\n",
       "      <td>0.653807</td>\n",
       "      <td>0.045046</td>\n",
       "      <td>-0.093372</td>\n",
       "      <td>0.668395</td>\n",
       "    </tr>\n",
       "    <tr>\n",
       "      <th>5</th>\n",
       "      <td>0.092979</td>\n",
       "      <td>0.209361</td>\n",
       "      <td>-0.637262</td>\n",
       "      <td>-0.328180</td>\n",
       "    </tr>\n",
       "    <tr>\n",
       "      <th>6</th>\n",
       "      <td>-0.503441</td>\n",
       "      <td>-1.744720</td>\n",
       "      <td>-0.496578</td>\n",
       "      <td>1.188151</td>\n",
       "    </tr>\n",
       "    <tr>\n",
       "      <th>7</th>\n",
       "      <td>-2.057159</td>\n",
       "      <td>-2.138303</td>\n",
       "      <td>-0.978603</td>\n",
       "      <td>-0.834907</td>\n",
       "    </tr>\n",
       "    <tr>\n",
       "      <th>8</th>\n",
       "      <td>-0.926348</td>\n",
       "      <td>0.466070</td>\n",
       "      <td>1.223915</td>\n",
       "      <td>-0.565706</td>\n",
       "    </tr>\n",
       "    <tr>\n",
       "      <th>9</th>\n",
       "      <td>0.134645</td>\n",
       "      <td>0.954043</td>\n",
       "      <td>-1.727925</td>\n",
       "      <td>-0.023678</td>\n",
       "    </tr>\n",
       "  </tbody>\n",
       "</table>\n",
       "</div>"
      ],
      "text/plain": [
       "          0         1         2         3\n",
       "0  0.792875  2.166270  0.562020 -0.414189\n",
       "1  0.636669  0.505163 -0.534926  0.017507\n",
       "2  0.143420 -0.715386  0.750706 -0.152050\n",
       "3 -0.252851 -0.390319  1.183648 -1.169422\n",
       "4  0.653807  0.045046 -0.093372  0.668395\n",
       "5  0.092979  0.209361 -0.637262 -0.328180\n",
       "6 -0.503441 -1.744720 -0.496578  1.188151\n",
       "7 -2.057159 -2.138303 -0.978603 -0.834907\n",
       "8 -0.926348  0.466070  1.223915 -0.565706\n",
       "9  0.134645  0.954043 -1.727925 -0.023678"
      ]
     },
     "execution_count": 75,
     "metadata": {},
     "output_type": "execute_result"
    }
   ],
   "source": [
    "df = pd.DataFrame(np.random.randn(10,4))\n",
    "df"
   ]
  },
  {
   "cell_type": "code",
   "execution_count": 76,
   "metadata": {},
   "outputs": [
    {
     "data": {
      "text/plain": [
       "[          0         1         2         3\n",
       " 0  0.792875  2.166270  0.562020 -0.414189\n",
       " 1  0.636669  0.505163 -0.534926  0.017507\n",
       " 2  0.143420 -0.715386  0.750706 -0.152050,\n",
       "           0         1         2         3\n",
       " 3 -0.252851 -0.390319  1.183648 -1.169422\n",
       " 4  0.653807  0.045046 -0.093372  0.668395\n",
       " 5  0.092979  0.209361 -0.637262 -0.328180\n",
       " 6 -0.503441 -1.744720 -0.496578  1.188151,\n",
       "           0         1         2         3\n",
       " 7 -2.057159 -2.138303 -0.978603 -0.834907\n",
       " 8 -0.926348  0.466070  1.223915 -0.565706\n",
       " 9  0.134645  0.954043 -1.727925 -0.023678]"
      ]
     },
     "execution_count": 76,
     "metadata": {},
     "output_type": "execute_result"
    }
   ],
   "source": [
    "pieces = [df[:3], df[3:7], df[7:]]\n",
    "pieces"
   ]
  },
  {
   "cell_type": "code",
   "execution_count": 77,
   "metadata": {},
   "outputs": [
    {
     "data": {
      "text/html": [
       "<div>\n",
       "<style scoped>\n",
       "    .dataframe tbody tr th:only-of-type {\n",
       "        vertical-align: middle;\n",
       "    }\n",
       "\n",
       "    .dataframe tbody tr th {\n",
       "        vertical-align: top;\n",
       "    }\n",
       "\n",
       "    .dataframe thead th {\n",
       "        text-align: right;\n",
       "    }\n",
       "</style>\n",
       "<table border=\"1\" class=\"dataframe\">\n",
       "  <thead>\n",
       "    <tr style=\"text-align: right;\">\n",
       "      <th></th>\n",
       "      <th>0</th>\n",
       "      <th>1</th>\n",
       "      <th>2</th>\n",
       "      <th>3</th>\n",
       "    </tr>\n",
       "  </thead>\n",
       "  <tbody>\n",
       "    <tr>\n",
       "      <th>0</th>\n",
       "      <td>0.792875</td>\n",
       "      <td>2.166270</td>\n",
       "      <td>0.562020</td>\n",
       "      <td>-0.414189</td>\n",
       "    </tr>\n",
       "    <tr>\n",
       "      <th>1</th>\n",
       "      <td>0.636669</td>\n",
       "      <td>0.505163</td>\n",
       "      <td>-0.534926</td>\n",
       "      <td>0.017507</td>\n",
       "    </tr>\n",
       "    <tr>\n",
       "      <th>2</th>\n",
       "      <td>0.143420</td>\n",
       "      <td>-0.715386</td>\n",
       "      <td>0.750706</td>\n",
       "      <td>-0.152050</td>\n",
       "    </tr>\n",
       "    <tr>\n",
       "      <th>3</th>\n",
       "      <td>-0.252851</td>\n",
       "      <td>-0.390319</td>\n",
       "      <td>1.183648</td>\n",
       "      <td>-1.169422</td>\n",
       "    </tr>\n",
       "    <tr>\n",
       "      <th>4</th>\n",
       "      <td>0.653807</td>\n",
       "      <td>0.045046</td>\n",
       "      <td>-0.093372</td>\n",
       "      <td>0.668395</td>\n",
       "    </tr>\n",
       "    <tr>\n",
       "      <th>5</th>\n",
       "      <td>0.092979</td>\n",
       "      <td>0.209361</td>\n",
       "      <td>-0.637262</td>\n",
       "      <td>-0.328180</td>\n",
       "    </tr>\n",
       "    <tr>\n",
       "      <th>6</th>\n",
       "      <td>-0.503441</td>\n",
       "      <td>-1.744720</td>\n",
       "      <td>-0.496578</td>\n",
       "      <td>1.188151</td>\n",
       "    </tr>\n",
       "    <tr>\n",
       "      <th>7</th>\n",
       "      <td>-2.057159</td>\n",
       "      <td>-2.138303</td>\n",
       "      <td>-0.978603</td>\n",
       "      <td>-0.834907</td>\n",
       "    </tr>\n",
       "    <tr>\n",
       "      <th>8</th>\n",
       "      <td>-0.926348</td>\n",
       "      <td>0.466070</td>\n",
       "      <td>1.223915</td>\n",
       "      <td>-0.565706</td>\n",
       "    </tr>\n",
       "    <tr>\n",
       "      <th>9</th>\n",
       "      <td>0.134645</td>\n",
       "      <td>0.954043</td>\n",
       "      <td>-1.727925</td>\n",
       "      <td>-0.023678</td>\n",
       "    </tr>\n",
       "  </tbody>\n",
       "</table>\n",
       "</div>"
      ],
      "text/plain": [
       "          0         1         2         3\n",
       "0  0.792875  2.166270  0.562020 -0.414189\n",
       "1  0.636669  0.505163 -0.534926  0.017507\n",
       "2  0.143420 -0.715386  0.750706 -0.152050\n",
       "3 -0.252851 -0.390319  1.183648 -1.169422\n",
       "4  0.653807  0.045046 -0.093372  0.668395\n",
       "5  0.092979  0.209361 -0.637262 -0.328180\n",
       "6 -0.503441 -1.744720 -0.496578  1.188151\n",
       "7 -2.057159 -2.138303 -0.978603 -0.834907\n",
       "8 -0.926348  0.466070  1.223915 -0.565706\n",
       "9  0.134645  0.954043 -1.727925 -0.023678"
      ]
     },
     "execution_count": 77,
     "metadata": {},
     "output_type": "execute_result"
    }
   ],
   "source": [
    "pd.concat(pieces)"
   ]
  },
  {
   "cell_type": "markdown",
   "metadata": {},
   "source": [
    "# Join"
   ]
  },
  {
   "cell_type": "code",
   "execution_count": null,
   "metadata": {},
   "outputs": [],
   "source": []
  }
 ],
 "metadata": {
  "kernelspec": {
   "display_name": "Python 3 (ipykernel)",
   "language": "python",
   "name": "python3"
  },
  "language_info": {
   "codemirror_mode": {
    "name": "ipython",
    "version": 3
   },
   "file_extension": ".py",
   "mimetype": "text/x-python",
   "name": "python",
   "nbconvert_exporter": "python",
   "pygments_lexer": "ipython3",
   "version": "3.8.5"
  },
  "orig_nbformat": 4
 },
 "nbformat": 4,
 "nbformat_minor": 2
}

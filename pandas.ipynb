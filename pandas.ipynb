{
 "cells": [
  {
   "cell_type": "markdown",
   "metadata": {},
   "source": [
    "# Pandas"
   ]
  },
  {
   "cell_type": "code",
   "execution_count": null,
   "metadata": {},
   "outputs": [],
   "source": []
  },
  {
   "cell_type": "code",
   "execution_count": 1,
   "metadata": {},
   "outputs": [
    {
     "data": {
      "text/plain": [
       "'1.3.3'"
      ]
     },
     "execution_count": 1,
     "metadata": {},
     "output_type": "execute_result"
    }
   ],
   "source": [
    "import numpy as np\n",
    "import pandas as pd\n",
    "pd.__version__\n"
   ]
  },
  {
   "cell_type": "markdown",
   "metadata": {},
   "source": [
    "# Object creation"
   ]
  },
  {
   "cell_type": "code",
   "execution_count": 2,
   "metadata": {},
   "outputs": [
    {
     "data": {
      "text/plain": [
       "0    1.0\n",
       "1    3.0\n",
       "2    5.0\n",
       "3    NaN\n",
       "4    6.0\n",
       "5    8.0\n",
       "dtype: float64"
      ]
     },
     "execution_count": 2,
     "metadata": {},
     "output_type": "execute_result"
    }
   ],
   "source": [
    "s = pd.Series([1, 3, 5, np.nan, 6, 8])\n",
    "s"
   ]
  },
  {
   "cell_type": "code",
   "execution_count": 3,
   "metadata": {},
   "outputs": [
    {
     "data": {
      "text/plain": [
       "DatetimeIndex(['2013-01-01', '2013-01-02', '2013-01-03', '2013-01-04',\n",
       "               '2013-01-05', '2013-01-06'],\n",
       "              dtype='datetime64[ns]', freq='D')"
      ]
     },
     "execution_count": 3,
     "metadata": {},
     "output_type": "execute_result"
    }
   ],
   "source": [
    "dates = pd.date_range(\"20130101\", periods=6)\n",
    "dates"
   ]
  },
  {
   "cell_type": "code",
   "execution_count": 4,
   "metadata": {},
   "outputs": [
    {
     "data": {
      "text/html": [
       "<div>\n",
       "<style scoped>\n",
       "    .dataframe tbody tr th:only-of-type {\n",
       "        vertical-align: middle;\n",
       "    }\n",
       "\n",
       "    .dataframe tbody tr th {\n",
       "        vertical-align: top;\n",
       "    }\n",
       "\n",
       "    .dataframe thead th {\n",
       "        text-align: right;\n",
       "    }\n",
       "</style>\n",
       "<table border=\"1\" class=\"dataframe\">\n",
       "  <thead>\n",
       "    <tr style=\"text-align: right;\">\n",
       "      <th></th>\n",
       "      <th>A</th>\n",
       "      <th>B</th>\n",
       "      <th>D</th>\n",
       "      <th>C</th>\n",
       "      <th>X</th>\n",
       "    </tr>\n",
       "  </thead>\n",
       "  <tbody>\n",
       "    <tr>\n",
       "      <th>2013-01-01</th>\n",
       "      <td>0.265321</td>\n",
       "      <td>0.245713</td>\n",
       "      <td>-0.775044</td>\n",
       "      <td>-0.499731</td>\n",
       "      <td>0.387253</td>\n",
       "    </tr>\n",
       "    <tr>\n",
       "      <th>2013-01-02</th>\n",
       "      <td>1.203653</td>\n",
       "      <td>-0.892446</td>\n",
       "      <td>-2.243681</td>\n",
       "      <td>0.491511</td>\n",
       "      <td>0.103652</td>\n",
       "    </tr>\n",
       "    <tr>\n",
       "      <th>2013-01-03</th>\n",
       "      <td>-0.344146</td>\n",
       "      <td>-0.021151</td>\n",
       "      <td>-0.272869</td>\n",
       "      <td>-0.289217</td>\n",
       "      <td>1.518457</td>\n",
       "    </tr>\n",
       "    <tr>\n",
       "      <th>2013-01-04</th>\n",
       "      <td>1.586598</td>\n",
       "      <td>1.929543</td>\n",
       "      <td>-1.940718</td>\n",
       "      <td>-1.351495</td>\n",
       "      <td>0.171966</td>\n",
       "    </tr>\n",
       "    <tr>\n",
       "      <th>2013-01-05</th>\n",
       "      <td>-0.257775</td>\n",
       "      <td>-0.051017</td>\n",
       "      <td>0.993570</td>\n",
       "      <td>-1.282187</td>\n",
       "      <td>0.198135</td>\n",
       "    </tr>\n",
       "    <tr>\n",
       "      <th>2013-01-06</th>\n",
       "      <td>-1.747506</td>\n",
       "      <td>0.670198</td>\n",
       "      <td>-1.061827</td>\n",
       "      <td>-0.533415</td>\n",
       "      <td>-0.873928</td>\n",
       "    </tr>\n",
       "  </tbody>\n",
       "</table>\n",
       "</div>"
      ],
      "text/plain": [
       "                   A         B         D         C         X\n",
       "2013-01-01  0.265321  0.245713 -0.775044 -0.499731  0.387253\n",
       "2013-01-02  1.203653 -0.892446 -2.243681  0.491511  0.103652\n",
       "2013-01-03 -0.344146 -0.021151 -0.272869 -0.289217  1.518457\n",
       "2013-01-04  1.586598  1.929543 -1.940718 -1.351495  0.171966\n",
       "2013-01-05 -0.257775 -0.051017  0.993570 -1.282187  0.198135\n",
       "2013-01-06 -1.747506  0.670198 -1.061827 -0.533415 -0.873928"
      ]
     },
     "execution_count": 4,
     "metadata": {},
     "output_type": "execute_result"
    }
   ],
   "source": [
    "df = pd.DataFrame(np.random.randn(6,5), index=dates, columns=list(\"ABDCX\"))\n",
    "df"
   ]
  },
  {
   "cell_type": "code",
   "execution_count": 5,
   "metadata": {},
   "outputs": [
    {
     "data": {
      "text/plain": [
       "array([[ 1.62853983,  0.48113197, -1.05451476,  1.30621437],\n",
       "       [-0.92165958,  0.78325006, -1.78778332,  1.47903981],\n",
       "       [-1.17745582, -0.16492567,  1.72850025, -0.45785708],\n",
       "       [-2.19393571,  0.76590926, -0.84706065,  0.66370365],\n",
       "       [-0.61907472, -0.7055981 ,  0.02924245, -0.25905992],\n",
       "       [-1.7983918 ,  0.23957645,  0.95569017, -1.67200423]])"
      ]
     },
     "execution_count": 5,
     "metadata": {},
     "output_type": "execute_result"
    }
   ],
   "source": [
    "np.random.randn(6,4)"
   ]
  },
  {
   "cell_type": "code",
   "execution_count": 6,
   "metadata": {},
   "outputs": [
    {
     "data": {
      "text/html": [
       "<div>\n",
       "<style scoped>\n",
       "    .dataframe tbody tr th:only-of-type {\n",
       "        vertical-align: middle;\n",
       "    }\n",
       "\n",
       "    .dataframe tbody tr th {\n",
       "        vertical-align: top;\n",
       "    }\n",
       "\n",
       "    .dataframe thead th {\n",
       "        text-align: right;\n",
       "    }\n",
       "</style>\n",
       "<table border=\"1\" class=\"dataframe\">\n",
       "  <thead>\n",
       "    <tr style=\"text-align: right;\">\n",
       "      <th></th>\n",
       "      <th>A</th>\n",
       "      <th>B</th>\n",
       "      <th>C</th>\n",
       "      <th>D</th>\n",
       "      <th>E</th>\n",
       "      <th>F</th>\n",
       "    </tr>\n",
       "  </thead>\n",
       "  <tbody>\n",
       "    <tr>\n",
       "      <th>0</th>\n",
       "      <td>1.0</td>\n",
       "      <td>2013-01-02</td>\n",
       "      <td>1.0</td>\n",
       "      <td>3</td>\n",
       "      <td>test</td>\n",
       "      <td>foo</td>\n",
       "    </tr>\n",
       "    <tr>\n",
       "      <th>1</th>\n",
       "      <td>1.0</td>\n",
       "      <td>2013-01-02</td>\n",
       "      <td>1.0</td>\n",
       "      <td>3</td>\n",
       "      <td>train</td>\n",
       "      <td>foo</td>\n",
       "    </tr>\n",
       "    <tr>\n",
       "      <th>2</th>\n",
       "      <td>1.0</td>\n",
       "      <td>2013-01-02</td>\n",
       "      <td>1.0</td>\n",
       "      <td>3</td>\n",
       "      <td>test</td>\n",
       "      <td>foo</td>\n",
       "    </tr>\n",
       "    <tr>\n",
       "      <th>3</th>\n",
       "      <td>1.0</td>\n",
       "      <td>2013-01-02</td>\n",
       "      <td>1.0</td>\n",
       "      <td>3</td>\n",
       "      <td>train</td>\n",
       "      <td>foo</td>\n",
       "    </tr>\n",
       "  </tbody>\n",
       "</table>\n",
       "</div>"
      ],
      "text/plain": [
       "     A          B    C  D      E    F\n",
       "0  1.0 2013-01-02  1.0  3   test  foo\n",
       "1  1.0 2013-01-02  1.0  3  train  foo\n",
       "2  1.0 2013-01-02  1.0  3   test  foo\n",
       "3  1.0 2013-01-02  1.0  3  train  foo"
      ]
     },
     "execution_count": 6,
     "metadata": {},
     "output_type": "execute_result"
    }
   ],
   "source": [
    "df2 = pd.DataFrame(\n",
    "    {\n",
    "        \"A\": 1.0,\n",
    "        \"B\": pd.Timestamp(\"20130102\"),\n",
    "        \"C\": pd.Series(1, index=list(range(4)),dtype=\"float32\"),\n",
    "        \"D\": np.array([3]*4,dtype=\"int32\"),\n",
    "        \"E\": pd.Categorical([\"test\", \"train\", \"test\", \"train\"]),\n",
    "        \"F\": \"foo\"\n",
    "    }\n",
    ")\n",
    "df2"
   ]
  },
  {
   "cell_type": "code",
   "execution_count": 7,
   "metadata": {},
   "outputs": [
    {
     "data": {
      "text/plain": [
       "A           float64\n",
       "B    datetime64[ns]\n",
       "C           float32\n",
       "D             int32\n",
       "E          category\n",
       "F            object\n",
       "dtype: object"
      ]
     },
     "execution_count": 7,
     "metadata": {},
     "output_type": "execute_result"
    }
   ],
   "source": [
    "df2.dtypes"
   ]
  },
  {
   "cell_type": "markdown",
   "metadata": {},
   "source": [
    "# Viewing data"
   ]
  },
  {
   "cell_type": "code",
   "execution_count": 8,
   "metadata": {},
   "outputs": [
    {
     "data": {
      "text/html": [
       "<div>\n",
       "<style scoped>\n",
       "    .dataframe tbody tr th:only-of-type {\n",
       "        vertical-align: middle;\n",
       "    }\n",
       "\n",
       "    .dataframe tbody tr th {\n",
       "        vertical-align: top;\n",
       "    }\n",
       "\n",
       "    .dataframe thead th {\n",
       "        text-align: right;\n",
       "    }\n",
       "</style>\n",
       "<table border=\"1\" class=\"dataframe\">\n",
       "  <thead>\n",
       "    <tr style=\"text-align: right;\">\n",
       "      <th></th>\n",
       "      <th>A</th>\n",
       "      <th>B</th>\n",
       "      <th>D</th>\n",
       "      <th>C</th>\n",
       "      <th>X</th>\n",
       "    </tr>\n",
       "  </thead>\n",
       "  <tbody>\n",
       "    <tr>\n",
       "      <th>2013-01-01</th>\n",
       "      <td>0.265321</td>\n",
       "      <td>0.245713</td>\n",
       "      <td>-0.775044</td>\n",
       "      <td>-0.499731</td>\n",
       "      <td>0.387253</td>\n",
       "    </tr>\n",
       "    <tr>\n",
       "      <th>2013-01-02</th>\n",
       "      <td>1.203653</td>\n",
       "      <td>-0.892446</td>\n",
       "      <td>-2.243681</td>\n",
       "      <td>0.491511</td>\n",
       "      <td>0.103652</td>\n",
       "    </tr>\n",
       "    <tr>\n",
       "      <th>2013-01-03</th>\n",
       "      <td>-0.344146</td>\n",
       "      <td>-0.021151</td>\n",
       "      <td>-0.272869</td>\n",
       "      <td>-0.289217</td>\n",
       "      <td>1.518457</td>\n",
       "    </tr>\n",
       "    <tr>\n",
       "      <th>2013-01-04</th>\n",
       "      <td>1.586598</td>\n",
       "      <td>1.929543</td>\n",
       "      <td>-1.940718</td>\n",
       "      <td>-1.351495</td>\n",
       "      <td>0.171966</td>\n",
       "    </tr>\n",
       "    <tr>\n",
       "      <th>2013-01-05</th>\n",
       "      <td>-0.257775</td>\n",
       "      <td>-0.051017</td>\n",
       "      <td>0.993570</td>\n",
       "      <td>-1.282187</td>\n",
       "      <td>0.198135</td>\n",
       "    </tr>\n",
       "  </tbody>\n",
       "</table>\n",
       "</div>"
      ],
      "text/plain": [
       "                   A         B         D         C         X\n",
       "2013-01-01  0.265321  0.245713 -0.775044 -0.499731  0.387253\n",
       "2013-01-02  1.203653 -0.892446 -2.243681  0.491511  0.103652\n",
       "2013-01-03 -0.344146 -0.021151 -0.272869 -0.289217  1.518457\n",
       "2013-01-04  1.586598  1.929543 -1.940718 -1.351495  0.171966\n",
       "2013-01-05 -0.257775 -0.051017  0.993570 -1.282187  0.198135"
      ]
     },
     "execution_count": 8,
     "metadata": {},
     "output_type": "execute_result"
    }
   ],
   "source": [
    "df.head()"
   ]
  },
  {
   "cell_type": "code",
   "execution_count": 9,
   "metadata": {},
   "outputs": [
    {
     "data": {
      "text/html": [
       "<div>\n",
       "<style scoped>\n",
       "    .dataframe tbody tr th:only-of-type {\n",
       "        vertical-align: middle;\n",
       "    }\n",
       "\n",
       "    .dataframe tbody tr th {\n",
       "        vertical-align: top;\n",
       "    }\n",
       "\n",
       "    .dataframe thead th {\n",
       "        text-align: right;\n",
       "    }\n",
       "</style>\n",
       "<table border=\"1\" class=\"dataframe\">\n",
       "  <thead>\n",
       "    <tr style=\"text-align: right;\">\n",
       "      <th></th>\n",
       "      <th>A</th>\n",
       "      <th>B</th>\n",
       "      <th>D</th>\n",
       "      <th>C</th>\n",
       "      <th>X</th>\n",
       "    </tr>\n",
       "  </thead>\n",
       "  <tbody>\n",
       "    <tr>\n",
       "      <th>2013-01-03</th>\n",
       "      <td>-0.344146</td>\n",
       "      <td>-0.021151</td>\n",
       "      <td>-0.272869</td>\n",
       "      <td>-0.289217</td>\n",
       "      <td>1.518457</td>\n",
       "    </tr>\n",
       "    <tr>\n",
       "      <th>2013-01-04</th>\n",
       "      <td>1.586598</td>\n",
       "      <td>1.929543</td>\n",
       "      <td>-1.940718</td>\n",
       "      <td>-1.351495</td>\n",
       "      <td>0.171966</td>\n",
       "    </tr>\n",
       "    <tr>\n",
       "      <th>2013-01-05</th>\n",
       "      <td>-0.257775</td>\n",
       "      <td>-0.051017</td>\n",
       "      <td>0.993570</td>\n",
       "      <td>-1.282187</td>\n",
       "      <td>0.198135</td>\n",
       "    </tr>\n",
       "    <tr>\n",
       "      <th>2013-01-06</th>\n",
       "      <td>-1.747506</td>\n",
       "      <td>0.670198</td>\n",
       "      <td>-1.061827</td>\n",
       "      <td>-0.533415</td>\n",
       "      <td>-0.873928</td>\n",
       "    </tr>\n",
       "  </tbody>\n",
       "</table>\n",
       "</div>"
      ],
      "text/plain": [
       "                   A         B         D         C         X\n",
       "2013-01-03 -0.344146 -0.021151 -0.272869 -0.289217  1.518457\n",
       "2013-01-04  1.586598  1.929543 -1.940718 -1.351495  0.171966\n",
       "2013-01-05 -0.257775 -0.051017  0.993570 -1.282187  0.198135\n",
       "2013-01-06 -1.747506  0.670198 -1.061827 -0.533415 -0.873928"
      ]
     },
     "execution_count": 9,
     "metadata": {},
     "output_type": "execute_result"
    }
   ],
   "source": [
    "df.tail(4)"
   ]
  },
  {
   "cell_type": "code",
   "execution_count": 10,
   "metadata": {},
   "outputs": [
    {
     "data": {
      "text/plain": [
       "DatetimeIndex(['2013-01-01', '2013-01-02', '2013-01-03', '2013-01-04',\n",
       "               '2013-01-05', '2013-01-06'],\n",
       "              dtype='datetime64[ns]', freq='D')"
      ]
     },
     "execution_count": 10,
     "metadata": {},
     "output_type": "execute_result"
    }
   ],
   "source": [
    "df.index"
   ]
  },
  {
   "cell_type": "code",
   "execution_count": 11,
   "metadata": {},
   "outputs": [
    {
     "data": {
      "text/plain": [
       "Index(['A', 'B', 'D', 'C', 'X'], dtype='object')"
      ]
     },
     "execution_count": 11,
     "metadata": {},
     "output_type": "execute_result"
    }
   ],
   "source": [
    "df.columns"
   ]
  },
  {
   "cell_type": "code",
   "execution_count": 12,
   "metadata": {},
   "outputs": [
    {
     "data": {
      "text/plain": [
       "array([[ 0.2653212 ,  0.24571345, -0.77504426, -0.49973078,  0.3872528 ],\n",
       "       [ 1.2036534 , -0.89244587, -2.24368122,  0.49151119,  0.10365193],\n",
       "       [-0.34414568, -0.02115117, -0.27286888, -0.28921714,  1.51845665],\n",
       "       [ 1.58659821,  1.92954312, -1.94071836, -1.35149493,  0.17196611],\n",
       "       [-0.25777464, -0.05101694,  0.99357046, -1.28218724,  0.19813458],\n",
       "       [-1.74750621,  0.6701985 , -1.0618275 , -0.53341515, -0.87392802]])"
      ]
     },
     "execution_count": 12,
     "metadata": {},
     "output_type": "execute_result"
    }
   ],
   "source": [
    "df.to_numpy()"
   ]
  },
  {
   "cell_type": "code",
   "execution_count": 13,
   "metadata": {},
   "outputs": [
    {
     "data": {
      "text/plain": [
       "array([[1.0, Timestamp('2013-01-02 00:00:00'), 1.0, 3, 'test', 'foo'],\n",
       "       [1.0, Timestamp('2013-01-02 00:00:00'), 1.0, 3, 'train', 'foo'],\n",
       "       [1.0, Timestamp('2013-01-02 00:00:00'), 1.0, 3, 'test', 'foo'],\n",
       "       [1.0, Timestamp('2013-01-02 00:00:00'), 1.0, 3, 'train', 'foo']],\n",
       "      dtype=object)"
      ]
     },
     "execution_count": 13,
     "metadata": {},
     "output_type": "execute_result"
    }
   ],
   "source": [
    "df2.to_numpy()"
   ]
  },
  {
   "cell_type": "code",
   "execution_count": 14,
   "metadata": {},
   "outputs": [
    {
     "data": {
      "text/html": [
       "<div>\n",
       "<style scoped>\n",
       "    .dataframe tbody tr th:only-of-type {\n",
       "        vertical-align: middle;\n",
       "    }\n",
       "\n",
       "    .dataframe tbody tr th {\n",
       "        vertical-align: top;\n",
       "    }\n",
       "\n",
       "    .dataframe thead th {\n",
       "        text-align: right;\n",
       "    }\n",
       "</style>\n",
       "<table border=\"1\" class=\"dataframe\">\n",
       "  <thead>\n",
       "    <tr style=\"text-align: right;\">\n",
       "      <th></th>\n",
       "      <th>A</th>\n",
       "      <th>B</th>\n",
       "      <th>D</th>\n",
       "      <th>C</th>\n",
       "      <th>X</th>\n",
       "    </tr>\n",
       "  </thead>\n",
       "  <tbody>\n",
       "    <tr>\n",
       "      <th>count</th>\n",
       "      <td>6.000000</td>\n",
       "      <td>6.000000</td>\n",
       "      <td>6.000000</td>\n",
       "      <td>6.000000</td>\n",
       "      <td>6.000000</td>\n",
       "    </tr>\n",
       "    <tr>\n",
       "      <th>mean</th>\n",
       "      <td>0.117691</td>\n",
       "      <td>0.313474</td>\n",
       "      <td>-0.883428</td>\n",
       "      <td>-0.577422</td>\n",
       "      <td>0.250922</td>\n",
       "    </tr>\n",
       "    <tr>\n",
       "      <th>std</th>\n",
       "      <td>1.199335</td>\n",
       "      <td>0.942613</td>\n",
       "      <td>1.175383</td>\n",
       "      <td>0.682574</td>\n",
       "      <td>0.764359</td>\n",
       "    </tr>\n",
       "    <tr>\n",
       "      <th>min</th>\n",
       "      <td>-1.747506</td>\n",
       "      <td>-0.892446</td>\n",
       "      <td>-2.243681</td>\n",
       "      <td>-1.351495</td>\n",
       "      <td>-0.873928</td>\n",
       "    </tr>\n",
       "    <tr>\n",
       "      <th>25%</th>\n",
       "      <td>-0.322553</td>\n",
       "      <td>-0.043551</td>\n",
       "      <td>-1.720996</td>\n",
       "      <td>-1.094994</td>\n",
       "      <td>0.120730</td>\n",
       "    </tr>\n",
       "    <tr>\n",
       "      <th>50%</th>\n",
       "      <td>0.003773</td>\n",
       "      <td>0.112281</td>\n",
       "      <td>-0.918436</td>\n",
       "      <td>-0.516573</td>\n",
       "      <td>0.185050</td>\n",
       "    </tr>\n",
       "    <tr>\n",
       "      <th>75%</th>\n",
       "      <td>0.969070</td>\n",
       "      <td>0.564077</td>\n",
       "      <td>-0.398413</td>\n",
       "      <td>-0.341846</td>\n",
       "      <td>0.339973</td>\n",
       "    </tr>\n",
       "    <tr>\n",
       "      <th>max</th>\n",
       "      <td>1.586598</td>\n",
       "      <td>1.929543</td>\n",
       "      <td>0.993570</td>\n",
       "      <td>0.491511</td>\n",
       "      <td>1.518457</td>\n",
       "    </tr>\n",
       "  </tbody>\n",
       "</table>\n",
       "</div>"
      ],
      "text/plain": [
       "              A         B         D         C         X\n",
       "count  6.000000  6.000000  6.000000  6.000000  6.000000\n",
       "mean   0.117691  0.313474 -0.883428 -0.577422  0.250922\n",
       "std    1.199335  0.942613  1.175383  0.682574  0.764359\n",
       "min   -1.747506 -0.892446 -2.243681 -1.351495 -0.873928\n",
       "25%   -0.322553 -0.043551 -1.720996 -1.094994  0.120730\n",
       "50%    0.003773  0.112281 -0.918436 -0.516573  0.185050\n",
       "75%    0.969070  0.564077 -0.398413 -0.341846  0.339973\n",
       "max    1.586598  1.929543  0.993570  0.491511  1.518457"
      ]
     },
     "execution_count": 14,
     "metadata": {},
     "output_type": "execute_result"
    }
   ],
   "source": [
    "df.describe()"
   ]
  },
  {
   "cell_type": "code",
   "execution_count": 15,
   "metadata": {},
   "outputs": [
    {
     "data": {
      "text/html": [
       "<div>\n",
       "<style scoped>\n",
       "    .dataframe tbody tr th:only-of-type {\n",
       "        vertical-align: middle;\n",
       "    }\n",
       "\n",
       "    .dataframe tbody tr th {\n",
       "        vertical-align: top;\n",
       "    }\n",
       "\n",
       "    .dataframe thead th {\n",
       "        text-align: right;\n",
       "    }\n",
       "</style>\n",
       "<table border=\"1\" class=\"dataframe\">\n",
       "  <thead>\n",
       "    <tr style=\"text-align: right;\">\n",
       "      <th></th>\n",
       "      <th>A</th>\n",
       "      <th>B</th>\n",
       "      <th>D</th>\n",
       "      <th>C</th>\n",
       "      <th>X</th>\n",
       "    </tr>\n",
       "  </thead>\n",
       "  <tbody>\n",
       "    <tr>\n",
       "      <th>2013-01-01</th>\n",
       "      <td>0.265321</td>\n",
       "      <td>0.245713</td>\n",
       "      <td>-0.775044</td>\n",
       "      <td>-0.499731</td>\n",
       "      <td>0.387253</td>\n",
       "    </tr>\n",
       "    <tr>\n",
       "      <th>2013-01-02</th>\n",
       "      <td>1.203653</td>\n",
       "      <td>-0.892446</td>\n",
       "      <td>-2.243681</td>\n",
       "      <td>0.491511</td>\n",
       "      <td>0.103652</td>\n",
       "    </tr>\n",
       "    <tr>\n",
       "      <th>2013-01-03</th>\n",
       "      <td>-0.344146</td>\n",
       "      <td>-0.021151</td>\n",
       "      <td>-0.272869</td>\n",
       "      <td>-0.289217</td>\n",
       "      <td>1.518457</td>\n",
       "    </tr>\n",
       "    <tr>\n",
       "      <th>2013-01-04</th>\n",
       "      <td>1.586598</td>\n",
       "      <td>1.929543</td>\n",
       "      <td>-1.940718</td>\n",
       "      <td>-1.351495</td>\n",
       "      <td>0.171966</td>\n",
       "    </tr>\n",
       "    <tr>\n",
       "      <th>2013-01-05</th>\n",
       "      <td>-0.257775</td>\n",
       "      <td>-0.051017</td>\n",
       "      <td>0.993570</td>\n",
       "      <td>-1.282187</td>\n",
       "      <td>0.198135</td>\n",
       "    </tr>\n",
       "    <tr>\n",
       "      <th>2013-01-06</th>\n",
       "      <td>-1.747506</td>\n",
       "      <td>0.670198</td>\n",
       "      <td>-1.061827</td>\n",
       "      <td>-0.533415</td>\n",
       "      <td>-0.873928</td>\n",
       "    </tr>\n",
       "  </tbody>\n",
       "</table>\n",
       "</div>"
      ],
      "text/plain": [
       "                   A         B         D         C         X\n",
       "2013-01-01  0.265321  0.245713 -0.775044 -0.499731  0.387253\n",
       "2013-01-02  1.203653 -0.892446 -2.243681  0.491511  0.103652\n",
       "2013-01-03 -0.344146 -0.021151 -0.272869 -0.289217  1.518457\n",
       "2013-01-04  1.586598  1.929543 -1.940718 -1.351495  0.171966\n",
       "2013-01-05 -0.257775 -0.051017  0.993570 -1.282187  0.198135\n",
       "2013-01-06 -1.747506  0.670198 -1.061827 -0.533415 -0.873928"
      ]
     },
     "execution_count": 15,
     "metadata": {},
     "output_type": "execute_result"
    }
   ],
   "source": [
    "df"
   ]
  },
  {
   "cell_type": "code",
   "execution_count": 16,
   "metadata": {},
   "outputs": [
    {
     "data": {
      "text/html": [
       "<div>\n",
       "<style scoped>\n",
       "    .dataframe tbody tr th:only-of-type {\n",
       "        vertical-align: middle;\n",
       "    }\n",
       "\n",
       "    .dataframe tbody tr th {\n",
       "        vertical-align: top;\n",
       "    }\n",
       "\n",
       "    .dataframe thead th {\n",
       "        text-align: right;\n",
       "    }\n",
       "</style>\n",
       "<table border=\"1\" class=\"dataframe\">\n",
       "  <thead>\n",
       "    <tr style=\"text-align: right;\">\n",
       "      <th></th>\n",
       "      <th>X</th>\n",
       "      <th>D</th>\n",
       "      <th>C</th>\n",
       "      <th>B</th>\n",
       "      <th>A</th>\n",
       "    </tr>\n",
       "  </thead>\n",
       "  <tbody>\n",
       "    <tr>\n",
       "      <th>2013-01-01</th>\n",
       "      <td>0.387253</td>\n",
       "      <td>-0.775044</td>\n",
       "      <td>-0.499731</td>\n",
       "      <td>0.245713</td>\n",
       "      <td>0.265321</td>\n",
       "    </tr>\n",
       "    <tr>\n",
       "      <th>2013-01-02</th>\n",
       "      <td>0.103652</td>\n",
       "      <td>-2.243681</td>\n",
       "      <td>0.491511</td>\n",
       "      <td>-0.892446</td>\n",
       "      <td>1.203653</td>\n",
       "    </tr>\n",
       "    <tr>\n",
       "      <th>2013-01-03</th>\n",
       "      <td>1.518457</td>\n",
       "      <td>-0.272869</td>\n",
       "      <td>-0.289217</td>\n",
       "      <td>-0.021151</td>\n",
       "      <td>-0.344146</td>\n",
       "    </tr>\n",
       "    <tr>\n",
       "      <th>2013-01-04</th>\n",
       "      <td>0.171966</td>\n",
       "      <td>-1.940718</td>\n",
       "      <td>-1.351495</td>\n",
       "      <td>1.929543</td>\n",
       "      <td>1.586598</td>\n",
       "    </tr>\n",
       "    <tr>\n",
       "      <th>2013-01-05</th>\n",
       "      <td>0.198135</td>\n",
       "      <td>0.993570</td>\n",
       "      <td>-1.282187</td>\n",
       "      <td>-0.051017</td>\n",
       "      <td>-0.257775</td>\n",
       "    </tr>\n",
       "    <tr>\n",
       "      <th>2013-01-06</th>\n",
       "      <td>-0.873928</td>\n",
       "      <td>-1.061827</td>\n",
       "      <td>-0.533415</td>\n",
       "      <td>0.670198</td>\n",
       "      <td>-1.747506</td>\n",
       "    </tr>\n",
       "  </tbody>\n",
       "</table>\n",
       "</div>"
      ],
      "text/plain": [
       "                   X         D         C         B         A\n",
       "2013-01-01  0.387253 -0.775044 -0.499731  0.245713  0.265321\n",
       "2013-01-02  0.103652 -2.243681  0.491511 -0.892446  1.203653\n",
       "2013-01-03  1.518457 -0.272869 -0.289217 -0.021151 -0.344146\n",
       "2013-01-04  0.171966 -1.940718 -1.351495  1.929543  1.586598\n",
       "2013-01-05  0.198135  0.993570 -1.282187 -0.051017 -0.257775\n",
       "2013-01-06 -0.873928 -1.061827 -0.533415  0.670198 -1.747506"
      ]
     },
     "execution_count": 16,
     "metadata": {},
     "output_type": "execute_result"
    }
   ],
   "source": [
    "df.sort_index(axis=1, ascending=False)"
   ]
  },
  {
   "cell_type": "code",
   "execution_count": 17,
   "metadata": {},
   "outputs": [
    {
     "data": {
      "text/html": [
       "<div>\n",
       "<style scoped>\n",
       "    .dataframe tbody tr th:only-of-type {\n",
       "        vertical-align: middle;\n",
       "    }\n",
       "\n",
       "    .dataframe tbody tr th {\n",
       "        vertical-align: top;\n",
       "    }\n",
       "\n",
       "    .dataframe thead th {\n",
       "        text-align: right;\n",
       "    }\n",
       "</style>\n",
       "<table border=\"1\" class=\"dataframe\">\n",
       "  <thead>\n",
       "    <tr style=\"text-align: right;\">\n",
       "      <th></th>\n",
       "      <th>A</th>\n",
       "      <th>B</th>\n",
       "      <th>D</th>\n",
       "      <th>C</th>\n",
       "      <th>X</th>\n",
       "    </tr>\n",
       "  </thead>\n",
       "  <tbody>\n",
       "    <tr>\n",
       "      <th>2013-01-03</th>\n",
       "      <td>-0.344146</td>\n",
       "      <td>-0.021151</td>\n",
       "      <td>-0.272869</td>\n",
       "      <td>-0.289217</td>\n",
       "      <td>1.518457</td>\n",
       "    </tr>\n",
       "    <tr>\n",
       "      <th>2013-01-01</th>\n",
       "      <td>0.265321</td>\n",
       "      <td>0.245713</td>\n",
       "      <td>-0.775044</td>\n",
       "      <td>-0.499731</td>\n",
       "      <td>0.387253</td>\n",
       "    </tr>\n",
       "    <tr>\n",
       "      <th>2013-01-05</th>\n",
       "      <td>-0.257775</td>\n",
       "      <td>-0.051017</td>\n",
       "      <td>0.993570</td>\n",
       "      <td>-1.282187</td>\n",
       "      <td>0.198135</td>\n",
       "    </tr>\n",
       "    <tr>\n",
       "      <th>2013-01-04</th>\n",
       "      <td>1.586598</td>\n",
       "      <td>1.929543</td>\n",
       "      <td>-1.940718</td>\n",
       "      <td>-1.351495</td>\n",
       "      <td>0.171966</td>\n",
       "    </tr>\n",
       "    <tr>\n",
       "      <th>2013-01-02</th>\n",
       "      <td>1.203653</td>\n",
       "      <td>-0.892446</td>\n",
       "      <td>-2.243681</td>\n",
       "      <td>0.491511</td>\n",
       "      <td>0.103652</td>\n",
       "    </tr>\n",
       "    <tr>\n",
       "      <th>2013-01-06</th>\n",
       "      <td>-1.747506</td>\n",
       "      <td>0.670198</td>\n",
       "      <td>-1.061827</td>\n",
       "      <td>-0.533415</td>\n",
       "      <td>-0.873928</td>\n",
       "    </tr>\n",
       "  </tbody>\n",
       "</table>\n",
       "</div>"
      ],
      "text/plain": [
       "                   A         B         D         C         X\n",
       "2013-01-03 -0.344146 -0.021151 -0.272869 -0.289217  1.518457\n",
       "2013-01-01  0.265321  0.245713 -0.775044 -0.499731  0.387253\n",
       "2013-01-05 -0.257775 -0.051017  0.993570 -1.282187  0.198135\n",
       "2013-01-04  1.586598  1.929543 -1.940718 -1.351495  0.171966\n",
       "2013-01-02  1.203653 -0.892446 -2.243681  0.491511  0.103652\n",
       "2013-01-06 -1.747506  0.670198 -1.061827 -0.533415 -0.873928"
      ]
     },
     "execution_count": 17,
     "metadata": {},
     "output_type": "execute_result"
    }
   ],
   "source": [
    "df.sort_values(by=\"X\", ascending=False)"
   ]
  },
  {
   "cell_type": "markdown",
   "metadata": {},
   "source": [
    "# Getting"
   ]
  },
  {
   "cell_type": "code",
   "execution_count": 18,
   "metadata": {},
   "outputs": [
    {
     "data": {
      "text/plain": [
       "2013-01-01   -0.775044\n",
       "2013-01-02   -2.243681\n",
       "2013-01-03   -0.272869\n",
       "2013-01-04   -1.940718\n",
       "2013-01-05    0.993570\n",
       "2013-01-06   -1.061827\n",
       "Freq: D, Name: D, dtype: float64"
      ]
     },
     "execution_count": 18,
     "metadata": {},
     "output_type": "execute_result"
    }
   ],
   "source": [
    "df.D"
   ]
  },
  {
   "cell_type": "code",
   "execution_count": 19,
   "metadata": {},
   "outputs": [
    {
     "data": {
      "text/html": [
       "<div>\n",
       "<style scoped>\n",
       "    .dataframe tbody tr th:only-of-type {\n",
       "        vertical-align: middle;\n",
       "    }\n",
       "\n",
       "    .dataframe tbody tr th {\n",
       "        vertical-align: top;\n",
       "    }\n",
       "\n",
       "    .dataframe thead th {\n",
       "        text-align: right;\n",
       "    }\n",
       "</style>\n",
       "<table border=\"1\" class=\"dataframe\">\n",
       "  <thead>\n",
       "    <tr style=\"text-align: right;\">\n",
       "      <th></th>\n",
       "      <th>A</th>\n",
       "      <th>B</th>\n",
       "      <th>D</th>\n",
       "      <th>C</th>\n",
       "      <th>X</th>\n",
       "    </tr>\n",
       "  </thead>\n",
       "  <tbody>\n",
       "    <tr>\n",
       "      <th>2013-01-01</th>\n",
       "      <td>0.265321</td>\n",
       "      <td>0.245713</td>\n",
       "      <td>-0.775044</td>\n",
       "      <td>-0.499731</td>\n",
       "      <td>0.387253</td>\n",
       "    </tr>\n",
       "    <tr>\n",
       "      <th>2013-01-02</th>\n",
       "      <td>1.203653</td>\n",
       "      <td>-0.892446</td>\n",
       "      <td>-2.243681</td>\n",
       "      <td>0.491511</td>\n",
       "      <td>0.103652</td>\n",
       "    </tr>\n",
       "  </tbody>\n",
       "</table>\n",
       "</div>"
      ],
      "text/plain": [
       "                   A         B         D         C         X\n",
       "2013-01-01  0.265321  0.245713 -0.775044 -0.499731  0.387253\n",
       "2013-01-02  1.203653 -0.892446 -2.243681  0.491511  0.103652"
      ]
     },
     "execution_count": 19,
     "metadata": {},
     "output_type": "execute_result"
    }
   ],
   "source": [
    "df[0:2]"
   ]
  },
  {
   "cell_type": "code",
   "execution_count": 20,
   "metadata": {},
   "outputs": [
    {
     "data": {
      "text/html": [
       "<div>\n",
       "<style scoped>\n",
       "    .dataframe tbody tr th:only-of-type {\n",
       "        vertical-align: middle;\n",
       "    }\n",
       "\n",
       "    .dataframe tbody tr th {\n",
       "        vertical-align: top;\n",
       "    }\n",
       "\n",
       "    .dataframe thead th {\n",
       "        text-align: right;\n",
       "    }\n",
       "</style>\n",
       "<table border=\"1\" class=\"dataframe\">\n",
       "  <thead>\n",
       "    <tr style=\"text-align: right;\">\n",
       "      <th></th>\n",
       "      <th>A</th>\n",
       "      <th>B</th>\n",
       "      <th>D</th>\n",
       "      <th>C</th>\n",
       "      <th>X</th>\n",
       "    </tr>\n",
       "  </thead>\n",
       "  <tbody>\n",
       "    <tr>\n",
       "      <th>2013-01-05</th>\n",
       "      <td>-0.257775</td>\n",
       "      <td>-0.051017</td>\n",
       "      <td>0.993570</td>\n",
       "      <td>-1.282187</td>\n",
       "      <td>0.198135</td>\n",
       "    </tr>\n",
       "    <tr>\n",
       "      <th>2013-01-06</th>\n",
       "      <td>-1.747506</td>\n",
       "      <td>0.670198</td>\n",
       "      <td>-1.061827</td>\n",
       "      <td>-0.533415</td>\n",
       "      <td>-0.873928</td>\n",
       "    </tr>\n",
       "  </tbody>\n",
       "</table>\n",
       "</div>"
      ],
      "text/plain": [
       "                   A         B         D         C         X\n",
       "2013-01-05 -0.257775 -0.051017  0.993570 -1.282187  0.198135\n",
       "2013-01-06 -1.747506  0.670198 -1.061827 -0.533415 -0.873928"
      ]
     },
     "execution_count": 20,
     "metadata": {},
     "output_type": "execute_result"
    }
   ],
   "source": [
    "df[\"2013-01-05\":\"2013-01-06\"]"
   ]
  },
  {
   "cell_type": "markdown",
   "metadata": {},
   "source": [
    "# Selection by label"
   ]
  },
  {
   "cell_type": "code",
   "execution_count": 21,
   "metadata": {},
   "outputs": [
    {
     "data": {
      "text/plain": [
       "A    0.265321\n",
       "B    0.245713\n",
       "D   -0.775044\n",
       "C   -0.499731\n",
       "X    0.387253\n",
       "Name: 2013-01-01 00:00:00, dtype: float64"
      ]
     },
     "execution_count": 21,
     "metadata": {},
     "output_type": "execute_result"
    }
   ],
   "source": [
    "df.loc[dates[0]]"
   ]
  },
  {
   "cell_type": "code",
   "execution_count": 22,
   "metadata": {},
   "outputs": [
    {
     "data": {
      "text/html": [
       "<div>\n",
       "<style scoped>\n",
       "    .dataframe tbody tr th:only-of-type {\n",
       "        vertical-align: middle;\n",
       "    }\n",
       "\n",
       "    .dataframe tbody tr th {\n",
       "        vertical-align: top;\n",
       "    }\n",
       "\n",
       "    .dataframe thead th {\n",
       "        text-align: right;\n",
       "    }\n",
       "</style>\n",
       "<table border=\"1\" class=\"dataframe\">\n",
       "  <thead>\n",
       "    <tr style=\"text-align: right;\">\n",
       "      <th></th>\n",
       "      <th>A</th>\n",
       "      <th>B</th>\n",
       "      <th>D</th>\n",
       "      <th>C</th>\n",
       "      <th>X</th>\n",
       "    </tr>\n",
       "  </thead>\n",
       "  <tbody>\n",
       "    <tr>\n",
       "      <th>2013-01-01</th>\n",
       "      <td>0.265321</td>\n",
       "      <td>0.245713</td>\n",
       "      <td>-0.775044</td>\n",
       "      <td>-0.499731</td>\n",
       "      <td>0.387253</td>\n",
       "    </tr>\n",
       "    <tr>\n",
       "      <th>2013-01-02</th>\n",
       "      <td>1.203653</td>\n",
       "      <td>-0.892446</td>\n",
       "      <td>-2.243681</td>\n",
       "      <td>0.491511</td>\n",
       "      <td>0.103652</td>\n",
       "    </tr>\n",
       "    <tr>\n",
       "      <th>2013-01-03</th>\n",
       "      <td>-0.344146</td>\n",
       "      <td>-0.021151</td>\n",
       "      <td>-0.272869</td>\n",
       "      <td>-0.289217</td>\n",
       "      <td>1.518457</td>\n",
       "    </tr>\n",
       "    <tr>\n",
       "      <th>2013-01-04</th>\n",
       "      <td>1.586598</td>\n",
       "      <td>1.929543</td>\n",
       "      <td>-1.940718</td>\n",
       "      <td>-1.351495</td>\n",
       "      <td>0.171966</td>\n",
       "    </tr>\n",
       "    <tr>\n",
       "      <th>2013-01-05</th>\n",
       "      <td>-0.257775</td>\n",
       "      <td>-0.051017</td>\n",
       "      <td>0.993570</td>\n",
       "      <td>-1.282187</td>\n",
       "      <td>0.198135</td>\n",
       "    </tr>\n",
       "    <tr>\n",
       "      <th>2013-01-06</th>\n",
       "      <td>-1.747506</td>\n",
       "      <td>0.670198</td>\n",
       "      <td>-1.061827</td>\n",
       "      <td>-0.533415</td>\n",
       "      <td>-0.873928</td>\n",
       "    </tr>\n",
       "  </tbody>\n",
       "</table>\n",
       "</div>"
      ],
      "text/plain": [
       "                   A         B         D         C         X\n",
       "2013-01-01  0.265321  0.245713 -0.775044 -0.499731  0.387253\n",
       "2013-01-02  1.203653 -0.892446 -2.243681  0.491511  0.103652\n",
       "2013-01-03 -0.344146 -0.021151 -0.272869 -0.289217  1.518457\n",
       "2013-01-04  1.586598  1.929543 -1.940718 -1.351495  0.171966\n",
       "2013-01-05 -0.257775 -0.051017  0.993570 -1.282187  0.198135\n",
       "2013-01-06 -1.747506  0.670198 -1.061827 -0.533415 -0.873928"
      ]
     },
     "execution_count": 22,
     "metadata": {},
     "output_type": "execute_result"
    }
   ],
   "source": [
    "df"
   ]
  },
  {
   "cell_type": "code",
   "execution_count": 23,
   "metadata": {},
   "outputs": [
    {
     "data": {
      "text/html": [
       "<div>\n",
       "<style scoped>\n",
       "    .dataframe tbody tr th:only-of-type {\n",
       "        vertical-align: middle;\n",
       "    }\n",
       "\n",
       "    .dataframe tbody tr th {\n",
       "        vertical-align: top;\n",
       "    }\n",
       "\n",
       "    .dataframe thead th {\n",
       "        text-align: right;\n",
       "    }\n",
       "</style>\n",
       "<table border=\"1\" class=\"dataframe\">\n",
       "  <thead>\n",
       "    <tr style=\"text-align: right;\">\n",
       "      <th></th>\n",
       "      <th>D</th>\n",
       "      <th>X</th>\n",
       "    </tr>\n",
       "  </thead>\n",
       "  <tbody>\n",
       "    <tr>\n",
       "      <th>2013-01-01</th>\n",
       "      <td>-0.775044</td>\n",
       "      <td>0.387253</td>\n",
       "    </tr>\n",
       "    <tr>\n",
       "      <th>2013-01-02</th>\n",
       "      <td>-2.243681</td>\n",
       "      <td>0.103652</td>\n",
       "    </tr>\n",
       "    <tr>\n",
       "      <th>2013-01-03</th>\n",
       "      <td>-0.272869</td>\n",
       "      <td>1.518457</td>\n",
       "    </tr>\n",
       "    <tr>\n",
       "      <th>2013-01-04</th>\n",
       "      <td>-1.940718</td>\n",
       "      <td>0.171966</td>\n",
       "    </tr>\n",
       "    <tr>\n",
       "      <th>2013-01-05</th>\n",
       "      <td>0.993570</td>\n",
       "      <td>0.198135</td>\n",
       "    </tr>\n",
       "    <tr>\n",
       "      <th>2013-01-06</th>\n",
       "      <td>-1.061827</td>\n",
       "      <td>-0.873928</td>\n",
       "    </tr>\n",
       "  </tbody>\n",
       "</table>\n",
       "</div>"
      ],
      "text/plain": [
       "                   D         X\n",
       "2013-01-01 -0.775044  0.387253\n",
       "2013-01-02 -2.243681  0.103652\n",
       "2013-01-03 -0.272869  1.518457\n",
       "2013-01-04 -1.940718  0.171966\n",
       "2013-01-05  0.993570  0.198135\n",
       "2013-01-06 -1.061827 -0.873928"
      ]
     },
     "execution_count": 23,
     "metadata": {},
     "output_type": "execute_result"
    }
   ],
   "source": [
    "df.loc[:,[\"D\",\"X\"]]"
   ]
  },
  {
   "cell_type": "code",
   "execution_count": 24,
   "metadata": {},
   "outputs": [
    {
     "data": {
      "text/html": [
       "<div>\n",
       "<style scoped>\n",
       "    .dataframe tbody tr th:only-of-type {\n",
       "        vertical-align: middle;\n",
       "    }\n",
       "\n",
       "    .dataframe tbody tr th {\n",
       "        vertical-align: top;\n",
       "    }\n",
       "\n",
       "    .dataframe thead th {\n",
       "        text-align: right;\n",
       "    }\n",
       "</style>\n",
       "<table border=\"1\" class=\"dataframe\">\n",
       "  <thead>\n",
       "    <tr style=\"text-align: right;\">\n",
       "      <th></th>\n",
       "      <th>X</th>\n",
       "      <th>C</th>\n",
       "      <th>D</th>\n",
       "    </tr>\n",
       "  </thead>\n",
       "  <tbody>\n",
       "    <tr>\n",
       "      <th>2013-01-02</th>\n",
       "      <td>0.103652</td>\n",
       "      <td>0.491511</td>\n",
       "      <td>-2.243681</td>\n",
       "    </tr>\n",
       "    <tr>\n",
       "      <th>2013-01-03</th>\n",
       "      <td>1.518457</td>\n",
       "      <td>-0.289217</td>\n",
       "      <td>-0.272869</td>\n",
       "    </tr>\n",
       "  </tbody>\n",
       "</table>\n",
       "</div>"
      ],
      "text/plain": [
       "                   X         C         D\n",
       "2013-01-02  0.103652  0.491511 -2.243681\n",
       "2013-01-03  1.518457 -0.289217 -0.272869"
      ]
     },
     "execution_count": 24,
     "metadata": {},
     "output_type": "execute_result"
    }
   ],
   "source": [
    "df.loc[\"2013-01-02\":\"2013-01-03\", [\"X\", \"C\",\"D\"]]"
   ]
  },
  {
   "cell_type": "code",
   "execution_count": 25,
   "metadata": {},
   "outputs": [
    {
     "data": {
      "text/plain": [
       "-0.28921713711668606"
      ]
     },
     "execution_count": 25,
     "metadata": {},
     "output_type": "execute_result"
    }
   ],
   "source": [
    "df.loc[\"20130103\", \"C\"]"
   ]
  },
  {
   "cell_type": "code",
   "execution_count": 26,
   "metadata": {},
   "outputs": [
    {
     "data": {
      "text/plain": [
       "1.518456649679037"
      ]
     },
     "execution_count": 26,
     "metadata": {},
     "output_type": "execute_result"
    }
   ],
   "source": [
    "df.at[dates[2],\"X\"]"
   ]
  },
  {
   "cell_type": "code",
   "execution_count": 27,
   "metadata": {},
   "outputs": [
    {
     "data": {
      "text/plain": [
       "A    1.203653\n",
       "B   -0.892446\n",
       "D   -2.243681\n",
       "C    0.491511\n",
       "X    0.103652\n",
       "Name: 2013-01-02 00:00:00, dtype: float64"
      ]
     },
     "execution_count": 27,
     "metadata": {},
     "output_type": "execute_result"
    }
   ],
   "source": [
    "df.iloc[1]"
   ]
  },
  {
   "cell_type": "code",
   "execution_count": 28,
   "metadata": {},
   "outputs": [
    {
     "data": {
      "text/html": [
       "<div>\n",
       "<style scoped>\n",
       "    .dataframe tbody tr th:only-of-type {\n",
       "        vertical-align: middle;\n",
       "    }\n",
       "\n",
       "    .dataframe tbody tr th {\n",
       "        vertical-align: top;\n",
       "    }\n",
       "\n",
       "    .dataframe thead th {\n",
       "        text-align: right;\n",
       "    }\n",
       "</style>\n",
       "<table border=\"1\" class=\"dataframe\">\n",
       "  <thead>\n",
       "    <tr style=\"text-align: right;\">\n",
       "      <th></th>\n",
       "      <th>D</th>\n",
       "      <th>C</th>\n",
       "      <th>X</th>\n",
       "    </tr>\n",
       "  </thead>\n",
       "  <tbody>\n",
       "    <tr>\n",
       "      <th>2013-01-04</th>\n",
       "      <td>-1.940718</td>\n",
       "      <td>-1.351495</td>\n",
       "      <td>0.171966</td>\n",
       "    </tr>\n",
       "    <tr>\n",
       "      <th>2013-01-05</th>\n",
       "      <td>0.993570</td>\n",
       "      <td>-1.282187</td>\n",
       "      <td>0.198135</td>\n",
       "    </tr>\n",
       "  </tbody>\n",
       "</table>\n",
       "</div>"
      ],
      "text/plain": [
       "                   D         C         X\n",
       "2013-01-04 -1.940718 -1.351495  0.171966\n",
       "2013-01-05  0.993570 -1.282187  0.198135"
      ]
     },
     "execution_count": 28,
     "metadata": {},
     "output_type": "execute_result"
    }
   ],
   "source": [
    "df.iloc[3:5, 2:]"
   ]
  },
  {
   "cell_type": "code",
   "execution_count": 29,
   "metadata": {},
   "outputs": [
    {
     "data": {
      "text/html": [
       "<div>\n",
       "<style scoped>\n",
       "    .dataframe tbody tr th:only-of-type {\n",
       "        vertical-align: middle;\n",
       "    }\n",
       "\n",
       "    .dataframe tbody tr th {\n",
       "        vertical-align: top;\n",
       "    }\n",
       "\n",
       "    .dataframe thead th {\n",
       "        text-align: right;\n",
       "    }\n",
       "</style>\n",
       "<table border=\"1\" class=\"dataframe\">\n",
       "  <thead>\n",
       "    <tr style=\"text-align: right;\">\n",
       "      <th></th>\n",
       "      <th>D</th>\n",
       "      <th>A</th>\n",
       "    </tr>\n",
       "  </thead>\n",
       "  <tbody>\n",
       "    <tr>\n",
       "      <th>2013-01-02</th>\n",
       "      <td>-2.243681</td>\n",
       "      <td>1.203653</td>\n",
       "    </tr>\n",
       "    <tr>\n",
       "      <th>2013-01-04</th>\n",
       "      <td>-1.940718</td>\n",
       "      <td>1.586598</td>\n",
       "    </tr>\n",
       "    <tr>\n",
       "      <th>2013-01-05</th>\n",
       "      <td>0.993570</td>\n",
       "      <td>-0.257775</td>\n",
       "    </tr>\n",
       "  </tbody>\n",
       "</table>\n",
       "</div>"
      ],
      "text/plain": [
       "                   D         A\n",
       "2013-01-02 -2.243681  1.203653\n",
       "2013-01-04 -1.940718  1.586598\n",
       "2013-01-05  0.993570 -0.257775"
      ]
     },
     "execution_count": 29,
     "metadata": {},
     "output_type": "execute_result"
    }
   ],
   "source": [
    "df.iloc[[1,3,4],[2,0]]"
   ]
  },
  {
   "cell_type": "code",
   "execution_count": 30,
   "metadata": {},
   "outputs": [
    {
     "data": {
      "text/html": [
       "<div>\n",
       "<style scoped>\n",
       "    .dataframe tbody tr th:only-of-type {\n",
       "        vertical-align: middle;\n",
       "    }\n",
       "\n",
       "    .dataframe tbody tr th {\n",
       "        vertical-align: top;\n",
       "    }\n",
       "\n",
       "    .dataframe thead th {\n",
       "        text-align: right;\n",
       "    }\n",
       "</style>\n",
       "<table border=\"1\" class=\"dataframe\">\n",
       "  <thead>\n",
       "    <tr style=\"text-align: right;\">\n",
       "      <th></th>\n",
       "      <th>A</th>\n",
       "      <th>B</th>\n",
       "      <th>D</th>\n",
       "      <th>C</th>\n",
       "      <th>X</th>\n",
       "    </tr>\n",
       "  </thead>\n",
       "  <tbody>\n",
       "    <tr>\n",
       "      <th>2013-01-01</th>\n",
       "      <td>0.265321</td>\n",
       "      <td>0.245713</td>\n",
       "      <td>-0.775044</td>\n",
       "      <td>-0.499731</td>\n",
       "      <td>0.387253</td>\n",
       "    </tr>\n",
       "    <tr>\n",
       "      <th>2013-01-02</th>\n",
       "      <td>1.203653</td>\n",
       "      <td>-0.892446</td>\n",
       "      <td>-2.243681</td>\n",
       "      <td>0.491511</td>\n",
       "      <td>0.103652</td>\n",
       "    </tr>\n",
       "    <tr>\n",
       "      <th>2013-01-03</th>\n",
       "      <td>-0.344146</td>\n",
       "      <td>-0.021151</td>\n",
       "      <td>-0.272869</td>\n",
       "      <td>-0.289217</td>\n",
       "      <td>1.518457</td>\n",
       "    </tr>\n",
       "  </tbody>\n",
       "</table>\n",
       "</div>"
      ],
      "text/plain": [
       "                   A         B         D         C         X\n",
       "2013-01-01  0.265321  0.245713 -0.775044 -0.499731  0.387253\n",
       "2013-01-02  1.203653 -0.892446 -2.243681  0.491511  0.103652\n",
       "2013-01-03 -0.344146 -0.021151 -0.272869 -0.289217  1.518457"
      ]
     },
     "execution_count": 30,
     "metadata": {},
     "output_type": "execute_result"
    }
   ],
   "source": [
    "df.iloc[0:3,:]"
   ]
  },
  {
   "cell_type": "code",
   "execution_count": 31,
   "metadata": {},
   "outputs": [
    {
     "data": {
      "text/html": [
       "<div>\n",
       "<style scoped>\n",
       "    .dataframe tbody tr th:only-of-type {\n",
       "        vertical-align: middle;\n",
       "    }\n",
       "\n",
       "    .dataframe tbody tr th {\n",
       "        vertical-align: top;\n",
       "    }\n",
       "\n",
       "    .dataframe thead th {\n",
       "        text-align: right;\n",
       "    }\n",
       "</style>\n",
       "<table border=\"1\" class=\"dataframe\">\n",
       "  <thead>\n",
       "    <tr style=\"text-align: right;\">\n",
       "      <th></th>\n",
       "      <th>A</th>\n",
       "      <th>B</th>\n",
       "      <th>D</th>\n",
       "    </tr>\n",
       "  </thead>\n",
       "  <tbody>\n",
       "    <tr>\n",
       "      <th>2013-01-01</th>\n",
       "      <td>0.265321</td>\n",
       "      <td>0.245713</td>\n",
       "      <td>-0.775044</td>\n",
       "    </tr>\n",
       "    <tr>\n",
       "      <th>2013-01-02</th>\n",
       "      <td>1.203653</td>\n",
       "      <td>-0.892446</td>\n",
       "      <td>-2.243681</td>\n",
       "    </tr>\n",
       "    <tr>\n",
       "      <th>2013-01-03</th>\n",
       "      <td>-0.344146</td>\n",
       "      <td>-0.021151</td>\n",
       "      <td>-0.272869</td>\n",
       "    </tr>\n",
       "    <tr>\n",
       "      <th>2013-01-04</th>\n",
       "      <td>1.586598</td>\n",
       "      <td>1.929543</td>\n",
       "      <td>-1.940718</td>\n",
       "    </tr>\n",
       "    <tr>\n",
       "      <th>2013-01-05</th>\n",
       "      <td>-0.257775</td>\n",
       "      <td>-0.051017</td>\n",
       "      <td>0.993570</td>\n",
       "    </tr>\n",
       "    <tr>\n",
       "      <th>2013-01-06</th>\n",
       "      <td>-1.747506</td>\n",
       "      <td>0.670198</td>\n",
       "      <td>-1.061827</td>\n",
       "    </tr>\n",
       "  </tbody>\n",
       "</table>\n",
       "</div>"
      ],
      "text/plain": [
       "                   A         B         D\n",
       "2013-01-01  0.265321  0.245713 -0.775044\n",
       "2013-01-02  1.203653 -0.892446 -2.243681\n",
       "2013-01-03 -0.344146 -0.021151 -0.272869\n",
       "2013-01-04  1.586598  1.929543 -1.940718\n",
       "2013-01-05 -0.257775 -0.051017  0.993570\n",
       "2013-01-06 -1.747506  0.670198 -1.061827"
      ]
     },
     "execution_count": 31,
     "metadata": {},
     "output_type": "execute_result"
    }
   ],
   "source": [
    "df.iloc[:,0:3]"
   ]
  },
  {
   "cell_type": "code",
   "execution_count": 32,
   "metadata": {},
   "outputs": [
    {
     "data": {
      "text/plain": [
       "-0.892445866423123"
      ]
     },
     "execution_count": 32,
     "metadata": {},
     "output_type": "execute_result"
    }
   ],
   "source": [
    "df.iloc[1,1]"
   ]
  },
  {
   "cell_type": "code",
   "execution_count": 33,
   "metadata": {},
   "outputs": [
    {
     "data": {
      "text/plain": [
       "0.26532119607295823"
      ]
     },
     "execution_count": 33,
     "metadata": {},
     "output_type": "execute_result"
    }
   ],
   "source": [
    "df.iat[0,0]"
   ]
  },
  {
   "cell_type": "markdown",
   "metadata": {},
   "source": [
    "# Boolean indexing"
   ]
  },
  {
   "cell_type": "code",
   "execution_count": 34,
   "metadata": {},
   "outputs": [
    {
     "data": {
      "text/html": [
       "<div>\n",
       "<style scoped>\n",
       "    .dataframe tbody tr th:only-of-type {\n",
       "        vertical-align: middle;\n",
       "    }\n",
       "\n",
       "    .dataframe tbody tr th {\n",
       "        vertical-align: top;\n",
       "    }\n",
       "\n",
       "    .dataframe thead th {\n",
       "        text-align: right;\n",
       "    }\n",
       "</style>\n",
       "<table border=\"1\" class=\"dataframe\">\n",
       "  <thead>\n",
       "    <tr style=\"text-align: right;\">\n",
       "      <th></th>\n",
       "      <th>A</th>\n",
       "      <th>B</th>\n",
       "      <th>D</th>\n",
       "      <th>C</th>\n",
       "      <th>X</th>\n",
       "    </tr>\n",
       "  </thead>\n",
       "  <tbody>\n",
       "    <tr>\n",
       "      <th>2013-01-01</th>\n",
       "      <td>0.265321</td>\n",
       "      <td>0.245713</td>\n",
       "      <td>-0.775044</td>\n",
       "      <td>-0.499731</td>\n",
       "      <td>0.387253</td>\n",
       "    </tr>\n",
       "    <tr>\n",
       "      <th>2013-01-02</th>\n",
       "      <td>1.203653</td>\n",
       "      <td>-0.892446</td>\n",
       "      <td>-2.243681</td>\n",
       "      <td>0.491511</td>\n",
       "      <td>0.103652</td>\n",
       "    </tr>\n",
       "    <tr>\n",
       "      <th>2013-01-04</th>\n",
       "      <td>1.586598</td>\n",
       "      <td>1.929543</td>\n",
       "      <td>-1.940718</td>\n",
       "      <td>-1.351495</td>\n",
       "      <td>0.171966</td>\n",
       "    </tr>\n",
       "  </tbody>\n",
       "</table>\n",
       "</div>"
      ],
      "text/plain": [
       "                   A         B         D         C         X\n",
       "2013-01-01  0.265321  0.245713 -0.775044 -0.499731  0.387253\n",
       "2013-01-02  1.203653 -0.892446 -2.243681  0.491511  0.103652\n",
       "2013-01-04  1.586598  1.929543 -1.940718 -1.351495  0.171966"
      ]
     },
     "execution_count": 34,
     "metadata": {},
     "output_type": "execute_result"
    }
   ],
   "source": [
    "df[df[\"A\"]>0]"
   ]
  },
  {
   "cell_type": "code",
   "execution_count": 35,
   "metadata": {},
   "outputs": [
    {
     "data": {
      "text/html": [
       "<div>\n",
       "<style scoped>\n",
       "    .dataframe tbody tr th:only-of-type {\n",
       "        vertical-align: middle;\n",
       "    }\n",
       "\n",
       "    .dataframe tbody tr th {\n",
       "        vertical-align: top;\n",
       "    }\n",
       "\n",
       "    .dataframe thead th {\n",
       "        text-align: right;\n",
       "    }\n",
       "</style>\n",
       "<table border=\"1\" class=\"dataframe\">\n",
       "  <thead>\n",
       "    <tr style=\"text-align: right;\">\n",
       "      <th></th>\n",
       "      <th>A</th>\n",
       "      <th>B</th>\n",
       "      <th>D</th>\n",
       "      <th>C</th>\n",
       "      <th>X</th>\n",
       "    </tr>\n",
       "  </thead>\n",
       "  <tbody>\n",
       "    <tr>\n",
       "      <th>2013-01-01</th>\n",
       "      <td>NaN</td>\n",
       "      <td>NaN</td>\n",
       "      <td>-0.775044</td>\n",
       "      <td>-0.499731</td>\n",
       "      <td>NaN</td>\n",
       "    </tr>\n",
       "    <tr>\n",
       "      <th>2013-01-02</th>\n",
       "      <td>NaN</td>\n",
       "      <td>-0.892446</td>\n",
       "      <td>-2.243681</td>\n",
       "      <td>NaN</td>\n",
       "      <td>NaN</td>\n",
       "    </tr>\n",
       "    <tr>\n",
       "      <th>2013-01-03</th>\n",
       "      <td>-0.344146</td>\n",
       "      <td>-0.021151</td>\n",
       "      <td>-0.272869</td>\n",
       "      <td>-0.289217</td>\n",
       "      <td>NaN</td>\n",
       "    </tr>\n",
       "    <tr>\n",
       "      <th>2013-01-04</th>\n",
       "      <td>NaN</td>\n",
       "      <td>NaN</td>\n",
       "      <td>-1.940718</td>\n",
       "      <td>-1.351495</td>\n",
       "      <td>NaN</td>\n",
       "    </tr>\n",
       "    <tr>\n",
       "      <th>2013-01-05</th>\n",
       "      <td>-0.257775</td>\n",
       "      <td>-0.051017</td>\n",
       "      <td>NaN</td>\n",
       "      <td>-1.282187</td>\n",
       "      <td>NaN</td>\n",
       "    </tr>\n",
       "    <tr>\n",
       "      <th>2013-01-06</th>\n",
       "      <td>-1.747506</td>\n",
       "      <td>NaN</td>\n",
       "      <td>-1.061827</td>\n",
       "      <td>-0.533415</td>\n",
       "      <td>-0.873928</td>\n",
       "    </tr>\n",
       "  </tbody>\n",
       "</table>\n",
       "</div>"
      ],
      "text/plain": [
       "                   A         B         D         C         X\n",
       "2013-01-01       NaN       NaN -0.775044 -0.499731       NaN\n",
       "2013-01-02       NaN -0.892446 -2.243681       NaN       NaN\n",
       "2013-01-03 -0.344146 -0.021151 -0.272869 -0.289217       NaN\n",
       "2013-01-04       NaN       NaN -1.940718 -1.351495       NaN\n",
       "2013-01-05 -0.257775 -0.051017       NaN -1.282187       NaN\n",
       "2013-01-06 -1.747506       NaN -1.061827 -0.533415 -0.873928"
      ]
     },
     "execution_count": 35,
     "metadata": {},
     "output_type": "execute_result"
    }
   ],
   "source": [
    "df[df<0]"
   ]
  },
  {
   "cell_type": "markdown",
   "metadata": {},
   "source": [
    "## Using two column values to select data"
   ]
  },
  {
   "cell_type": "code",
   "execution_count": 36,
   "metadata": {},
   "outputs": [
    {
     "data": {
      "text/html": [
       "<div>\n",
       "<style scoped>\n",
       "    .dataframe tbody tr th:only-of-type {\n",
       "        vertical-align: middle;\n",
       "    }\n",
       "\n",
       "    .dataframe tbody tr th {\n",
       "        vertical-align: top;\n",
       "    }\n",
       "\n",
       "    .dataframe thead th {\n",
       "        text-align: right;\n",
       "    }\n",
       "</style>\n",
       "<table border=\"1\" class=\"dataframe\">\n",
       "  <thead>\n",
       "    <tr style=\"text-align: right;\">\n",
       "      <th></th>\n",
       "      <th>A</th>\n",
       "      <th>B</th>\n",
       "      <th>D</th>\n",
       "      <th>C</th>\n",
       "      <th>X</th>\n",
       "    </tr>\n",
       "  </thead>\n",
       "  <tbody>\n",
       "    <tr>\n",
       "      <th>2013-01-01</th>\n",
       "      <td>0.265321</td>\n",
       "      <td>0.245713</td>\n",
       "      <td>-0.775044</td>\n",
       "      <td>-0.499731</td>\n",
       "      <td>0.387253</td>\n",
       "    </tr>\n",
       "    <tr>\n",
       "      <th>2013-01-02</th>\n",
       "      <td>1.203653</td>\n",
       "      <td>-0.892446</td>\n",
       "      <td>-2.243681</td>\n",
       "      <td>0.491511</td>\n",
       "      <td>0.103652</td>\n",
       "    </tr>\n",
       "    <tr>\n",
       "      <th>2013-01-04</th>\n",
       "      <td>1.586598</td>\n",
       "      <td>1.929543</td>\n",
       "      <td>-1.940718</td>\n",
       "      <td>-1.351495</td>\n",
       "      <td>0.171966</td>\n",
       "    </tr>\n",
       "  </tbody>\n",
       "</table>\n",
       "</div>"
      ],
      "text/plain": [
       "                   A         B         D         C         X\n",
       "2013-01-01  0.265321  0.245713 -0.775044 -0.499731  0.387253\n",
       "2013-01-02  1.203653 -0.892446 -2.243681  0.491511  0.103652\n",
       "2013-01-04  1.586598  1.929543 -1.940718 -1.351495  0.171966"
      ]
     },
     "execution_count": 36,
     "metadata": {},
     "output_type": "execute_result"
    }
   ],
   "source": [
    "df[(df[\"A\"]>0) & (df[\"D\"]<0)]"
   ]
  },
  {
   "cell_type": "code",
   "execution_count": 37,
   "metadata": {},
   "outputs": [
    {
     "data": {
      "text/html": [
       "<div>\n",
       "<style scoped>\n",
       "    .dataframe tbody tr th:only-of-type {\n",
       "        vertical-align: middle;\n",
       "    }\n",
       "\n",
       "    .dataframe tbody tr th {\n",
       "        vertical-align: top;\n",
       "    }\n",
       "\n",
       "    .dataframe thead th {\n",
       "        text-align: right;\n",
       "    }\n",
       "</style>\n",
       "<table border=\"1\" class=\"dataframe\">\n",
       "  <thead>\n",
       "    <tr style=\"text-align: right;\">\n",
       "      <th></th>\n",
       "      <th>A</th>\n",
       "      <th>B</th>\n",
       "      <th>D</th>\n",
       "      <th>C</th>\n",
       "      <th>X</th>\n",
       "      <th>E</th>\n",
       "    </tr>\n",
       "  </thead>\n",
       "  <tbody>\n",
       "    <tr>\n",
       "      <th>2013-01-01</th>\n",
       "      <td>0.265321</td>\n",
       "      <td>0.245713</td>\n",
       "      <td>-0.775044</td>\n",
       "      <td>-0.499731</td>\n",
       "      <td>0.387253</td>\n",
       "      <td>one</td>\n",
       "    </tr>\n",
       "    <tr>\n",
       "      <th>2013-01-02</th>\n",
       "      <td>1.203653</td>\n",
       "      <td>-0.892446</td>\n",
       "      <td>-2.243681</td>\n",
       "      <td>0.491511</td>\n",
       "      <td>0.103652</td>\n",
       "      <td>one</td>\n",
       "    </tr>\n",
       "    <tr>\n",
       "      <th>2013-01-03</th>\n",
       "      <td>-0.344146</td>\n",
       "      <td>-0.021151</td>\n",
       "      <td>-0.272869</td>\n",
       "      <td>-0.289217</td>\n",
       "      <td>1.518457</td>\n",
       "      <td>two</td>\n",
       "    </tr>\n",
       "    <tr>\n",
       "      <th>2013-01-04</th>\n",
       "      <td>1.586598</td>\n",
       "      <td>1.929543</td>\n",
       "      <td>-1.940718</td>\n",
       "      <td>-1.351495</td>\n",
       "      <td>0.171966</td>\n",
       "      <td>three</td>\n",
       "    </tr>\n",
       "    <tr>\n",
       "      <th>2013-01-05</th>\n",
       "      <td>-0.257775</td>\n",
       "      <td>-0.051017</td>\n",
       "      <td>0.993570</td>\n",
       "      <td>-1.282187</td>\n",
       "      <td>0.198135</td>\n",
       "      <td>four</td>\n",
       "    </tr>\n",
       "    <tr>\n",
       "      <th>2013-01-06</th>\n",
       "      <td>-1.747506</td>\n",
       "      <td>0.670198</td>\n",
       "      <td>-1.061827</td>\n",
       "      <td>-0.533415</td>\n",
       "      <td>-0.873928</td>\n",
       "      <td>three</td>\n",
       "    </tr>\n",
       "  </tbody>\n",
       "</table>\n",
       "</div>"
      ],
      "text/plain": [
       "                   A         B         D         C         X      E\n",
       "2013-01-01  0.265321  0.245713 -0.775044 -0.499731  0.387253    one\n",
       "2013-01-02  1.203653 -0.892446 -2.243681  0.491511  0.103652    one\n",
       "2013-01-03 -0.344146 -0.021151 -0.272869 -0.289217  1.518457    two\n",
       "2013-01-04  1.586598  1.929543 -1.940718 -1.351495  0.171966  three\n",
       "2013-01-05 -0.257775 -0.051017  0.993570 -1.282187  0.198135   four\n",
       "2013-01-06 -1.747506  0.670198 -1.061827 -0.533415 -0.873928  three"
      ]
     },
     "execution_count": 37,
     "metadata": {},
     "output_type": "execute_result"
    }
   ],
   "source": [
    "df2 = df.copy()\n",
    "df2[\"E\"] = [\"one\", \"one\", \"two\", \"three\", \"four\", \"three\"]\n",
    "df2"
   ]
  },
  {
   "cell_type": "code",
   "execution_count": 38,
   "metadata": {},
   "outputs": [
    {
     "data": {
      "text/html": [
       "<div>\n",
       "<style scoped>\n",
       "    .dataframe tbody tr th:only-of-type {\n",
       "        vertical-align: middle;\n",
       "    }\n",
       "\n",
       "    .dataframe tbody tr th {\n",
       "        vertical-align: top;\n",
       "    }\n",
       "\n",
       "    .dataframe thead th {\n",
       "        text-align: right;\n",
       "    }\n",
       "</style>\n",
       "<table border=\"1\" class=\"dataframe\">\n",
       "  <thead>\n",
       "    <tr style=\"text-align: right;\">\n",
       "      <th></th>\n",
       "      <th>A</th>\n",
       "      <th>B</th>\n",
       "      <th>D</th>\n",
       "      <th>C</th>\n",
       "      <th>X</th>\n",
       "      <th>E</th>\n",
       "    </tr>\n",
       "  </thead>\n",
       "  <tbody>\n",
       "    <tr>\n",
       "      <th>2013-01-01</th>\n",
       "      <td>0.265321</td>\n",
       "      <td>0.245713</td>\n",
       "      <td>-0.775044</td>\n",
       "      <td>-0.499731</td>\n",
       "      <td>0.387253</td>\n",
       "      <td>one</td>\n",
       "    </tr>\n",
       "    <tr>\n",
       "      <th>2013-01-02</th>\n",
       "      <td>1.203653</td>\n",
       "      <td>-0.892446</td>\n",
       "      <td>-2.243681</td>\n",
       "      <td>0.491511</td>\n",
       "      <td>0.103652</td>\n",
       "      <td>one</td>\n",
       "    </tr>\n",
       "    <tr>\n",
       "      <th>2013-01-04</th>\n",
       "      <td>1.586598</td>\n",
       "      <td>1.929543</td>\n",
       "      <td>-1.940718</td>\n",
       "      <td>-1.351495</td>\n",
       "      <td>0.171966</td>\n",
       "      <td>three</td>\n",
       "    </tr>\n",
       "    <tr>\n",
       "      <th>2013-01-06</th>\n",
       "      <td>-1.747506</td>\n",
       "      <td>0.670198</td>\n",
       "      <td>-1.061827</td>\n",
       "      <td>-0.533415</td>\n",
       "      <td>-0.873928</td>\n",
       "      <td>three</td>\n",
       "    </tr>\n",
       "  </tbody>\n",
       "</table>\n",
       "</div>"
      ],
      "text/plain": [
       "                   A         B         D         C         X      E\n",
       "2013-01-01  0.265321  0.245713 -0.775044 -0.499731  0.387253    one\n",
       "2013-01-02  1.203653 -0.892446 -2.243681  0.491511  0.103652    one\n",
       "2013-01-04  1.586598  1.929543 -1.940718 -1.351495  0.171966  three\n",
       "2013-01-06 -1.747506  0.670198 -1.061827 -0.533415 -0.873928  three"
      ]
     },
     "execution_count": 38,
     "metadata": {},
     "output_type": "execute_result"
    }
   ],
   "source": [
    "df2[df2[\"E\"].isin([\"one\", \"three\"])]"
   ]
  },
  {
   "cell_type": "markdown",
   "metadata": {},
   "source": [
    "# Setting"
   ]
  },
  {
   "cell_type": "code",
   "execution_count": 39,
   "metadata": {},
   "outputs": [],
   "source": [
    "s1 = pd.Series([1, 2, 3, 4, 5, 6], index = pd.date_range(\"20130102\", periods=6))\n",
    "s1\n",
    "df[\"F\"] = s1"
   ]
  },
  {
   "cell_type": "code",
   "execution_count": 40,
   "metadata": {},
   "outputs": [],
   "source": [
    "df.at[dates[0], \"B\"] = 0"
   ]
  },
  {
   "cell_type": "code",
   "execution_count": 41,
   "metadata": {},
   "outputs": [
    {
     "data": {
      "text/html": [
       "<div>\n",
       "<style scoped>\n",
       "    .dataframe tbody tr th:only-of-type {\n",
       "        vertical-align: middle;\n",
       "    }\n",
       "\n",
       "    .dataframe tbody tr th {\n",
       "        vertical-align: top;\n",
       "    }\n",
       "\n",
       "    .dataframe thead th {\n",
       "        text-align: right;\n",
       "    }\n",
       "</style>\n",
       "<table border=\"1\" class=\"dataframe\">\n",
       "  <thead>\n",
       "    <tr style=\"text-align: right;\">\n",
       "      <th></th>\n",
       "      <th>A</th>\n",
       "      <th>B</th>\n",
       "      <th>D</th>\n",
       "      <th>C</th>\n",
       "      <th>X</th>\n",
       "      <th>F</th>\n",
       "    </tr>\n",
       "  </thead>\n",
       "  <tbody>\n",
       "    <tr>\n",
       "      <th>2013-01-01</th>\n",
       "      <td>0.265321</td>\n",
       "      <td>0.000000</td>\n",
       "      <td>-0.775044</td>\n",
       "      <td>-0.499731</td>\n",
       "      <td>0.387253</td>\n",
       "      <td>NaN</td>\n",
       "    </tr>\n",
       "    <tr>\n",
       "      <th>2013-01-02</th>\n",
       "      <td>1.203653</td>\n",
       "      <td>-0.892446</td>\n",
       "      <td>-2.243681</td>\n",
       "      <td>0.491511</td>\n",
       "      <td>0.103652</td>\n",
       "      <td>1.0</td>\n",
       "    </tr>\n",
       "    <tr>\n",
       "      <th>2013-01-03</th>\n",
       "      <td>-0.344146</td>\n",
       "      <td>-0.021151</td>\n",
       "      <td>-0.272869</td>\n",
       "      <td>-0.289217</td>\n",
       "      <td>1.518457</td>\n",
       "      <td>2.0</td>\n",
       "    </tr>\n",
       "    <tr>\n",
       "      <th>2013-01-04</th>\n",
       "      <td>1.586598</td>\n",
       "      <td>1.929543</td>\n",
       "      <td>-1.940718</td>\n",
       "      <td>-1.351495</td>\n",
       "      <td>0.171966</td>\n",
       "      <td>3.0</td>\n",
       "    </tr>\n",
       "    <tr>\n",
       "      <th>2013-01-05</th>\n",
       "      <td>-0.257775</td>\n",
       "      <td>-0.051017</td>\n",
       "      <td>0.993570</td>\n",
       "      <td>-1.282187</td>\n",
       "      <td>0.198135</td>\n",
       "      <td>4.0</td>\n",
       "    </tr>\n",
       "    <tr>\n",
       "      <th>2013-01-06</th>\n",
       "      <td>-1.747506</td>\n",
       "      <td>0.670198</td>\n",
       "      <td>-1.061827</td>\n",
       "      <td>-0.533415</td>\n",
       "      <td>-0.873928</td>\n",
       "      <td>5.0</td>\n",
       "    </tr>\n",
       "  </tbody>\n",
       "</table>\n",
       "</div>"
      ],
      "text/plain": [
       "                   A         B         D         C         X    F\n",
       "2013-01-01  0.265321  0.000000 -0.775044 -0.499731  0.387253  NaN\n",
       "2013-01-02  1.203653 -0.892446 -2.243681  0.491511  0.103652  1.0\n",
       "2013-01-03 -0.344146 -0.021151 -0.272869 -0.289217  1.518457  2.0\n",
       "2013-01-04  1.586598  1.929543 -1.940718 -1.351495  0.171966  3.0\n",
       "2013-01-05 -0.257775 -0.051017  0.993570 -1.282187  0.198135  4.0\n",
       "2013-01-06 -1.747506  0.670198 -1.061827 -0.533415 -0.873928  5.0"
      ]
     },
     "execution_count": 41,
     "metadata": {},
     "output_type": "execute_result"
    }
   ],
   "source": [
    "df.iat[0,1] = 0\n",
    "df"
   ]
  },
  {
   "cell_type": "code",
   "execution_count": 42,
   "metadata": {},
   "outputs": [
    {
     "data": {
      "text/plain": [
       "2013-01-01   -0.775044\n",
       "2013-01-02   -2.243681\n",
       "2013-01-03   -0.272869\n",
       "2013-01-04   -1.940718\n",
       "2013-01-05    0.993570\n",
       "2013-01-06   -1.061827\n",
       "Freq: D, Name: D, dtype: float64"
      ]
     },
     "execution_count": 42,
     "metadata": {},
     "output_type": "execute_result"
    }
   ],
   "source": [
    "df.loc[:, \"D\"]"
   ]
  },
  {
   "cell_type": "code",
   "execution_count": 43,
   "metadata": {},
   "outputs": [
    {
     "data": {
      "text/html": [
       "<div>\n",
       "<style scoped>\n",
       "    .dataframe tbody tr th:only-of-type {\n",
       "        vertical-align: middle;\n",
       "    }\n",
       "\n",
       "    .dataframe tbody tr th {\n",
       "        vertical-align: top;\n",
       "    }\n",
       "\n",
       "    .dataframe thead th {\n",
       "        text-align: right;\n",
       "    }\n",
       "</style>\n",
       "<table border=\"1\" class=\"dataframe\">\n",
       "  <thead>\n",
       "    <tr style=\"text-align: right;\">\n",
       "      <th></th>\n",
       "      <th>A</th>\n",
       "      <th>B</th>\n",
       "      <th>D</th>\n",
       "      <th>C</th>\n",
       "      <th>X</th>\n",
       "      <th>F</th>\n",
       "    </tr>\n",
       "  </thead>\n",
       "  <tbody>\n",
       "    <tr>\n",
       "      <th>2013-01-01</th>\n",
       "      <td>0.265321</td>\n",
       "      <td>0.000000</td>\n",
       "      <td>5</td>\n",
       "      <td>-0.499731</td>\n",
       "      <td>0.387253</td>\n",
       "      <td>NaN</td>\n",
       "    </tr>\n",
       "    <tr>\n",
       "      <th>2013-01-02</th>\n",
       "      <td>1.203653</td>\n",
       "      <td>-0.892446</td>\n",
       "      <td>5</td>\n",
       "      <td>0.491511</td>\n",
       "      <td>0.103652</td>\n",
       "      <td>1.0</td>\n",
       "    </tr>\n",
       "    <tr>\n",
       "      <th>2013-01-03</th>\n",
       "      <td>-0.344146</td>\n",
       "      <td>-0.021151</td>\n",
       "      <td>5</td>\n",
       "      <td>-0.289217</td>\n",
       "      <td>1.518457</td>\n",
       "      <td>2.0</td>\n",
       "    </tr>\n",
       "    <tr>\n",
       "      <th>2013-01-04</th>\n",
       "      <td>1.586598</td>\n",
       "      <td>1.929543</td>\n",
       "      <td>5</td>\n",
       "      <td>-1.351495</td>\n",
       "      <td>0.171966</td>\n",
       "      <td>3.0</td>\n",
       "    </tr>\n",
       "    <tr>\n",
       "      <th>2013-01-05</th>\n",
       "      <td>-0.257775</td>\n",
       "      <td>-0.051017</td>\n",
       "      <td>5</td>\n",
       "      <td>-1.282187</td>\n",
       "      <td>0.198135</td>\n",
       "      <td>4.0</td>\n",
       "    </tr>\n",
       "    <tr>\n",
       "      <th>2013-01-06</th>\n",
       "      <td>-1.747506</td>\n",
       "      <td>0.670198</td>\n",
       "      <td>5</td>\n",
       "      <td>-0.533415</td>\n",
       "      <td>-0.873928</td>\n",
       "      <td>5.0</td>\n",
       "    </tr>\n",
       "  </tbody>\n",
       "</table>\n",
       "</div>"
      ],
      "text/plain": [
       "                   A         B  D         C         X    F\n",
       "2013-01-01  0.265321  0.000000  5 -0.499731  0.387253  NaN\n",
       "2013-01-02  1.203653 -0.892446  5  0.491511  0.103652  1.0\n",
       "2013-01-03 -0.344146 -0.021151  5 -0.289217  1.518457  2.0\n",
       "2013-01-04  1.586598  1.929543  5 -1.351495  0.171966  3.0\n",
       "2013-01-05 -0.257775 -0.051017  5 -1.282187  0.198135  4.0\n",
       "2013-01-06 -1.747506  0.670198  5 -0.533415 -0.873928  5.0"
      ]
     },
     "execution_count": 43,
     "metadata": {},
     "output_type": "execute_result"
    }
   ],
   "source": [
    "df.loc[:, \"D\"] = np.array([5] * len(df))\n",
    "df"
   ]
  },
  {
   "cell_type": "code",
   "execution_count": 44,
   "metadata": {},
   "outputs": [
    {
     "data": {
      "text/html": [
       "<div>\n",
       "<style scoped>\n",
       "    .dataframe tbody tr th:only-of-type {\n",
       "        vertical-align: middle;\n",
       "    }\n",
       "\n",
       "    .dataframe tbody tr th {\n",
       "        vertical-align: top;\n",
       "    }\n",
       "\n",
       "    .dataframe thead th {\n",
       "        text-align: right;\n",
       "    }\n",
       "</style>\n",
       "<table border=\"1\" class=\"dataframe\">\n",
       "  <thead>\n",
       "    <tr style=\"text-align: right;\">\n",
       "      <th></th>\n",
       "      <th>A</th>\n",
       "      <th>B</th>\n",
       "      <th>D</th>\n",
       "      <th>C</th>\n",
       "      <th>X</th>\n",
       "      <th>F</th>\n",
       "    </tr>\n",
       "  </thead>\n",
       "  <tbody>\n",
       "    <tr>\n",
       "      <th>2013-01-01</th>\n",
       "      <td>-0.265321</td>\n",
       "      <td>0.000000</td>\n",
       "      <td>-5</td>\n",
       "      <td>-0.499731</td>\n",
       "      <td>-0.387253</td>\n",
       "      <td>NaN</td>\n",
       "    </tr>\n",
       "    <tr>\n",
       "      <th>2013-01-02</th>\n",
       "      <td>-1.203653</td>\n",
       "      <td>-0.892446</td>\n",
       "      <td>-5</td>\n",
       "      <td>-0.491511</td>\n",
       "      <td>-0.103652</td>\n",
       "      <td>-1.0</td>\n",
       "    </tr>\n",
       "    <tr>\n",
       "      <th>2013-01-03</th>\n",
       "      <td>-0.344146</td>\n",
       "      <td>-0.021151</td>\n",
       "      <td>-5</td>\n",
       "      <td>-0.289217</td>\n",
       "      <td>-1.518457</td>\n",
       "      <td>-2.0</td>\n",
       "    </tr>\n",
       "    <tr>\n",
       "      <th>2013-01-04</th>\n",
       "      <td>-1.586598</td>\n",
       "      <td>-1.929543</td>\n",
       "      <td>-5</td>\n",
       "      <td>-1.351495</td>\n",
       "      <td>-0.171966</td>\n",
       "      <td>-3.0</td>\n",
       "    </tr>\n",
       "    <tr>\n",
       "      <th>2013-01-05</th>\n",
       "      <td>-0.257775</td>\n",
       "      <td>-0.051017</td>\n",
       "      <td>-5</td>\n",
       "      <td>-1.282187</td>\n",
       "      <td>-0.198135</td>\n",
       "      <td>-4.0</td>\n",
       "    </tr>\n",
       "    <tr>\n",
       "      <th>2013-01-06</th>\n",
       "      <td>-1.747506</td>\n",
       "      <td>-0.670198</td>\n",
       "      <td>-5</td>\n",
       "      <td>-0.533415</td>\n",
       "      <td>-0.873928</td>\n",
       "      <td>-5.0</td>\n",
       "    </tr>\n",
       "  </tbody>\n",
       "</table>\n",
       "</div>"
      ],
      "text/plain": [
       "                   A         B  D         C         X    F\n",
       "2013-01-01 -0.265321  0.000000 -5 -0.499731 -0.387253  NaN\n",
       "2013-01-02 -1.203653 -0.892446 -5 -0.491511 -0.103652 -1.0\n",
       "2013-01-03 -0.344146 -0.021151 -5 -0.289217 -1.518457 -2.0\n",
       "2013-01-04 -1.586598 -1.929543 -5 -1.351495 -0.171966 -3.0\n",
       "2013-01-05 -0.257775 -0.051017 -5 -1.282187 -0.198135 -4.0\n",
       "2013-01-06 -1.747506 -0.670198 -5 -0.533415 -0.873928 -5.0"
      ]
     },
     "execution_count": 44,
     "metadata": {},
     "output_type": "execute_result"
    }
   ],
   "source": [
    "df2 = df.copy()\n",
    "df2[df2>0] = -df2\n",
    "df2"
   ]
  },
  {
   "cell_type": "markdown",
   "metadata": {},
   "source": [
    "# Missing data"
   ]
  },
  {
   "cell_type": "code",
   "execution_count": 45,
   "metadata": {},
   "outputs": [
    {
     "data": {
      "text/html": [
       "<div>\n",
       "<style scoped>\n",
       "    .dataframe tbody tr th:only-of-type {\n",
       "        vertical-align: middle;\n",
       "    }\n",
       "\n",
       "    .dataframe tbody tr th {\n",
       "        vertical-align: top;\n",
       "    }\n",
       "\n",
       "    .dataframe thead th {\n",
       "        text-align: right;\n",
       "    }\n",
       "</style>\n",
       "<table border=\"1\" class=\"dataframe\">\n",
       "  <thead>\n",
       "    <tr style=\"text-align: right;\">\n",
       "      <th></th>\n",
       "      <th>A</th>\n",
       "      <th>B</th>\n",
       "      <th>D</th>\n",
       "      <th>C</th>\n",
       "      <th>X</th>\n",
       "      <th>F</th>\n",
       "      <th>E</th>\n",
       "    </tr>\n",
       "  </thead>\n",
       "  <tbody>\n",
       "    <tr>\n",
       "      <th>2013-01-01</th>\n",
       "      <td>0.265321</td>\n",
       "      <td>0.000000</td>\n",
       "      <td>5</td>\n",
       "      <td>-0.499731</td>\n",
       "      <td>0.387253</td>\n",
       "      <td>NaN</td>\n",
       "      <td>1.0</td>\n",
       "    </tr>\n",
       "    <tr>\n",
       "      <th>2013-01-02</th>\n",
       "      <td>1.203653</td>\n",
       "      <td>-0.892446</td>\n",
       "      <td>5</td>\n",
       "      <td>0.491511</td>\n",
       "      <td>0.103652</td>\n",
       "      <td>1.0</td>\n",
       "      <td>1.0</td>\n",
       "    </tr>\n",
       "    <tr>\n",
       "      <th>2013-01-03</th>\n",
       "      <td>-0.344146</td>\n",
       "      <td>-0.021151</td>\n",
       "      <td>5</td>\n",
       "      <td>-0.289217</td>\n",
       "      <td>1.518457</td>\n",
       "      <td>2.0</td>\n",
       "      <td>NaN</td>\n",
       "    </tr>\n",
       "    <tr>\n",
       "      <th>2013-01-04</th>\n",
       "      <td>1.586598</td>\n",
       "      <td>1.929543</td>\n",
       "      <td>5</td>\n",
       "      <td>-1.351495</td>\n",
       "      <td>0.171966</td>\n",
       "      <td>3.0</td>\n",
       "      <td>NaN</td>\n",
       "    </tr>\n",
       "  </tbody>\n",
       "</table>\n",
       "</div>"
      ],
      "text/plain": [
       "                   A         B  D         C         X    F    E\n",
       "2013-01-01  0.265321  0.000000  5 -0.499731  0.387253  NaN  1.0\n",
       "2013-01-02  1.203653 -0.892446  5  0.491511  0.103652  1.0  1.0\n",
       "2013-01-03 -0.344146 -0.021151  5 -0.289217  1.518457  2.0  NaN\n",
       "2013-01-04  1.586598  1.929543  5 -1.351495  0.171966  3.0  NaN"
      ]
     },
     "execution_count": 45,
     "metadata": {},
     "output_type": "execute_result"
    }
   ],
   "source": [
    "df1 = df.reindex(index=dates[0:4], columns=list(df.columns) + [\"E\"])\n",
    "df1.loc[dates[0] : dates[1], \"E\"] = 1\n",
    "df1"
   ]
  },
  {
   "cell_type": "code",
   "execution_count": 46,
   "metadata": {},
   "outputs": [
    {
     "data": {
      "text/html": [
       "<div>\n",
       "<style scoped>\n",
       "    .dataframe tbody tr th:only-of-type {\n",
       "        vertical-align: middle;\n",
       "    }\n",
       "\n",
       "    .dataframe tbody tr th {\n",
       "        vertical-align: top;\n",
       "    }\n",
       "\n",
       "    .dataframe thead th {\n",
       "        text-align: right;\n",
       "    }\n",
       "</style>\n",
       "<table border=\"1\" class=\"dataframe\">\n",
       "  <thead>\n",
       "    <tr style=\"text-align: right;\">\n",
       "      <th></th>\n",
       "      <th>A</th>\n",
       "      <th>B</th>\n",
       "      <th>D</th>\n",
       "      <th>C</th>\n",
       "      <th>X</th>\n",
       "      <th>F</th>\n",
       "      <th>E</th>\n",
       "    </tr>\n",
       "  </thead>\n",
       "  <tbody>\n",
       "    <tr>\n",
       "      <th>2013-01-02</th>\n",
       "      <td>1.203653</td>\n",
       "      <td>-0.892446</td>\n",
       "      <td>5</td>\n",
       "      <td>0.491511</td>\n",
       "      <td>0.103652</td>\n",
       "      <td>1.0</td>\n",
       "      <td>1.0</td>\n",
       "    </tr>\n",
       "  </tbody>\n",
       "</table>\n",
       "</div>"
      ],
      "text/plain": [
       "                   A         B  D         C         X    F    E\n",
       "2013-01-02  1.203653 -0.892446  5  0.491511  0.103652  1.0  1.0"
      ]
     },
     "execution_count": 46,
     "metadata": {},
     "output_type": "execute_result"
    }
   ],
   "source": [
    "df1.dropna(how=\"any\")"
   ]
  },
  {
   "cell_type": "code",
   "execution_count": 47,
   "metadata": {},
   "outputs": [
    {
     "data": {
      "text/html": [
       "<div>\n",
       "<style scoped>\n",
       "    .dataframe tbody tr th:only-of-type {\n",
       "        vertical-align: middle;\n",
       "    }\n",
       "\n",
       "    .dataframe tbody tr th {\n",
       "        vertical-align: top;\n",
       "    }\n",
       "\n",
       "    .dataframe thead th {\n",
       "        text-align: right;\n",
       "    }\n",
       "</style>\n",
       "<table border=\"1\" class=\"dataframe\">\n",
       "  <thead>\n",
       "    <tr style=\"text-align: right;\">\n",
       "      <th></th>\n",
       "      <th>A</th>\n",
       "      <th>B</th>\n",
       "      <th>D</th>\n",
       "      <th>C</th>\n",
       "      <th>X</th>\n",
       "      <th>F</th>\n",
       "      <th>E</th>\n",
       "    </tr>\n",
       "  </thead>\n",
       "  <tbody>\n",
       "    <tr>\n",
       "      <th>2013-01-01</th>\n",
       "      <td>0.265321</td>\n",
       "      <td>0.000000</td>\n",
       "      <td>5</td>\n",
       "      <td>-0.499731</td>\n",
       "      <td>0.387253</td>\n",
       "      <td>5.0</td>\n",
       "      <td>1.0</td>\n",
       "    </tr>\n",
       "    <tr>\n",
       "      <th>2013-01-02</th>\n",
       "      <td>1.203653</td>\n",
       "      <td>-0.892446</td>\n",
       "      <td>5</td>\n",
       "      <td>0.491511</td>\n",
       "      <td>0.103652</td>\n",
       "      <td>1.0</td>\n",
       "      <td>1.0</td>\n",
       "    </tr>\n",
       "    <tr>\n",
       "      <th>2013-01-03</th>\n",
       "      <td>-0.344146</td>\n",
       "      <td>-0.021151</td>\n",
       "      <td>5</td>\n",
       "      <td>-0.289217</td>\n",
       "      <td>1.518457</td>\n",
       "      <td>2.0</td>\n",
       "      <td>5.0</td>\n",
       "    </tr>\n",
       "    <tr>\n",
       "      <th>2013-01-04</th>\n",
       "      <td>1.586598</td>\n",
       "      <td>1.929543</td>\n",
       "      <td>5</td>\n",
       "      <td>-1.351495</td>\n",
       "      <td>0.171966</td>\n",
       "      <td>3.0</td>\n",
       "      <td>5.0</td>\n",
       "    </tr>\n",
       "  </tbody>\n",
       "</table>\n",
       "</div>"
      ],
      "text/plain": [
       "                   A         B  D         C         X    F    E\n",
       "2013-01-01  0.265321  0.000000  5 -0.499731  0.387253  5.0  1.0\n",
       "2013-01-02  1.203653 -0.892446  5  0.491511  0.103652  1.0  1.0\n",
       "2013-01-03 -0.344146 -0.021151  5 -0.289217  1.518457  2.0  5.0\n",
       "2013-01-04  1.586598  1.929543  5 -1.351495  0.171966  3.0  5.0"
      ]
     },
     "execution_count": 47,
     "metadata": {},
     "output_type": "execute_result"
    }
   ],
   "source": [
    "df1.fillna(value=5)"
   ]
  },
  {
   "cell_type": "code",
   "execution_count": 48,
   "metadata": {},
   "outputs": [
    {
     "data": {
      "text/html": [
       "<div>\n",
       "<style scoped>\n",
       "    .dataframe tbody tr th:only-of-type {\n",
       "        vertical-align: middle;\n",
       "    }\n",
       "\n",
       "    .dataframe tbody tr th {\n",
       "        vertical-align: top;\n",
       "    }\n",
       "\n",
       "    .dataframe thead th {\n",
       "        text-align: right;\n",
       "    }\n",
       "</style>\n",
       "<table border=\"1\" class=\"dataframe\">\n",
       "  <thead>\n",
       "    <tr style=\"text-align: right;\">\n",
       "      <th></th>\n",
       "      <th>A</th>\n",
       "      <th>B</th>\n",
       "      <th>D</th>\n",
       "      <th>C</th>\n",
       "      <th>X</th>\n",
       "      <th>F</th>\n",
       "      <th>E</th>\n",
       "    </tr>\n",
       "  </thead>\n",
       "  <tbody>\n",
       "    <tr>\n",
       "      <th>2013-01-01</th>\n",
       "      <td>False</td>\n",
       "      <td>False</td>\n",
       "      <td>False</td>\n",
       "      <td>False</td>\n",
       "      <td>False</td>\n",
       "      <td>True</td>\n",
       "      <td>False</td>\n",
       "    </tr>\n",
       "    <tr>\n",
       "      <th>2013-01-02</th>\n",
       "      <td>False</td>\n",
       "      <td>False</td>\n",
       "      <td>False</td>\n",
       "      <td>False</td>\n",
       "      <td>False</td>\n",
       "      <td>False</td>\n",
       "      <td>False</td>\n",
       "    </tr>\n",
       "    <tr>\n",
       "      <th>2013-01-03</th>\n",
       "      <td>False</td>\n",
       "      <td>False</td>\n",
       "      <td>False</td>\n",
       "      <td>False</td>\n",
       "      <td>False</td>\n",
       "      <td>False</td>\n",
       "      <td>True</td>\n",
       "    </tr>\n",
       "    <tr>\n",
       "      <th>2013-01-04</th>\n",
       "      <td>False</td>\n",
       "      <td>False</td>\n",
       "      <td>False</td>\n",
       "      <td>False</td>\n",
       "      <td>False</td>\n",
       "      <td>False</td>\n",
       "      <td>True</td>\n",
       "    </tr>\n",
       "  </tbody>\n",
       "</table>\n",
       "</div>"
      ],
      "text/plain": [
       "                A      B      D      C      X      F      E\n",
       "2013-01-01  False  False  False  False  False   True  False\n",
       "2013-01-02  False  False  False  False  False  False  False\n",
       "2013-01-03  False  False  False  False  False  False   True\n",
       "2013-01-04  False  False  False  False  False  False   True"
      ]
     },
     "execution_count": 48,
     "metadata": {},
     "output_type": "execute_result"
    }
   ],
   "source": [
    "pd.isna(df1)"
   ]
  },
  {
   "cell_type": "markdown",
   "metadata": {},
   "source": [
    "# Operations"
   ]
  },
  {
   "cell_type": "code",
   "execution_count": 49,
   "metadata": {},
   "outputs": [
    {
     "data": {
      "text/plain": [
       "A    0.117691\n",
       "B    0.272521\n",
       "D    5.000000\n",
       "C   -0.577422\n",
       "X    0.250922\n",
       "F    3.000000\n",
       "dtype: float64"
      ]
     },
     "execution_count": 49,
     "metadata": {},
     "output_type": "execute_result"
    }
   ],
   "source": [
    "df.mean()"
   ]
  },
  {
   "cell_type": "code",
   "execution_count": 50,
   "metadata": {},
   "outputs": [
    {
     "data": {
      "text/plain": [
       "2013-01-01    1.030569\n",
       "2013-01-02    1.151062\n",
       "2013-01-03    1.310657\n",
       "2013-01-04    1.722769\n",
       "2013-01-05    1.267859\n",
       "2013-01-06    1.252558\n",
       "Freq: D, dtype: float64"
      ]
     },
     "execution_count": 50,
     "metadata": {},
     "output_type": "execute_result"
    }
   ],
   "source": [
    "df.mean(1)"
   ]
  },
  {
   "cell_type": "code",
   "execution_count": 51,
   "metadata": {},
   "outputs": [
    {
     "data": {
      "text/plain": [
       "2013-01-01    NaN\n",
       "2013-01-02    NaN\n",
       "2013-01-03    1.0\n",
       "2013-01-04    3.0\n",
       "2013-01-05    5.0\n",
       "2013-01-06    NaN\n",
       "Freq: D, dtype: float64"
      ]
     },
     "execution_count": 51,
     "metadata": {},
     "output_type": "execute_result"
    }
   ],
   "source": [
    "s = pd.Series([1, 3, 5, np.nan, 6, 8], index=dates).shift(2)\n",
    "s"
   ]
  },
  {
   "cell_type": "code",
   "execution_count": 52,
   "metadata": {},
   "outputs": [
    {
     "data": {
      "text/html": [
       "<div>\n",
       "<style scoped>\n",
       "    .dataframe tbody tr th:only-of-type {\n",
       "        vertical-align: middle;\n",
       "    }\n",
       "\n",
       "    .dataframe tbody tr th {\n",
       "        vertical-align: top;\n",
       "    }\n",
       "\n",
       "    .dataframe thead th {\n",
       "        text-align: right;\n",
       "    }\n",
       "</style>\n",
       "<table border=\"1\" class=\"dataframe\">\n",
       "  <thead>\n",
       "    <tr style=\"text-align: right;\">\n",
       "      <th></th>\n",
       "      <th>A</th>\n",
       "      <th>B</th>\n",
       "      <th>D</th>\n",
       "      <th>C</th>\n",
       "      <th>X</th>\n",
       "      <th>F</th>\n",
       "    </tr>\n",
       "  </thead>\n",
       "  <tbody>\n",
       "    <tr>\n",
       "      <th>2013-01-01</th>\n",
       "      <td>NaN</td>\n",
       "      <td>NaN</td>\n",
       "      <td>NaN</td>\n",
       "      <td>NaN</td>\n",
       "      <td>NaN</td>\n",
       "      <td>NaN</td>\n",
       "    </tr>\n",
       "    <tr>\n",
       "      <th>2013-01-02</th>\n",
       "      <td>NaN</td>\n",
       "      <td>NaN</td>\n",
       "      <td>NaN</td>\n",
       "      <td>NaN</td>\n",
       "      <td>NaN</td>\n",
       "      <td>NaN</td>\n",
       "    </tr>\n",
       "    <tr>\n",
       "      <th>2013-01-03</th>\n",
       "      <td>-1.344146</td>\n",
       "      <td>-1.021151</td>\n",
       "      <td>4.0</td>\n",
       "      <td>-1.289217</td>\n",
       "      <td>0.518457</td>\n",
       "      <td>1.0</td>\n",
       "    </tr>\n",
       "    <tr>\n",
       "      <th>2013-01-04</th>\n",
       "      <td>-1.413402</td>\n",
       "      <td>-1.070457</td>\n",
       "      <td>2.0</td>\n",
       "      <td>-4.351495</td>\n",
       "      <td>-2.828034</td>\n",
       "      <td>0.0</td>\n",
       "    </tr>\n",
       "    <tr>\n",
       "      <th>2013-01-05</th>\n",
       "      <td>-5.257775</td>\n",
       "      <td>-5.051017</td>\n",
       "      <td>0.0</td>\n",
       "      <td>-6.282187</td>\n",
       "      <td>-4.801865</td>\n",
       "      <td>-1.0</td>\n",
       "    </tr>\n",
       "    <tr>\n",
       "      <th>2013-01-06</th>\n",
       "      <td>NaN</td>\n",
       "      <td>NaN</td>\n",
       "      <td>NaN</td>\n",
       "      <td>NaN</td>\n",
       "      <td>NaN</td>\n",
       "      <td>NaN</td>\n",
       "    </tr>\n",
       "  </tbody>\n",
       "</table>\n",
       "</div>"
      ],
      "text/plain": [
       "                   A         B    D         C         X    F\n",
       "2013-01-01       NaN       NaN  NaN       NaN       NaN  NaN\n",
       "2013-01-02       NaN       NaN  NaN       NaN       NaN  NaN\n",
       "2013-01-03 -1.344146 -1.021151  4.0 -1.289217  0.518457  1.0\n",
       "2013-01-04 -1.413402 -1.070457  2.0 -4.351495 -2.828034  0.0\n",
       "2013-01-05 -5.257775 -5.051017  0.0 -6.282187 -4.801865 -1.0\n",
       "2013-01-06       NaN       NaN  NaN       NaN       NaN  NaN"
      ]
     },
     "execution_count": 52,
     "metadata": {},
     "output_type": "execute_result"
    }
   ],
   "source": [
    "df.sub(s, axis=\"index\")"
   ]
  },
  {
   "cell_type": "markdown",
   "metadata": {},
   "source": [
    "# Apply"
   ]
  },
  {
   "cell_type": "code",
   "execution_count": 53,
   "metadata": {},
   "outputs": [
    {
     "data": {
      "text/html": [
       "<div>\n",
       "<style scoped>\n",
       "    .dataframe tbody tr th:only-of-type {\n",
       "        vertical-align: middle;\n",
       "    }\n",
       "\n",
       "    .dataframe tbody tr th {\n",
       "        vertical-align: top;\n",
       "    }\n",
       "\n",
       "    .dataframe thead th {\n",
       "        text-align: right;\n",
       "    }\n",
       "</style>\n",
       "<table border=\"1\" class=\"dataframe\">\n",
       "  <thead>\n",
       "    <tr style=\"text-align: right;\">\n",
       "      <th></th>\n",
       "      <th>A</th>\n",
       "      <th>B</th>\n",
       "      <th>D</th>\n",
       "      <th>C</th>\n",
       "      <th>X</th>\n",
       "      <th>F</th>\n",
       "    </tr>\n",
       "  </thead>\n",
       "  <tbody>\n",
       "    <tr>\n",
       "      <th>2013-01-01</th>\n",
       "      <td>0.265321</td>\n",
       "      <td>0.000000</td>\n",
       "      <td>5</td>\n",
       "      <td>-0.499731</td>\n",
       "      <td>0.387253</td>\n",
       "      <td>NaN</td>\n",
       "    </tr>\n",
       "    <tr>\n",
       "      <th>2013-01-02</th>\n",
       "      <td>1.468975</td>\n",
       "      <td>-0.892446</td>\n",
       "      <td>10</td>\n",
       "      <td>-0.008220</td>\n",
       "      <td>0.490905</td>\n",
       "      <td>1.0</td>\n",
       "    </tr>\n",
       "    <tr>\n",
       "      <th>2013-01-03</th>\n",
       "      <td>1.124829</td>\n",
       "      <td>-0.913597</td>\n",
       "      <td>15</td>\n",
       "      <td>-0.297437</td>\n",
       "      <td>2.009361</td>\n",
       "      <td>3.0</td>\n",
       "    </tr>\n",
       "    <tr>\n",
       "      <th>2013-01-04</th>\n",
       "      <td>2.711427</td>\n",
       "      <td>1.015946</td>\n",
       "      <td>20</td>\n",
       "      <td>-1.648932</td>\n",
       "      <td>2.181327</td>\n",
       "      <td>6.0</td>\n",
       "    </tr>\n",
       "    <tr>\n",
       "      <th>2013-01-05</th>\n",
       "      <td>2.453652</td>\n",
       "      <td>0.964929</td>\n",
       "      <td>25</td>\n",
       "      <td>-2.931119</td>\n",
       "      <td>2.379462</td>\n",
       "      <td>10.0</td>\n",
       "    </tr>\n",
       "    <tr>\n",
       "      <th>2013-01-06</th>\n",
       "      <td>0.706146</td>\n",
       "      <td>1.635128</td>\n",
       "      <td>30</td>\n",
       "      <td>-3.464534</td>\n",
       "      <td>1.505534</td>\n",
       "      <td>15.0</td>\n",
       "    </tr>\n",
       "  </tbody>\n",
       "</table>\n",
       "</div>"
      ],
      "text/plain": [
       "                   A         B   D         C         X     F\n",
       "2013-01-01  0.265321  0.000000   5 -0.499731  0.387253   NaN\n",
       "2013-01-02  1.468975 -0.892446  10 -0.008220  0.490905   1.0\n",
       "2013-01-03  1.124829 -0.913597  15 -0.297437  2.009361   3.0\n",
       "2013-01-04  2.711427  1.015946  20 -1.648932  2.181327   6.0\n",
       "2013-01-05  2.453652  0.964929  25 -2.931119  2.379462  10.0\n",
       "2013-01-06  0.706146  1.635128  30 -3.464534  1.505534  15.0"
      ]
     },
     "execution_count": 53,
     "metadata": {},
     "output_type": "execute_result"
    }
   ],
   "source": [
    "df.apply(np.cumsum)"
   ]
  },
  {
   "cell_type": "code",
   "execution_count": 54,
   "metadata": {},
   "outputs": [
    {
     "data": {
      "text/html": [
       "<div>\n",
       "<style scoped>\n",
       "    .dataframe tbody tr th:only-of-type {\n",
       "        vertical-align: middle;\n",
       "    }\n",
       "\n",
       "    .dataframe tbody tr th {\n",
       "        vertical-align: top;\n",
       "    }\n",
       "\n",
       "    .dataframe thead th {\n",
       "        text-align: right;\n",
       "    }\n",
       "</style>\n",
       "<table border=\"1\" class=\"dataframe\">\n",
       "  <thead>\n",
       "    <tr style=\"text-align: right;\">\n",
       "      <th></th>\n",
       "      <th>A</th>\n",
       "      <th>B</th>\n",
       "      <th>D</th>\n",
       "      <th>C</th>\n",
       "      <th>X</th>\n",
       "      <th>F</th>\n",
       "    </tr>\n",
       "  </thead>\n",
       "  <tbody>\n",
       "    <tr>\n",
       "      <th>2013-01-01</th>\n",
       "      <td>0.265321</td>\n",
       "      <td>0.000000</td>\n",
       "      <td>5</td>\n",
       "      <td>-0.499731</td>\n",
       "      <td>0.387253</td>\n",
       "      <td>NaN</td>\n",
       "    </tr>\n",
       "    <tr>\n",
       "      <th>2013-01-02</th>\n",
       "      <td>1.203653</td>\n",
       "      <td>-0.892446</td>\n",
       "      <td>5</td>\n",
       "      <td>0.491511</td>\n",
       "      <td>0.103652</td>\n",
       "      <td>1.0</td>\n",
       "    </tr>\n",
       "    <tr>\n",
       "      <th>2013-01-03</th>\n",
       "      <td>-0.344146</td>\n",
       "      <td>-0.021151</td>\n",
       "      <td>5</td>\n",
       "      <td>-0.289217</td>\n",
       "      <td>1.518457</td>\n",
       "      <td>2.0</td>\n",
       "    </tr>\n",
       "    <tr>\n",
       "      <th>2013-01-04</th>\n",
       "      <td>1.586598</td>\n",
       "      <td>1.929543</td>\n",
       "      <td>5</td>\n",
       "      <td>-1.351495</td>\n",
       "      <td>0.171966</td>\n",
       "      <td>3.0</td>\n",
       "    </tr>\n",
       "    <tr>\n",
       "      <th>2013-01-05</th>\n",
       "      <td>-0.257775</td>\n",
       "      <td>-0.051017</td>\n",
       "      <td>5</td>\n",
       "      <td>-1.282187</td>\n",
       "      <td>0.198135</td>\n",
       "      <td>4.0</td>\n",
       "    </tr>\n",
       "    <tr>\n",
       "      <th>2013-01-06</th>\n",
       "      <td>-1.747506</td>\n",
       "      <td>0.670198</td>\n",
       "      <td>5</td>\n",
       "      <td>-0.533415</td>\n",
       "      <td>-0.873928</td>\n",
       "      <td>5.0</td>\n",
       "    </tr>\n",
       "  </tbody>\n",
       "</table>\n",
       "</div>"
      ],
      "text/plain": [
       "                   A         B  D         C         X    F\n",
       "2013-01-01  0.265321  0.000000  5 -0.499731  0.387253  NaN\n",
       "2013-01-02  1.203653 -0.892446  5  0.491511  0.103652  1.0\n",
       "2013-01-03 -0.344146 -0.021151  5 -0.289217  1.518457  2.0\n",
       "2013-01-04  1.586598  1.929543  5 -1.351495  0.171966  3.0\n",
       "2013-01-05 -0.257775 -0.051017  5 -1.282187  0.198135  4.0\n",
       "2013-01-06 -1.747506  0.670198  5 -0.533415 -0.873928  5.0"
      ]
     },
     "execution_count": 54,
     "metadata": {},
     "output_type": "execute_result"
    }
   ],
   "source": [
    "df"
   ]
  },
  {
   "cell_type": "code",
   "execution_count": 55,
   "metadata": {},
   "outputs": [
    {
     "data": {
      "text/plain": [
       "6    3\n",
       "4    3\n",
       "3    2\n",
       "2    1\n",
       "0    1\n",
       "dtype: int64"
      ]
     },
     "execution_count": 55,
     "metadata": {},
     "output_type": "execute_result"
    }
   ],
   "source": [
    "s = pd.Series(np.random.randint(0,7, size=10))\n",
    "s.value_counts()"
   ]
  },
  {
   "cell_type": "markdown",
   "metadata": {},
   "source": [
    "# String methods"
   ]
  },
  {
   "cell_type": "code",
   "execution_count": 56,
   "metadata": {},
   "outputs": [
    {
     "data": {
      "text/plain": [
       "0       a\n",
       "1       b\n",
       "2       c\n",
       "3    aaba\n",
       "4    baca\n",
       "5     NaN\n",
       "6    caba\n",
       "7     dog\n",
       "8     cat\n",
       "dtype: object"
      ]
     },
     "execution_count": 56,
     "metadata": {},
     "output_type": "execute_result"
    }
   ],
   "source": [
    "s = pd.Series([\"A\", \"B\", \"C\", \"Aaba\", \"Baca\", np.nan, \"CABA\", \"dog\", \"cat\"])\n",
    "s.str.lower()"
   ]
  },
  {
   "cell_type": "markdown",
   "metadata": {},
   "source": [
    "# Merge"
   ]
  },
  {
   "cell_type": "markdown",
   "metadata": {},
   "source": [
    "## Concat"
   ]
  },
  {
   "cell_type": "code",
   "execution_count": 57,
   "metadata": {},
   "outputs": [
    {
     "data": {
      "text/html": [
       "<div>\n",
       "<style scoped>\n",
       "    .dataframe tbody tr th:only-of-type {\n",
       "        vertical-align: middle;\n",
       "    }\n",
       "\n",
       "    .dataframe tbody tr th {\n",
       "        vertical-align: top;\n",
       "    }\n",
       "\n",
       "    .dataframe thead th {\n",
       "        text-align: right;\n",
       "    }\n",
       "</style>\n",
       "<table border=\"1\" class=\"dataframe\">\n",
       "  <thead>\n",
       "    <tr style=\"text-align: right;\">\n",
       "      <th></th>\n",
       "      <th>0</th>\n",
       "      <th>1</th>\n",
       "      <th>2</th>\n",
       "      <th>3</th>\n",
       "    </tr>\n",
       "  </thead>\n",
       "  <tbody>\n",
       "    <tr>\n",
       "      <th>0</th>\n",
       "      <td>0.569312</td>\n",
       "      <td>-0.729561</td>\n",
       "      <td>-0.836612</td>\n",
       "      <td>-0.169597</td>\n",
       "    </tr>\n",
       "    <tr>\n",
       "      <th>1</th>\n",
       "      <td>0.180091</td>\n",
       "      <td>0.979207</td>\n",
       "      <td>-0.177327</td>\n",
       "      <td>0.101670</td>\n",
       "    </tr>\n",
       "    <tr>\n",
       "      <th>2</th>\n",
       "      <td>-1.354564</td>\n",
       "      <td>1.198020</td>\n",
       "      <td>0.670693</td>\n",
       "      <td>-0.152561</td>\n",
       "    </tr>\n",
       "    <tr>\n",
       "      <th>3</th>\n",
       "      <td>0.231883</td>\n",
       "      <td>0.418861</td>\n",
       "      <td>0.370951</td>\n",
       "      <td>-0.981536</td>\n",
       "    </tr>\n",
       "    <tr>\n",
       "      <th>4</th>\n",
       "      <td>-0.321811</td>\n",
       "      <td>0.098093</td>\n",
       "      <td>-0.275798</td>\n",
       "      <td>0.737821</td>\n",
       "    </tr>\n",
       "    <tr>\n",
       "      <th>5</th>\n",
       "      <td>-1.454677</td>\n",
       "      <td>-1.809174</td>\n",
       "      <td>-1.858984</td>\n",
       "      <td>0.783878</td>\n",
       "    </tr>\n",
       "    <tr>\n",
       "      <th>6</th>\n",
       "      <td>1.640367</td>\n",
       "      <td>-0.253869</td>\n",
       "      <td>1.605309</td>\n",
       "      <td>0.552069</td>\n",
       "    </tr>\n",
       "    <tr>\n",
       "      <th>7</th>\n",
       "      <td>2.208161</td>\n",
       "      <td>1.639213</td>\n",
       "      <td>-0.941821</td>\n",
       "      <td>-1.614780</td>\n",
       "    </tr>\n",
       "    <tr>\n",
       "      <th>8</th>\n",
       "      <td>0.275858</td>\n",
       "      <td>1.089253</td>\n",
       "      <td>0.048886</td>\n",
       "      <td>-0.247895</td>\n",
       "    </tr>\n",
       "    <tr>\n",
       "      <th>9</th>\n",
       "      <td>1.732947</td>\n",
       "      <td>1.385147</td>\n",
       "      <td>-0.749237</td>\n",
       "      <td>0.810376</td>\n",
       "    </tr>\n",
       "  </tbody>\n",
       "</table>\n",
       "</div>"
      ],
      "text/plain": [
       "          0         1         2         3\n",
       "0  0.569312 -0.729561 -0.836612 -0.169597\n",
       "1  0.180091  0.979207 -0.177327  0.101670\n",
       "2 -1.354564  1.198020  0.670693 -0.152561\n",
       "3  0.231883  0.418861  0.370951 -0.981536\n",
       "4 -0.321811  0.098093 -0.275798  0.737821\n",
       "5 -1.454677 -1.809174 -1.858984  0.783878\n",
       "6  1.640367 -0.253869  1.605309  0.552069\n",
       "7  2.208161  1.639213 -0.941821 -1.614780\n",
       "8  0.275858  1.089253  0.048886 -0.247895\n",
       "9  1.732947  1.385147 -0.749237  0.810376"
      ]
     },
     "execution_count": 57,
     "metadata": {},
     "output_type": "execute_result"
    }
   ],
   "source": [
    "df = pd.DataFrame(np.random.randn(10,4))\n",
    "df"
   ]
  },
  {
   "cell_type": "code",
   "execution_count": 58,
   "metadata": {},
   "outputs": [
    {
     "data": {
      "text/plain": [
       "[          0         1         2         3\n",
       " 0  0.569312 -0.729561 -0.836612 -0.169597\n",
       " 1  0.180091  0.979207 -0.177327  0.101670\n",
       " 2 -1.354564  1.198020  0.670693 -0.152561,\n",
       "           0         1         2         3\n",
       " 3  0.231883  0.418861  0.370951 -0.981536\n",
       " 4 -0.321811  0.098093 -0.275798  0.737821\n",
       " 5 -1.454677 -1.809174 -1.858984  0.783878\n",
       " 6  1.640367 -0.253869  1.605309  0.552069,\n",
       "           0         1         2         3\n",
       " 7  2.208161  1.639213 -0.941821 -1.614780\n",
       " 8  0.275858  1.089253  0.048886 -0.247895\n",
       " 9  1.732947  1.385147 -0.749237  0.810376]"
      ]
     },
     "execution_count": 58,
     "metadata": {},
     "output_type": "execute_result"
    }
   ],
   "source": [
    "pieces = [df[:3], df[3:7], df[7:]]\n",
    "pieces"
   ]
  },
  {
   "cell_type": "code",
   "execution_count": 59,
   "metadata": {},
   "outputs": [
    {
     "data": {
      "text/html": [
       "<div>\n",
       "<style scoped>\n",
       "    .dataframe tbody tr th:only-of-type {\n",
       "        vertical-align: middle;\n",
       "    }\n",
       "\n",
       "    .dataframe tbody tr th {\n",
       "        vertical-align: top;\n",
       "    }\n",
       "\n",
       "    .dataframe thead th {\n",
       "        text-align: right;\n",
       "    }\n",
       "</style>\n",
       "<table border=\"1\" class=\"dataframe\">\n",
       "  <thead>\n",
       "    <tr style=\"text-align: right;\">\n",
       "      <th></th>\n",
       "      <th>0</th>\n",
       "      <th>1</th>\n",
       "      <th>2</th>\n",
       "      <th>3</th>\n",
       "    </tr>\n",
       "  </thead>\n",
       "  <tbody>\n",
       "    <tr>\n",
       "      <th>0</th>\n",
       "      <td>0.569312</td>\n",
       "      <td>-0.729561</td>\n",
       "      <td>-0.836612</td>\n",
       "      <td>-0.169597</td>\n",
       "    </tr>\n",
       "    <tr>\n",
       "      <th>1</th>\n",
       "      <td>0.180091</td>\n",
       "      <td>0.979207</td>\n",
       "      <td>-0.177327</td>\n",
       "      <td>0.101670</td>\n",
       "    </tr>\n",
       "    <tr>\n",
       "      <th>2</th>\n",
       "      <td>-1.354564</td>\n",
       "      <td>1.198020</td>\n",
       "      <td>0.670693</td>\n",
       "      <td>-0.152561</td>\n",
       "    </tr>\n",
       "    <tr>\n",
       "      <th>3</th>\n",
       "      <td>0.231883</td>\n",
       "      <td>0.418861</td>\n",
       "      <td>0.370951</td>\n",
       "      <td>-0.981536</td>\n",
       "    </tr>\n",
       "    <tr>\n",
       "      <th>4</th>\n",
       "      <td>-0.321811</td>\n",
       "      <td>0.098093</td>\n",
       "      <td>-0.275798</td>\n",
       "      <td>0.737821</td>\n",
       "    </tr>\n",
       "    <tr>\n",
       "      <th>5</th>\n",
       "      <td>-1.454677</td>\n",
       "      <td>-1.809174</td>\n",
       "      <td>-1.858984</td>\n",
       "      <td>0.783878</td>\n",
       "    </tr>\n",
       "    <tr>\n",
       "      <th>6</th>\n",
       "      <td>1.640367</td>\n",
       "      <td>-0.253869</td>\n",
       "      <td>1.605309</td>\n",
       "      <td>0.552069</td>\n",
       "    </tr>\n",
       "    <tr>\n",
       "      <th>7</th>\n",
       "      <td>2.208161</td>\n",
       "      <td>1.639213</td>\n",
       "      <td>-0.941821</td>\n",
       "      <td>-1.614780</td>\n",
       "    </tr>\n",
       "    <tr>\n",
       "      <th>8</th>\n",
       "      <td>0.275858</td>\n",
       "      <td>1.089253</td>\n",
       "      <td>0.048886</td>\n",
       "      <td>-0.247895</td>\n",
       "    </tr>\n",
       "    <tr>\n",
       "      <th>9</th>\n",
       "      <td>1.732947</td>\n",
       "      <td>1.385147</td>\n",
       "      <td>-0.749237</td>\n",
       "      <td>0.810376</td>\n",
       "    </tr>\n",
       "  </tbody>\n",
       "</table>\n",
       "</div>"
      ],
      "text/plain": [
       "          0         1         2         3\n",
       "0  0.569312 -0.729561 -0.836612 -0.169597\n",
       "1  0.180091  0.979207 -0.177327  0.101670\n",
       "2 -1.354564  1.198020  0.670693 -0.152561\n",
       "3  0.231883  0.418861  0.370951 -0.981536\n",
       "4 -0.321811  0.098093 -0.275798  0.737821\n",
       "5 -1.454677 -1.809174 -1.858984  0.783878\n",
       "6  1.640367 -0.253869  1.605309  0.552069\n",
       "7  2.208161  1.639213 -0.941821 -1.614780\n",
       "8  0.275858  1.089253  0.048886 -0.247895\n",
       "9  1.732947  1.385147 -0.749237  0.810376"
      ]
     },
     "execution_count": 59,
     "metadata": {},
     "output_type": "execute_result"
    }
   ],
   "source": [
    "pd.concat(pieces)"
   ]
  },
  {
   "cell_type": "markdown",
   "metadata": {},
   "source": [
    "# Join"
   ]
  },
  {
   "cell_type": "code",
   "execution_count": 62,
   "metadata": {},
   "outputs": [
    {
     "data": {
      "text/html": [
       "<div>\n",
       "<style scoped>\n",
       "    .dataframe tbody tr th:only-of-type {\n",
       "        vertical-align: middle;\n",
       "    }\n",
       "\n",
       "    .dataframe tbody tr th {\n",
       "        vertical-align: top;\n",
       "    }\n",
       "\n",
       "    .dataframe thead th {\n",
       "        text-align: right;\n",
       "    }\n",
       "</style>\n",
       "<table border=\"1\" class=\"dataframe\">\n",
       "  <thead>\n",
       "    <tr style=\"text-align: right;\">\n",
       "      <th></th>\n",
       "      <th>key</th>\n",
       "      <th>lval</th>\n",
       "      <th>rval</th>\n",
       "    </tr>\n",
       "  </thead>\n",
       "  <tbody>\n",
       "    <tr>\n",
       "      <th>0</th>\n",
       "      <td>foo</td>\n",
       "      <td>1</td>\n",
       "      <td>4</td>\n",
       "    </tr>\n",
       "    <tr>\n",
       "      <th>1</th>\n",
       "      <td>foo</td>\n",
       "      <td>1</td>\n",
       "      <td>5</td>\n",
       "    </tr>\n",
       "    <tr>\n",
       "      <th>2</th>\n",
       "      <td>foo</td>\n",
       "      <td>2</td>\n",
       "      <td>4</td>\n",
       "    </tr>\n",
       "    <tr>\n",
       "      <th>3</th>\n",
       "      <td>foo</td>\n",
       "      <td>2</td>\n",
       "      <td>5</td>\n",
       "    </tr>\n",
       "  </tbody>\n",
       "</table>\n",
       "</div>"
      ],
      "text/plain": [
       "   key  lval  rval\n",
       "0  foo     1     4\n",
       "1  foo     1     5\n",
       "2  foo     2     4\n",
       "3  foo     2     5"
      ]
     },
     "execution_count": 62,
     "metadata": {},
     "output_type": "execute_result"
    }
   ],
   "source": [
    "left = pd.DataFrame({\"key\": [\"foo\", \"foo\"], \"lval\": [1, 2]})\n",
    "right = pd.DataFrame({\"key\": [\"foo\", \"foo\"], \"rval\": [4, 5]})\n",
    "pd.merge(left, right, on=\"key\")"
   ]
  },
  {
   "cell_type": "code",
   "execution_count": 65,
   "metadata": {},
   "outputs": [
    {
     "data": {
      "text/html": [
       "<div>\n",
       "<style scoped>\n",
       "    .dataframe tbody tr th:only-of-type {\n",
       "        vertical-align: middle;\n",
       "    }\n",
       "\n",
       "    .dataframe tbody tr th {\n",
       "        vertical-align: top;\n",
       "    }\n",
       "\n",
       "    .dataframe thead th {\n",
       "        text-align: right;\n",
       "    }\n",
       "</style>\n",
       "<table border=\"1\" class=\"dataframe\">\n",
       "  <thead>\n",
       "    <tr style=\"text-align: right;\">\n",
       "      <th></th>\n",
       "      <th>key</th>\n",
       "      <th>lval</th>\n",
       "      <th>rval</th>\n",
       "    </tr>\n",
       "  </thead>\n",
       "  <tbody>\n",
       "    <tr>\n",
       "      <th>0</th>\n",
       "      <td>foo</td>\n",
       "      <td>1</td>\n",
       "      <td>4</td>\n",
       "    </tr>\n",
       "    <tr>\n",
       "      <th>1</th>\n",
       "      <td>bar</td>\n",
       "      <td>2</td>\n",
       "      <td>5</td>\n",
       "    </tr>\n",
       "  </tbody>\n",
       "</table>\n",
       "</div>"
      ],
      "text/plain": [
       "   key  lval  rval\n",
       "0  foo     1     4\n",
       "1  bar     2     5"
      ]
     },
     "execution_count": 65,
     "metadata": {},
     "output_type": "execute_result"
    }
   ],
   "source": [
    "left = pd.DataFrame({\"key\": [\"foo\", \"bar\"], \"lval\": [1,2]})\n",
    "right = pd.DataFrame({\"key\": [\"foo\", \"bar\"], \"rval\": [4, 5]})\n",
    "pd.merge(left, right, on=\"key\")"
   ]
  },
  {
   "cell_type": "markdown",
   "metadata": {},
   "source": [
    "# Grouping"
   ]
  },
  {
   "cell_type": "code",
   "execution_count": 66,
   "metadata": {},
   "outputs": [
    {
     "data": {
      "text/html": [
       "<div>\n",
       "<style scoped>\n",
       "    .dataframe tbody tr th:only-of-type {\n",
       "        vertical-align: middle;\n",
       "    }\n",
       "\n",
       "    .dataframe tbody tr th {\n",
       "        vertical-align: top;\n",
       "    }\n",
       "\n",
       "    .dataframe thead th {\n",
       "        text-align: right;\n",
       "    }\n",
       "</style>\n",
       "<table border=\"1\" class=\"dataframe\">\n",
       "  <thead>\n",
       "    <tr style=\"text-align: right;\">\n",
       "      <th></th>\n",
       "      <th>A</th>\n",
       "      <th>B</th>\n",
       "      <th>C</th>\n",
       "      <th>D</th>\n",
       "    </tr>\n",
       "  </thead>\n",
       "  <tbody>\n",
       "    <tr>\n",
       "      <th>0</th>\n",
       "      <td>foo</td>\n",
       "      <td>one</td>\n",
       "      <td>1.728325</td>\n",
       "      <td>-0.044019</td>\n",
       "    </tr>\n",
       "    <tr>\n",
       "      <th>1</th>\n",
       "      <td>bar</td>\n",
       "      <td>one</td>\n",
       "      <td>-1.342349</td>\n",
       "      <td>1.017229</td>\n",
       "    </tr>\n",
       "    <tr>\n",
       "      <th>2</th>\n",
       "      <td>foo</td>\n",
       "      <td>two</td>\n",
       "      <td>1.665577</td>\n",
       "      <td>0.089194</td>\n",
       "    </tr>\n",
       "    <tr>\n",
       "      <th>3</th>\n",
       "      <td>bar</td>\n",
       "      <td>three</td>\n",
       "      <td>1.448692</td>\n",
       "      <td>0.666150</td>\n",
       "    </tr>\n",
       "    <tr>\n",
       "      <th>4</th>\n",
       "      <td>foo</td>\n",
       "      <td>two</td>\n",
       "      <td>0.468555</td>\n",
       "      <td>-0.981746</td>\n",
       "    </tr>\n",
       "    <tr>\n",
       "      <th>5</th>\n",
       "      <td>bar</td>\n",
       "      <td>two</td>\n",
       "      <td>1.289090</td>\n",
       "      <td>-1.136613</td>\n",
       "    </tr>\n",
       "    <tr>\n",
       "      <th>6</th>\n",
       "      <td>foo</td>\n",
       "      <td>one</td>\n",
       "      <td>-0.474342</td>\n",
       "      <td>0.072326</td>\n",
       "    </tr>\n",
       "    <tr>\n",
       "      <th>7</th>\n",
       "      <td>foo</td>\n",
       "      <td>three</td>\n",
       "      <td>-0.373665</td>\n",
       "      <td>1.274391</td>\n",
       "    </tr>\n",
       "  </tbody>\n",
       "</table>\n",
       "</div>"
      ],
      "text/plain": [
       "     A      B         C         D\n",
       "0  foo    one  1.728325 -0.044019\n",
       "1  bar    one -1.342349  1.017229\n",
       "2  foo    two  1.665577  0.089194\n",
       "3  bar  three  1.448692  0.666150\n",
       "4  foo    two  0.468555 -0.981746\n",
       "5  bar    two  1.289090 -1.136613\n",
       "6  foo    one -0.474342  0.072326\n",
       "7  foo  three -0.373665  1.274391"
      ]
     },
     "execution_count": 66,
     "metadata": {},
     "output_type": "execute_result"
    }
   ],
   "source": [
    "df = pd.DataFrame(\n",
    "    {\n",
    "        \"A\": [\"foo\", \"bar\", \"foo\", \"bar\", \"foo\", \"bar\", \"foo\", \"foo\"],\n",
    "        \"B\": [\"one\", \"one\", \"two\", \"three\", \"two\", \"two\", \"one\", \"three\"],\n",
    "        \"C\": np.random.randn(8),\n",
    "        \"D\": np.random.randn(8),  \n",
    "    }\n",
    ")\n",
    "df"
   ]
  },
  {
   "cell_type": "code",
   "execution_count": 67,
   "metadata": {},
   "outputs": [
    {
     "data": {
      "text/html": [
       "<div>\n",
       "<style scoped>\n",
       "    .dataframe tbody tr th:only-of-type {\n",
       "        vertical-align: middle;\n",
       "    }\n",
       "\n",
       "    .dataframe tbody tr th {\n",
       "        vertical-align: top;\n",
       "    }\n",
       "\n",
       "    .dataframe thead th {\n",
       "        text-align: right;\n",
       "    }\n",
       "</style>\n",
       "<table border=\"1\" class=\"dataframe\">\n",
       "  <thead>\n",
       "    <tr style=\"text-align: right;\">\n",
       "      <th></th>\n",
       "      <th>C</th>\n",
       "      <th>D</th>\n",
       "    </tr>\n",
       "    <tr>\n",
       "      <th>A</th>\n",
       "      <th></th>\n",
       "      <th></th>\n",
       "    </tr>\n",
       "  </thead>\n",
       "  <tbody>\n",
       "    <tr>\n",
       "      <th>bar</th>\n",
       "      <td>1.395433</td>\n",
       "      <td>0.546766</td>\n",
       "    </tr>\n",
       "    <tr>\n",
       "      <th>foo</th>\n",
       "      <td>3.014450</td>\n",
       "      <td>0.410145</td>\n",
       "    </tr>\n",
       "  </tbody>\n",
       "</table>\n",
       "</div>"
      ],
      "text/plain": [
       "            C         D\n",
       "A                      \n",
       "bar  1.395433  0.546766\n",
       "foo  3.014450  0.410145"
      ]
     },
     "execution_count": 67,
     "metadata": {},
     "output_type": "execute_result"
    }
   ],
   "source": [
    "df.groupby(\"A\").sum()"
   ]
  },
  {
   "cell_type": "code",
   "execution_count": 70,
   "metadata": {},
   "outputs": [
    {
     "data": {
      "text/html": [
       "<div>\n",
       "<style scoped>\n",
       "    .dataframe tbody tr th:only-of-type {\n",
       "        vertical-align: middle;\n",
       "    }\n",
       "\n",
       "    .dataframe tbody tr th {\n",
       "        vertical-align: top;\n",
       "    }\n",
       "\n",
       "    .dataframe thead th {\n",
       "        text-align: right;\n",
       "    }\n",
       "</style>\n",
       "<table border=\"1\" class=\"dataframe\">\n",
       "  <thead>\n",
       "    <tr style=\"text-align: right;\">\n",
       "      <th></th>\n",
       "      <th></th>\n",
       "      <th>C</th>\n",
       "      <th>D</th>\n",
       "    </tr>\n",
       "    <tr>\n",
       "      <th>A</th>\n",
       "      <th>B</th>\n",
       "      <th></th>\n",
       "      <th></th>\n",
       "    </tr>\n",
       "  </thead>\n",
       "  <tbody>\n",
       "    <tr>\n",
       "      <th rowspan=\"3\" valign=\"top\">bar</th>\n",
       "      <th>one</th>\n",
       "      <td>-1.342349</td>\n",
       "      <td>1.017229</td>\n",
       "    </tr>\n",
       "    <tr>\n",
       "      <th>three</th>\n",
       "      <td>1.448692</td>\n",
       "      <td>0.666150</td>\n",
       "    </tr>\n",
       "    <tr>\n",
       "      <th>two</th>\n",
       "      <td>1.289090</td>\n",
       "      <td>-1.136613</td>\n",
       "    </tr>\n",
       "    <tr>\n",
       "      <th rowspan=\"3\" valign=\"top\">foo</th>\n",
       "      <th>one</th>\n",
       "      <td>1.253983</td>\n",
       "      <td>0.028306</td>\n",
       "    </tr>\n",
       "    <tr>\n",
       "      <th>three</th>\n",
       "      <td>-0.373665</td>\n",
       "      <td>1.274391</td>\n",
       "    </tr>\n",
       "    <tr>\n",
       "      <th>two</th>\n",
       "      <td>2.134132</td>\n",
       "      <td>-0.892552</td>\n",
       "    </tr>\n",
       "  </tbody>\n",
       "</table>\n",
       "</div>"
      ],
      "text/plain": [
       "                  C         D\n",
       "A   B                        \n",
       "bar one   -1.342349  1.017229\n",
       "    three  1.448692  0.666150\n",
       "    two    1.289090 -1.136613\n",
       "foo one    1.253983  0.028306\n",
       "    three -0.373665  1.274391\n",
       "    two    2.134132 -0.892552"
      ]
     },
     "execution_count": 70,
     "metadata": {},
     "output_type": "execute_result"
    }
   ],
   "source": [
    "df.groupby([\"A\", \"B\"]).sum()"
   ]
  },
  {
   "cell_type": "code",
   "execution_count": null,
   "metadata": {},
   "outputs": [],
   "source": []
  }
 ],
 "metadata": {
  "kernelspec": {
   "display_name": "Python 3 (ipykernel)",
   "language": "python",
   "name": "python3"
  },
  "language_info": {
   "codemirror_mode": {
    "name": "ipython",
    "version": 3
   },
   "file_extension": ".py",
   "mimetype": "text/x-python",
   "name": "python",
   "nbconvert_exporter": "python",
   "pygments_lexer": "ipython3",
   "version": "3.8.12"
  },
  "orig_nbformat": 4
 },
 "nbformat": 4,
 "nbformat_minor": 2
}

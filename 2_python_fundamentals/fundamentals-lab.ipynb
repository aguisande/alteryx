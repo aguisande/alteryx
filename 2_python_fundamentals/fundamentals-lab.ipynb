{
 "cells": [
  {
   "cell_type": "markdown",
   "metadata": {},
   "source": [
    "# Estructura de código\n",
    "En Python los programas se estructuran por medio de indentación. Los bloques de código se definen por la distancia que ocupan con relación al principio del renglón, que podemos conceptualizar como el margen izquierdo del documento con el código."
   ]
  },
  {
   "cell_type": "code",
   "execution_count": 85,
   "metadata": {},
   "outputs": [
    {
     "name": "stdout",
     "output_type": "stream",
     "text": [
      "Menor de edad\n",
      "Solicita autorización de su padre o custodio legal\n"
     ]
    }
   ],
   "source": [
    "age = 13\n",
    "if age < 18: print(\"Menor de edad\")\n",
    "print(\"Solicita autorización de su padre o custodio legal\") #TODO: Fix indentation\n"
   ]
  },
  {
   "cell_type": "code",
   "execution_count": 86,
   "metadata": {},
   "outputs": [
    {
     "name": "stdout",
     "output_type": "stream",
     "text": [
      "Menor de edad\n",
      "Solicita autorización de su padre o custodio legal\n"
     ]
    }
   ],
   "source": [
    "age = 13\n",
    "if age < 18:\n",
    "    print(\"Menor de edad\")\n",
    "    print(\"Solicita autorización de su padre o custodio legal\")"
   ]
  },
  {
   "cell_type": "code",
   "execution_count": 92,
   "metadata": {},
   "outputs": [],
   "source": [
    "import random\n",
    "def get_authorization():\n",
    "    return bool(random.getrandbits(1))\n",
    "\n",
    "def get_guardian_autorization():\n",
    "    return False # Asumimos que el padre rechaza la autorización"
   ]
  },
  {
   "cell_type": "code",
   "execution_count": 95,
   "metadata": {},
   "outputs": [
    {
     "name": "stdout",
     "output_type": "stream",
     "text": [
      "Menor de edad\n",
      "Solicita autorización de su padre o custodio legal\n",
      "False\n"
     ]
    }
   ],
   "source": [
    "age = 13\n",
    "auth = False\n",
    "if age < 18:\n",
    "    print(\"Menor de edad\")\n",
    "    print(\"Solicita autorización de su padre o custodio legal\")\n",
    "    auth = get_guardian_autorization()\n",
    "else:\n",
    "    print(\"Solicita autorización del usuario\")\n",
    "    auth = get_authorization()\n",
    "print(auth)"
   ]
  },
  {
   "cell_type": "code",
   "execution_count": 94,
   "metadata": {},
   "outputs": [
    {
     "name": "stdout",
     "output_type": "stream",
     "text": [
      "140730463650656\n",
      "Solicita autorización del usuario\n",
      "140730463650624\n",
      "True\n"
     ]
    }
   ],
   "source": [
    "age = 21\n",
    "auth = False\n",
    "print(id(auth))\n",
    "if age < 18:\n",
    "    print(\"Menor de edad\")\n",
    "    print(\"Solicita autorización de su padre o custodio legal\")\n",
    "else:\n",
    "    print(\"Solicita autorización del usuario\")\n",
    "    auth = get_authorization()\n",
    "    print(id(auth))\n",
    "print(auth)"
   ]
  },
  {
   "cell_type": "markdown",
   "metadata": {},
   "source": [
    "# Booleanos\n",
    "Ejecuta los siguientes estatutos e interpreta los resultados."
   ]
  },
  {
   "cell_type": "markdown",
   "metadata": {},
   "source": []
  },
  {
   "cell_type": "markdown",
   "metadata": {},
   "source": []
  },
  {
   "cell_type": "code",
   "execution_count": 96,
   "metadata": {},
   "outputs": [
    {
     "data": {
      "text/plain": [
       "True"
      ]
     },
     "execution_count": 96,
     "metadata": {},
     "output_type": "execute_result"
    }
   ],
   "source": [
    "1 == 1"
   ]
  },
  {
   "cell_type": "code",
   "execution_count": 97,
   "metadata": {},
   "outputs": [
    {
     "data": {
      "text/plain": [
       "True"
      ]
     },
     "execution_count": 97,
     "metadata": {},
     "output_type": "execute_result"
    }
   ],
   "source": [
    "1 == True"
   ]
  },
  {
   "cell_type": "code",
   "execution_count": 98,
   "metadata": {},
   "outputs": [
    {
     "data": {
      "text/plain": [
       "False"
      ]
     },
     "execution_count": 98,
     "metadata": {},
     "output_type": "execute_result"
    }
   ],
   "source": [
    "0 == True"
   ]
  },
  {
   "cell_type": "code",
   "execution_count": 99,
   "metadata": {},
   "outputs": [
    {
     "data": {
      "text/plain": [
       "True"
      ]
     },
     "execution_count": 99,
     "metadata": {},
     "output_type": "execute_result"
    }
   ],
   "source": [
    "0 == False"
   ]
  },
  {
   "cell_type": "code",
   "execution_count": 100,
   "metadata": {},
   "outputs": [
    {
     "data": {
      "text/plain": [
       "True"
      ]
     },
     "execution_count": 100,
     "metadata": {},
     "output_type": "execute_result"
    }
   ],
   "source": [
    "5 == 5 * 1"
   ]
  },
  {
   "cell_type": "markdown",
   "metadata": {},
   "source": [
    "¿Por qué el siguiente estatuto produce 0 y no False?"
   ]
  },
  {
   "cell_type": "code",
   "execution_count": 101,
   "metadata": {},
   "outputs": [
    {
     "data": {
      "text/plain": [
       "0"
      ]
     },
     "execution_count": 101,
     "metadata": {},
     "output_type": "execute_result"
    }
   ],
   "source": [
    "(5 == 1) * 3"
   ]
  },
  {
   "cell_type": "code",
   "execution_count": 102,
   "metadata": {},
   "outputs": [
    {
     "data": {
      "text/plain": [
       "True"
      ]
     },
     "execution_count": 102,
     "metadata": {},
     "output_type": "execute_result"
    }
   ],
   "source": [
    "(2 == 2) * 3 + 7 == 10"
   ]
  },
  {
   "cell_type": "markdown",
   "metadata": {},
   "source": [
    "# Enteros\n",
    "Ejecuta los siguientes estatutos e interpreta el resultado."
   ]
  },
  {
   "cell_type": "markdown",
   "metadata": {},
   "source": [
    "¿Por qué la división de enteros produce un `float`?"
   ]
  },
  {
   "cell_type": "code",
   "execution_count": 103,
   "metadata": {},
   "outputs": [
    {
     "data": {
      "text/plain": [
       "1.75"
      ]
     },
     "execution_count": 103,
     "metadata": {},
     "output_type": "execute_result"
    }
   ],
   "source": [
    "7 / 4"
   ]
  },
  {
   "cell_type": "code",
   "execution_count": 107,
   "metadata": {},
   "outputs": [
    {
     "data": {
      "text/plain": [
       "3"
      ]
     },
     "execution_count": 107,
     "metadata": {},
     "output_type": "execute_result"
    }
   ],
   "source": [
    "7 % 4"
   ]
  },
  {
   "cell_type": "code",
   "execution_count": 109,
   "metadata": {},
   "outputs": [
    {
     "data": {
      "text/plain": [
       "1.75"
      ]
     },
     "execution_count": 109,
     "metadata": {},
     "output_type": "execute_result"
    }
   ],
   "source": [
    "7.0 / 4"
   ]
  },
  {
   "cell_type": "code",
   "execution_count": 110,
   "metadata": {},
   "outputs": [
    {
     "data": {
      "text/plain": [
       "1.75"
      ]
     },
     "execution_count": 110,
     "metadata": {},
     "output_type": "execute_result"
    }
   ],
   "source": [
    "7 / 4.0"
   ]
  },
  {
   "cell_type": "markdown",
   "metadata": {},
   "source": [
    "¿Por qué `float` módulo `int` produce un `float`?"
   ]
  },
  {
   "cell_type": "code",
   "execution_count": 111,
   "metadata": {},
   "outputs": [
    {
     "data": {
      "text/plain": [
       "1.5"
      ]
     },
     "execution_count": 111,
     "metadata": {},
     "output_type": "execute_result"
    }
   ],
   "source": [
    "7.5 % 3"
   ]
  },
  {
   "cell_type": "markdown",
   "metadata": {},
   "source": [
    "# Gestión de archivos\n",
    "* Archivos de texto \n",
    "* Archivos binarios\n",
    "* XML\n",
    "* JSON\n",
    "* Excel\n"
   ]
  },
  {
   "cell_type": "markdown",
   "metadata": {},
   "source": [
    "# Variables"
   ]
  },
  {
   "cell_type": "markdown",
   "metadata": {},
   "source": [
    "# Sets"
   ]
  },
  {
   "cell_type": "markdown",
   "metadata": {},
   "source": [
    "# Diccionarios"
   ]
  },
  {
   "cell_type": "markdown",
   "metadata": {},
   "source": [
    "#"
   ]
  },
  {
   "cell_type": "markdown",
   "metadata": {},
   "source": [
    "# Errores y manejo de excepciones"
   ]
  },
  {
   "cell_type": "markdown",
   "metadata": {},
   "source": [
    "# Módulos\n",
    "La programación modular es una técnica de diseño de software que enfatiza separar la funcionalidad de un programa  en módulos independientes, intercambiables, del tal forma que cada uno contenga todo lo necesario para ejecutar solo un aspecto de la funcionalidad deseada. El acoplamiento es el grado de interdependencia entre módulos de software. La cohesión se refiere al grado en el que los elementos de un módulo pertenecen entre sí. Se recomienda que los módulos tengan un bajo acoplamiento y alta cohesión.\n",
    "\n",
    "La [librería estándar de Python](https://docs.python.org/3/library/index.html) incluye módulos pre integrados (escritos en C) que proveen acceso a funcionalidad del sistema (como puede ser el caso de entradas y salidas de archivos o recursos HTTP) que de otra forma no serían accesibles para los programadores Python.\n",
    "\n",
    "Los módulos de la librería estándar incluyen:\n",
    "* Servicios de procesamiento de texto, datos binarios.\n",
    "* Numéricos y matemáticos.\n",
    "* Archivos y acceso a directorios.\n",
    "* Servicios generales de sistema operativo.\n",
    "* Redes y protocolos de Internet.\n",
    "\n",
    "Y muchos más.\n"
   ]
  },
  {
   "cell_type": "markdown",
   "metadata": {},
   "source": [
    "Existen diversas formas de importar módulos en Python"
   ]
  },
  {
   "cell_type": "code",
   "execution_count": 1,
   "metadata": {},
   "outputs": [],
   "source": [
    "import math"
   ]
  },
  {
   "cell_type": "markdown",
   "metadata": {},
   "source": [
    "La constante matemática $\\epsilon$."
   ]
  },
  {
   "cell_type": "code",
   "execution_count": 4,
   "metadata": {},
   "outputs": [
    {
     "data": {
      "text/plain": [
       "2.718281828459045"
      ]
     },
     "execution_count": 4,
     "metadata": {},
     "output_type": "execute_result"
    }
   ],
   "source": [
    "math.e"
   ]
  },
  {
   "cell_type": "markdown",
   "metadata": {},
   "source": [
    "La función `tanh()` es una de las funciones de activación empleada en la etapa forward propagation de una red neuronal.\n"
   ]
  },
  {
   "cell_type": "code",
   "execution_count": 22,
   "metadata": {},
   "outputs": [
    {
     "data": {
      "text/plain": [
       "0.46211715726000974"
      ]
     },
     "execution_count": 22,
     "metadata": {},
     "output_type": "execute_result"
    }
   ],
   "source": [
    "math.tanh(0.5)"
   ]
  },
  {
   "cell_type": "markdown",
   "metadata": {},
   "source": [
    "Es posible importar más de un módulo en un estatuto `import` en cuyo caso se separan por comas"
   ]
  },
  {
   "cell_type": "code",
   "execution_count": null,
   "metadata": {},
   "outputs": [],
   "source": [
    "import math, random"
   ]
  },
  {
   "cell_type": "markdown",
   "metadata": {},
   "source": [
    "Se recomienda colocar los estatutos `import` al principio del programa."
   ]
  },
  {
   "cell_type": "markdown",
   "metadata": {},
   "source": [
    "Es posible importar objetos específicos de un módulo"
   ]
  },
  {
   "cell_type": "code",
   "execution_count": 15,
   "metadata": {},
   "outputs": [],
   "source": [
    "from math import pi, degrees, radians"
   ]
  },
  {
   "cell_type": "code",
   "execution_count": 16,
   "metadata": {},
   "outputs": [
    {
     "data": {
      "text/plain": [
       "0.013707783890401887"
      ]
     },
     "execution_count": 16,
     "metadata": {},
     "output_type": "execute_result"
    }
   ],
   "source": [
    "radians(pi/4)"
   ]
  },
  {
   "cell_type": "code",
   "execution_count": 17,
   "metadata": {},
   "outputs": [
    {
     "data": {
      "text/plain": [
       "45.0"
      ]
     },
     "execution_count": 17,
     "metadata": {},
     "output_type": "execute_result"
    }
   ],
   "source": [
    "degrees(pi/4)"
   ]
  },
  {
   "cell_type": "code",
   "execution_count": 18,
   "metadata": {},
   "outputs": [
    {
     "ename": "NameError",
     "evalue": "name 'sin' is not defined",
     "output_type": "error",
     "traceback": [
      "\u001b[1;31m---------------------------------------------------------------------------\u001b[0m",
      "\u001b[1;31mNameError\u001b[0m                                 Traceback (most recent call last)",
      "\u001b[1;32m~\\AppData\\Local\\Temp/ipykernel_18928/3990402361.py\u001b[0m in \u001b[0;36m<module>\u001b[1;34m\u001b[0m\n\u001b[1;32m----> 1\u001b[1;33m \u001b[0msin\u001b[0m\u001b[1;33m(\u001b[0m\u001b[1;36m0\u001b[0m\u001b[1;33m)\u001b[0m\u001b[1;33m\u001b[0m\u001b[1;33m\u001b[0m\u001b[0m\n\u001b[0m",
      "\u001b[1;31mNameError\u001b[0m: name 'sin' is not defined"
     ]
    }
   ],
   "source": [
    "sin(0)"
   ]
  },
  {
   "cell_type": "code",
   "execution_count": 19,
   "metadata": {},
   "outputs": [
    {
     "data": {
      "text/plain": [
       "0.0"
      ]
     },
     "execution_count": 19,
     "metadata": {},
     "output_type": "execute_result"
    }
   ],
   "source": [
    "math.sin(0)"
   ]
  },
  {
   "cell_type": "markdown",
   "metadata": {},
   "source": [
    "Es posible importar todos los objetos de un módulo colocando el símbolo asterisco después del nombre del módulo:\n",
    "\n",
    "```\n",
    "from math import *\n",
    "print(pi)\n",
    "````\n",
    "\n",
    "Esta modalidad solo es recomendada cuando se trabaja con el intérprete interactivo de Python. Al usar esta modalidad se pierde la noción de a qué modulo pertenece el objeto que está siendo invocado.\n",
    "\n",
    "Cabe destacar que Python no provee de setencias para descargar un módulo."
   ]
  },
  {
   "cell_type": "markdown",
   "metadata": {},
   "source": [
    "Es posible definir un prefijo del módulo al momento de importarlo y nombrarlo en objetos completamente calificados."
   ]
  },
  {
   "cell_type": "code",
   "execution_count": 25,
   "metadata": {},
   "outputs": [
    {
     "data": {
      "text/plain": [
       "array([[1, 2, 3],\n",
       "       [4, 5, 6],\n",
       "       [7, 8, 9]])"
      ]
     },
     "execution_count": 25,
     "metadata": {},
     "output_type": "execute_result"
    }
   ],
   "source": [
    "import numpy as np\n",
    "np.array(\n",
    "    [[1,2,3],\n",
    "    [4,5,6],\n",
    "    [7,8,9]])"
   ]
  },
  {
   "cell_type": "markdown",
   "metadata": {},
   "source": [
    "Un módulo en Python es un archivo que contienen definiciones y estatutos de Python. El nombre del módulo es el nombre del archivo sin la extensión `.py`. \n",
    "\n",
    "Para el archivo `positive_divisor.py` el nombre del módulo es `positive_divisor`"
   ]
  },
  {
   "cell_type": "code",
   "execution_count": 27,
   "metadata": {},
   "outputs": [
    {
     "name": "stdout",
     "output_type": "stream",
     "text": [
      "1\n",
      "2\n",
      "5\n",
      "10\n",
      "25\n",
      "50\n"
     ]
    }
   ],
   "source": [
    "import positive_divisor as pod\n",
    "pod.positive_divisor(50,1)"
   ]
  },
  {
   "cell_type": "markdown",
   "metadata": {},
   "source": [
    "Es posible asignar una variable a la función para lograr un nombre más corto"
   ]
  },
  {
   "cell_type": "code",
   "execution_count": 28,
   "metadata": {},
   "outputs": [
    {
     "name": "stdout",
     "output_type": "stream",
     "text": [
      "3\n",
      "9\n"
     ]
    }
   ],
   "source": [
    "posd = pod.positive_divisor\n",
    "posd(9,3)"
   ]
  },
  {
   "cell_type": "markdown",
   "metadata": {},
   "source": [
    "Generalmente los módulos contienen funciones o clases. También pueden incluir estatutus ejecutables, los cuales generalmente se emplean para inicializar el módulo y solo se ejecutan cuando se importa."
   ]
  },
  {
   "cell_type": "code",
   "execution_count": 29,
   "metadata": {},
   "outputs": [
    {
     "name": "stdout",
     "output_type": "stream",
     "text": [
      "Initializing the module.\n"
     ]
    }
   ],
   "source": [
    "import module_initialization"
   ]
  },
  {
   "cell_type": "code",
   "execution_count": 31,
   "metadata": {},
   "outputs": [],
   "source": [
    "import module_initialization #El módulo solo se importa una vez."
   ]
  },
  {
   "cell_type": "markdown",
   "metadata": {},
   "source": [
    "En Python 2.6 era posible cargar nuevamente un módulo por medio de la función `reload()` la cual no se encuentra soportada en Python 3.0."
   ]
  },
  {
   "cell_type": "code",
   "execution_count": 32,
   "metadata": {},
   "outputs": [
    {
     "ename": "NameError",
     "evalue": "name 'relaod' is not defined",
     "output_type": "error",
     "traceback": [
      "\u001b[1;31m---------------------------------------------------------------------------\u001b[0m",
      "\u001b[1;31mNameError\u001b[0m                                 Traceback (most recent call last)",
      "\u001b[1;32m~\\AppData\\Local\\Temp/ipykernel_18928/3588502210.py\u001b[0m in \u001b[0;36m<module>\u001b[1;34m\u001b[0m\n\u001b[1;32m----> 1\u001b[1;33m \u001b[0mrelaod\u001b[0m\u001b[1;33m(\u001b[0m\u001b[0mmodule_initialization\u001b[0m\u001b[1;33m)\u001b[0m\u001b[1;33m\u001b[0m\u001b[1;33m\u001b[0m\u001b[0m\n\u001b[0m",
      "\u001b[1;31mNameError\u001b[0m: name 'relaod' is not defined"
     ]
    }
   ],
   "source": [
    "relaod(module_initialization)"
   ]
  },
  {
   "cell_type": "markdown",
   "metadata": {},
   "source": [
    "En Python 3.4 es posible cargar nuevamente un módulo por medio de la función `reload` del módulo `importlib`"
   ]
  },
  {
   "cell_type": "code",
   "execution_count": 34,
   "metadata": {},
   "outputs": [
    {
     "name": "stdout",
     "output_type": "stream",
     "text": [
      "Initializing the module.\n"
     ]
    },
    {
     "data": {
      "text/plain": [
       "<module 'module_initialization' from 'c:\\\\src\\\\marmo\\\\alteryx\\\\2-Python Fundamentals\\\\module_initialization.py'>"
      ]
     },
     "execution_count": 34,
     "metadata": {},
     "output_type": "execute_result"
    }
   ],
   "source": [
    "import importlib\n",
    "importlib.reload(module_initialization)"
   ]
  },
  {
   "cell_type": "markdown",
   "metadata": {},
   "source": [
    "Los módulos tienen una tabla privada de símbolos, la cual es accesible para todas las funciones definidas en él, evitando que una variable global de un módulo tenga conflicto con una varibla de usuario con el mismo nombre. Las variables también se acceden por medio nombre del módulo o seudónimo como prefijo."
   ]
  },
  {
   "cell_type": "code",
   "execution_count": 2,
   "metadata": {},
   "outputs": [
    {
     "data": {
      "text/plain": [
       "False"
      ]
     },
     "execution_count": 2,
     "metadata": {},
     "output_type": "execute_result"
    }
   ],
   "source": [
    "import module_variable as mv\n",
    "a = 100\n",
    "a == mv.a"
   ]
  },
  {
   "cell_type": "markdown",
   "metadata": {},
   "source": [
    "# Paquetes"
   ]
  },
  {
   "cell_type": "markdown",
   "metadata": {},
   "source": [
    "Un paquete es un directorio con archivos de Python y un archivo `__init__.py`. Es posible colocar múltiples módulos en un paquete. Los paquetes proveen de una estructura al espacio de nombres de los módulos. Es posible tener módulos con el mismo nombre en distintos paquetes. Los paquetes se importan con el comando `import`."
   ]
  },
  {
   "cell_type": "markdown",
   "metadata": {},
   "source": [
    "Consideremos un paquete procesador de medios audiovisuales, el cual consta de dos módulos encargados del preprocesamiento (ingreso) y post procesamiento (egreso) del medio audiovisual.\n",
    "\n",
    "```\n",
    "├───media_processor\n",
    "│   │   egress.py\n",
    "│   │   ingress.py\n",
    "│   │   __init__.py\n",
    "```"
   ]
  },
  {
   "cell_type": "markdown",
   "metadata": {},
   "source": [
    "Importamos media_processor"
   ]
  },
  {
   "cell_type": "code",
   "execution_count": 1,
   "metadata": {},
   "outputs": [
    {
     "ename": "ModuleNotFoundError",
     "evalue": "No module named 'mp'",
     "output_type": "error",
     "traceback": [
      "\u001b[1;31m---------------------------------------------------------------------------\u001b[0m",
      "\u001b[1;31mModuleNotFoundError\u001b[0m                       Traceback (most recent call last)",
      "\u001b[1;32m~\\AppData\\Local\\Temp/ipykernel_33196/2534251928.py\u001b[0m in \u001b[0;36m<module>\u001b[1;34m\u001b[0m\n\u001b[0;32m      1\u001b[0m \u001b[1;32mimport\u001b[0m \u001b[0mmedia_processor\u001b[0m \u001b[1;32mas\u001b[0m \u001b[0mmp\u001b[0m\u001b[1;33m\u001b[0m\u001b[1;33m\u001b[0m\u001b[0m\n\u001b[1;32m----> 2\u001b[1;33m \u001b[1;32mfrom\u001b[0m \u001b[0mmp\u001b[0m \u001b[1;32mimport\u001b[0m \u001b[0mingress\u001b[0m\u001b[1;33m,\u001b[0m \u001b[0megress\u001b[0m\u001b[1;33m\u001b[0m\u001b[1;33m\u001b[0m\u001b[0m\n\u001b[0m",
      "\u001b[1;31mModuleNotFoundError\u001b[0m: No module named 'mp'"
     ]
    }
   ],
   "source": [
    "import media_processor as mp\n",
    "from mp import ingress, egress"
   ]
  },
  {
   "cell_type": "markdown",
   "metadata": {},
   "source": [
    "Invocamos `pre_process_media(id)`"
   ]
  },
  {
   "cell_type": "code",
   "execution_count": 5,
   "metadata": {},
   "outputs": [
    {
     "ename": "AttributeError",
     "evalue": "module 'media_processor' has no attribute 'ingress'",
     "output_type": "error",
     "traceback": [
      "\u001b[1;31m---------------------------------------------------------------------------\u001b[0m",
      "\u001b[1;31mAttributeError\u001b[0m                            Traceback (most recent call last)",
      "\u001b[1;32m~\\AppData\\Local\\Temp/ipykernel_33260/3841547083.py\u001b[0m in \u001b[0;36m<module>\u001b[1;34m\u001b[0m\n\u001b[1;32m----> 1\u001b[1;33m \u001b[0mmedia_processor\u001b[0m\u001b[1;33m.\u001b[0m\u001b[0mingress\u001b[0m\u001b[1;33m.\u001b[0m\u001b[0mpre_process_media\u001b[0m\u001b[1;33m(\u001b[0m\u001b[1;36m120\u001b[0m\u001b[1;33m)\u001b[0m\u001b[1;33m\u001b[0m\u001b[1;33m\u001b[0m\u001b[0m\n\u001b[0m",
      "\u001b[1;31mAttributeError\u001b[0m: module 'media_processor' has no attribute 'ingress'"
     ]
    }
   ],
   "source": [
    "media_processor.ingress.pre_process_media(120)"
   ]
  },
  {
   "cell_type": "markdown",
   "metadata": {},
   "source": [
    "Apreciamos que el módulo ingress no está cargado. Añade los siguientes estatutos para importar los módulos `ingress` y `egress` en el archivo `__init__.py`. \n",
    "\n",
    "```\n",
    "from media_processor import ingress\n",
    "from media_processor import egress\n",
    "```"
   ]
  },
  {
   "cell_type": "markdown",
   "metadata": {},
   "source": [
    "Cargamos nuevamente `media_processor`"
   ]
  },
  {
   "cell_type": "code",
   "execution_count": 18,
   "metadata": {},
   "outputs": [],
   "source": [
    "import media_processor as mp\n",
    "from media_processor import ingress as ingress\n",
    "from media_processor import egress as egress"
   ]
  },
  {
   "cell_type": "markdown",
   "metadata": {},
   "source": [
    "Cabe mencionar que Python emplea un mecanismo similar al del sistema operativo para ubicar paquetes importados. La lista de rutas buscada por Python al importar se determina por `sys.path`"
   ]
  },
  {
   "cell_type": "code",
   "execution_count": 20,
   "metadata": {},
   "outputs": [
    {
     "data": {
      "text/plain": [
       "['c:\\\\src\\\\marmo\\\\alteryx\\\\2-Python Fundamentals',\n",
       " 'c:\\\\Users\\\\Marciano\\\\.vscode\\\\extensions\\\\ms-toolsai.jupyter-2021.10.1101450599\\\\pythonFiles',\n",
       " 'c:\\\\Users\\\\Marciano\\\\.vscode\\\\extensions\\\\ms-toolsai.jupyter-2021.10.1101450599\\\\pythonFiles\\\\lib\\\\python',\n",
       " 'C:\\\\Users\\\\Marciano\\\\.conda\\\\envs\\\\alteryx\\\\python38.zip',\n",
       " 'C:\\\\Users\\\\Marciano\\\\.conda\\\\envs\\\\alteryx\\\\DLLs',\n",
       " 'C:\\\\Users\\\\Marciano\\\\.conda\\\\envs\\\\alteryx\\\\lib',\n",
       " 'C:\\\\Users\\\\Marciano\\\\.conda\\\\envs\\\\alteryx',\n",
       " '',\n",
       " 'C:\\\\Users\\\\Marciano\\\\AppData\\\\Roaming\\\\Python\\\\Python38\\\\site-packages',\n",
       " 'C:\\\\Users\\\\Marciano\\\\.conda\\\\envs\\\\alteryx\\\\lib\\\\site-packages',\n",
       " 'C:\\\\Users\\\\Marciano\\\\.conda\\\\envs\\\\alteryx\\\\lib\\\\site-packages\\\\locket-0.2.1-py3.8.egg',\n",
       " 'C:\\\\Users\\\\Marciano\\\\.conda\\\\envs\\\\alteryx\\\\lib\\\\site-packages\\\\win32',\n",
       " 'C:\\\\Users\\\\Marciano\\\\.conda\\\\envs\\\\alteryx\\\\lib\\\\site-packages\\\\win32\\\\lib',\n",
       " 'C:\\\\Users\\\\Marciano\\\\.conda\\\\envs\\\\alteryx\\\\lib\\\\site-packages\\\\Pythonwin',\n",
       " 'C:\\\\Users\\\\Marciano\\\\.conda\\\\envs\\\\alteryx\\\\lib\\\\site-packages\\\\IPython\\\\extensions',\n",
       " 'C:\\\\Users\\\\Marciano\\\\.ipython']"
      ]
     },
     "execution_count": 20,
     "metadata": {},
     "output_type": "execute_result"
    }
   ],
   "source": [
    "import sys\n",
    "sys.path"
   ]
  },
  {
   "cell_type": "markdown",
   "metadata": {},
   "source": [
    "Por default Python busca los paquetes en el directorio de trabajo actual. Si el módulo no se encuentra ahí, entonces busca en la lista provista por `sys.path`. Es posible determinar la ubicación de un paquete cargado por medio del atributo `__PATH__`"
   ]
  },
  {
   "cell_type": "code",
   "execution_count": 19,
   "metadata": {},
   "outputs": [
    {
     "data": {
      "text/plain": [
       "['c:\\\\src\\\\marmo\\\\alteryx\\\\2-Python Fundamentals\\\\media_processor']"
      ]
     },
     "execution_count": 19,
     "metadata": {},
     "output_type": "execute_result"
    }
   ],
   "source": [
    "media_processor.__path__"
   ]
  },
  {
   "cell_type": "markdown",
   "metadata": {},
   "source": [
    "Invocamos `pre_process_media` y `post_process_media`"
   ]
  },
  {
   "cell_type": "code",
   "execution_count": 3,
   "metadata": {},
   "outputs": [
    {
     "name": "stdout",
     "output_type": "stream",
     "text": [
      "Preprocessing media ID 123 from ingress\n"
     ]
    }
   ],
   "source": [
    "ingress.pre_process_media(123)"
   ]
  },
  {
   "cell_type": "code",
   "execution_count": 4,
   "metadata": {},
   "outputs": [
    {
     "name": "stdout",
     "output_type": "stream",
     "text": [
      "Post processing media ID 34 from egress\n"
     ]
    }
   ],
   "source": [
    "egress.post_process_media(34)"
   ]
  }
 ],
 "metadata": {
  "interpreter": {
   "hash": "dff1176a825098967b08dbdbf002aed5f4d2fbc0230cbe7a7b9c071948b7fba3"
  },
  "kernelspec": {
   "display_name": "Python 3.8.12 64-bit ('alteryx': conda)",
   "language": "python",
   "name": "python3"
  },
  "language_info": {
   "codemirror_mode": {
    "name": "ipython",
    "version": 3
   },
   "file_extension": ".py",
   "mimetype": "text/x-python",
   "name": "python",
   "nbconvert_exporter": "python",
   "pygments_lexer": "ipython3",
   "version": "3.8.12"
  },
  "orig_nbformat": 4
 },
 "nbformat": 4,
 "nbformat_minor": 2
}

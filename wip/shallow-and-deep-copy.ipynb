{
 "cells": [
  {
   "cell_type": "markdown",
   "metadata": {},
   "source": [
    "# Introduction"
   ]
  },
  {
   "cell_type": "code",
   "execution_count": 2,
   "metadata": {},
   "outputs": [
    {
     "name": "stdout",
     "output_type": "stream",
     "text": [
      "140736662937408 140736662937408\n"
     ]
    }
   ],
   "source": [
    "x = 3\n",
    "y = x\n",
    "print(id(x), id(y))"
   ]
  },
  {
   "cell_type": "code",
   "execution_count": 3,
   "metadata": {},
   "outputs": [
    {
     "name": "stdout",
     "output_type": "stream",
     "text": [
      "140736662937408 140736662937440\n"
     ]
    }
   ],
   "source": [
    "y = 4\n",
    "print(id(x), id(y))"
   ]
  },
  {
   "cell_type": "code",
   "execution_count": 4,
   "metadata": {},
   "outputs": [
    {
     "name": "stdout",
     "output_type": "stream",
     "text": [
      "3 4\n"
     ]
    }
   ],
   "source": [
    "print(x, y)"
   ]
  },
  {
   "cell_type": "markdown",
   "metadata": {},
   "source": [
    "# Variables sharing an object"
   ]
  },
  {
   "cell_type": "code",
   "execution_count": 5,
   "metadata": {},
   "outputs": [
    {
     "name": "stdout",
     "output_type": "stream",
     "text": [
      "['red', 'blue'] ['red', 'blue']\n"
     ]
    }
   ],
   "source": [
    "colours1 = [\"red\", \"blue\"]\n",
    "colours2 = colours1\n",
    "print(colours1, colours2)"
   ]
  },
  {
   "cell_type": "code",
   "execution_count": 6,
   "metadata": {},
   "outputs": [
    {
     "name": "stdout",
     "output_type": "stream",
     "text": [
      "2668923322304 2668923322304\n"
     ]
    }
   ],
   "source": [
    "print(id(colours1), id(colours2))"
   ]
  },
  {
   "cell_type": "code",
   "execution_count": 7,
   "metadata": {},
   "outputs": [
    {
     "name": "stdout",
     "output_type": "stream",
     "text": [
      "2668923573120 2668923573120\n"
     ]
    }
   ],
   "source": [
    "colours1 = [\"red\", \"blue\"]\n",
    "colours2 = colours1\n",
    "print(id(colours1), id(colours2))"
   ]
  },
  {
   "cell_type": "code",
   "execution_count": 8,
   "metadata": {},
   "outputs": [
    {
     "name": "stdout",
     "output_type": "stream",
     "text": [
      "['red', 'blue']\n"
     ]
    }
   ],
   "source": [
    "colours2 = \"green\"\n",
    "print(colours1)"
   ]
  },
  {
   "cell_type": "code",
   "execution_count": 9,
   "metadata": {},
   "outputs": [
    {
     "name": "stdout",
     "output_type": "stream",
     "text": [
      "green\n"
     ]
    }
   ],
   "source": [
    "print(colours2) "
   ]
  },
  {
   "cell_type": "code",
   "execution_count": 11,
   "metadata": {},
   "outputs": [
    {
     "data": {
      "text/plain": [
       "['red', 'green']"
      ]
     },
     "execution_count": 11,
     "metadata": {},
     "output_type": "execute_result"
    }
   ],
   "source": [
    "colours1 = [\"red\", \"blue\"]\n",
    "colours2 = colours1\n",
    "colours2[1] = \"green\"\n",
    "colours1"
   ]
  },
  {
   "cell_type": "markdown",
   "metadata": {},
   "source": [
    "# Copying lists"
   ]
  },
  {
   "cell_type": "code",
   "execution_count": 12,
   "metadata": {},
   "outputs": [
    {
     "data": {
      "text/plain": [
       "['Kevin', 'Jamina', 'Lars', 'Maria']"
      ]
     },
     "execution_count": 12,
     "metadata": {},
     "output_type": "execute_result"
    }
   ],
   "source": [
    "firstnames = [\"Kevin\", \"Jamina\", \"Lars\", \"Maria\"]\n",
    "firstnames"
   ]
  },
  {
   "cell_type": "code",
   "execution_count": 13,
   "metadata": {},
   "outputs": [],
   "source": [
    "whatever = [\"Kevin\", \"Pythonista\", 7.8, [3.54, \"rkm\"]]"
   ]
  },
  {
   "cell_type": "markdown",
   "metadata": {},
   "source": [
    "# Problems of opying lists"
   ]
  },
  {
   "cell_type": "code",
   "execution_count": 14,
   "metadata": {},
   "outputs": [
    {
     "name": "stdout",
     "output_type": "stream",
     "text": [
      "['Swen', ['Seestrasse', 'Konstanz']]\n"
     ]
    }
   ],
   "source": [
    "person1 = [\"Swen\", [\"Seestrasse\", \"Konstanz\"]]\n",
    "print(person1)"
   ]
  },
  {
   "cell_type": "code",
   "execution_count": 15,
   "metadata": {},
   "outputs": [
    {
     "name": "stdout",
     "output_type": "stream",
     "text": [
      "['Sarah', ['Seestrasse', 'Konstanz']]\n"
     ]
    }
   ],
   "source": [
    "person2 = person1.copy()\n",
    "person2[0] = \"Sarah\"\n",
    "print(person2)"
   ]
  },
  {
   "cell_type": "code",
   "execution_count": 16,
   "metadata": {},
   "outputs": [
    {
     "name": "stdout",
     "output_type": "stream",
     "text": [
      "['Sarah', ['Bücklestraße', 'Konstanz']]\n"
     ]
    }
   ],
   "source": [
    "person2[1][0] = \"Bücklestraße\"\n",
    "print(person2)"
   ]
  },
  {
   "cell_type": "code",
   "execution_count": 17,
   "metadata": {},
   "outputs": [
    {
     "name": "stdout",
     "output_type": "stream",
     "text": [
      "['Swen', ['Bücklestraße', 'Konstanz']]\n"
     ]
    }
   ],
   "source": [
    "print(person1)"
   ]
  },
  {
   "cell_type": "code",
   "execution_count": 21,
   "metadata": {},
   "outputs": [
    {
     "name": "stdout",
     "output_type": "stream",
     "text": [
      "2668923157888 2668923262016\n"
     ]
    }
   ],
   "source": [
    "print(id(person1[1]), id(person2[1]))"
   ]
  },
  {
   "cell_type": "markdown",
   "metadata": {},
   "source": [
    "# Deepcopy"
   ]
  },
  {
   "cell_type": "code",
   "execution_count": 24,
   "metadata": {},
   "outputs": [
    {
     "name": "stdout",
     "output_type": "stream",
     "text": [
      "['Swen', ['Seestrasse', 'Konstanz']] ['Sarah', ['Seestrasse', 'Konstanz']]\n",
      "2668936494976 2668936698560\n"
     ]
    }
   ],
   "source": [
    "from copy import deepcopy\n",
    "person1 = [\"Swen\", [\"Seestrasse\", \"Konstanz\"]]\n",
    "person2 = deepcopy(person1)\n",
    "person2[0] = \"Sarah\"\n",
    "print(person1, person2)\n",
    "print(id(person1), id(person2))"
   ]
  },
  {
   "cell_type": "code",
   "execution_count": 23,
   "metadata": {},
   "outputs": [
    {
     "name": "stdout",
     "output_type": "stream",
     "text": [
      "['Swen', ['Seestrasse', 'Konstanz']] ['Sarah', ['Bücklestrasse', 'Konstanz']]\n"
     ]
    }
   ],
   "source": [
    "person2[1][0] = \"Bücklestrasse\"\n",
    "print(person1, person2)"
   ]
  },
  {
   "cell_type": "code",
   "execution_count": 25,
   "metadata": {},
   "outputs": [
    {
     "name": "stdout",
     "output_type": "stream",
     "text": [
      "2668930186880 2668923242624\n"
     ]
    }
   ],
   "source": [
    "print(id(person1[1]), id(person2[1]))"
   ]
  }
 ],
 "metadata": {
  "interpreter": {
   "hash": "dff1176a825098967b08dbdbf002aed5f4d2fbc0230cbe7a7b9c071948b7fba3"
  },
  "kernelspec": {
   "display_name": "Python 3.8.12 64-bit ('alteryx': conda)",
   "name": "python3"
  },
  "language_info": {
   "codemirror_mode": {
    "name": "ipython",
    "version": 3
   },
   "file_extension": ".py",
   "mimetype": "text/x-python",
   "name": "python",
   "nbconvert_exporter": "python",
   "pygments_lexer": "ipython3",
   "version": "3.8.12"
  },
  "orig_nbformat": 4
 },
 "nbformat": 4,
 "nbformat_minor": 2
}

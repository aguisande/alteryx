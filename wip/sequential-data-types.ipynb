{
 "cells": [
  {
   "cell_type": "markdown",
   "metadata": {},
   "source": [
    "# Sequential data types"
   ]
  },
  {
   "cell_type": "code",
   "execution_count": 2,
   "metadata": {},
   "outputs": [
    {
     "name": "stdout",
     "output_type": "stream",
     "text": [
      "L s !\n"
     ]
    }
   ],
   "source": [
    "text = \"Lists and strings can be accessed via indices!\"\n",
    "print(text[0], text[10], text[-1])"
   ]
  },
  {
   "cell_type": "markdown",
   "metadata": {},
   "source": []
  },
  {
   "cell_type": "code",
   "execution_count": 5,
   "metadata": {},
   "outputs": [
    {
     "name": "stdout",
     "output_type": "stream",
     "text": [
      "Vienna\n",
      "Paris\n",
      "Hamburg\n"
     ]
    }
   ],
   "source": [
    "cities = [\"Vienna\", \"London\", \"Paris\",\n",
    "    \"Berlin\", \"Zurich\", \"Hamburg\"]\n",
    "print(cities[0])\n",
    "print(cities[2])\n",
    "print(cities[-1])"
   ]
  },
  {
   "cell_type": "code",
   "execution_count": 6,
   "metadata": {},
   "outputs": [
    {
     "data": {
      "text/plain": [
       "7"
      ]
     },
     "execution_count": 6,
     "metadata": {},
     "output_type": "execute_result"
    }
   ],
   "source": [
    "countries = [\"Germany\", \"Switzerland\", \"Austria\", \"France\", \"Belgium\", \"Netherlands\", \"England\"]\n",
    "len(countries)"
   ]
  },
  {
   "cell_type": "code",
   "execution_count": 7,
   "metadata": {},
   "outputs": [
    {
     "data": {
      "text/plain": [
       "10"
      ]
     },
     "execution_count": 7,
     "metadata": {},
     "output_type": "execute_result"
    }
   ],
   "source": [
    "fib = [1, 1, 2, 3, 5, 8, 13, 21, 34, 55]\n",
    "len(fib)"
   ]
  },
  {
   "cell_type": "code",
   "execution_count": 9,
   "metadata": {},
   "outputs": [
    {
     "data": {
      "text/plain": [
       "(6, 7)"
      ]
     },
     "execution_count": 9,
     "metadata": {},
     "output_type": "execute_result"
    }
   ],
   "source": [
    "s = \"México\"\n",
    "s_bytes = s.encode('utf-8')\n",
    "s_bytes\n",
    "len(s), len(s_bytes)"
   ]
  },
  {
   "cell_type": "markdown",
   "metadata": {},
   "source": [
    "# Python lists"
   ]
  },
  {
   "cell_type": "code",
   "execution_count": 12,
   "metadata": {},
   "outputs": [
    {
     "name": "stdout",
     "output_type": "stream",
     "text": [
      "Python and C are quite different!\n",
      "Last language: Perl\n"
     ]
    }
   ],
   "source": [
    "languages = [\"Python\", \"C\", \"C++\", \"Java\", \"Perl\"]\n",
    "print(languages[0] + \" and \" + languages[1] + \" are quite different!\")\n",
    "print(\"Last language: \" + languages[-1])"
   ]
  },
  {
   "cell_type": "code",
   "execution_count": 19,
   "metadata": {},
   "outputs": [],
   "source": [
    "group = [\"Bob\", 23, \"Alice\", 30, \"Sam\", 55]\n"
   ]
  },
  {
   "cell_type": "markdown",
   "metadata": {},
   "source": [
    "# Sublists"
   ]
  },
  {
   "cell_type": "code",
   "execution_count": 20,
   "metadata": {},
   "outputs": [],
   "source": [
    "person = [[\"Mark\", \"Mayer\"], []]"
   ]
  },
  {
   "cell_type": "code",
   "execution_count": 21,
   "metadata": {},
   "outputs": [
    {
     "name": "stdout",
     "output_type": "stream",
     "text": [
      "['Mark', 'Mayer']\n"
     ]
    }
   ],
   "source": [
    "person = [[\"Mark\", \"Mayer\"], [\"17, Oxford Str\", \"12334\", \"London\"], \"2342-23434\"]\n",
    "name = person[0]\n",
    "print(name)"
   ]
  },
  {
   "cell_type": "code",
   "execution_count": 22,
   "metadata": {},
   "outputs": [
    {
     "name": "stdout",
     "output_type": "stream",
     "text": [
      "Mark\n"
     ]
    }
   ],
   "source": [
    "first_name = person[0][0]\n",
    "print(first_name)"
   ]
  },
  {
   "cell_type": "code",
   "execution_count": 23,
   "metadata": {},
   "outputs": [
    {
     "data": {
      "text/plain": [
       "'c'"
      ]
     },
     "execution_count": 23,
     "metadata": {},
     "output_type": "execute_result"
    }
   ],
   "source": [
    "complex_list = [[\"a\", [\"b\", [\"c\", \"x\"]]],42]\n",
    "complex_list[0][1][1][0]"
   ]
  },
  {
   "cell_type": "code",
   "execution_count": 25,
   "metadata": {},
   "outputs": [
    {
     "data": {
      "text/plain": [
       "['Python', 'C', 'C++', 'Java', 'Lisp']"
      ]
     },
     "execution_count": 25,
     "metadata": {},
     "output_type": "execute_result"
    }
   ],
   "source": [
    "languages\n",
    "languages[4] = \"Lisp\"\n",
    "languages"
   ]
  },
  {
   "cell_type": "code",
   "execution_count": 26,
   "metadata": {},
   "outputs": [
    {
     "data": {
      "text/plain": [
       "['Python', 'Perl', 'C', 'C++', 'Java', 'Lisp']"
      ]
     },
     "execution_count": 26,
     "metadata": {},
     "output_type": "execute_result"
    }
   ],
   "source": [
    "languages.insert(1, \"Perl\")\n",
    "languages"
   ]
  },
  {
   "cell_type": "code",
   "execution_count": 27,
   "metadata": {},
   "outputs": [
    {
     "data": {
      "text/plain": [
       "['Python', 'Perl', 'C', 'C++', 'Java', 'Lisp', 'Haskell']"
      ]
     },
     "execution_count": 27,
     "metadata": {},
     "output_type": "execute_result"
    }
   ],
   "source": [
    "languages.append(\"Haskell\")\n",
    "languages"
   ]
  },
  {
   "cell_type": "code",
   "execution_count": 28,
   "metadata": {},
   "outputs": [
    {
     "data": {
      "text/plain": [
       "['milk', 'yoghurt', 'egg', 'butter', 'bread', 'bananas']"
      ]
     },
     "execution_count": 28,
     "metadata": {},
     "output_type": "execute_result"
    }
   ],
   "source": [
    "shopping_list = ['milk', 'yoghurt', 'egg', 'butter', 'bread', 'bananas']\n",
    "shopping_list"
   ]
  },
  {
   "cell_type": "code",
   "execution_count": 29,
   "metadata": {},
   "outputs": [
    {
     "name": "stdout",
     "output_type": "stream",
     "text": [
      "bananas ['milk', 'yoghurt', 'egg', 'butter', 'bread']\n",
      "bread ['milk', 'yoghurt', 'egg', 'butter']\n",
      "butter ['milk', 'yoghurt', 'egg']\n",
      "egg ['milk', 'yoghurt']\n",
      "yoghurt ['milk']\n",
      "milk []\n",
      "shopping list:  []\n",
      "cart:  ['bananas', 'bread', 'butter', 'egg', 'yoghurt', 'milk']\n"
     ]
    }
   ],
   "source": [
    "cart=[]\n",
    "while shopping_list != []:\n",
    "    article = shopping_list.pop()\n",
    "    cart.append(article)\n",
    "    print(article, shopping_list)\n",
    "print(\"shopping list: \", shopping_list)\n",
    "print(\"cart: \", cart)"
   ]
  },
  {
   "cell_type": "markdown",
   "metadata": {},
   "source": [
    "# Tuples"
   ]
  },
  {
   "cell_type": "code",
   "execution_count": 30,
   "metadata": {},
   "outputs": [
    {
     "ename": "TypeError",
     "evalue": "'tuple' object does not support item assignment",
     "output_type": "error",
     "traceback": [
      "\u001b[1;31m---------------------------------------------------------------------------\u001b[0m",
      "\u001b[1;31mTypeError\u001b[0m                                 Traceback (most recent call last)",
      "\u001b[1;32m~\\AppData\\Local\\Temp/ipykernel_26564/693221745.py\u001b[0m in \u001b[0;36m<module>\u001b[1;34m\u001b[0m\n\u001b[0;32m      1\u001b[0m \u001b[0mt\u001b[0m \u001b[1;33m=\u001b[0m \u001b[1;33m(\u001b[0m\u001b[1;34m\"tuples\"\u001b[0m\u001b[1;33m,\u001b[0m \u001b[1;34m\"are\"\u001b[0m\u001b[1;33m,\u001b[0m \u001b[1;34m\"immutable\"\u001b[0m\u001b[1;33m)\u001b[0m\u001b[1;33m\u001b[0m\u001b[1;33m\u001b[0m\u001b[0m\n\u001b[1;32m----> 2\u001b[1;33m \u001b[0mt\u001b[0m\u001b[1;33m[\u001b[0m\u001b[1;36m0\u001b[0m\u001b[1;33m]\u001b[0m \u001b[1;33m=\u001b[0m \u001b[1;34m\"change\"\u001b[0m\u001b[1;33m\u001b[0m\u001b[1;33m\u001b[0m\u001b[0m\n\u001b[0m",
      "\u001b[1;31mTypeError\u001b[0m: 'tuple' object does not support item assignment"
     ]
    }
   ],
   "source": [
    "t = (\"tuples\", \"are\", \"immutable\")\n",
    "t[0] = \"change\""
   ]
  },
  {
   "cell_type": "markdown",
   "metadata": {},
   "source": [
    "# Slicing"
   ]
  },
  {
   "cell_type": "code",
   "execution_count": 31,
   "metadata": {},
   "outputs": [
    {
     "data": {
      "text/plain": [
       "'Python'"
      ]
     },
     "execution_count": 31,
     "metadata": {},
     "output_type": "execute_result"
    }
   ],
   "source": [
    "slogan = \"Python is great\"\n",
    "first_six = slogan[0:6]\n",
    "first_six"
   ]
  },
  {
   "cell_type": "code",
   "execution_count": 33,
   "metadata": {},
   "outputs": [
    {
     "data": {
      "text/plain": [
       "'n is great'"
      ]
     },
     "execution_count": 33,
     "metadata": {},
     "output_type": "execute_result"
    }
   ],
   "source": [
    "starting_at_five = slogan[5:]\n",
    "starting_at_five"
   ]
  },
  {
   "cell_type": "code",
   "execution_count": 38,
   "metadata": {},
   "outputs": [
    {
     "data": {
      "text/plain": [
       "['Vienna', 'London', 'Paris', 'Berlin']"
      ]
     },
     "execution_count": 38,
     "metadata": {},
     "output_type": "execute_result"
    }
   ],
   "source": [
    "cities = [\"Vienna\", \"London\", \"Paris\", \"Berlin\", \"Zurich\", \"Hamburg\"]\n",
    "all_but_last_two = cities[:-2]\n",
    "all_but_last_two\n"
   ]
  },
  {
   "cell_type": "code",
   "execution_count": 39,
   "metadata": {},
   "outputs": [
    {
     "data": {
      "text/plain": [
       "['London', 'Berlin']"
      ]
     },
     "execution_count": 39,
     "metadata": {},
     "output_type": "execute_result"
    }
   ],
   "source": [
    "cities[1:-1:2]"
   ]
  },
  {
   "cell_type": "code",
   "execution_count": 41,
   "metadata": {},
   "outputs": [
    {
     "data": {
      "text/plain": [
       "['London', 'Berlin', 'Hamburg']"
      ]
     },
     "execution_count": 41,
     "metadata": {},
     "output_type": "execute_result"
    }
   ],
   "source": [
    "cities[1::2]"
   ]
  },
  {
   "cell_type": "code",
   "execution_count": 42,
   "metadata": {},
   "outputs": [
    {
     "data": {
      "text/plain": [
       "'TPoyrtohnotno  ciosu rtshees  lianr gTeosrto nctiot yb yi nB oCdaennasdeao'"
      ]
     },
     "execution_count": 42,
     "metadata": {},
     "output_type": "execute_result"
    }
   ],
   "source": [
    "s = \"Toronto is the largest city in Canada\"\n",
    "t = \"Python courses in Toronto by Bodenseo\"\n",
    "s = \"\".join([\"\".join(x) for x in zip(s,t)])\n",
    "s"
   ]
  },
  {
   "cell_type": "code",
   "execution_count": 43,
   "metadata": {},
   "outputs": [
    {
     "name": "stdout",
     "output_type": "stream",
     "text": [
      "Toronto is the largest city in Canada\n"
     ]
    }
   ],
   "source": [
    "print(s[::2])"
   ]
  },
  {
   "cell_type": "code",
   "execution_count": 44,
   "metadata": {},
   "outputs": [
    {
     "name": "stdout",
     "output_type": "stream",
     "text": [
      "Python courses in Toronto by Bodenseo\n"
     ]
    }
   ],
   "source": [
    "print(s[1::2])"
   ]
  },
  {
   "cell_type": "code",
   "execution_count": 46,
   "metadata": {},
   "outputs": [],
   "source": [
    "z = zip(s,t)"
   ]
  },
  {
   "cell_type": "code",
   "execution_count": 47,
   "metadata": {},
   "outputs": [
    {
     "name": "stdout",
     "output_type": "stream",
     "text": [
      "(('T', 'P'), ('P', 'y'), ('o', 't'), ('y', 'h'), ('r', 'o'), ('t', 'n'), ('o', ' '), ('h', 'c'), ('n', 'o'), ('o', 'u'), ('t', 'r'), ('n', 's'), ('o', 'e'), (' ', 's'), (' ', ' '), ('c', 'i'), ('i', 'n'), ('o', ' '), ('s', 'T'), ('u', 'o'), (' ', 'r'), ('r', 'o'), ('t', 'n'), ('s', 't'), ('h', 'o'), ('e', ' '), ('e', 'b'), ('s', 'y'), (' ', ' '), (' ', 'B'), ('l', 'o'), ('i', 'd'), ('a', 'e'), ('n', 'n'), ('r', 's'), (' ', 'e'), ('g', 'o'))\n"
     ]
    }
   ],
   "source": [
    "print(tuple(z))"
   ]
  },
  {
   "cell_type": "markdown",
   "metadata": {},
   "source": [
    "# Length"
   ]
  },
  {
   "cell_type": "code",
   "execution_count": 48,
   "metadata": {},
   "outputs": [
    {
     "data": {
      "text/plain": [
       "12"
      ]
     },
     "execution_count": 48,
     "metadata": {},
     "output_type": "execute_result"
    }
   ],
   "source": [
    "txt = \"Hello World!\"\n",
    "len(txt)"
   ]
  },
  {
   "cell_type": "code",
   "execution_count": 50,
   "metadata": {},
   "outputs": [
    {
     "data": {
      "text/plain": [
       "5"
      ]
     },
     "execution_count": 50,
     "metadata": {},
     "output_type": "execute_result"
    }
   ],
   "source": [
    "a  = [\"Swen\", 45, 3,54, \"Basel\"]\n",
    "len(a)"
   ]
  },
  {
   "cell_type": "markdown",
   "metadata": {},
   "source": [
    "# Concatenation of sequences"
   ]
  },
  {
   "cell_type": "code",
   "execution_count": 52,
   "metadata": {},
   "outputs": [
    {
     "name": "stdout",
     "output_type": "stream",
     "text": [
      "Matt Damon\n"
     ]
    }
   ],
   "source": [
    "first_name = \"Matt\"\n",
    "last_name = \"Damon\"\n",
    "name = first_name + \" \" + last_name\n",
    "print(name)"
   ]
  },
  {
   "cell_type": "code",
   "execution_count": 53,
   "metadata": {},
   "outputs": [
    {
     "name": "stdout",
     "output_type": "stream",
     "text": [
      "['red', 'green', 'blue', 'cyan', 'yellow', 'magenta']\n"
     ]
    }
   ],
   "source": [
    "colors1 = [\"red\", \"green\", \"blue\"]\n",
    "colors2 = [\"cyan\", \"yellow\", \"magenta\"]\n",
    "colors = colors1 + colors2\n",
    "print(colors)"
   ]
  },
  {
   "cell_type": "code",
   "execution_count": 54,
   "metadata": {},
   "outputs": [
    {
     "data": {
      "text/plain": [
       "'somemojo'"
      ]
     },
     "execution_count": 54,
     "metadata": {},
     "output_type": "execute_result"
    }
   ],
   "source": [
    "s = \"some\"\n",
    "m = \"mojo\"\n",
    "s += m\n",
    "s"
   ]
  },
  {
   "cell_type": "code",
   "execution_count": null,
   "metadata": {},
   "outputs": [],
   "source": [
    "colors3 = [\"purple\", \"orange\"]\n",
    "colors += colors3\n",
    "colors"
   ]
  },
  {
   "cell_type": "markdown",
   "metadata": {},
   "source": [
    "# The pitfalls of repetitions"
   ]
  },
  {
   "cell_type": "code",
   "execution_count": 1,
   "metadata": {},
   "outputs": [
    {
     "data": {
      "text/plain": [
       "[['a', 'b', 'c'], ['a', 'b', 'c'], ['a', 'b', 'c'], ['a', 'b', 'c']]"
      ]
     },
     "execution_count": 1,
     "metadata": {},
     "output_type": "execute_result"
    }
   ],
   "source": [
    "x = [\"a\", \"b\", \"c\"]\n",
    "y = [x] * 4\n",
    "y"
   ]
  },
  {
   "cell_type": "code",
   "execution_count": 2,
   "metadata": {},
   "outputs": [
    {
     "data": {
      "text/plain": [
       "[['p', 'b', 'c'], ['p', 'b', 'c'], ['p', 'b', 'c'], ['p', 'b', 'c']]"
      ]
     },
     "execution_count": 2,
     "metadata": {},
     "output_type": "execute_result"
    }
   ],
   "source": [
    "y[0][0] = \"p\"\n",
    "y"
   ]
  }
 ],
 "metadata": {
  "interpreter": {
   "hash": "dff1176a825098967b08dbdbf002aed5f4d2fbc0230cbe7a7b9c071948b7fba3"
  },
  "kernelspec": {
   "display_name": "Python 3.8.12 64-bit ('alteryx': conda)",
   "name": "python3"
  },
  "language_info": {
   "codemirror_mode": {
    "name": "ipython",
    "version": 3
   },
   "file_extension": ".py",
   "mimetype": "text/x-python",
   "name": "python",
   "nbconvert_exporter": "python",
   "pygments_lexer": "ipython3",
   "version": "3.8.12"
  },
  "orig_nbformat": 4
 },
 "nbformat": 4,
 "nbformat_minor": 2
}

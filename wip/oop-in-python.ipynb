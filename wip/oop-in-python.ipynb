{
    "cells": [
        {
            "cell_type": "markdown",
            "metadata": {},
            "source": [
                "* OOP in Python\n",
                "Python classes in detail\n",
                "s. 10"
            ]
        },
        {
            "cell_type": "markdown",
            "metadata": {},
            "source": [
                "OOP in Python\n",
                "Amarjit Singh"
            ]
        },
        {
            "cell_type": "code",
            "execution_count": 19,
            "metadata": {},
            "outputs": [],
            "source": [
                "class Dog(object):\n",
                "    pass"
            ]
        },
        {
            "cell_type": "code",
            "execution_count": 22,
            "metadata": {},
            "outputs": [],
            "source": [
                "bruna = Dog()\n"
            ]
        },
        {
            "cell_type": "code",
            "execution_count": 23,
            "metadata": {},
            "outputs": [
                {
                    "data": {
                        "text/plain": [
                            "__main__.Dog"
                        ]
                    },
                    "execution_count": 23,
                    "metadata": {},
                    "output_type": "execute_result"
                }
            ],
            "source": [
                "type(bruna)"
            ]
        },
        {
            "cell_type": "code",
            "execution_count": 10,
            "metadata": {},
            "outputs": [
                {
                    "name": "stdout",
                    "output_type": "stream",
                    "text": [
                        "Woof!\n"
                    ]
                },
                {
                    "data": {
                        "text/plain": [
                            "1"
                        ]
                    },
                    "execution_count": 10,
                    "metadata": {},
                    "output_type": "execute_result"
                }
            ],
            "source": [
                "class Dog(object):\n",
                "    def bark(self):\n",
                "        print(\"Woof!\")\n",
                "\n",
                "vica = Dog()\n",
                "vica.bark()\n",
                "vica.a = 1\n",
                "vica.a"
            ]
        },
        {
            "cell_type": "code",
            "execution_count": 16,
            "metadata": {},
            "outputs": [
                {
                    "name": "stdout",
                    "output_type": "stream",
                    "text": [
                        "Woof!\n",
                        "Swish!!!\n"
                    ]
                },
                {
                    "data": {
                        "text/plain": [
                            "1"
                        ]
                    },
                    "execution_count": 16,
                    "metadata": {},
                    "output_type": "execute_result"
                }
            ],
            "source": [
                "class Labrador(Dog):\n",
                "    def swim(self):\n",
                "        print(\"Swish!!!\")\n",
                "\n",
                "lucas = Labrador()\n",
                "lucas.bark()\n",
                "lucas.swim()\n",
                "#lucas.a\n",
                "vica.a"
            ]
        },
        {
            "cell_type": "code",
            "execution_count": 35,
            "metadata": {},
            "outputs": [
                {
                    "name": "stdout",
                    "output_type": "stream",
                    "text": [
                        "I am 0 years old\n",
                        "I am 1 years old\n"
                    ]
                }
            ],
            "source": [
                "class Cat(object):\n",
                "    def __init__(self):\n",
                "        self.age = 0\n",
                "    def grow(self):\n",
                "        self.age += 1\n",
                "    def tellAge(self):\n",
                "        print(\"I am {} years old!\".format(self.age))\n",
                "    \n",
                "\n",
                "kitty = Cat()\n",
                "type(kitty)\n",
                "kitty.tellAge()\n",
                "kitty.grow()\n",
                "kitty.tellAge()"
            ]
        },
        {
            "cell_type": "code",
            "execution_count": 29,
            "metadata": {},
            "outputs": [
                {
                    "name": "stdout",
                    "output_type": "stream",
                    "text": [
                        "3.8.12 (default, Oct 12 2021, 03:01:40) [MSC v.1916 64 bit (AMD64)]\n"
                    ]
                }
            ],
            "source": [
                "import sys\n",
                "print(sys.version)"
            ]
        },
        {
            "cell_type": "code",
            "execution_count": 47,
            "metadata": {},
            "outputs": [
                {
                    "name": "stdout",
                    "output_type": "stream",
                    "text": [
                        "Animalia\n",
                        "Arthropod\n",
                        "Arthropod\n"
                    ]
                }
            ],
            "source": [
                "class Animalia(object):\n",
                "    def __init__(self):\n",
                "        self.latin_name = \"Animalia\"\n",
                "    def tellGenus(self):\n",
                "        print(self.latin_name)\n",
                "\n",
                "class Arthropod(Animalia):\n",
                "    def __init__(self):\n",
                "        self.latin_name = \"Arthropod\"\n",
                "    def tellSuperGenus(self):\n",
                "        super(Arthropod, self).tellGenus()\n",
                "\n",
                "animalia = Animalia()\n",
                "trilobite = Arthropod()\n",
                "animalia.tellGenus()\n",
                "trilobite.tellGenus()\n",
                "trilobite.tellSuperGenus()"
            ]
        },
        {
            "cell_type": "code",
            "execution_count": 55,
            "metadata": {},
            "outputs": [
                {
                    "name": "stdout",
                    "output_type": "stream",
                    "text": [
                        "(4,6)\n"
                    ]
                }
            ],
            "source": [
                "class My2Vector(object):\n",
                "    def __init__(self, x, y):\n",
                "        self.x = x\n",
                "        self.y = y\n",
                "    def __add__(self, other):\n",
                "        return My2Vector(self.x + other.x, self.y + other.y)\n",
                "    def __str__(self):\n",
                "        return \"({},{})\".format(self.x, self.y)\n",
                "\n",
                "v1 = My2Vector(1,2)\n",
                "v2 = My2Vector(3,4)\n",
                "type(v1+v2)\n",
                "v3 = v1 + v2\n",
                "print(v3)"
            ]
        },
        {
            "cell_type": "code",
            "execution_count": 68,
            "metadata": {},
            "outputs": [
                {
                    "data": {
                        "text/plain": [
                            "1"
                        ]
                    },
                    "execution_count": 68,
                    "metadata": {},
                    "output_type": "execute_result"
                }
            ],
            "source": [
                "class My2Vector(object):\n",
                "    def __init__(self, x,y):\n",
                "        self.__x = x\n",
                "        self.__y = y\n",
                "    def get_x(self):\n",
                "        return self.__x\n",
                "    def set_x(self, x):\n",
                "        self._x = x\n",
                "    x = property(get_x, set_x)\n",
                "    @property\n",
                "    def y(self):\n",
                "        return self.__y\n",
                "\n",
                "\n",
                "v1 = My2Vector(0,1)\n",
                "v1.x\n",
                "v1.y"
            ]
        },
        {
            "cell_type": "code",
            "execution_count": 32,
            "metadata": {},
            "outputs": [
                {
                    "data": {
                        "text/plain": [
                            "3"
                        ]
                    },
                    "execution_count": 32,
                    "metadata": {},
                    "output_type": "execute_result"
                }
            ],
            "source": [
                "import random\n",
                "class Die(object):\n",
                "    def __init__(self, sides=6):\n",
                "        self._sides = sides\n",
                "        self._value = None\n",
                "        self.roll()\n",
                "\n",
                "    def roll(self):\n",
                "        self._value = 1 + random.randrange(self._sides)\n",
                "        return self._value\n",
                "    def __str__(self):\n",
                "        return \"Die with {} sides, current value is {}\".format(self._sides, self._value)\n",
                "\n",
                "class WinnerDie(Die):\n",
                "    def roll(self):\n",
                "        super(WinnerDie, self).roll()\n",
                "        if self._value == 1:\n",
                "            return self._value\n",
                "        else:\n",
                "            return super(WinnerDie, self).roll()\n",
                "\n",
                "die = Die()\n",
                "die._sides\n",
                "die.roll()"
            ]
        },
        {
            "cell_type": "code",
            "execution_count": null,
            "metadata": {},
            "outputs": [],
            "source": [
                "for _ in range(10):\n",
                "    print(die.roll())"
            ]
        },
        {
            "cell_type": "code",
            "execution_count": 31,
            "metadata": {},
            "outputs": [
                {
                    "name": "stdout",
                    "output_type": "stream",
                    "text": [
                        "Die with 6 sides, current value is 3\n"
                    ]
                }
            ],
            "source": [
                "print(die)"
            ]
        },
        {
            "cell_type": "code",
            "execution_count": null,
            "metadata": {},
            "outputs": [],
            "source": [
                "winnerDie = WinnerDie()\n",
                "for _ in range(20):\n",
                "    print(winnerDie.roll())"
            ]
        },
        {
            "cell_type": "code",
            "execution_count": 43,
            "metadata": {},
            "outputs": [
                {
                    "data": {
                        "text/plain": [
                            "9"
                        ]
                    },
                    "execution_count": 43,
                    "metadata": {},
                    "output_type": "execute_result"
                }
            ],
            "source": [
                "range(10)[9]"
            ]
        },
        {
            "cell_type": "markdown",
            "metadata": {},
            "source": [
                "# Iterator"
            ]
        },
        {
            "cell_type": "code",
            "execution_count": 44,
            "metadata": {},
            "outputs": [
                {
                    "name": "stdout",
                    "output_type": "stream",
                    "text": [
                        "z\n",
                        "w\n",
                        "b\n"
                    ]
                }
            ],
            "source": [
                "mycollection = ['z', 'w', 'b']\n",
                "for i in range(len(mycollection)):\n",
                "    print(mycollection[i])"
            ]
        },
        {
            "cell_type": "code",
            "execution_count": 46,
            "metadata": {},
            "outputs": [
                {
                    "ename": "KeyError",
                    "evalue": "0",
                    "output_type": "error",
                    "traceback": [
                        "\u001b[1;31m---------------------------------------------------------------------------\u001b[0m",
                        "\u001b[1;31mKeyError\u001b[0m                                  Traceback (most recent call last)",
                        "\u001b[1;32m~\\AppData\\Local\\Temp/ipykernel_2536/2273062297.py\u001b[0m in \u001b[0;36m<module>\u001b[1;34m\u001b[0m\n\u001b[0;32m      1\u001b[0m \u001b[0mothercollection\u001b[0m \u001b[1;33m=\u001b[0m \u001b[1;33m{\u001b[0m\u001b[1;34m'a'\u001b[0m\u001b[1;33m:\u001b[0m\u001b[1;36m1\u001b[0m\u001b[1;33m,\u001b[0m \u001b[1;34m'b'\u001b[0m\u001b[1;33m:\u001b[0m\u001b[1;36m2\u001b[0m\u001b[1;33m,\u001b[0m \u001b[1;34m'c'\u001b[0m\u001b[1;33m:\u001b[0m\u001b[1;36m3\u001b[0m\u001b[1;33m}\u001b[0m\u001b[1;33m\u001b[0m\u001b[1;33m\u001b[0m\u001b[0m\n\u001b[0;32m      2\u001b[0m \u001b[1;32mfor\u001b[0m \u001b[0mi\u001b[0m \u001b[1;32min\u001b[0m \u001b[0mrange\u001b[0m\u001b[1;33m(\u001b[0m\u001b[0mlen\u001b[0m\u001b[1;33m(\u001b[0m\u001b[0mothercollection\u001b[0m\u001b[1;33m)\u001b[0m\u001b[1;33m)\u001b[0m\u001b[1;33m:\u001b[0m\u001b[1;33m\u001b[0m\u001b[1;33m\u001b[0m\u001b[0m\n\u001b[1;32m----> 3\u001b[1;33m     \u001b[0mprint\u001b[0m\u001b[1;33m(\u001b[0m\u001b[0mothercollection\u001b[0m\u001b[1;33m[\u001b[0m\u001b[0mi\u001b[0m\u001b[1;33m]\u001b[0m\u001b[1;33m)\u001b[0m\u001b[1;33m\u001b[0m\u001b[1;33m\u001b[0m\u001b[0m\n\u001b[0m",
                        "\u001b[1;31mKeyError\u001b[0m: 0"
                    ]
                }
            ],
            "source": [
                "othercollection = {'a':1, 'b':2, 'c':3}\n",
                "for i in range(len(othercollection)):\n",
                "    print(othercollection[i])"
            ]
        },
        {
            "cell_type": "code",
            "execution_count": 50,
            "metadata": {},
            "outputs": [
                {
                    "ename": "KeyError",
                    "evalue": "2",
                    "output_type": "error",
                    "traceback": [
                        "\u001b[1;31m---------------------------------------------------------------------------\u001b[0m",
                        "\u001b[1;31mKeyError\u001b[0m                                  Traceback (most recent call last)",
                        "\u001b[1;32m~\\AppData\\Local\\Temp/ipykernel_2536/1218926097.py\u001b[0m in \u001b[0;36m<module>\u001b[1;34m\u001b[0m\n\u001b[1;32m----> 1\u001b[1;33m \u001b[0mothercollection\u001b[0m\u001b[1;33m[\u001b[0m\u001b[1;36m2\u001b[0m\u001b[1;33m]\u001b[0m\u001b[1;33m\u001b[0m\u001b[1;33m\u001b[0m\u001b[0m\n\u001b[0m",
                        "\u001b[1;31mKeyError\u001b[0m: 2"
                    ]
                }
            ],
            "source": [
                "othercollection[2]"
            ]
        }
    ],
    "metadata": {
        "interpreter": {
            "hash": "dff1176a825098967b08dbdbf002aed5f4d2fbc0230cbe7a7b9c071948b7fba3"
        },
        "kernelspec": {
            "display_name": "Python 3 (ipykernel)",
            "language": "python",
            "name": "python3"
        },
        "language_info": {
            "codemirror_mode": {
                "name": "ipython",
                "version": 3
            },
            "file_extension": ".py",
            "mimetype": "text/x-python",
            "name": "python",
            "nbconvert_exporter": "python",
            "pygments_lexer": "ipython3",
            "version": "3.8.12"
        },
        "orig_nbformat": 4
    },
    "nbformat": 4,
    "nbformat_minor": 2
}

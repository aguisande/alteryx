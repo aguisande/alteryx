{
 "cells": [
  {
   "cell_type": "markdown",
   "metadata": {},
   "source": [
    "# Introducción al intérprete de Python\n",
    "** NOTA: Efectúa los ejercicios de este documento desde una terminal de sistema operativo y con el intérprete de Python **\n",
    "\n",
    "El shell es una interfaz entre el usuario y el sistema operativo, encargada de intepretar y ejecutar el código Python que se le provee. Sus modalidades de operación incluyen:\n",
    "* Interactivo: Recibe y ejecuta comandos del usuario al momento.\n",
    "* Comandos no interactivos: Se invoca el intérprete con sentencias Python a ejecutar.\n",
    "* Módulos: Se invoce el intérprete con el nombre del módulo y opcionalmente argumentos a ejecutar.\n",
    "* Scripts: Se invoca el intérprete con el nombre de un archivo de código fuente Python y opcionalmente argumentos a ejecutar."
   ]
  },
  {
   "cell_type": "markdown",
   "metadata": {},
   "source": [
    "# Ubicación de ejecutables\n",
    "Una computadora podría tener diversas instalaciones de Python. En este apartado revisaremos la forma como el sistema operativo ubica los ejecutables. Esto es relevante en el contexto del REPL de Python y los Jupyter Notebooks que veremos más adelante."
   ]
  },
  {
   "cell_type": "markdown",
   "metadata": {},
   "source": [
    "En sistemas Linux y MacOS, el sistema busca si existe un alias para el comando, en caso que no se refiere a la variable de entorno `$PATH`"
   ]
  },
  {
   "cell_type": "code",
   "execution_count": 29,
   "metadata": {},
   "outputs": [
    {
     "name": "stdout",
     "output_type": "stream",
     "text": [
      "$PATH\n"
     ]
    }
   ],
   "source": [
    "!echo $PATH"
   ]
  },
  {
   "cell_type": "markdown",
   "metadata": {},
   "source": [
    "En el caso de sistemas Windows la variable se refiere como `%PATH%` en notebooks o simplemente `PATH` en la línea de comando."
   ]
  },
  {
   "cell_type": "code",
   "execution_count": 30,
   "metadata": {},
   "outputs": [
    {
     "name": "stdout",
     "output_type": "stream",
     "text": [
      "C:\\Users\\Marciano\\.conda\\envs\\alteryx;C:\\Users\\Marciano\\.conda\\envs\\alteryx\\Library\\mingw-w64\\bin;C:\\Users\\Marciano\\.conda\\envs\\alteryx\\Library\\usr\\bin;C:\\Users\\Marciano\\.conda\\envs\\alteryx\\Library\\bin;C:\\Users\\Marciano\\.conda\\envs\\alteryx\\Scripts;C:\\Users\\Marciano\\.conda\\envs\\alteryx\\bin;C:\\ProgramData\\Anaconda3\\condabin;C:\\Python38\\Scripts;C:\\Python38;C:\\Program Files\\NVIDIA GPU Computing Toolkit\\CUDA\\v10.2\\bin;C:\\Program Files\\NVIDIA GPU Computing Toolkit\\CUDA\\v10.2\\libnvvp;C:\\Program Files (x86)\\Common Files\\Intel\\Shared Libraries\\redist\\intel64\\compiler;C:\\Program Files (x86)\\Common Files\\Oracle\\Java\\javapath;C:\\ProgramData\\Oracle\\Java\\javapath;C:\\WINDOWS\\system32;C:\\WINDOWS;C:\\WINDOWS\\System32\\Wbem;C:\\WINDOWS\\System32\\WindowsPowerShell\\v1.0;C:\\Program Files\\Intel\\WiFi\\bin;C:\\Program Files\\Common Files\\Intel\\WirelessCommon;C:\\Program Files (x86)\\Google\\Google Apps Sync;C:\\Program Files (x86)\\Google\\Google Apps Migration;C:\\Python27;C:\\ffmpeg-3.4.2-win64-static\\bin;C:\\Program Files (x86)\\Google\\Cloud SDK\\google-cloud-sdk\\bin;C:\\Program Files (x86)\\Wolfram Research\\WolframScript;C:\\WINDOWS\\System32\\OpenSSH;C:\\src\\flutter\\bin;C:\\ProgramData\\chocolatey\\bin;C:\\Program Files (x86)\\NVIDIA Corporation\\PhysX\\Common;C:\\Program Files\\NVIDIA Corporation\\Nsight Compute 2019.5.0;C:\\Users\\C:\\Users\\Marciano\\AppData\\Local\\atom\\bin;C:\\Program Files\\nodejs;C:\\Program Files\\dotnet;C:\\WINDOWS\\system32;C:\\WINDOWS;C:\\WINDOWS\\System32\\Wbem;C:\\WINDOWS\\System32\\WindowsPowerShell\\v1.0;C:\\WINDOWS\\System32\\OpenSSH;C:\\Program Files\\mongodb-win32-x86_64-windows-4.4.1\\bin;C:\\libwebp-1.1.0-windows-x64\\bin;C:\\Program Files\\Amazon\\AWSCLIV2;C:\\Program Files (x86)\\BaseX\\bin;C:\\Program Files\\Git\\cmd;C:\\Program Files\\PowerShell\\7;C:\\Program Files\\Docker\\Docker\\resources\\bin;C:\\ProgramData\\DockerDesktop\\version-bin;C:\\Users\\Marciano\\AppData\\Roaming\\Smilebox;C:\\Users\\Marciano\\AppData\\Local\\Microsoft\\WindowsApps;C:\\Users\\Marciano\\AppData\\Local\\Programs\\Fiddler;C:\\Users\\Marciano\\AppData\\Local\\Programs\\Microsoft VS Code\\bin;C:\\Users\\Marciano\\AppData\\Local\\GitHubDesktop\\bin;C:\\Users\\Marciano\\AppData\\Roaming\\npm;C:\\Users\\Marciano\\AppData\\Local\\Microsoft\\WindowsApps;C:\\rtools40\\usr\\bin;C:\\Users\\Marciano\\AppData\\Local\\Programs\\MiKTeX\\miktex\\bin\\x64;C:\\Program Files\\gs\\gs9.54.0\\bin;C:\\Exercism;C:\\Users\\Marciano\\AppData\\Local\\Programs\\Julia-1.6.1\\bin;C:\\Users\\Marciano\\AppData\\Local\\nvs;C:\\Program Files (x86)\\GitHub CLI;C:\\Users\\Marciano\\AppData\\Local\\Programs\\Julia-1.6.3\\bin;C:\\Users\\Marciano\\AppData\\Local\\Pandoc;C:\\Users\\Marciano\\AppData\\Local\\Programs\\Microsoft VS Code Insiders\\bin\n"
     ]
    }
   ],
   "source": [
    "!echo %PATH%"
   ]
  },
  {
   "cell_type": "markdown",
   "metadata": {},
   "source": [
    "Para conocer la ruta absoluta de un programa empleamos el comando `type` en Linux o MacOS."
   ]
  },
  {
   "cell_type": "code",
   "execution_count": 31,
   "metadata": {},
   "outputs": [
    {
     "name": "stderr",
     "output_type": "stream",
     "text": [
      "The system cannot find the file specified.\n"
     ]
    }
   ],
   "source": [
    "!type python"
   ]
  },
  {
   "cell_type": "markdown",
   "metadata": {},
   "source": [
    "En Windows usamos el comando WHICH."
   ]
  },
  {
   "cell_type": "code",
   "execution_count": 32,
   "metadata": {},
   "outputs": [
    {
     "name": "stdout",
     "output_type": "stream",
     "text": [
      "/c/Users/Marciano/.conda/envs/alteryx/python\n"
     ]
    }
   ],
   "source": [
    "!WHICH python"
   ]
  },
  {
   "cell_type": "markdown",
   "metadata": {},
   "source": [
    "# El intérprete de Python en modalidad interactiva\n",
    "Esta modalidad es similar a un shell de Unix. Cuando se invoca su entrada estándar se conecta a un dispositivo tty desde donde lee comandos y los ejecuta de forma interactiva.\n",
    "Para acceder a esta modalidad se proveé el nombre del intérprete de Python desde una terminal de sistema operativo otros argumentos.\n",
    "\n",
    "Depediendo de la instalación de Python el nombre del intérprete puede ser:\n",
    "\n",
    " `python`\n",
    " \n",
    " `python3`"
   ]
  },
  {
   "cell_type": "markdown",
   "metadata": {},
   "source": [
    "Examina el mensaje de inicio del REPL, identifica la versión y distribución de Python\n",
    "```\n",
    " Python 3.8.5 (default, Sep  3 2020, 21:29:08) [MSC v.1916 64 bit (AMD64)] :: Anaconda, Inc. on win32\n",
    "Type \"help\", \"copyright\", \"credits\" or \"license\" for more information.\n",
    ">>>\n",
    "```"
   ]
  },
  {
   "cell_type": "markdown",
   "metadata": {},
   "source": [
    " En cuanto inicie el intérprete podrás escribir y ejecutar comandos en el prompt \">>>\""
   ]
  },
  {
   "cell_type": "code",
   "execution_count": 33,
   "metadata": {},
   "outputs": [
    {
     "ename": "NameError",
     "evalue": "name 'hello' is not defined",
     "output_type": "error",
     "traceback": [
      "\u001b[1;31m---------------------------------------------------------------------------\u001b[0m",
      "\u001b[1;31mNameError\u001b[0m                                 Traceback (most recent call last)",
      "\u001b[1;32m~\\AppData\\Local\\Temp/ipykernel_22720/3305111549.py\u001b[0m in \u001b[0;36m<module>\u001b[1;34m\u001b[0m\n\u001b[1;32m----> 1\u001b[1;33m \u001b[0mhello\u001b[0m\u001b[1;33m\u001b[0m\u001b[1;33m\u001b[0m\u001b[0m\n\u001b[0m",
      "\u001b[1;31mNameError\u001b[0m: name 'hello' is not defined"
     ]
    }
   ],
   "source": [
    "hello"
   ]
  },
  {
   "cell_type": "markdown",
   "metadata": {},
   "source": [
    "La función print()"
   ]
  },
  {
   "cell_type": "code",
   "execution_count": null,
   "metadata": {},
   "outputs": [
    {
     "name": "stdout",
     "output_type": "stream",
     "text": [
      "Hello world!\n"
     ]
    }
   ],
   "source": [
    "print(\"Hello world!\")"
   ]
  },
  {
   "cell_type": "markdown",
   "metadata": {},
   "source": [
    "Para el caso de constantes, el REPL regresa los valores ingresados"
   ]
  },
  {
   "cell_type": "code",
   "execution_count": null,
   "metadata": {},
   "outputs": [
    {
     "data": {
      "text/plain": [
       "6"
      ]
     },
     "execution_count": 4,
     "metadata": {},
     "output_type": "execute_result"
    }
   ],
   "source": [
    "6"
   ]
  },
  {
   "cell_type": "code",
   "execution_count": null,
   "metadata": {},
   "outputs": [
    {
     "data": {
      "text/plain": [
       "'Some string'"
      ]
     },
     "execution_count": 5,
     "metadata": {},
     "output_type": "execute_result"
    }
   ],
   "source": [
    "\"Some string\""
   ]
  },
  {
   "cell_type": "markdown",
   "metadata": {},
   "source": [
    "En Python distintos tipos de datos emplean los mismos operadores. Ejecuta las siguientes expresiones en el intérprete de Python y observa los resultados:"
   ]
  },
  {
   "cell_type": "code",
   "execution_count": null,
   "metadata": {},
   "outputs": [
    {
     "ename": "NameError",
     "evalue": "name 'alpha' is not defined",
     "output_type": "error",
     "traceback": [
      "\u001b[1;31m---------------------------------------------------------------------------\u001b[0m",
      "\u001b[1;31mNameError\u001b[0m                                 Traceback (most recent call last)",
      "\u001b[1;32m~\\AppData\\Local\\Temp/ipykernel_22720/4284990691.py\u001b[0m in \u001b[0;36m<module>\u001b[1;34m\u001b[0m\n\u001b[0;32m      3\u001b[0m \u001b[1;34m\"Ro\"\u001b[0m \u001b[1;33m+\u001b[0m \u001b[1;34m\"co\"\u001b[0m\u001b[1;33m*\u001b[0m\u001b[1;36m3\u001b[0m\u001b[1;33m\u001b[0m\u001b[1;33m\u001b[0m\u001b[0m\n\u001b[0;32m      4\u001b[0m \u001b[1;31m#5 + \"5\"\u001b[0m\u001b[1;33m\u001b[0m\u001b[1;33m\u001b[0m\u001b[1;33m\u001b[0m\u001b[0m\n\u001b[1;32m----> 5\u001b[1;33m \u001b[0malpha\u001b[0m\u001b[1;33m\u001b[0m\u001b[1;33m\u001b[0m\u001b[0m\n\u001b[0m\u001b[0;32m      6\u001b[0m \u001b[0malpha\u001b[0m \u001b[1;33m=\u001b[0m \u001b[1;36m0.001\u001b[0m\u001b[1;33m\u001b[0m\u001b[1;33m\u001b[0m\u001b[0m\n\u001b[0;32m      7\u001b[0m \u001b[0malpha\u001b[0m\u001b[1;33m\u001b[0m\u001b[1;33m\u001b[0m\u001b[0m\n",
      "\u001b[1;31mNameError\u001b[0m: name 'alpha' is not defined"
     ]
    }
   ],
   "source": [
    "2 + 2 \n",
    "\"x\" + \"y\"\n",
    "\"Ro\" + \"co\"*3\n",
    "#5 + \"5\"\n",
    "alpha\n",
    "alpha = 0.001\n",
    "alpha\n",
    "\n"
   ]
  },
  {
   "cell_type": "markdown",
   "metadata": {},
   "source": [
    "Python sigue el orden usual de evaluación de operaciones en expresiones. El órden estándar de evaluación:\n",
    "* Exponentes y raices.\n",
    "* Multiplicación y división.\n",
    "* Adición y resta."
   ]
  },
  {
   "cell_type": "markdown",
   "metadata": {},
   "source": [
    "Ingresa las siguientes expresiones en en intérprete interactivo de Python:"
   ]
  },
  {
   "cell_type": "code",
   "execution_count": null,
   "metadata": {},
   "outputs": [
    {
     "data": {
      "text/plain": [
       "4"
      ]
     },
     "execution_count": 1,
     "metadata": {},
     "output_type": "execute_result"
    }
   ],
   "source": [
    "2+2"
   ]
  },
  {
   "cell_type": "code",
   "execution_count": null,
   "metadata": {},
   "outputs": [
    {
     "data": {
      "text/plain": [
       "16"
      ]
     },
     "execution_count": 2,
     "metadata": {},
     "output_type": "execute_result"
    }
   ],
   "source": [
    "4 * 4"
   ]
  },
  {
   "cell_type": "code",
   "execution_count": null,
   "metadata": {},
   "outputs": [
    {
     "data": {
      "text/plain": [
       "8"
      ]
     },
     "execution_count": 3,
     "metadata": {},
     "output_type": "execute_result"
    }
   ],
   "source": [
    "2 ** 3"
   ]
  },
  {
   "cell_type": "markdown",
   "metadata": {},
   "source": [
    "Calcula el área de un tríangulo de las siguientes dimensiones:\n",
    "\n",
    "$\\begin{split}   a &=1/2*(b*h)\n",
    "\\end{split}$ \n",
    "\n",
    "b = 10\n",
    "\n",
    "h = 5"
   ]
  },
  {
   "cell_type": "code",
   "execution_count": null,
   "metadata": {},
   "outputs": [
    {
     "data": {
      "text/plain": [
       "25.0"
      ]
     },
     "execution_count": 7,
     "metadata": {},
     "output_type": "execute_result"
    }
   ],
   "source": [
    "1/2*10*5"
   ]
  },
  {
   "cell_type": "markdown",
   "metadata": {},
   "source": [
    "El operador de división / siempre regresa un float. El operador // efectúa una división redondeada hacia abajo y proveé un resultado int. El operador % proveé el residuo de una división.\n",
    "\n",
    "Efectúa las siguientes divisiones y compara los resultados:\n",
    "\n",
    "$10/6$\n",
    "\n",
    "$10//6$\n",
    "\n",
    "$\\lvert10 / 6 \\rvert$"
   ]
  },
  {
   "cell_type": "markdown",
   "metadata": {},
   "source": [
    "El módulo `math` de Python provee de acceso a las funciones matemáticas definidas en el estándar de C.\n",
    "\n",
    "Estas funciones no pueden emplearse con números complejos, para ello puede emplearse el módulo `cmath`."
   ]
  },
  {
   "cell_type": "markdown",
   "metadata": {},
   "source": [
    "Considerando el área de un círculo: \n",
    "$\\begin{split}   \n",
    "    a &=\\pi * r^2\n",
    "\\end{split}$ \n",
    "\n",
    "Calcula el área para un círculo con r = 10"
   ]
  },
  {
   "cell_type": "markdown",
   "metadata": {},
   "source": [
    "Cualquier archivo con extensión .py y con código Python puede considerarse un módulo. Un módulo puede contener funciones, clases o atributos. Todos los objetos del módulo pueden accederse en cuanto se ejecute el estatuto `import`."
   ]
  },
  {
   "cell_type": "code",
   "execution_count": null,
   "metadata": {},
   "outputs": [
    {
     "data": {
      "text/plain": [
       "314.1592653589793"
      ]
     },
     "execution_count": 6,
     "metadata": {},
     "output_type": "execute_result"
    }
   ],
   "source": [
    "import math\n",
    "math.pi * 10**2"
   ]
  },
  {
   "cell_type": "markdown",
   "metadata": {},
   "source": [
    "La función logística se define como:\n",
    "\n",
    "$1/1+\\epsilon^-t$\n",
    "\n",
    "Calcula la función logística para t = -1, -0.5, 0, .5, 1"
   ]
  },
  {
   "cell_type": "code",
   "execution_count": null,
   "metadata": {},
   "outputs": [
    {
     "data": {
      "text/plain": [
       "1.0"
      ]
     },
     "execution_count": 21,
     "metadata": {},
     "output_type": "execute_result"
    }
   ],
   "source": [
    "1/(1+ math.exp(-100))"
   ]
  },
  {
   "cell_type": "markdown",
   "metadata": {},
   "source": [
    "$c = \\\\pm\\\\sqrt{a^2 + b^2}$"
   ]
  },
  {
   "cell_type": "markdown",
   "metadata": {},
   "source": [
    "$f(a,b,c) = (a^2+b^2+c^2)^3$"
   ]
  },
  {
   "cell_type": "markdown",
   "metadata": {},
   "source": [
    "Para salir del intérprete en modalidad interactiva:\n",
    "* `exit()`\n",
    "* CTRL+D"
   ]
  },
  {
   "cell_type": "markdown",
   "metadata": {},
   "source": [
    "# El intérprete de Python en modalidad de comandos no interactivos\n",
    "Esta modalidad se invoca al ejecutar el nombre del intérprete de Python desde una terminal de sistema operativo con el argumento `-c`, el nombre del comando y opcionalmente sus argumentos:\n",
    "\n",
    "`python -c command [arg] ...`\n",
    "\n",
    "Ejecuta los siguientes comandos desde la terminal de sistema operativo:\n",
    "\n",
    "`python -c \"print(len('Hello World!'))\" `\n",
    "\n",
    "`python -c \"print('Hello {}!\".format(argv[1]))' student` "
   ]
  },
  {
   "cell_type": "markdown",
   "metadata": {},
   "source": [
    "Es posible ejecutar múltiples estatutos de Python en esta modalidad separándolos por punto y coma `;`.\n",
    "`python -c \"import sys;print(sys.copyright)\"` "
   ]
  },
  {
   "cell_type": "markdown",
   "metadata": {},
   "source": [
    "# El intérprete de Python en modalidad de ejecucion de módulos\n",
    "Esta modalidad se invoca al ejecutar el nombre del intérprete de Python desde una terminal de sistema operativo con el argumento `-m`, el nombre del módulo y opcionalmente sus argumentos:\n",
    "\n",
    "`python -m module [arg] ...`\n",
    "\n",
    "Ejecuta el siguiente comando desde la terminal de sistema operativo:\n",
    "`python -m hello`"
   ]
  },
  {
   "cell_type": "markdown",
   "metadata": {},
   "source": [
    "# El intéreprete de Python en modalidad de ejecución de scripts\n",
    "Esta modalidad se invoca al ejectuar el nombre del intérprete de Python desde una terminal de sistema operativo con el nombre del archivo de código fuente de Python y opcionalmente sus argumentos:\n",
    "\n",
    "`python source_file.py [arg] ...`\n",
    "\n",
    "TODO: Ejecuta el siguiente comando desde la terminal de sistema operativo:\n",
    "\n",
    "`python hello.py`"
   ]
  },
  {
   "cell_type": "markdown",
   "metadata": {},
   "source": [
    "Ejecuta el archivo divisions.py con el intérprete de Python en modalidad de ejecución de scripts y observa los resultados.\n",
    "\n",
    "`python divisions.py`\n",
    "\n",
    "Modifica el archivo para que se muestren los resultados de cada división."
   ]
  },
  {
   "cell_type": "markdown",
   "metadata": {},
   "source": [
    "# Argumentos para el intérprete de Python\n",
    "La variable `argv` del módulo `sys` es una lista con el nombre del script y sus argumentos. Es posible acceder a esta lista por medio del estatuto `import sys`\n",
    "\n",
    "TODO: Ejecuta el siguiente comando desde la terminal de sistema operativo:\n",
    "`python hello_args.py YOUR_NAME`"
   ]
  },
  {
   "cell_type": "markdown",
   "metadata": {},
   "source": [
    "Ejecuta el siguiente comando desde la terminal de sistema operativo:\n",
    "```\n",
    "python scriptable.py 10\n",
    "```"
   ]
  }
 ],
 "metadata": {
  "interpreter": {
   "hash": "dff1176a825098967b08dbdbf002aed5f4d2fbc0230cbe7a7b9c071948b7fba3"
  },
  "kernelspec": {
   "display_name": "Python 3.8.12 64-bit ('alteryx': conda)",
   "language": "python",
   "name": "python3"
  },
  "language_info": {
   "codemirror_mode": {
    "name": "ipython",
    "version": 3
   },
   "file_extension": ".py",
   "mimetype": "text/x-python",
   "name": "python",
   "nbconvert_exporter": "python",
   "pygments_lexer": "ipython3",
   "version": "3.8.12"
  },
  "orig_nbformat": 4
 },
 "nbformat": 4,
 "nbformat_minor": 2
}

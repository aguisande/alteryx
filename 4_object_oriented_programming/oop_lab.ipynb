{
 "cells": [
  {
   "cell_type": "markdown",
   "metadata": {},
   "source": [
    "# Programación orientada a objetos\n",
    "La programación orientada a objetos es un paradigma de programación basada en el concepto de objetos que contienen datos y código. Los datos se representan en la forma de campos (también referidos como atributos o propiedades) y código, en la forma de procedimientos (conocidos como métodos).\n",
    "\n",
    "Simula 67 fue el primer lenguaje orientado a objetos. Smalltalk catalizó el crecimiento de programación orientada a objetos en la década de 1970.\n",
    "\n",
    "Los principios que sustentan a la programación orientada a objetos son:\n",
    "* Encapsulación\n",
    "* Abstracción de datos\n",
    "* Polimorfismo\n",
    "* Herencia"
   ]
  },
  {
   "cell_type": "markdown",
   "metadata": {},
   "source": [
    "En Python todo son objetos: tipos de datos, funciones, módulos, paquetes. "
   ]
  },
  {
   "cell_type": "code",
   "execution_count": 2,
   "metadata": {},
   "outputs": [
    {
     "name": "stdout",
     "output_type": "stream",
     "text": [
      "<class 'int'>\n",
      "<class 'float'>\n",
      "<class 'bool'>\n",
      "<class 'str'>\n",
      "<class 'function'>\n",
      "<class 'module'>\n"
     ]
    }
   ],
   "source": [
    "import math\n",
    "def double(x):\n",
    "    return x*2\n",
    "\n",
    "some_objects = [1, 9.99, True, \"Some string\", double,  math]\n",
    "\n",
    "for _ in some_objects:\n",
    "    print(type(_))"
   ]
  },
  {
   "cell_type": "markdown",
   "metadata": {},
   "source": [
    "Las clases constan de dos partes: el encabezado y el cuerpo. El encabezado inicia con la palabra reservada `class` seguida por un espacio y un nombre arbitrario de la clase. Posteriormente se especifican las clases de las que hereda, conocidas como superclases o clases padre. \n",
    "\n",
    "El cuerpo de la clase consta de un bloque indentado de estatutos. "
   ]
  },
  {
   "cell_type": "code",
   "execution_count": 5,
   "metadata": {},
   "outputs": [
    {
     "name": "stdout",
     "output_type": "stream",
     "text": [
      "True\n",
      "False\n"
     ]
    }
   ],
   "source": [
    "class Drone:\n",
    "    pass\n",
    "\n",
    "if __name__ == \"__main__\":\n",
    "    drone_instance = Drone()\n",
    "    y = Drone()\n",
    "    y2 = y\n",
    "    print(y == y2)\n",
    "    print(y == drone_instance)"
   ]
  },
  {
   "cell_type": "markdown",
   "metadata": {},
   "source": [
    "En Python es posible crear atributos de forma dinámica para una clase. Esto se logra con un estatuto con el nombre de la instancia, el símbolo punto `.` y el nombre del atributo seguidos por el símbolo de igual `=` y el valor del atributo."
   ]
  },
  {
   "cell_type": "code",
   "execution_count": 8,
   "metadata": {},
   "outputs": [
    {
     "name": "stdout",
     "output_type": "stream",
     "text": [
      "Mavic 3 3.895\n",
      "Air 2S 595\n"
     ]
    }
   ],
   "source": [
    "drone_instance.name = \"Mavic 3\"\n",
    "drone_instance.launch_weight = 3.895\n",
    "\n",
    "\n",
    "y.name = \"Air 2S\"\n",
    "y.launch_weight = 595\n",
    "y.max_flight = 18.5\n",
    "\n",
    "drones = [drone_instance, y]\n",
    "for _ in drones:\n",
    "    print(_.name, _.launch_weight)"
   ]
  },
  {
   "cell_type": "markdown",
   "metadata": {},
   "source": [
    "Las instancias de una clase poseen un atributo `__dict__` en el cual se almacenan sus atributos y valores correspondientes."
   ]
  },
  {
   "cell_type": "code",
   "execution_count": 10,
   "metadata": {},
   "outputs": [
    {
     "data": {
      "text/plain": [
       "{'name': 'Air 2S', 'launch_weight': 595, 'max_flight': 18.5}"
      ]
     },
     "execution_count": 10,
     "metadata": {},
     "output_type": "execute_result"
    }
   ],
   "source": [
    "y.__dict__"
   ]
  },
  {
   "cell_type": "markdown",
   "metadata": {},
   "source": [
    "Los atributos pueden estar asociados con la clase, en vez de las instancias. En este caso las instancias harán referencia al valor del atributo de la clase, a menos que se haya asignado un valor a ese atributo en la instancia."
   ]
  },
  {
   "cell_type": "code",
   "execution_count": 11,
   "metadata": {},
   "outputs": [
    {
     "data": {
      "text/plain": [
       "True"
      ]
     },
     "execution_count": 11,
     "metadata": {},
     "output_type": "execute_result"
    }
   ],
   "source": [
    "Drone.flies = True\n",
    "y.flies"
   ]
  },
  {
   "cell_type": "markdown",
   "metadata": {},
   "source": [
    "En caso que una instancia no tenga un atributo, empleado en otras y no definida a nivel de la clase se producirá una excepción."
   ]
  },
  {
   "cell_type": "code",
   "execution_count": 12,
   "metadata": {},
   "outputs": [
    {
     "ename": "AttributeError",
     "evalue": "'Drone' object has no attribute 'max_flight'",
     "output_type": "error",
     "traceback": [
      "\u001b[1;31m---------------------------------------------------------------------------\u001b[0m",
      "\u001b[1;31mAttributeError\u001b[0m                            Traceback (most recent call last)",
      "\u001b[1;32m~\\AppData\\Local\\Temp/ipykernel_19232/1230471493.py\u001b[0m in \u001b[0;36m<module>\u001b[1;34m\u001b[0m\n\u001b[1;32m----> 1\u001b[1;33m \u001b[0mdrone_instance\u001b[0m\u001b[1;33m.\u001b[0m\u001b[0mmax_flight\u001b[0m\u001b[1;33m\u001b[0m\u001b[1;33m\u001b[0m\u001b[0m\n\u001b[0m",
      "\u001b[1;31mAttributeError\u001b[0m: 'Drone' object has no attribute 'max_flight'"
     ]
    }
   ],
   "source": [
    "drone_instance.max_flight"
   ]
  },
  {
   "cell_type": "markdown",
   "metadata": {},
   "source": [
    "Para evitar esta excepción se hace uso del método `getattr`."
   ]
  },
  {
   "cell_type": "code",
   "execution_count": 17,
   "metadata": {},
   "outputs": [
    {
     "data": {
      "text/plain": [
       "True"
      ]
     },
     "execution_count": 17,
     "metadata": {},
     "output_type": "execute_result"
    }
   ],
   "source": [
    "None == getattr(drone_instance, 'max_flight', None)"
   ]
  },
  {
   "cell_type": "markdown",
   "metadata": {},
   "source": [
    "Es posible invocar una función con un objeto:"
   ]
  },
  {
   "cell_type": "code",
   "execution_count": 1,
   "metadata": {},
   "outputs": [
    {
     "name": "stdout",
     "output_type": "stream",
     "text": [
      "Starting flight on brave-flyer\n"
     ]
    }
   ],
   "source": [
    "def fly(obj):\n",
    "    print(\"Starting flight on\", obj.name, sep=\" \")\n",
    "class Drone:\n",
    "    pass\n",
    "x = Drone()\n",
    "x.name = \"brave-flyer\"\n",
    "fly(x)\n"
   ]
  },
  {
   "cell_type": "markdown",
   "metadata": {},
   "source": [
    "También en Python es posible añadir una función como parte de los miembros de una clase:"
   ]
  },
  {
   "cell_type": "code",
   "execution_count": 2,
   "metadata": {},
   "outputs": [
    {
     "name": "stdout",
     "output_type": "stream",
     "text": [
      "Starting flight on DJI\n"
     ]
    }
   ],
   "source": [
    "def fly_external(obj):\n",
    "    print(\"Starting flight on\", obj.name, sep=\" \")\n",
    "class Drone:\n",
    "    fly = fly_external\n",
    "\n",
    "x = Drone()\n",
    "x.name = \"DJI\"\n",
    "Drone.fly(x)"
   ]
  },
  {
   "cell_type": "markdown",
   "metadata": {},
   "source": [
    "Si bien Python admite asociar funciones externas a clases, la forma recomendada de hacerlo es:\n",
    "* Definir el método dentro de la definición de la clase.\n",
    "* Especificar como `self` el primer parámetro que está asociado a la referencia de la instancia que está recibiendo la invocación del método.\n",
    "\n",
    "Los métodos en programación orientada a objetos difieren de las funciones de programación estructurada en lo siguiente:\n",
    "* Los métodos son definidos y pertenecen a una clase, no pueden accederse de forma independiente.\n",
    "* El primer parámetro es la referencia a la instancia denominado `self`."
   ]
  },
  {
   "cell_type": "markdown",
   "metadata": {},
   "source": [
    "El método `__init__`\n",
    "Es posible definir atributos de una instancia justo después de ser creada. El método `__init__` se invoca automáticamente cuando la instancia es creada. Python carece de elementos del lenguaje relacionados con constructores y destructores, a diferencia de C++ y Java."
   ]
  },
  {
   "cell_type": "code",
   "execution_count": 3,
   "metadata": {},
   "outputs": [
    {
     "name": "stdout",
     "output_type": "stream",
     "text": [
      "starting __init__\n"
     ]
    }
   ],
   "source": [
    "class A:\n",
    "    def __init__(self):\n",
    "        print(\"starting __init__\")\n",
    "\n",
    "some_A = A()"
   ]
  }
 ],
 "metadata": {
  "interpreter": {
   "hash": "dff1176a825098967b08dbdbf002aed5f4d2fbc0230cbe7a7b9c071948b7fba3"
  },
  "kernelspec": {
   "display_name": "Python 3.8.12 64-bit ('alteryx': conda)",
   "language": "python",
   "name": "python3"
  },
  "language_info": {
   "codemirror_mode": {
    "name": "ipython",
    "version": 3
   },
   "file_extension": ".py",
   "mimetype": "text/x-python",
   "name": "python",
   "nbconvert_exporter": "python",
   "pygments_lexer": "ipython3",
   "version": "3.8.12"
  },
  "orig_nbformat": 4
 },
 "nbformat": 4,
 "nbformat_minor": 2
}

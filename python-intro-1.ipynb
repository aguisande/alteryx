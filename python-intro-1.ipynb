{
    "cells": [
        {
            "cell_type": "code",
            "execution_count": null,
            "metadata": {},
            "outputs": [],
            "source": [
                "class Employee:\n",
                "    #class attributes\n",
                "    status = \"active\"\n",
                "    number_of_employee = 0\n",
                "\n",
                "    def __init__(self, employee_id, name):\n",
                "        self.employee_id = employee_id #instance attribute\n",
                "        self.name = name #instance attribute\n",
                "        Employee.number_of_employee += 1\n",
                "\n",
                "    #instance method\n",
                "    def give_info(self):\n",
                "        print(\"Name: \", self.name, \"\\nID: \", self.employee_id)"
            ]
        },
        {
            "cell_type": "code",
            "execution_count": null,
            "metadata": {},
            "outputs": [],
            "source": [
                "emre = Employee(\"101\", \"Emre Kutlug\")"
            ]
        },
        {
            "cell_type": "code",
            "execution_count": null,
            "metadata": {},
            "outputs": [],
            "source": [
                "type(emre)"
            ]
        },
        {
            "cell_type": "code",
            "execution_count": null,
            "metadata": {},
            "outputs": [],
            "source": [
                "emre.give_info()"
            ]
        }
    ],
    "metadata": {
        "language_info": {
            "name": "python"
        },
        "orig_nbformat": 4
    },
    "nbformat": 4,
    "nbformat_minor": 2
}
